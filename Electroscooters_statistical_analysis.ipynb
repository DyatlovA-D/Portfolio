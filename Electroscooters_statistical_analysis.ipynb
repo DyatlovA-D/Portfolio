{
 "cells": [
  {
   "cell_type": "markdown",
   "id": "dd739171",
   "metadata": {},
   "source": [
    "# Statistical Analysis of Electroscooters Service"
   ]
  },
  {
   "cell_type": "markdown",
   "id": "847177d8",
   "metadata": {},
   "source": [
    "**Project Description:** The GoFast scooter rental service has gained popularity in several cities, providing trips for both subscibed and unsubscribed users. However, to sustain its growth and enhance profitability, it is essential to analyze user behavior, subscription usage and trip patterns. In addition to exploratory data analysis (EDA), this project aims to test the following statistical hypotheses that can help businesses grow: \n",
    "\n",
    "- trip duration of subscribed users\n",
    "- trip distance of subscribed users\n",
    "- monthly revenue of subscribed users\n",
    "\n",
    "In addition, it is known that the cost of travel varies depending on the type of subscription. The conditions are:\n",
    "\n",
    "1. *Subsciption is not purchased:* the cost of one minute trip is 8 RUB; the starting cost is 50 RUB \n",
    "2. *Subsciption is purchased:* subscription fee is 199 per month; the cost of one minute trip is 6 RUB, the starting cost is free\n",
    "\n",
    "**Research Objective:** The primary objective of this analysis is to evaluate the impact of different subscription models on revenue generation and propose recommendations aimed at enhancing user retention and maximizing profitability. By examining patterns in trip duration, distance and frequency, we aim to develop insights that can drive strategic business decisions.\n",
    "\n",
    "**Sources:** The analysis will utilize three key datasets collected from the GoFast service, encompassing user information, trip details, and subscription specifics. The data span users across various cities who have engaged with the service. Thus, tree DataFrames will be used in this project:\n",
    "\n",
    "1. The file `users_go.csv` contains user profiles with the following structure:\n",
    "\n",
    "    - user_id: a unique identifier for each user,\n",
    "    - name: the name of the user,\n",
    "    - age: the age of the user,\n",
    "    - city: the city in which the user resides,\n",
    "    - subscription_type: the type of subscription held by the user (either free or ultra).   \n",
    "   \n",
    "<div>\n",
    "\n",
    "</div>\n",
    "\n",
    "2. The file `rides_go.csv` captures details regarding user trips, structured as follows:\n",
    "\n",
    "    - user_id: a unique identifier for each user,\n",
    "    - distance: the total trip distance traveled in meters,\n",
    "    - duration: the total trip duration in minutes,\n",
    "    - date: the date when the trip occurred.\n",
    "\n",
    "<div>\n",
    "\n",
    "</div>\n",
    "\n",
    "\n",
    "3. Lastly, the file `subscriptions_go.csv` provides insights into the subscription models offered, with the following structure:\n",
    "\n",
    "    - subscription_type: the type of subscription,\n",
    "    - minute_price: the cost per minute for each subscription type,\n",
    "    - start_ride_price: the start cost for each type of subscription,\n",
    "    - subscription_fee: the monthly fee associated with the subscription.\n",
    "\n",
    "**Steps:**\n",
    "\n",
    "1. Primary Data Analysis and its pre-processing\n",
    "2. EDA\n",
    "3. Revenue calculation\n",
    "4. Hypothesis testing\n",
    "5. Summarizing the results and final recommendations"
   ]
  },
  {
   "cell_type": "code",
   "execution_count": 3,
   "id": "72576667",
   "metadata": {},
   "outputs": [],
   "source": [
    "import pandas as pd\n",
    "import matplotlib.pyplot as plt\n",
    "import numpy as np\n",
    "import seaborn as sns\n",
    "\n",
    "from scipy import stats as st\n",
    "from scipy.stats import binom"
   ]
  },
  {
   "cell_type": "markdown",
   "id": "c42cbe00",
   "metadata": {},
   "source": [
    "## Primary data analysis "
   ]
  },
  {
   "cell_type": "code",
   "execution_count": 5,
   "id": "eff9f206",
   "metadata": {},
   "outputs": [
    {
     "name": "stdout",
     "output_type": "stream",
     "text": [
      "DataFrame: users_go\n",
      "<class 'pandas.core.frame.DataFrame'>\n",
      "RangeIndex: 1565 entries, 0 to 1564\n",
      "Data columns (total 5 columns):\n",
      " #   Column             Non-Null Count  Dtype \n",
      "---  ------             --------------  ----- \n",
      " 0   user_id            1565 non-null   int64 \n",
      " 1   name               1565 non-null   object\n",
      " 2   age                1565 non-null   int64 \n",
      " 3   city               1565 non-null   object\n",
      " 4   subscription_type  1565 non-null   object\n",
      "dtypes: int64(2), object(3)\n",
      "memory usage: 61.3+ KB\n",
      "None\n",
      "\n",
      "user_id              0\n",
      "name                 0\n",
      "age                  0\n",
      "city                 0\n",
      "subscription_type    0\n",
      "dtype: int64\n",
      "\n",
      "Duplicates in users_go: 31\n",
      "\n",
      "   user_id        name  age            city subscription_type\n",
      "0        1        Кира   22          Тюмень             ultra\n",
      "1        2   Станислав   31            Омск             ultra\n",
      "2        3     Алексей   20          Москва             ultra\n",
      "3        4  Константин   26  Ростов-на-Дону             ultra\n",
      "4        5       Адель   28            Омск             ultra\n",
      "\n",
      "\n",
      "\n",
      "DataFrame: rides_go\n",
      "<class 'pandas.core.frame.DataFrame'>\n",
      "RangeIndex: 18068 entries, 0 to 18067\n",
      "Data columns (total 4 columns):\n",
      " #   Column    Non-Null Count  Dtype  \n",
      "---  ------    --------------  -----  \n",
      " 0   user_id   18068 non-null  int64  \n",
      " 1   distance  18068 non-null  float64\n",
      " 2   duration  18068 non-null  float64\n",
      " 3   date      18068 non-null  object \n",
      "dtypes: float64(2), int64(1), object(1)\n",
      "memory usage: 564.8+ KB\n",
      "None\n",
      "\n",
      "user_id     0\n",
      "distance    0\n",
      "duration    0\n",
      "date        0\n",
      "dtype: int64\n",
      "\n",
      "Duplicates in rides_go: 0\n",
      "\n",
      "   user_id     distance   duration        date\n",
      "0        1  4409.919140  25.599769  2021-01-01\n",
      "1        1  2617.592153  15.816871  2021-01-18\n",
      "2        1   754.159807   6.232113  2021-04-20\n",
      "3        1  2694.783254  18.511000  2021-08-11\n",
      "4        1  4028.687306  26.265803  2021-08-28\n",
      "\n",
      "\n",
      "\n",
      "DataFrame: subscriptions_go\n",
      "<class 'pandas.core.frame.DataFrame'>\n",
      "RangeIndex: 2 entries, 0 to 1\n",
      "Data columns (total 4 columns):\n",
      " #   Column             Non-Null Count  Dtype \n",
      "---  ------             --------------  ----- \n",
      " 0   subscription_type  2 non-null      object\n",
      " 1   minute_price       2 non-null      int64 \n",
      " 2   start_ride_price   2 non-null      int64 \n",
      " 3   subscription_fee   2 non-null      int64 \n",
      "dtypes: int64(3), object(1)\n",
      "memory usage: 196.0+ bytes\n",
      "None\n",
      "\n",
      "subscription_type    0\n",
      "minute_price         0\n",
      "start_ride_price     0\n",
      "subscription_fee     0\n",
      "dtype: int64\n",
      "\n",
      "Duplicates in subscriptions_go: 0\n",
      "\n",
      "  subscription_type  minute_price  start_ride_price  subscription_fee\n",
      "0              free             8                50                 0\n",
      "1             ultra             6                 0               199\n",
      "\n",
      "\n",
      "\n"
     ]
    }
   ],
   "source": [
    "# creating and exploring dataframes\n",
    "\n",
    "usgo = pd.read_csv('C:/Users/as100/Documents/Portfolio/users_go.csv')\n",
    "rigo = pd.read_csv('C:/Users/as100/Documents/Portfolio/rides_go.csv')\n",
    "sugo = pd.read_csv('C:/Users/as100/Documents/Portfolio/subscriptions_go.csv')\n",
    "\n",
    "all_dfs = {\n",
    "    'users_go': usgo,\n",
    "    'rides_go': rigo,\n",
    "    'subscriptions_go': sugo\n",
    "}\n",
    "\n",
    "for df_name, df in all_dfs.items():\n",
    "    print(f'DataFrame: {df_name}')  \n",
    "    print(df.info())\n",
    "    for _ in range(1):\n",
    "        print()\n",
    "    print(df.isna().sum())\n",
    "    for _ in range(1):\n",
    "        print()\n",
    "    print(f'Duplicates in {df_name}: {df.duplicated().sum()}')\n",
    "    for _ in range(1):\n",
    "        print()\n",
    "    print(df.head())\n",
    "    for _ in range(3):\n",
    "        print()"
   ]
  },
  {
   "cell_type": "markdown",
   "id": "58b1ecfc",
   "metadata": {},
   "source": [
    "**Summary:**\n",
    "\n",
    "1. **Users (users_go):**\n",
    "   - Contains 1 565 records\n",
    "   - Contains no missing values\n",
    "   - 31 duplicates were found\n",
    "   - Includes information on user ID, name, age, city and subscription type\n",
    "   - Data types are appropriately represented and do not require changes\n",
    "\n",
    "2. **Rides (rides_go):**\n",
    "   - Contains 18 068 records\n",
    "   - Contains no missing values or duplicates\n",
    "   - Includes information on user ID, distance, duration and trip date\n",
    "   - The date column needs to be converted to the appropriate datetime format, as the object type is not suitable here\n",
    "\n",
    "3. **Subscriptions (subscriptions_go):**\n",
    "   - Includes only 2 raws of subscription types\n",
    "   - Contains no missing values or duplicates\n",
    "   - Contains information on subscription type, cost per minute of the trip, starting price and monthly subscription fee\n",
    "   - Data types do not require changes"
   ]
  },
  {
   "cell_type": "markdown",
   "id": "e95ebca7",
   "metadata": {},
   "source": [
    "## Data pre-processing"
   ]
  },
  {
   "cell_type": "code",
   "execution_count": 8,
   "id": "af6d202c",
   "metadata": {},
   "outputs": [],
   "source": [
    "# Data types correction\n",
    "rigo['date'] = pd.to_datetime(rigo['date'])"
   ]
  },
  {
   "cell_type": "code",
   "execution_count": 9,
   "id": "f032fba9",
   "metadata": {},
   "outputs": [],
   "source": [
    "# Creating new column with month number\n",
    "rigo['month'] = rigo['date'].dt.month"
   ]
  },
  {
   "cell_type": "code",
   "execution_count": 10,
   "id": "00159ae2",
   "metadata": {},
   "outputs": [],
   "source": [
    "# Dropping explicit duplicates\n",
    "usgo = usgo.drop_duplicates()"
   ]
  },
  {
   "cell_type": "code",
   "execution_count": 11,
   "id": "efd81fed",
   "metadata": {
    "scrolled": true
   },
   "outputs": [
    {
     "name": "stdout",
     "output_type": "stream",
     "text": [
      "['free' 'ultra']\n",
      "['Агата' 'Аделина' 'Адель' 'Айдар' 'Александр' 'Александра' 'Алексей'\n",
      " 'Алина' 'Алиса' 'Алия' 'Алла' 'Альберт' 'Альбина' 'Алёна' 'Амалия'\n",
      " 'Амина' 'Амир' 'Анастасия' 'Анатолий' 'Ангелина' 'Андрей' 'Анжелика'\n",
      " 'Анна' 'Антон' 'Антонина' 'Ариана' 'Арина' 'Арсен' 'Арсений' 'Артемий'\n",
      " 'Артур' 'Артём' 'Богдан' 'Борис' 'Вадим' 'Валентина' 'Валерий' 'Валерия'\n",
      " 'Варвара' 'Василий' 'Василина' 'Василиса' 'Вера' 'Вероника' 'Виктор'\n",
      " 'Виктория' 'Виолетта' 'Виталий' 'Виталина' 'Влад' 'Влада' 'Владимир'\n",
      " 'Владислав' 'Владислава' 'Всеволод' 'Вячеслав' 'Галина' 'Георгий'\n",
      " 'Герман' 'Глеб' 'Гордей' 'Григорий' 'Давид' 'Дамир' 'Даниил' 'Данил'\n",
      " 'Данила' 'Даниэль' 'Дарина' 'Дарья' 'Демид' 'Денис' 'Диана' 'Дмитрий'\n",
      " 'Ева' 'Евгений' 'Евгения' 'Егор' 'Екатерина' 'Елена' 'Елизавета' 'Елисей'\n",
      " 'Есения' 'Жанна' 'Зарина' 'Захар' 'Злата' 'Иван' 'Игнат' 'Игорь' 'Ильдар'\n",
      " 'Илья' 'Инна' 'Ирина' 'Камилла' 'Карина' 'Каролина' 'Кира' 'Кирилл'\n",
      " 'Константин' 'Кристина' 'Ксения' 'Лариса' 'Лев' 'Леонид' 'Лиана' 'Лидия'\n",
      " 'Лилия' 'Любовь' 'Людмила' 'Мадина' 'Майя' 'Макар' 'Максим' 'Марат'\n",
      " 'Маргарита' 'Марина' 'Мария' 'Марк' 'Марсель' 'Матвей' 'Мелания' 'Милана'\n",
      " 'Милена' 'Мирон' 'Мирослав' 'Мирослава' 'Михаил' 'Назар' 'Наталия'\n",
      " 'Наталья' 'Наташа' 'Нелли' 'Ника' 'Никита' 'Николай' 'Нина' 'Одиссей'\n",
      " 'Оксана' 'Олег' 'Олеся' 'Ольга' 'Павел' 'Петр' 'Платон' 'Полина' 'Радмир'\n",
      " 'Рамиль' 'Регина' 'Роберт' 'Родион' 'Роман' 'Ростислав' 'Руслан' 'Рустам'\n",
      " 'Савелий' 'Самир' 'Самира' 'Светлана' 'Святогор' 'Святослав' 'Семен'\n",
      " 'Сергей' 'Снежана' 'София' 'Софья' 'Станислав' 'Степан' 'Стефания'\n",
      " 'Таисия' 'Тамара' 'Тамерлан' 'Татьяна' 'Тимофей' 'Тимур' 'Тихон' 'Ульяна'\n",
      " 'Федор' 'Эвелина' 'Эдуард' 'Элина' 'Эльвира' 'Эльмира' 'Эмилия' 'Эмиль'\n",
      " 'Юлиана' 'Юлия' 'Юрий' 'Ян' 'Яна' 'Яромир' 'Ярослав' 'Ярослава' 'Ясмина']\n",
      "['Екатеринбург' 'Краснодар' 'Москва' 'Омск' 'Пятигорск' 'Ростов-на-Дону'\n",
      " 'Сочи' 'Тюмень']\n"
     ]
    }
   ],
   "source": [
    "# Implicit duplicates check\n",
    "possible_hidden_duplis = ['subscription_type', 'name', 'city']\n",
    "\n",
    "for i in possible_hidden_duplis:\n",
    "    print(usgo[i].sort_values().unique())"
   ]
  },
  {
   "cell_type": "markdown",
   "id": "a2772234",
   "metadata": {},
   "source": [
    "**Summary:** During the data preprocessing, the following actions were taken:\n",
    "\n",
    "1. The column containing the date was converted to the date format.\n",
    "2. A month of the trip column was created.\n",
    "3. Explicit duplicates in the `users` dataframe were removed.\n",
    "4. All three dataframes were checked for implicit duplicates: none were found."
   ]
  },
  {
   "cell_type": "markdown",
   "id": "212593c7",
   "metadata": {},
   "source": [
    "### Exploratory Data Analysis (EDA)"
   ]
  },
  {
   "cell_type": "markdown",
   "id": "b700601c",
   "metadata": {},
   "source": [
    "### Frequency of city occurrence "
   ]
  },
  {
   "cell_type": "code",
   "execution_count": 15,
   "id": "e3a4274c",
   "metadata": {},
   "outputs": [
    {
     "data": {
      "image/png": "[encoded data removed]",
      "text/plain": [
       "<Figure size 1200x600 with 1 Axes>"
      ]
     },
     "metadata": {},
     "output_type": "display_data"
    }
   ],
   "source": [
    "city_frequency = usgo['city'].value_counts()\n",
    "city_percentage = city_frequency / city_frequency.sum() * 100  \n",
    "\n",
    "plt.figure(figsize=(12, 6))\n",
    "sns.barplot(x=city_frequency.index, y=city_frequency.values, hue=city_frequency.index, legend=False, palette='viridis')\n",
    "plt.title('City frequency')\n",
    "plt.xlabel('City')\n",
    "plt.ylabel('Frequency')\n",
    "plt.xticks(rotation=45)\n",
    "\n",
    "for index, value in enumerate(city_frequency.values):\n",
    "    percentage = city_percentage.iloc[index]\n",
    "    plt.text(index, value + 2, f'{percentage:.1f}%', ha='center')  \n",
    "\n",
    "plt.show()"
   ]
  },
  {
   "cell_type": "markdown",
   "id": "a10d471a",
   "metadata": {},
   "source": [
    "**Summary:** The most frequently occurring city in the sample is Pyatigorsk (14.3% of the total), while the least amount of information in the DataFrame relates to Moscow  (11% of the total). However, it can be said that the data is roughly evenly distributed, as the volatility is only 3.3%."
   ]
  },
  {
   "cell_type": "markdown",
   "id": "d9c82e18",
   "metadata": {},
   "source": [
    "### Ratio of subscribed and unsubscribed users"
   ]
  },
  {
   "cell_type": "code",
   "execution_count": 18,
   "id": "cef5ad94",
   "metadata": {},
   "outputs": [
    {
     "data": {
      "image/png": "[encoded data removed]",
      "text/plain": [
       "<Figure size 800x600 with 1 Axes>"
      ]
     },
     "metadata": {},
     "output_type": "display_data"
    }
   ],
   "source": [
    "subscription_counts = usgo['subscription_type'].value_counts()\n",
    "subscription_percentage = subscription_counts / subscription_counts.sum() * 100  \n",
    "\n",
    "plt.figure(figsize=(8, 6))\n",
    "sns.barplot(x=subscription_counts.index, y=subscription_counts.values, hue=subscription_counts.index, legend=False, palette='viridis')\n",
    "plt.title('Ratio of subscribed and unsubscribed users')\n",
    "plt.xlabel('Subscription type')\n",
    "plt.ylabel('Number of users')\n",
    "\n",
    "for index, value in enumerate(subscription_counts.values):\n",
    "    percentage = subscription_percentage.iloc[index]\n",
    "    plt.text(index, value + 9, f'{percentage:.1f}%', ha='center')  \n",
    "\n",
    "plt.show()"
   ]
  },
  {
   "cell_type": "markdown",
   "id": "ff6eb92d",
   "metadata": {},
   "source": [
    "**Summary:** The majority of users in the dataframe do not have a subscription. However, their dominance is not very strong -- 54.4% of users are without a subscription compared to 45.6% with a subscription."
   ]
  },
  {
   "cell_type": "markdown",
   "id": "3a6f001b",
   "metadata": {},
   "source": [
    "### Users age"
   ]
  },
  {
   "cell_type": "code",
   "execution_count": 21,
   "id": "0d09eba9",
   "metadata": {},
   "outputs": [
    {
     "data": {
      "image/png": "[encoded data removed]",
      "text/plain": [
       "<Figure size 1000x600 with 1 Axes>"
      ]
     },
     "metadata": {},
     "output_type": "display_data"
    }
   ],
   "source": [
    "plt.figure(figsize=(10, 6))\n",
    "sns.histplot(usgo['age'], bins=10, kde=True, color='blue')\n",
    "plt.title('Users age distribution')\n",
    "plt.xlabel('Age')\n",
    "plt.ylabel('Number of users')\n",
    "plt.show()"
   ]
  },
  {
   "cell_type": "markdown",
   "id": "b55290b4",
   "metadata": {},
   "source": [
    "**Summary:** The chart shows a normal distribution of data. We see a convex arc peaking at the age of 25. The largest number of users in the sample are aged between 22 and 27. The smallest share is over 37 years old."
   ]
  },
  {
   "cell_type": "markdown",
   "id": "6d937b3e",
   "metadata": {},
   "source": [
    "### Distance per trip"
   ]
  },
  {
   "cell_type": "code",
   "execution_count": 24,
   "id": "29007c15",
   "metadata": {},
   "outputs": [
    {
     "data": {
      "image/png": "[encoded data removed]",
      "text/plain": [
       "<Figure size 1000x600 with 1 Axes>"
      ]
     },
     "metadata": {},
     "output_type": "display_data"
    }
   ],
   "source": [
    "plt.figure(figsize=(10, 6))\n",
    "sns.histplot(rigo['distance'], bins=30, kde=True, color='green')\n",
    "plt.title('Distance per trip')\n",
    "plt.xlabel('Distance (m)')\n",
    "plt.ylabel('Number of trips')\n",
    "plt.xlim(0, rigo['distance'].max())\n",
    "plt.show()"
   ]
  },
  {
   "cell_type": "markdown",
   "id": "c3f43667",
   "metadata": {},
   "source": [
    "**Summary:** Users most frequently travel from 2.5 to 3.5 km per trip. The chart also shows almost a normal distribution, with the exception of a small arc at the very beginning of the X-axis which decreases after reaching 500-meter trips and increases again somewhere around 1750-meter tripswhich decreases after reaching 500-meter trips and increases again somewhere around 1750-meter trips."
   ]
  },
  {
   "cell_type": "markdown",
   "id": "5c00f69d",
   "metadata": {},
   "source": [
    "### Duration per trip"
   ]
  },
  {
   "cell_type": "code",
   "execution_count": 27,
   "id": "addc8fe4",
   "metadata": {
    "scrolled": true
   },
   "outputs": [
    {
     "data": {
      "image/png": "[encoded data removed]",
      "text/plain": [
       "<Figure size 1000x500 with 1 Axes>"
      ]
     },
     "metadata": {},
     "output_type": "display_data"
    }
   ],
   "source": [
    "plt.figure(figsize=(10, 5))\n",
    "sns.histplot(rigo['duration'], bins=30, kde=True)\n",
    "plt.title('Duration per trip')\n",
    "plt.xlabel('Duration (minutes)')\n",
    "plt.ylabel('Number of trips')\n",
    "plt.grid()\n",
    "plt.show()"
   ]
  },
  {
   "cell_type": "markdown",
   "id": "3fa8b753",
   "metadata": {},
   "source": [
    "**Summary:** The distribution of trip duration repeats the previous graph for distance traveled. From it we can conclude that, on average, a trip of 2.5 to 3.5 km takes between 15 and 22 minutes. These are the most numerous duration groups. At the very beginning, we can notice a small “bump” resembling a group of users who travelled ~500 meters."
   ]
  },
  {
   "cell_type": "markdown",
   "id": "1d8ee48f",
   "metadata": {},
   "source": [
    "**Overall summary:** Visualizations for five main metrics have been prepared. Categorical data was represented using a bar chart, while numerical data was represented with a histogram. The distribution yielded the following results:\n",
    "\n",
    "1. **Cities:** Pyatigorsk leads in the number of users (14.3%), while Moscow takes the last place with 11%. The distribution of cities is relatively even.\n",
    "\n",
    "2. **Subscription**: The predominant number of users (54.4%) do not have a subscription, but the difference with subscribers is insignificant (45.6%).\n",
    "\n",
    "3. **Age**: The age distribution of users is normal, with a peak at 25 years. The core audience is aged from 22 to 27, while a small portion is over 37 years old.\n",
    "\n",
    "4. **Trip distance**: Users typically travel from 2.5 to 3.5 km per trip.\n",
    "\n",
    "5. **Trip duration**: Most trips last between 15 and 22 minutes."
   ]
  },
  {
   "cell_type": "markdown",
   "id": "4c71d8e6",
   "metadata": {},
   "source": [
    "### Distance and Duration per trip by subscription type"
   ]
  },
  {
   "cell_type": "code",
   "execution_count": 31,
   "id": "eddd0485",
   "metadata": {},
   "outputs": [
    {
     "data": {
      "image/png": "[encoded data removed]",
      "text/plain": [
       "<Figure size 1400x600 with 2 Axes>"
      ]
     },
     "metadata": {},
     "output_type": "display_data"
    }
   ],
   "source": [
    "# Creating distinct DataFrames according to subscription type\n",
    "merged_data = rigo.merge(usgo, on='user_id').merge(sugo, on='subscription_type')\n",
    "\n",
    "users_with_subscription = merged_data[merged_data['subscription_type'] != 'free']\n",
    "users_without_subscription = merged_data[merged_data['subscription_type'] == 'free']\n",
    "\n",
    "plt.figure(figsize=(14, 6))\n",
    "\n",
    "# Subscribed users histplot\n",
    "plt.subplot(1, 2, 1)\n",
    "sns.histplot(users_with_subscription['duration'], bins=30, color='blue', kde=True, label='subscribed', alpha=0.6)\n",
    "sns.histplot(users_without_subscription['duration'], bins=30, color='orange', kde=True, label='unsubscribed', alpha=0.6)\n",
    "plt.title('Duration per trip')\n",
    "plt.xlabel('Duration (min)')\n",
    "plt.ylabel('Number of trips')\n",
    "plt.legend()\n",
    "plt.grid()\n",
    "\n",
    "# Unsubscribed users histplot\n",
    "plt.subplot(1, 2, 2)\n",
    "sns.histplot(users_with_subscription['distance'], bins=30, color='blue', kde=True, label='subscribed', alpha=0.6)\n",
    "sns.histplot(users_without_subscription['distance'], bins=30, color='orange', kde=True, label='unsubscribed', alpha=0.6)\n",
    "plt.title('Distance per trip')\n",
    "plt.xlabel('Distance (m)')\n",
    "plt.ylabel('Number of trips')\n",
    "plt.legend()\n",
    "plt.grid()\n",
    "\n",
    "plt.tight_layout()\n",
    "plt.show()"
   ]
  },
  {
   "cell_type": "markdown",
   "id": "36534c82",
   "metadata": {},
   "source": [
    "**Summary:** All three dataframes were merged into one - `merged_data`. Additionally, based on the aggregated frame, two more were created — one for each type of subscription category. Next, the distribution of trip duration and distance was analyzed using histograms. In summary:\n",
    "\n",
    "1. The histograms of users with different types of subscriptions show identical development vectors. The only difference observed is in the height of the bars —  it has already become clear that there are more users without subscriptions in the sample.\n",
    "\n",
    "2. Both graphs demonstrated a \"drop\" in the number of trips in the interval from 1.5 to 2 km, which corresponds to that \"drop\" in the \"Distance per trip\" histplot.\n",
    "\n",
    "3. There is a slight difference in the patterns of subscribers and non-subscribers: subscribers may travel slightly less kilometers (maximum ~5.5), but the duration of their trips will be longer, up to 40 minutes. Non-subscribers, on the other hand, can travel more than 5.5 kilometers, but the duration of their trips in the sample does not exceed 35 minutes.\n",
    "\n",
    "4. Unsubscribed users have suspicious indicators in their data, such as zero trip distance or near-zero duration. This may indicate technical problems in the app for non-subscribers. Perhaps the functionality for “non-subscribers” is less convenient or less developed."
   ]
  },
  {
   "cell_type": "markdown",
   "id": "402d620f",
   "metadata": {},
   "source": [
    "### Revenue calculation"
   ]
  },
  {
   "cell_type": "code",
   "execution_count": 34,
   "id": "53049e0a",
   "metadata": {},
   "outputs": [],
   "source": [
    "merged_data['duration'] = np.ceil(merged_data['duration'])\n",
    "\n",
    "# creating aggregated DataFrame\n",
    "aggregated_data = merged_data.groupby(['user_id', 'subscription_type', 'month']).agg(\n",
    "    total_distance=('distance', 'sum'),\n",
    "    total_rides=('distance', 'count'),  \n",
    "    total_duration=('duration', 'sum')  \n",
    ").reset_index()"
   ]
  },
  {
   "cell_type": "code",
   "execution_count": 35,
   "id": "34f5ccc9",
   "metadata": {},
   "outputs": [
    {
     "data": {
      "text/html": [
       "<div>\n",
       "<style scoped>\n",
       "    .dataframe tbody tr th:only-of-type {\n",
       "        vertical-align: middle;\n",
       "    }\n",
       "\n",
       "    .dataframe tbody tr th {\n",
       "        vertical-align: top;\n",
       "    }\n",
       "\n",
       "    .dataframe thead th {\n",
       "        text-align: right;\n",
       "    }\n",
       "</style>\n",
       "<table border=\"1\" class=\"dataframe\">\n",
       "  <thead>\n",
       "    <tr style=\"text-align: right;\">\n",
       "      <th></th>\n",
       "      <th>user_id</th>\n",
       "      <th>subscription_type</th>\n",
       "      <th>month</th>\n",
       "      <th>total_distance</th>\n",
       "      <th>total_rides</th>\n",
       "      <th>total_duration</th>\n",
       "      <th>monthly_revenue</th>\n",
       "    </tr>\n",
       "  </thead>\n",
       "  <tbody>\n",
       "    <tr>\n",
       "      <th>0</th>\n",
       "      <td>1</td>\n",
       "      <td>ultra</td>\n",
       "      <td>1</td>\n",
       "      <td>7027.511294</td>\n",
       "      <td>2</td>\n",
       "      <td>42.0</td>\n",
       "      <td>451.0</td>\n",
       "    </tr>\n",
       "    <tr>\n",
       "      <th>1</th>\n",
       "      <td>1</td>\n",
       "      <td>ultra</td>\n",
       "      <td>4</td>\n",
       "      <td>754.159807</td>\n",
       "      <td>1</td>\n",
       "      <td>7.0</td>\n",
       "      <td>241.0</td>\n",
       "    </tr>\n",
       "    <tr>\n",
       "      <th>2</th>\n",
       "      <td>1</td>\n",
       "      <td>ultra</td>\n",
       "      <td>8</td>\n",
       "      <td>6723.470560</td>\n",
       "      <td>2</td>\n",
       "      <td>46.0</td>\n",
       "      <td>475.0</td>\n",
       "    </tr>\n",
       "    <tr>\n",
       "      <th>3</th>\n",
       "      <td>1</td>\n",
       "      <td>ultra</td>\n",
       "      <td>10</td>\n",
       "      <td>5809.911100</td>\n",
       "      <td>2</td>\n",
       "      <td>32.0</td>\n",
       "      <td>391.0</td>\n",
       "    </tr>\n",
       "    <tr>\n",
       "      <th>4</th>\n",
       "      <td>1</td>\n",
       "      <td>ultra</td>\n",
       "      <td>11</td>\n",
       "      <td>7003.499363</td>\n",
       "      <td>3</td>\n",
       "      <td>56.0</td>\n",
       "      <td>535.0</td>\n",
       "    </tr>\n",
       "    <tr>\n",
       "      <th>...</th>\n",
       "      <td>...</td>\n",
       "      <td>...</td>\n",
       "      <td>...</td>\n",
       "      <td>...</td>\n",
       "      <td>...</td>\n",
       "      <td>...</td>\n",
       "      <td>...</td>\n",
       "    </tr>\n",
       "    <tr>\n",
       "      <th>11326</th>\n",
       "      <td>1534</td>\n",
       "      <td>free</td>\n",
       "      <td>6</td>\n",
       "      <td>3409.468534</td>\n",
       "      <td>2</td>\n",
       "      <td>26.0</td>\n",
       "      <td>308.0</td>\n",
       "    </tr>\n",
       "    <tr>\n",
       "      <th>11327</th>\n",
       "      <td>1534</td>\n",
       "      <td>free</td>\n",
       "      <td>8</td>\n",
       "      <td>7622.453034</td>\n",
       "      <td>2</td>\n",
       "      <td>48.0</td>\n",
       "      <td>484.0</td>\n",
       "    </tr>\n",
       "    <tr>\n",
       "      <th>11328</th>\n",
       "      <td>1534</td>\n",
       "      <td>free</td>\n",
       "      <td>9</td>\n",
       "      <td>4928.173852</td>\n",
       "      <td>1</td>\n",
       "      <td>23.0</td>\n",
       "      <td>234.0</td>\n",
       "    </tr>\n",
       "    <tr>\n",
       "      <th>11329</th>\n",
       "      <td>1534</td>\n",
       "      <td>free</td>\n",
       "      <td>11</td>\n",
       "      <td>13350.015305</td>\n",
       "      <td>4</td>\n",
       "      <td>78.0</td>\n",
       "      <td>824.0</td>\n",
       "    </tr>\n",
       "    <tr>\n",
       "      <th>11330</th>\n",
       "      <td>1534</td>\n",
       "      <td>free</td>\n",
       "      <td>12</td>\n",
       "      <td>2371.711192</td>\n",
       "      <td>1</td>\n",
       "      <td>16.0</td>\n",
       "      <td>178.0</td>\n",
       "    </tr>\n",
       "  </tbody>\n",
       "</table>\n",
       "<p>11331 rows × 7 columns</p>\n",
       "</div>"
      ],
      "text/plain": [
       "       user_id subscription_type  month  total_distance  total_rides  \\\n",
       "0            1             ultra      1     7027.511294            2   \n",
       "1            1             ultra      4      754.159807            1   \n",
       "2            1             ultra      8     6723.470560            2   \n",
       "3            1             ultra     10     5809.911100            2   \n",
       "4            1             ultra     11     7003.499363            3   \n",
       "...        ...               ...    ...             ...          ...   \n",
       "11326     1534              free      6     3409.468534            2   \n",
       "11327     1534              free      8     7622.453034            2   \n",
       "11328     1534              free      9     4928.173852            1   \n",
       "11329     1534              free     11    13350.015305            4   \n",
       "11330     1534              free     12     2371.711192            1   \n",
       "\n",
       "       total_duration  monthly_revenue  \n",
       "0                42.0            451.0  \n",
       "1                 7.0            241.0  \n",
       "2                46.0            475.0  \n",
       "3                32.0            391.0  \n",
       "4                56.0            535.0  \n",
       "...               ...              ...  \n",
       "11326            26.0            308.0  \n",
       "11327            48.0            484.0  \n",
       "11328            23.0            234.0  \n",
       "11329            78.0            824.0  \n",
       "11330            16.0            178.0  \n",
       "\n",
       "[11331 rows x 7 columns]"
      ]
     },
     "execution_count": 35,
     "metadata": {},
     "output_type": "execute_result"
    }
   ],
   "source": [
    "# Adding monthly revenue column\n",
    "\n",
    "def calculate_monthly_revenue(row):\n",
    "    if row['subscription_type'] == 'free':\n",
    "        minute_price = 8  \n",
    "        start_ride_price = 50  \n",
    "        revenue = (start_ride_price * row['total_rides']) + (minute_price * row['total_duration'])\n",
    "        return revenue\n",
    "    else:\n",
    "        subscription_fee = 199  \n",
    "        minute_price = 6  \n",
    "        revenue = (minute_price * row['total_duration']) + subscription_fee\n",
    "        return revenue\n",
    "\n",
    "aggregated_data['monthly_revenue'] = aggregated_data.apply(calculate_monthly_revenue, axis=1)\n",
    "aggregated_data"
   ]
  },
  {
   "cell_type": "markdown",
   "id": "60dbdabe",
   "metadata": {},
   "source": [
    "**Summary:** To test the hypotheses in the next step, it is necessary to prepare an aggregated dataframe, as well as to extract the monthly revenue for each user. In summary:\n",
    "\n",
    "1. A dataframe called `aggregated_data` was created with aggregated trip data based on the dataframe with combined data from \"Distance and Duration per trip by subscription type\" step. It contains the total distance, the number of trips and the total time for each user for each month.\n",
    "2. A `monthly_revenue` column was added to this same dataframe. It contains the monthly revenue generated by each user.  The calculation took into account the cost of starting a trip, the number of trips with their duration and the subscription cost for each user category."
   ]
  },
  {
   "cell_type": "markdown",
   "id": "41545ac0",
   "metadata": {},
   "source": [
    "## Hypothesis testing"
   ]
  },
  {
   "cell_type": "markdown",
   "id": "d66da120",
   "metadata": {},
   "source": [
    "### Testing the trip duration of subscribed users\n",
    "\n",
    "**Null hypothesis (H0):** The average trip duration of subscribed users does not exceed the average trip duration of non-subscribed users. (The average trip duration for subscribers is equal to the average trip duration for non-subscribers).\n",
    "\n",
    "**Alternative hypothesis (H1):** The average trip duration of subscribed users exceeds the average trip duration of non-subscribed users. (The average trip duration for subscribers is greater than the average trip duration for non-subscribers).\n",
    "\n",
    "**Testing method:** Independent samples t-test to compare the average trip durations for users with and without subscriptions."
   ]
  },
  {
   "cell_type": "code",
   "execution_count": 39,
   "id": "23ea867b",
   "metadata": {},
   "outputs": [
    {
     "name": "stdout",
     "output_type": "stream",
     "text": [
      "T-statistic: 12.186464491247767, p-value: 2.4959453720736625e-34\n",
      "We reject the null hypothesis: users with subscriptions spend more time travelling.\n"
     ]
    }
   ],
   "source": [
    "# Distincting trip durations by subscription type\n",
    "duration_with_subscription = merged_data.loc[merged_data['subscription_type'] == 'ultra', 'duration']\n",
    "duration_without_subscription = merged_data.loc[merged_data['subscription_type'] == 'free', 'duration']\n",
    "\n",
    "# Conducting the test\n",
    "t_stat, p_value = st.ttest_ind(duration_with_subscription, duration_without_subscription, alternative='greater')\n",
    "\n",
    "print(f\"T-statistic: {t_stat}, p-value: {p_value}\")\n",
    "\n",
    "alpha = 0.05\n",
    "if p_value < alpha:\n",
    "    print(\"We reject the null hypothesis: users with subscriptions spend more time travelling.\")\n",
    "else:\n",
    "    print(\"We fail to reject the null hypothesis: there is no evidence that users with subscriptions spend more time travelling.\")"
   ]
  },
  {
   "cell_type": "markdown",
   "id": "e81c7e17",
   "metadata": {},
   "source": [
    "**Summary:** In this analysis, we tested the hypothesis that subscribed users spend more time on trips compared to non-subscribed users. To do this, we analyzed trip duration data by dividing users into two groups: subscribers and non-subscribers.\n",
    "\n",
    "The results of the t-test conducted for independent samples showed that the t-statistic was 12.19 and the p-value was 2.49e-34. Since the p-value is less than the significance level (alpha = 0.05), we can reject the null hypothesis, which states that there is no significant difference in the time spent on trips between the groups.\n",
    "\n",
    "Thus, we conclude that subscribed users spend significantly more time on trips compared to non-subscribed users."
   ]
  },
  {
   "cell_type": "markdown",
   "id": "5659cd64",
   "metadata": {},
   "source": [
    "### Testing the trip distance of subscribed users\n",
    "\n",
    "**Null hypothesis (H0):** The average distance traveled by subscribed users does not exceed 3130 meters.\n",
    "\n",
    "**Alternative hypothesis (H1):** The average distance traveled by subscribed users exceeds 3130 meters.\n",
    "\n",
    "**Testing method:** One-tailed t-test to test the mean distance. The average trip distance of subscribers is compared to a specified value of 3130 meters."
   ]
  },
  {
   "cell_type": "code",
   "execution_count": 42,
   "id": "bf5422d2",
   "metadata": {},
   "outputs": [
    {
     "name": "stdout",
     "output_type": "stream",
     "text": [
      "T-statistic: -1.402123166869486, p-value: 0.9195368847849785\n",
      "We fail to reject the null hypothesis: there is no evidence that the average trip distance of subscribed users exceeds 3130 meters\n"
     ]
    }
   ],
   "source": [
    "# Distincting trip distances by subscription type\n",
    "distance_with_subscription = merged_data.loc[merged_data['subscription_type'] == 'ultra', 'distance']\n",
    "distance_without_subscription = merged_data.loc[merged_data['subscription_type'] == 'free', 'distance']\n",
    "\n",
    "# Conducting the test\n",
    "t_stat_distance, p_value_distance = st.ttest_1samp(distance_with_subscription, 3130, alternative='greater')\n",
    "\n",
    "print(f\"T-statistic: {t_stat_distance}, p-value: {p_value_distance}\")\n",
    "\n",
    "if p_value_distance < alpha:\n",
    "    print(\"We reject the null hypothesis: the average trip distance of users with subscription exeeds 3130 meters\")\n",
    "else:\n",
    "    print(\"We fail to reject the null hypothesis: there is no evidence that the average trip distance of subscribed users exceeds 3130 meters\")"
   ]
  },
  {
   "cell_type": "markdown",
   "id": "46b1b862",
   "metadata": {},
   "source": [
    "**Summary:** In this analysis, we tested the hypothesis that the average trip distance of subscribed users does not exceed 3130 meters. To test this hypothesis, a one-sample t-test was conducted. The results of the test showed that the t-statistic was -1.40 and the p-value was 0.91. Since the p-value is significantly higher than the significance level (alpha = 0.05), we cannot reject the null hypothesis.\n",
    "\n",
    "Thus, based on the analysis conducted, we cannot assert that the average trip distance of subscribed users exceeds 3130 meters. This means that there is no statistically significant evidence to suggest that subscribers travel a distance greater than 3130 meters."
   ]
  },
  {
   "cell_type": "markdown",
   "id": "beee417e",
   "metadata": {},
   "source": [
    "### Testing monthly revenue of subcribed users\n",
    "\n",
    "**Null hypothesis (H0):** The monthly revenue from subscribed users is not higher than the monthly revenue from non-subscribed users.\n",
    "\n",
    "**Alternative hypothesis (H1):** The monthly revenue from subscribed users is higher than the monthly revenue from non-subscribed users.\n",
    "\n",
    "**Testing method:** Independent samples t-test to compare the average monthly revenues from subscribed and non-subscribed users."
   ]
  },
  {
   "cell_type": "code",
   "execution_count": 45,
   "id": "87d7ad57",
   "metadata": {
    "scrolled": true
   },
   "outputs": [
    {
     "name": "stdout",
     "output_type": "stream",
     "text": [
      "T-statistic: 11.64246602360774, p-value: 1.8850394384715216e-31\n",
      "We reject the null hypothesis: the monthly revenue from subscribed users is higher than the monthly revenue from non-subscribed users\n"
     ]
    }
   ],
   "source": [
    "# Distincting monthly revenues by subscription type\n",
    "monthly_revenue_with_subscription = aggregated_data.loc[aggregated_data['subscription_type'] == 'ultra', 'monthly_revenue']\n",
    "monthly_revenue_without_subscription = aggregated_data.loc[aggregated_data['subscription_type'] == 'free', 'monthly_revenue']\n",
    "\n",
    "# conducting the test\n",
    "t_stat_revenue, p_value_revenue = st.ttest_ind(monthly_revenue_with_subscription, monthly_revenue_without_subscription, alternative='greater')\n",
    "\n",
    "print(f\"T-statistic: {t_stat_revenue}, p-value: {p_value_revenue}\")\n",
    "\n",
    "if p_value_revenue < alpha:\n",
    "    print(\"We reject the null hypothesis: the monthly revenue from subscribed users is higher than the monthly revenue from non-subscribed users\")\n",
    "else:\n",
    "    print(\"We fail to reject the null hypothesis: there is no evidence that the monthly revenue from subscribed users is higher than that from non-subscribed users.\")"
   ]
  },
  {
   "cell_type": "markdown",
   "id": "65cb86b9",
   "metadata": {},
   "source": [
    "**Summary:** In this part of the analysis, we tested the hypothesis that the monthly revenue from subscribed users is higher than that from non-subscribed users. To do this, we compared the monthly revenue data of two user groups using an independent samples t-test.\n",
    "\n",
    "The result of the test showed that the t-statistic was 11.64 and the p-value was 1.88e-31. Since the p-value is less than the significance level (alpha = 0.05), we reject the null hypothesis.\n",
    "\n",
    "Thus, the results of our analysis indicate that the monthly revenue from subscribed users is indeed higher than that from non-subscribed users. This suggests that subscribed users generate higher revenue, which is a valuable insight for developing monetization strategies."
   ]
  },
  {
   "cell_type": "markdown",
   "id": "ad2ea9f3",
   "metadata": {},
   "source": [
    "## Final summary and recommendations\n",
    "\n",
    "In our analysis, we investigated three key hypotheses regarding the behavior of users with subscriptions and those without.\n",
    "\n",
    "1. **Trips duration:** We found that subscribed users spend significantly more time on trips compared to non-subscribed users. The results of the t-test showed a high t-statistic (12.19) and an extremely low p-value (2.49e-34), allowing us to confidently reject the null hypothesis.\n",
    "\n",
    "2. **Average trip distance:** In the analysis of average trip distance, we could not confirm that subscribed users travel a distance greater than 3130 meters. The t-statistic was -1.40, and the p-value was 0.91, indicating insignificant effect.\n",
    "\n",
    "3. **Monthly revenue:** Finally, the results showed that the monthly revenue from subscribed users is significantly higher than that from non-subscribed users. The t-statistic was 11.64, and the p-value was 1.88e-31. This confirms the importance of subscription as a factor that enhances financial performance.\n",
    "\n",
    "Thus, our analysis revealed clear dependencies between the type of subscription and two important aspects: time spent on trips and monthly revenue. This indicates that subscribed users utilize the service more actively and generate more revenue.\n",
    "\n",
    "**Recommendations for further steps:**\n",
    "\n",
    "1. **Additional analysis:** It is recommended to conduct a deeper analysis of other features, such as trip frequency, trip types and geographical data, which may provide more insights into user behavior.\n",
    "\n",
    "2. **Churn analysis:** It is also worth considering an analysis of churn among subscribed users to identify what factors may lead to subscription cancellations and develop customer retention strategies. For example, GoFast can conduct more statistical tests related to the quality of service. One of the possible ones is described below, it suggests performing the paired t-test (this choice is justified by the fact that we should compare the data from the same group of users, which accounts for the dependence sign): \n",
    "\n",
    "```\n",
    "    Null hypothesis (H0): The number of support tickets after the update did not decrease compared to the number of tickets before the update.\n",
    "\n",
    "    Alternative hypothesis (H1): The number of support tickets after the update decreased compared to the number of tickets before the update.\n",
    "\n",
    "    Testing method: Paired t-test for dependent samples (if the data is normally distributed) or Wilcoxon signed-rank test (if the data is not normally distributed) to test the change in the number of support tickets before and after the update.\n",
    "\n",
    "    Sample data:\n",
    "\n",
    "    1. calls_before = [/* data on support tickets before the update */]\n",
    "    2. calls_after = [/* data on support tickets after the update */]\n",
    "\n",
    "   Perform the paired t-test:\n",
    "    - t_stat_calls, p_value_calls = st.ttest_rel(calls_before, calls_after, alternative='less')\n",
    "\n",
    "   Display the results:\n",
    "    - print(f\"T-statistic (tickets): {t_stat_calls}, p-value: {p_value_calls}\")\n",
    "\n",
    "   Hypothesis testing:\n",
    "    - if p_value_calls < alpha:\n",
    "      - print(\"The number of support tickets significantly decreased after the update.\")\n",
    "    - else:\n",
    "      - print(\"There is no evidence to suggest that the number of support tickets has decreased.\")\n",
    "```\n",
    "\n",
    "3. **Cross-Selling:** Given that subscribed users generate more revenue, it would be beneficial to explore opportunities for cross-selling and additional offers for this user group."
   ]
  }
 ],
 "metadata": {
  "ExecuteTimeLog": [
   {
    "duration": 1202,
    "start_time": "2024-08-05T19:11:17.546Z"
   },
   {
    "duration": 392,
    "start_time": "2024-08-05T19:11:21.696Z"
   },
   {
    "duration": 92,
    "start_time": "2024-08-05T19:11:23.531Z"
   },
   {
    "duration": 8,
    "start_time": "2024-08-05T19:11:38.989Z"
   },
   {
    "duration": 77,
    "start_time": "2024-08-05T19:11:57.680Z"
   },
   {
    "duration": 48,
    "start_time": "2024-08-05T19:11:58.955Z"
   },
   {
    "duration": 34,
    "start_time": "2024-08-05T19:12:32.315Z"
   },
   {
    "duration": 26,
    "start_time": "2024-08-05T19:12:46.492Z"
   },
   {
    "duration": 28,
    "start_time": "2024-08-05T19:12:57.193Z"
   },
   {
    "duration": 31,
    "start_time": "2024-08-05T19:13:13.964Z"
   },
   {
    "duration": 10,
    "start_time": "2024-08-05T19:15:59.664Z"
   },
   {
    "duration": 33,
    "start_time": "2024-08-05T19:16:22.566Z"
   },
   {
    "duration": 1068,
    "start_time": "2024-08-05T19:19:13.273Z"
   },
   {
    "duration": 79,
    "start_time": "2024-08-05T19:19:15.161Z"
   },
   {
    "duration": 37,
    "start_time": "2024-08-05T19:19:17.173Z"
   },
   {
    "duration": 31,
    "start_time": "2024-08-05T19:19:43.379Z"
   },
   {
    "duration": 102,
    "start_time": "2024-08-05T19:19:57.948Z"
   },
   {
    "duration": 55,
    "start_time": "2024-08-05T19:21:15.254Z"
   },
   {
    "duration": 33,
    "start_time": "2024-08-05T19:21:20.863Z"
   },
   {
    "duration": 8,
    "start_time": "2024-08-05T19:23:33.034Z"
   },
   {
    "duration": 1334,
    "start_time": "2024-08-06T16:49:39.434Z"
   },
   {
    "duration": 296,
    "start_time": "2024-08-06T16:49:40.771Z"
   },
   {
    "duration": 109,
    "start_time": "2024-08-06T16:49:41.069Z"
   },
   {
    "duration": 0,
    "start_time": "2024-08-06T16:49:41.180Z"
   },
   {
    "duration": 0,
    "start_time": "2024-08-06T16:49:41.182Z"
   },
   {
    "duration": 0,
    "start_time": "2024-08-06T16:49:41.183Z"
   },
   {
    "duration": 0,
    "start_time": "2024-08-06T16:49:41.185Z"
   },
   {
    "duration": 1156,
    "start_time": "2024-08-06T16:50:29.714Z"
   },
   {
    "duration": 74,
    "start_time": "2024-08-06T16:50:30.872Z"
   },
   {
    "duration": 124,
    "start_time": "2024-08-06T16:50:30.948Z"
   },
   {
    "duration": 150,
    "start_time": "2024-08-06T16:50:31.074Z"
   },
   {
    "duration": 109,
    "start_time": "2024-08-06T16:50:31.226Z"
   },
   {
    "duration": 135,
    "start_time": "2024-08-06T16:50:31.336Z"
   },
   {
    "duration": 0,
    "start_time": "2024-08-06T16:50:31.472Z"
   },
   {
    "duration": 62,
    "start_time": "2024-08-06T16:51:23.473Z"
   },
   {
    "duration": 1093,
    "start_time": "2024-08-06T16:51:55.029Z"
   },
   {
    "duration": 73,
    "start_time": "2024-08-06T16:51:56.124Z"
   },
   {
    "duration": 48,
    "start_time": "2024-08-06T16:51:56.198Z"
   },
   {
    "duration": 7,
    "start_time": "2024-08-06T16:51:56.248Z"
   },
   {
    "duration": 16,
    "start_time": "2024-08-06T16:51:56.256Z"
   },
   {
    "duration": 94,
    "start_time": "2024-08-06T16:51:56.273Z"
   },
   {
    "duration": 0,
    "start_time": "2024-08-06T16:51:56.369Z"
   },
   {
    "duration": 41,
    "start_time": "2024-08-06T16:52:28.616Z"
   },
   {
    "duration": 5,
    "start_time": "2024-08-06T16:53:46.768Z"
   },
   {
    "duration": 7,
    "start_time": "2024-08-06T16:55:31.058Z"
   },
   {
    "duration": 4,
    "start_time": "2024-08-06T16:55:48.972Z"
   },
   {
    "duration": 5,
    "start_time": "2024-08-06T16:57:12.935Z"
   },
   {
    "duration": 7,
    "start_time": "2024-08-06T16:58:00.663Z"
   },
   {
    "duration": 10,
    "start_time": "2024-08-06T16:58:14.736Z"
   },
   {
    "duration": 1109,
    "start_time": "2024-08-06T16:58:45.427Z"
   },
   {
    "duration": 71,
    "start_time": "2024-08-06T16:58:46.538Z"
   },
   {
    "duration": 48,
    "start_time": "2024-08-06T16:58:46.611Z"
   },
   {
    "duration": 7,
    "start_time": "2024-08-06T16:58:46.661Z"
   },
   {
    "duration": 6,
    "start_time": "2024-08-06T16:58:46.670Z"
   },
   {
    "duration": 8,
    "start_time": "2024-08-06T16:58:46.678Z"
   },
   {
    "duration": 9,
    "start_time": "2024-08-06T16:58:46.688Z"
   },
   {
    "duration": 120,
    "start_time": "2024-08-06T16:58:46.699Z"
   },
   {
    "duration": 57,
    "start_time": "2024-08-06T16:59:10.808Z"
   },
   {
    "duration": 192,
    "start_time": "2024-08-06T16:59:14.101Z"
   },
   {
    "duration": 1439,
    "start_time": "2024-08-07T15:13:59.298Z"
   },
   {
    "duration": 309,
    "start_time": "2024-08-07T15:14:00.739Z"
   },
   {
    "duration": 58,
    "start_time": "2024-08-07T15:14:01.050Z"
   },
   {
    "duration": 20,
    "start_time": "2024-08-07T15:14:01.109Z"
   },
   {
    "duration": 70,
    "start_time": "2024-08-07T15:14:01.131Z"
   },
   {
    "duration": 43,
    "start_time": "2024-08-07T15:14:01.203Z"
   },
   {
    "duration": 37,
    "start_time": "2024-08-07T15:14:01.248Z"
   },
   {
    "duration": 240,
    "start_time": "2024-08-07T15:14:01.287Z"
   },
   {
    "duration": 862,
    "start_time": "2024-08-07T15:14:01.529Z"
   },
   {
    "duration": 1382,
    "start_time": "2024-08-08T21:09:27.574Z"
   },
   {
    "duration": 285,
    "start_time": "2024-08-08T21:09:28.958Z"
   },
   {
    "duration": 44,
    "start_time": "2024-08-08T21:09:29.244Z"
   },
   {
    "duration": 6,
    "start_time": "2024-08-08T21:09:29.290Z"
   },
   {
    "duration": 5,
    "start_time": "2024-08-08T21:09:29.298Z"
   },
   {
    "duration": 10,
    "start_time": "2024-08-08T21:09:29.304Z"
   },
   {
    "duration": 24,
    "start_time": "2024-08-08T21:09:29.315Z"
   },
   {
    "duration": 192,
    "start_time": "2024-08-08T21:09:29.340Z"
   },
   {
    "duration": 1118,
    "start_time": "2024-08-08T21:09:29.533Z"
   },
   {
    "duration": 559,
    "start_time": "2024-08-08T21:09:30.652Z"
   },
   {
    "duration": 1341,
    "start_time": "2024-08-09T10:33:33.302Z"
   },
   {
    "duration": 411,
    "start_time": "2024-08-09T10:33:34.645Z"
   },
   {
    "duration": 45,
    "start_time": "2024-08-09T10:33:35.058Z"
   },
   {
    "duration": 6,
    "start_time": "2024-08-09T10:33:35.105Z"
   },
   {
    "duration": 53,
    "start_time": "2024-08-09T10:33:35.113Z"
   },
   {
    "duration": 17,
    "start_time": "2024-08-09T10:33:35.168Z"
   },
   {
    "duration": 12,
    "start_time": "2024-08-09T10:33:35.187Z"
   },
   {
    "duration": 176,
    "start_time": "2024-08-09T10:33:35.200Z"
   },
   {
    "duration": 135,
    "start_time": "2024-08-09T10:33:35.377Z"
   },
   {
    "duration": 185,
    "start_time": "2024-08-09T10:33:35.513Z"
   },
   {
    "duration": 450,
    "start_time": "2024-08-09T10:33:35.700Z"
   },
   {
    "duration": 496,
    "start_time": "2024-08-09T10:33:36.151Z"
   },
   {
    "duration": 573,
    "start_time": "2024-08-09T10:33:36.648Z"
   },
   {
    "duration": 15,
    "start_time": "2024-08-09T10:33:37.223Z"
   },
   {
    "duration": 11,
    "start_time": "2024-08-09T10:33:37.240Z"
   },
   {
    "duration": 989,
    "start_time": "2024-08-09T10:33:37.252Z"
   },
   {
    "duration": 13,
    "start_time": "2024-08-09T10:39:11.068Z"
   },
   {
    "duration": 1053,
    "start_time": "2024-08-09T16:13:47.483Z"
   },
   {
    "duration": 76,
    "start_time": "2024-08-09T16:13:48.538Z"
   },
   {
    "duration": 39,
    "start_time": "2024-08-09T16:13:48.616Z"
   },
   {
    "duration": 7,
    "start_time": "2024-08-09T16:13:48.656Z"
   },
   {
    "duration": 18,
    "start_time": "2024-08-09T16:13:48.665Z"
   },
   {
    "duration": 5,
    "start_time": "2024-08-09T16:13:48.684Z"
   },
   {
    "duration": 12,
    "start_time": "2024-08-09T16:13:48.690Z"
   },
   {
    "duration": 192,
    "start_time": "2024-08-09T16:13:48.704Z"
   },
   {
    "duration": 139,
    "start_time": "2024-08-09T16:13:48.897Z"
   },
   {
    "duration": 188,
    "start_time": "2024-08-09T16:13:49.037Z"
   },
   {
    "duration": 431,
    "start_time": "2024-08-09T16:13:49.227Z"
   },
   {
    "duration": 491,
    "start_time": "2024-08-09T16:13:49.659Z"
   },
   {
    "duration": 557,
    "start_time": "2024-08-09T16:13:50.151Z"
   },
   {
    "duration": 28,
    "start_time": "2024-08-09T16:13:50.711Z"
   },
   {
    "duration": 3417,
    "start_time": "2024-08-09T16:13:50.741Z"
   },
   {
    "duration": 1445,
    "start_time": "2024-08-10T17:38:42.176Z"
   },
   {
    "duration": 293,
    "start_time": "2024-08-10T17:38:43.623Z"
   },
   {
    "duration": 50,
    "start_time": "2024-08-10T17:38:43.918Z"
   },
   {
    "duration": 24,
    "start_time": "2024-08-10T17:38:43.971Z"
   },
   {
    "duration": 4,
    "start_time": "2024-08-10T17:38:43.998Z"
   },
   {
    "duration": 23,
    "start_time": "2024-08-10T17:38:44.004Z"
   },
   {
    "duration": 16,
    "start_time": "2024-08-10T17:38:44.029Z"
   },
   {
    "duration": 233,
    "start_time": "2024-08-10T17:38:44.047Z"
   },
   {
    "duration": 150,
    "start_time": "2024-08-10T17:38:44.282Z"
   },
   {
    "duration": 227,
    "start_time": "2024-08-10T17:38:44.434Z"
   },
   {
    "duration": 560,
    "start_time": "2024-08-10T17:38:44.663Z"
   },
   {
    "duration": 491,
    "start_time": "2024-08-10T17:38:45.225Z"
   },
   {
    "duration": 661,
    "start_time": "2024-08-10T17:38:45.717Z"
   },
   {
    "duration": 35,
    "start_time": "2024-08-10T17:38:46.386Z"
   },
   {
    "duration": 4456,
    "start_time": "2024-08-10T17:38:46.423Z"
   },
   {
    "duration": 19,
    "start_time": "2024-08-10T17:38:50.882Z"
   },
   {
    "duration": 123,
    "start_time": "2024-08-10T17:38:50.904Z"
   },
   {
    "duration": 0,
    "start_time": "2024-08-10T17:38:51.028Z"
   },
   {
    "duration": 0,
    "start_time": "2024-08-10T17:38:51.029Z"
   },
   {
    "duration": 9,
    "start_time": "2024-08-10T17:38:58.016Z"
   },
   {
    "duration": 19,
    "start_time": "2024-08-10T17:38:59.876Z"
   },
   {
    "duration": 8,
    "start_time": "2024-08-10T17:39:03.708Z"
   },
   {
    "duration": 253,
    "start_time": "2024-08-10T17:39:05.450Z"
   },
   {
    "duration": 9,
    "start_time": "2024-08-10T17:45:43.346Z"
   },
   {
    "duration": 1226,
    "start_time": "2024-08-10T17:51:45.195Z"
   },
   {
    "duration": 74,
    "start_time": "2024-08-10T17:51:46.423Z"
   },
   {
    "duration": 44,
    "start_time": "2024-08-10T17:51:46.499Z"
   },
   {
    "duration": 6,
    "start_time": "2024-08-10T17:51:46.545Z"
   },
   {
    "duration": 20,
    "start_time": "2024-08-10T17:51:46.553Z"
   },
   {
    "duration": 9,
    "start_time": "2024-08-10T17:51:46.575Z"
   },
   {
    "duration": 10,
    "start_time": "2024-08-10T17:51:46.587Z"
   },
   {
    "duration": 257,
    "start_time": "2024-08-10T17:51:46.599Z"
   },
   {
    "duration": 178,
    "start_time": "2024-08-10T17:51:46.857Z"
   },
   {
    "duration": 234,
    "start_time": "2024-08-10T17:51:47.036Z"
   },
   {
    "duration": 557,
    "start_time": "2024-08-10T17:51:47.272Z"
   },
   {
    "duration": 479,
    "start_time": "2024-08-10T17:51:47.830Z"
   },
   {
    "duration": 634,
    "start_time": "2024-08-10T17:51:48.310Z"
   },
   {
    "duration": 36,
    "start_time": "2024-08-10T17:51:48.946Z"
   },
   {
    "duration": 4387,
    "start_time": "2024-08-10T17:51:48.991Z"
   },
   {
    "duration": 13,
    "start_time": "2024-08-10T17:51:53.381Z"
   },
   {
    "duration": 22,
    "start_time": "2024-08-10T17:51:53.396Z"
   },
   {
    "duration": 10,
    "start_time": "2024-08-10T17:51:53.420Z"
   },
   {
    "duration": 1285,
    "start_time": "2024-08-11T17:31:08.773Z"
   },
   {
    "duration": 301,
    "start_time": "2024-08-11T17:31:10.061Z"
   },
   {
    "duration": 46,
    "start_time": "2024-08-11T17:31:10.364Z"
   },
   {
    "duration": 7,
    "start_time": "2024-08-11T17:31:10.411Z"
   },
   {
    "duration": 8,
    "start_time": "2024-08-11T17:31:10.420Z"
   },
   {
    "duration": 5,
    "start_time": "2024-08-11T17:31:10.430Z"
   },
   {
    "duration": 8,
    "start_time": "2024-08-11T17:31:10.436Z"
   },
   {
    "duration": 282,
    "start_time": "2024-08-11T17:31:10.446Z"
   },
   {
    "duration": 0,
    "start_time": "2024-08-11T17:31:10.730Z"
   },
   {
    "duration": 0,
    "start_time": "2024-08-11T17:31:10.732Z"
   },
   {
    "duration": 0,
    "start_time": "2024-08-11T17:31:10.733Z"
   },
   {
    "duration": 0,
    "start_time": "2024-08-11T17:31:10.734Z"
   },
   {
    "duration": 0,
    "start_time": "2024-08-11T17:31:10.735Z"
   },
   {
    "duration": 0,
    "start_time": "2024-08-11T17:31:10.736Z"
   },
   {
    "duration": 0,
    "start_time": "2024-08-11T17:31:10.737Z"
   },
   {
    "duration": 0,
    "start_time": "2024-08-11T17:31:10.738Z"
   },
   {
    "duration": 0,
    "start_time": "2024-08-11T17:31:10.739Z"
   },
   {
    "duration": 0,
    "start_time": "2024-08-11T17:31:10.740Z"
   },
   {
    "duration": 156,
    "start_time": "2024-08-11T17:32:17.706Z"
   },
   {
    "duration": 177,
    "start_time": "2024-08-11T17:32:27.139Z"
   },
   {
    "duration": 201,
    "start_time": "2024-08-11T17:32:56.052Z"
   },
   {
    "duration": 127,
    "start_time": "2024-08-11T17:33:51.079Z"
   },
   {
    "duration": 186,
    "start_time": "2024-08-11T17:33:58.336Z"
   },
   {
    "duration": 187,
    "start_time": "2024-08-11T17:34:10.771Z"
   },
   {
    "duration": 125,
    "start_time": "2024-08-11T17:36:48.060Z"
   },
   {
    "duration": 188,
    "start_time": "2024-08-11T17:36:53.199Z"
   },
   {
    "duration": 127,
    "start_time": "2024-08-11T17:36:57.094Z"
   },
   {
    "duration": 201,
    "start_time": "2024-08-11T17:38:58.587Z"
   },
   {
    "duration": 182,
    "start_time": "2024-08-11T17:39:11.685Z"
   },
   {
    "duration": 405,
    "start_time": "2024-08-11T17:39:15.038Z"
   },
   {
    "duration": 449,
    "start_time": "2024-08-11T17:39:18.967Z"
   },
   {
    "duration": 593,
    "start_time": "2024-08-11T17:39:28.802Z"
   },
   {
    "duration": 1163,
    "start_time": "2024-08-11T17:39:37.180Z"
   },
   {
    "duration": 71,
    "start_time": "2024-08-11T17:39:38.344Z"
   },
   {
    "duration": 46,
    "start_time": "2024-08-11T17:39:38.417Z"
   },
   {
    "duration": 6,
    "start_time": "2024-08-11T17:39:38.465Z"
   },
   {
    "duration": 21,
    "start_time": "2024-08-11T17:39:38.473Z"
   },
   {
    "duration": 5,
    "start_time": "2024-08-11T17:39:38.496Z"
   },
   {
    "duration": 20,
    "start_time": "2024-08-11T17:39:38.502Z"
   },
   {
    "duration": 207,
    "start_time": "2024-08-11T17:39:38.524Z"
   },
   {
    "duration": 160,
    "start_time": "2024-08-11T17:39:38.732Z"
   },
   {
    "duration": 198,
    "start_time": "2024-08-11T17:39:38.895Z"
   },
   {
    "duration": 442,
    "start_time": "2024-08-11T17:39:39.095Z"
   },
   {
    "duration": 496,
    "start_time": "2024-08-11T17:39:39.539Z"
   },
   {
    "duration": 594,
    "start_time": "2024-08-11T17:39:40.037Z"
   },
   {
    "duration": 24,
    "start_time": "2024-08-11T17:39:40.633Z"
   },
   {
    "duration": 3674,
    "start_time": "2024-08-11T17:39:40.659Z"
   },
   {
    "duration": 10,
    "start_time": "2024-08-11T17:39:44.334Z"
   },
   {
    "duration": 9,
    "start_time": "2024-08-11T17:39:44.345Z"
   },
   {
    "duration": 8,
    "start_time": "2024-08-11T17:39:44.356Z"
   },
   {
    "duration": 212,
    "start_time": "2024-08-11T18:11:42.113Z"
   },
   {
    "duration": 1196,
    "start_time": "2024-08-11T18:15:42.418Z"
   },
   {
    "duration": 70,
    "start_time": "2024-08-11T18:15:43.616Z"
   },
   {
    "duration": 44,
    "start_time": "2024-08-11T18:15:43.688Z"
   },
   {
    "duration": 7,
    "start_time": "2024-08-11T18:15:43.734Z"
   },
   {
    "duration": 10,
    "start_time": "2024-08-11T18:15:43.743Z"
   },
   {
    "duration": 5,
    "start_time": "2024-08-11T18:15:43.754Z"
   },
   {
    "duration": 8,
    "start_time": "2024-08-11T18:15:43.760Z"
   },
   {
    "duration": 215,
    "start_time": "2024-08-11T18:15:43.769Z"
   },
   {
    "duration": 143,
    "start_time": "2024-08-11T18:15:43.985Z"
   },
   {
    "duration": 197,
    "start_time": "2024-08-11T18:15:44.130Z"
   },
   {
    "duration": 442,
    "start_time": "2024-08-11T18:15:44.328Z"
   },
   {
    "duration": 454,
    "start_time": "2024-08-11T18:15:44.772Z"
   },
   {
    "duration": 588,
    "start_time": "2024-08-11T18:15:45.227Z"
   },
   {
    "duration": 26,
    "start_time": "2024-08-11T18:15:45.817Z"
   },
   {
    "duration": 3755,
    "start_time": "2024-08-11T18:15:45.845Z"
   },
   {
    "duration": 18,
    "start_time": "2024-08-11T18:15:49.602Z"
   },
   {
    "duration": 10,
    "start_time": "2024-08-11T18:15:49.621Z"
   },
   {
    "duration": 7,
    "start_time": "2024-08-11T18:15:49.633Z"
   },
   {
    "duration": 1240,
    "start_time": "2024-08-11T18:15:58.058Z"
   },
   {
    "duration": 766734,
    "start_time": "2024-08-11T18:17:10.482Z"
   },
   {
    "duration": 1124,
    "start_time": "2024-08-11T18:52:41.259Z"
   },
   {
    "duration": 70,
    "start_time": "2024-08-11T18:52:42.385Z"
   },
   {
    "duration": 51,
    "start_time": "2024-08-11T18:52:42.457Z"
   },
   {
    "duration": 6,
    "start_time": "2024-08-11T18:52:42.510Z"
   },
   {
    "duration": 8,
    "start_time": "2024-08-11T18:52:42.518Z"
   },
   {
    "duration": 8,
    "start_time": "2024-08-11T18:52:42.527Z"
   },
   {
    "duration": 10,
    "start_time": "2024-08-11T18:52:42.537Z"
   },
   {
    "duration": 208,
    "start_time": "2024-08-11T18:52:42.548Z"
   },
   {
    "duration": 135,
    "start_time": "2024-08-11T18:52:42.758Z"
   },
   {
    "duration": 201,
    "start_time": "2024-08-11T18:52:42.895Z"
   },
   {
    "duration": 442,
    "start_time": "2024-08-11T18:52:43.097Z"
   },
   {
    "duration": 402,
    "start_time": "2024-08-11T18:52:43.540Z"
   },
   {
    "duration": 580,
    "start_time": "2024-08-11T18:52:43.943Z"
   },
   {
    "duration": 19,
    "start_time": "2024-08-11T18:52:44.525Z"
   },
   {
    "duration": 1006,
    "start_time": "2024-08-11T18:52:44.545Z"
   },
   {
    "duration": 0,
    "start_time": "2024-08-11T18:52:45.553Z"
   },
   {
    "duration": 0,
    "start_time": "2024-08-11T18:52:45.554Z"
   },
   {
    "duration": 0,
    "start_time": "2024-08-11T18:52:45.555Z"
   },
   {
    "duration": 1105,
    "start_time": "2024-08-11T18:53:20.136Z"
   },
   {
    "duration": 70,
    "start_time": "2024-08-11T18:53:21.243Z"
   },
   {
    "duration": 57,
    "start_time": "2024-08-11T18:53:21.315Z"
   },
   {
    "duration": 7,
    "start_time": "2024-08-11T18:53:21.374Z"
   },
   {
    "duration": 15,
    "start_time": "2024-08-11T18:53:21.382Z"
   },
   {
    "duration": 5,
    "start_time": "2024-08-11T18:53:21.399Z"
   },
   {
    "duration": 18,
    "start_time": "2024-08-11T18:53:21.406Z"
   },
   {
    "duration": 215,
    "start_time": "2024-08-11T18:53:21.426Z"
   },
   {
    "duration": 147,
    "start_time": "2024-08-11T18:53:21.643Z"
   },
   {
    "duration": 196,
    "start_time": "2024-08-11T18:53:21.792Z"
   },
   {
    "duration": 453,
    "start_time": "2024-08-11T18:53:21.990Z"
   },
   {
    "duration": 508,
    "start_time": "2024-08-11T18:53:22.445Z"
   },
   {
    "duration": 604,
    "start_time": "2024-08-11T18:53:22.955Z"
   },
   {
    "duration": 28,
    "start_time": "2024-08-11T18:53:23.561Z"
   },
   {
    "duration": 176,
    "start_time": "2024-08-11T18:53:23.591Z"
   },
   {
    "duration": 9,
    "start_time": "2024-08-11T18:53:23.768Z"
   },
   {
    "duration": 8,
    "start_time": "2024-08-11T18:53:23.779Z"
   },
   {
    "duration": 9,
    "start_time": "2024-08-11T18:53:23.788Z"
   },
   {
    "duration": 1218,
    "start_time": "2024-08-11T19:07:19.330Z"
   },
   {
    "duration": 73,
    "start_time": "2024-08-11T19:07:20.550Z"
   },
   {
    "duration": 46,
    "start_time": "2024-08-11T19:07:20.624Z"
   },
   {
    "duration": 6,
    "start_time": "2024-08-11T19:07:20.672Z"
   },
   {
    "duration": 20,
    "start_time": "2024-08-11T19:07:20.680Z"
   },
   {
    "duration": 9,
    "start_time": "2024-08-11T19:07:20.701Z"
   },
   {
    "duration": 13,
    "start_time": "2024-08-11T19:07:20.711Z"
   },
   {
    "duration": 219,
    "start_time": "2024-08-11T19:07:20.726Z"
   },
   {
    "duration": 136,
    "start_time": "2024-08-11T19:07:20.946Z"
   },
   {
    "duration": 196,
    "start_time": "2024-08-11T19:07:21.084Z"
   },
   {
    "duration": 462,
    "start_time": "2024-08-11T19:07:21.281Z"
   },
   {
    "duration": 402,
    "start_time": "2024-08-11T19:07:21.745Z"
   },
   {
    "duration": 554,
    "start_time": "2024-08-11T19:07:22.149Z"
   },
   {
    "duration": 25,
    "start_time": "2024-08-11T19:07:22.704Z"
   },
   {
    "duration": 138,
    "start_time": "2024-08-11T19:07:22.731Z"
   },
   {
    "duration": 9,
    "start_time": "2024-08-11T19:07:22.871Z"
   },
   {
    "duration": 26,
    "start_time": "2024-08-11T19:07:22.881Z"
   },
   {
    "duration": 9,
    "start_time": "2024-08-11T19:07:22.909Z"
   },
   {
    "duration": 1168,
    "start_time": "2024-08-11T20:07:37.814Z"
   },
   {
    "duration": 70,
    "start_time": "2024-08-11T20:07:38.984Z"
   },
   {
    "duration": 46,
    "start_time": "2024-08-11T20:07:39.055Z"
   },
   {
    "duration": 7,
    "start_time": "2024-08-11T20:07:39.103Z"
   },
   {
    "duration": 15,
    "start_time": "2024-08-11T20:07:39.111Z"
   },
   {
    "duration": 5,
    "start_time": "2024-08-11T20:07:39.127Z"
   },
   {
    "duration": 12,
    "start_time": "2024-08-11T20:07:39.133Z"
   },
   {
    "duration": 209,
    "start_time": "2024-08-11T20:07:39.147Z"
   },
   {
    "duration": 138,
    "start_time": "2024-08-11T20:07:39.358Z"
   },
   {
    "duration": 189,
    "start_time": "2024-08-11T20:07:39.498Z"
   },
   {
    "duration": 405,
    "start_time": "2024-08-11T20:07:39.689Z"
   },
   {
    "duration": 518,
    "start_time": "2024-08-11T20:07:40.096Z"
   },
   {
    "duration": 593,
    "start_time": "2024-08-11T20:07:40.616Z"
   },
   {
    "duration": 24,
    "start_time": "2024-08-11T20:07:41.211Z"
   },
   {
    "duration": 147,
    "start_time": "2024-08-11T20:07:41.236Z"
   },
   {
    "duration": 9,
    "start_time": "2024-08-11T20:07:41.384Z"
   },
   {
    "duration": 13,
    "start_time": "2024-08-11T20:07:41.394Z"
   },
   {
    "duration": 7,
    "start_time": "2024-08-11T20:07:41.409Z"
   },
   {
    "duration": 1429,
    "start_time": "2024-08-12T16:29:31.383Z"
   },
   {
    "duration": 281,
    "start_time": "2024-08-12T16:29:32.814Z"
   },
   {
    "duration": 47,
    "start_time": "2024-08-12T16:29:33.097Z"
   },
   {
    "duration": 6,
    "start_time": "2024-08-12T16:29:33.146Z"
   },
   {
    "duration": 5,
    "start_time": "2024-08-12T16:29:33.154Z"
   },
   {
    "duration": 7,
    "start_time": "2024-08-12T16:29:33.161Z"
   },
   {
    "duration": 12,
    "start_time": "2024-08-12T16:29:33.169Z"
   },
   {
    "duration": 227,
    "start_time": "2024-08-12T16:29:33.183Z"
   },
   {
    "duration": 141,
    "start_time": "2024-08-12T16:29:33.412Z"
   },
   {
    "duration": 200,
    "start_time": "2024-08-12T16:29:33.556Z"
   },
   {
    "duration": 532,
    "start_time": "2024-08-12T16:29:33.761Z"
   },
   {
    "duration": 505,
    "start_time": "2024-08-12T16:29:34.295Z"
   },
   {
    "duration": 20,
    "start_time": "2024-08-12T16:29:34.802Z"
   },
   {
    "duration": 1202,
    "start_time": "2024-08-12T16:29:34.824Z"
   },
   {
    "duration": 39,
    "start_time": "2024-08-12T16:29:36.029Z"
   },
   {
    "duration": 236,
    "start_time": "2024-08-12T16:29:36.070Z"
   },
   {
    "duration": 11,
    "start_time": "2024-08-12T16:29:36.308Z"
   },
   {
    "duration": 12,
    "start_time": "2024-08-12T16:29:36.320Z"
   },
   {
    "duration": 33,
    "start_time": "2024-08-12T16:29:36.334Z"
   },
   {
    "duration": 1227,
    "start_time": "2024-08-12T16:36:14.897Z"
   },
   {
    "duration": 14,
    "start_time": "2024-08-12T17:06:47.211Z"
   },
   {
    "duration": 1180,
    "start_time": "2024-08-12T17:12:56.281Z"
   },
   {
    "duration": 67,
    "start_time": "2024-08-12T17:12:57.463Z"
   },
   {
    "duration": 48,
    "start_time": "2024-08-12T17:12:57.531Z"
   },
   {
    "duration": 7,
    "start_time": "2024-08-12T17:12:57.581Z"
   },
   {
    "duration": 27,
    "start_time": "2024-08-12T17:12:57.591Z"
   },
   {
    "duration": 19,
    "start_time": "2024-08-12T17:12:57.620Z"
   },
   {
    "duration": 14,
    "start_time": "2024-08-12T17:12:57.640Z"
   },
   {
    "duration": 225,
    "start_time": "2024-08-12T17:12:57.656Z"
   },
   {
    "duration": 147,
    "start_time": "2024-08-12T17:12:57.882Z"
   },
   {
    "duration": 189,
    "start_time": "2024-08-12T17:12:58.031Z"
   },
   {
    "duration": 458,
    "start_time": "2024-08-12T17:12:58.222Z"
   },
   {
    "duration": 395,
    "start_time": "2024-08-12T17:12:58.682Z"
   },
   {
    "duration": 22,
    "start_time": "2024-08-12T17:12:59.078Z"
   },
   {
    "duration": 1212,
    "start_time": "2024-08-12T17:12:59.102Z"
   },
   {
    "duration": 96,
    "start_time": "2024-08-12T17:13:00.316Z"
   },
   {
    "duration": 0,
    "start_time": "2024-08-12T17:13:00.413Z"
   },
   {
    "duration": 0,
    "start_time": "2024-08-12T17:13:00.415Z"
   },
   {
    "duration": 0,
    "start_time": "2024-08-12T17:13:00.416Z"
   },
   {
    "duration": 0,
    "start_time": "2024-08-12T17:13:00.417Z"
   },
   {
    "duration": 1051,
    "start_time": "2024-08-12T17:13:27.507Z"
   },
   {
    "duration": 27,
    "start_time": "2024-08-12T17:13:51.303Z"
   },
   {
    "duration": 230,
    "start_time": "2024-08-12T17:13:53.828Z"
   },
   {
    "duration": 9,
    "start_time": "2024-08-12T17:13:55.777Z"
   },
   {
    "duration": 8,
    "start_time": "2024-08-12T17:13:56.655Z"
   },
   {
    "duration": 9,
    "start_time": "2024-08-12T17:13:57.554Z"
   },
   {
    "duration": 1284,
    "start_time": "2024-08-12T17:23:16.327Z"
   },
   {
    "duration": 79,
    "start_time": "2024-08-12T17:23:17.613Z"
   },
   {
    "duration": 57,
    "start_time": "2024-08-12T17:23:17.694Z"
   },
   {
    "duration": 10,
    "start_time": "2024-08-12T17:23:17.753Z"
   },
   {
    "duration": 13,
    "start_time": "2024-08-12T17:23:17.764Z"
   },
   {
    "duration": 22,
    "start_time": "2024-08-12T17:23:17.779Z"
   },
   {
    "duration": 13,
    "start_time": "2024-08-12T17:23:17.802Z"
   },
   {
    "duration": 289,
    "start_time": "2024-08-12T17:23:17.818Z"
   },
   {
    "duration": 144,
    "start_time": "2024-08-12T17:23:18.109Z"
   },
   {
    "duration": 188,
    "start_time": "2024-08-12T17:23:18.260Z"
   },
   {
    "duration": 442,
    "start_time": "2024-08-12T17:23:18.449Z"
   },
   {
    "duration": 514,
    "start_time": "2024-08-12T17:23:18.892Z"
   },
   {
    "duration": 32,
    "start_time": "2024-08-12T17:23:19.408Z"
   },
   {
    "duration": 1304,
    "start_time": "2024-08-12T17:23:19.442Z"
   },
   {
    "duration": 27,
    "start_time": "2024-08-12T17:23:20.748Z"
   },
   {
    "duration": 222,
    "start_time": "2024-08-12T17:23:20.776Z"
   },
   {
    "duration": 9,
    "start_time": "2024-08-12T17:23:20.999Z"
   },
   {
    "duration": 8,
    "start_time": "2024-08-12T17:23:21.010Z"
   },
   {
    "duration": 14,
    "start_time": "2024-08-12T17:23:21.019Z"
   },
   {
    "duration": 1235,
    "start_time": "2024-08-12T17:25:19.332Z"
   },
   {
    "duration": 67,
    "start_time": "2024-08-12T17:25:20.569Z"
   },
   {
    "duration": 45,
    "start_time": "2024-08-12T17:25:20.637Z"
   },
   {
    "duration": 7,
    "start_time": "2024-08-12T17:25:20.684Z"
   },
   {
    "duration": 8,
    "start_time": "2024-08-12T17:25:20.693Z"
   },
   {
    "duration": 6,
    "start_time": "2024-08-12T17:25:20.702Z"
   },
   {
    "duration": 13,
    "start_time": "2024-08-12T17:25:20.709Z"
   },
   {
    "duration": 231,
    "start_time": "2024-08-12T17:25:20.724Z"
   },
   {
    "duration": 143,
    "start_time": "2024-08-12T17:25:20.957Z"
   },
   {
    "duration": 198,
    "start_time": "2024-08-12T17:25:21.103Z"
   },
   {
    "duration": 500,
    "start_time": "2024-08-12T17:25:21.303Z"
   },
   {
    "duration": 486,
    "start_time": "2024-08-12T17:25:21.806Z"
   },
   {
    "duration": 24,
    "start_time": "2024-08-12T17:25:22.294Z"
   },
   {
    "duration": 1290,
    "start_time": "2024-08-12T17:25:22.320Z"
   },
   {
    "duration": 26,
    "start_time": "2024-08-12T17:25:23.612Z"
   },
   {
    "duration": 225,
    "start_time": "2024-08-12T17:25:23.640Z"
   },
   {
    "duration": 9,
    "start_time": "2024-08-12T17:25:23.867Z"
   },
   {
    "duration": 16,
    "start_time": "2024-08-12T17:25:23.877Z"
   },
   {
    "duration": 12,
    "start_time": "2024-08-12T17:25:23.894Z"
   },
   {
    "duration": 1351,
    "start_time": "2024-08-13T18:28:16.293Z"
   },
   {
    "duration": 382,
    "start_time": "2024-08-13T18:28:17.646Z"
   },
   {
    "duration": 50,
    "start_time": "2024-08-13T18:28:18.030Z"
   },
   {
    "duration": 7,
    "start_time": "2024-08-13T18:28:18.082Z"
   },
   {
    "duration": 6,
    "start_time": "2024-08-13T18:28:18.091Z"
   },
   {
    "duration": 5,
    "start_time": "2024-08-13T18:28:18.099Z"
   },
   {
    "duration": 11,
    "start_time": "2024-08-13T18:28:18.106Z"
   },
   {
    "duration": 227,
    "start_time": "2024-08-13T18:28:18.118Z"
   },
   {
    "duration": 152,
    "start_time": "2024-08-13T18:28:18.347Z"
   },
   {
    "duration": 221,
    "start_time": "2024-08-13T18:28:18.500Z"
   },
   {
    "duration": 508,
    "start_time": "2024-08-13T18:28:18.723Z"
   },
   {
    "duration": 507,
    "start_time": "2024-08-13T18:28:19.232Z"
   },
   {
    "duration": 22,
    "start_time": "2024-08-13T18:28:19.741Z"
   },
   {
    "duration": 1356,
    "start_time": "2024-08-13T18:28:19.765Z"
   },
   {
    "duration": 27,
    "start_time": "2024-08-13T18:28:21.122Z"
   },
   {
    "duration": 149,
    "start_time": "2024-08-13T18:28:21.151Z"
   },
   {
    "duration": 9,
    "start_time": "2024-08-13T18:28:21.302Z"
   },
   {
    "duration": 49,
    "start_time": "2024-08-13T18:28:21.313Z"
   },
   {
    "duration": 0,
    "start_time": "2024-08-13T18:28:21.364Z"
   },
   {
    "duration": 9,
    "start_time": "2024-08-13T18:28:26.456Z"
   },
   {
    "duration": 1166,
    "start_time": "2024-08-13T18:28:45.560Z"
   },
   {
    "duration": 80,
    "start_time": "2024-08-13T18:28:46.728Z"
   },
   {
    "duration": 49,
    "start_time": "2024-08-13T18:28:46.810Z"
   },
   {
    "duration": 8,
    "start_time": "2024-08-13T18:28:46.862Z"
   },
   {
    "duration": 11,
    "start_time": "2024-08-13T18:28:46.872Z"
   },
   {
    "duration": 14,
    "start_time": "2024-08-13T18:28:46.885Z"
   },
   {
    "duration": 18,
    "start_time": "2024-08-13T18:28:46.901Z"
   },
   {
    "duration": 214,
    "start_time": "2024-08-13T18:28:46.921Z"
   },
   {
    "duration": 151,
    "start_time": "2024-08-13T18:28:47.136Z"
   },
   {
    "duration": 197,
    "start_time": "2024-08-13T18:28:47.289Z"
   },
   {
    "duration": 445,
    "start_time": "2024-08-13T18:28:47.495Z"
   },
   {
    "duration": 493,
    "start_time": "2024-08-13T18:28:47.941Z"
   },
   {
    "duration": 21,
    "start_time": "2024-08-13T18:28:48.436Z"
   },
   {
    "duration": 1258,
    "start_time": "2024-08-13T18:28:48.459Z"
   },
   {
    "duration": 26,
    "start_time": "2024-08-13T18:28:49.718Z"
   },
   {
    "duration": 258,
    "start_time": "2024-08-13T18:28:49.746Z"
   },
   {
    "duration": 9,
    "start_time": "2024-08-13T18:28:50.006Z"
   },
   {
    "duration": 37,
    "start_time": "2024-08-13T18:28:50.017Z"
   },
   {
    "duration": 49,
    "start_time": "2024-08-13T18:28:50.055Z"
   },
   {
    "duration": 10,
    "start_time": "2024-08-13T18:38:32.292Z"
   },
   {
    "duration": 8,
    "start_time": "2024-08-13T18:38:44.933Z"
   },
   {
    "duration": 1193,
    "start_time": "2024-08-13T18:44:01.445Z"
   },
   {
    "duration": 79,
    "start_time": "2024-08-13T18:44:02.640Z"
   },
   {
    "duration": 48,
    "start_time": "2024-08-13T18:44:02.721Z"
   },
   {
    "duration": 9,
    "start_time": "2024-08-13T18:44:02.771Z"
   },
   {
    "duration": 21,
    "start_time": "2024-08-13T18:44:02.782Z"
   },
   {
    "duration": 4,
    "start_time": "2024-08-13T18:44:02.805Z"
   },
   {
    "duration": 18,
    "start_time": "2024-08-13T18:44:02.811Z"
   },
   {
    "duration": 208,
    "start_time": "2024-08-13T18:44:02.831Z"
   },
   {
    "duration": 145,
    "start_time": "2024-08-13T18:44:03.041Z"
   },
   {
    "duration": 205,
    "start_time": "2024-08-13T18:44:03.187Z"
   },
   {
    "duration": 441,
    "start_time": "2024-08-13T18:44:03.395Z"
   },
   {
    "duration": 496,
    "start_time": "2024-08-13T18:44:03.838Z"
   },
   {
    "duration": 22,
    "start_time": "2024-08-13T18:44:04.336Z"
   },
   {
    "duration": 1320,
    "start_time": "2024-08-13T18:44:04.361Z"
   },
   {
    "duration": 28,
    "start_time": "2024-08-13T18:44:05.682Z"
   },
   {
    "duration": 242,
    "start_time": "2024-08-13T18:44:05.711Z"
   },
   {
    "duration": 9,
    "start_time": "2024-08-13T18:44:05.955Z"
   },
   {
    "duration": 11,
    "start_time": "2024-08-13T18:44:05.966Z"
   },
   {
    "duration": 21,
    "start_time": "2024-08-13T18:44:05.979Z"
   },
   {
    "duration": 1122,
    "start_time": "2024-08-13T18:49:23.828Z"
   },
   {
    "duration": 79,
    "start_time": "2024-08-13T18:49:24.951Z"
   },
   {
    "duration": 48,
    "start_time": "2024-08-13T18:49:25.031Z"
   },
   {
    "duration": 10,
    "start_time": "2024-08-13T18:49:25.081Z"
   },
   {
    "duration": 5,
    "start_time": "2024-08-13T18:49:25.092Z"
   },
   {
    "duration": 5,
    "start_time": "2024-08-13T18:49:25.098Z"
   },
   {
    "duration": 12,
    "start_time": "2024-08-13T18:49:25.104Z"
   },
   {
    "duration": 239,
    "start_time": "2024-08-13T18:49:25.118Z"
   },
   {
    "duration": 167,
    "start_time": "2024-08-13T18:49:25.360Z"
   },
   {
    "duration": 203,
    "start_time": "2024-08-13T18:49:25.530Z"
   },
   {
    "duration": 495,
    "start_time": "2024-08-13T18:49:25.735Z"
   },
   {
    "duration": 500,
    "start_time": "2024-08-13T18:49:26.232Z"
   },
   {
    "duration": 22,
    "start_time": "2024-08-13T18:49:26.734Z"
   },
   {
    "duration": 1295,
    "start_time": "2024-08-13T18:49:26.758Z"
   },
   {
    "duration": 26,
    "start_time": "2024-08-13T18:49:28.055Z"
   },
   {
    "duration": 220,
    "start_time": "2024-08-13T18:49:28.083Z"
   },
   {
    "duration": 9,
    "start_time": "2024-08-13T18:49:28.305Z"
   },
   {
    "duration": 17,
    "start_time": "2024-08-13T18:49:28.315Z"
   },
   {
    "duration": 15,
    "start_time": "2024-08-13T18:49:28.334Z"
   }
  ],
  "kernelspec": {
   "display_name": "Python 3 (ipykernel)",
   "language": "python",
   "name": "python3"
  },
  "language_info": {
   "codemirror_mode": {
    "name": "ipython",
    "version": 3
   },
   "file_extension": ".py",
   "mimetype": "text/x-python",
   "name": "python",
   "nbconvert_exporter": "python",
   "pygments_lexer": "ipython3",
   "version": "3.12.7"
  },
  "toc": {
   "base_numbering": 1,
   "nav_menu": {},
   "number_sections": true,
   "sideBar": true,
   "skip_h1_title": true,
   "title_cell": "Table of Contents",
   "title_sidebar": "Contents",
   "toc_cell": false,
   "toc_position": {},
   "toc_section_display": true,
   "toc_window_display": false
  }
 },
 "nbformat": 4,
 "nbformat_minor": 5
}
