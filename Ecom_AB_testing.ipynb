{
 "cells": [
  {
   "cell_type": "markdown",
   "metadata": {},
   "source": [
    "# E-commerce A/B testing to increase revenue"
   ]
  },
  {
   "cell_type": "markdown",
   "metadata": {},
   "source": [
    "**Objective:** This project addresses a critical business problem for a large e-commerce platform aimed at increasing revenue through optimizing user experience. To achieve this, a series of hypotheses have been developed that require validation through A/B testing. \n",
    "\n",
    "**Sources**: data locates at 3 csv-files:\n",
    "\n",
    "1. hypothesis.csv:\n",
    "   \n",
    "    - Hypothesis: A brief description of the hypothesis.\n",
    "    - Reach: User reach rated on a scale from 1 to 10.\n",
    "    - Impact: The potential influence on users, rated on a scale from 1 to 10.\n",
    "    - Confidence: The level of confidence in the hypothesis, rated on a scale from 1 to 10.\n",
    "    - Efforts: Resource expenditure required to test the hypothesis, rated on a scale from 1 to 10 (higher values indicate greater resource requirements).\n",
    "\n",
    "<div>\n",
    "\n",
    "</div>\n",
    "\n",
    "2. orders.csv:\n",
    "\n",
    "    - transactionId: Unique identifier for each order.\n",
    "    - visitorId: Unique identifier for the user who placed the order.\n",
    "    - date: Date when the order was placed.\n",
    "    - revenue: Revenue generated from the order.\n",
    "    - group: A/B test group assigned to the order.\n",
    "\n",
    "<div>\n",
    "\n",
    "</div>\n",
    "\n",
    "3. visitors.csv:\n",
    "\n",
    "    - date: The date of record.\n",
    "    - group: A/B test group designation.\n",
    "    - visitors: Number of users in the specified A/B test group on that date.\n",
    "\n",
    "<div>\n",
    "\n",
    "</div>\n",
    "\n",
    "**Steps:**\n",
    "\n",
    "1. Hypothesis prioritization:\n",
    "\n",
    "   - ICE framework to rank 9 revenue-increasing hypotheses by their scores.\n",
    "   - RICE framework for the same ranking\n",
    "   - Comparing the results to understand differences in prioritization.\n",
    "\n",
    "<div>\n",
    "\n",
    "</div>\n",
    "\n",
    "2. Evaluating A/B test results:\n",
    "\n",
    "    - Analysing the impact of changes on key metrics, including:\n",
    "        - Cumulative revenue by group.\n",
    "        - Cumulative average check by group.\n",
    "        - Changes in average check and orders per visitor between groups.\n",
    "        - Scatter plots for orders per user and order costs, identifying outliers.\n",
    "        - Statistical significance of differences in key metrics (both raw and cleaned data).\n",
    "    - Making a decision based on test results regarding next steps."
   ]
  },
  {
   "cell_type": "markdown",
   "metadata": {},
   "source": [
    "## Primary data analysis"
   ]
  },
  {
   "cell_type": "code",
   "execution_count": 4,
   "metadata": {},
   "outputs": [],
   "source": [
    "# library imports\n",
    "\n",
    "import pandas as pd\n",
    "import scipy.stats as stats\n",
    "import datetime as dt\n",
    "import matplotlib.pyplot as plt\n",
    "import numpy as np"
   ]
  },
  {
   "cell_type": "code",
   "execution_count": 5,
   "metadata": {},
   "outputs": [
    {
     "name": "stdout",
     "output_type": "stream",
     "text": [
      "DataFrame: hypothesis\n",
      "<class 'pandas.core.frame.DataFrame'>\n",
      "RangeIndex: 9 entries, 0 to 8\n",
      "Data columns (total 5 columns):\n",
      " #   Column      Non-Null Count  Dtype \n",
      "---  ------      --------------  ----- \n",
      " 0   Hypothesis  9 non-null      object\n",
      " 1   Reach       9 non-null      int64 \n",
      " 2   Impact      9 non-null      int64 \n",
      " 3   Confidence  9 non-null      int64 \n",
      " 4   Efforts     9 non-null      int64 \n",
      "dtypes: int64(4), object(1)\n",
      "memory usage: 492.0+ bytes\n",
      "None\n",
      "\n",
      "Hypothesis    0\n",
      "Reach         0\n",
      "Impact        0\n",
      "Confidence    0\n",
      "Efforts       0\n",
      "dtype: int64\n",
      "\n",
      "Duplicates in df hypothesis: 0\n",
      "\n",
      "                                          Hypothesis  Reach  Impact  \\\n",
      "0  Добавить два новых канала привлечения трафика,...      3      10   \n",
      "1  Запустить собственную службу доставки, что сок...      2       5   \n",
      "2  Добавить блоки рекомендаций товаров на сайт ин...      8       3   \n",
      "3  Изменить структура категорий, что увеличит кон...      8       3   \n",
      "4  Изменить цвет фона главной страницы, чтобы уве...      3       1   \n",
      "\n",
      "   Confidence  Efforts  \n",
      "0           8        6  \n",
      "1           4       10  \n",
      "2           7        3  \n",
      "3           3        8  \n",
      "4           1        1  \n",
      "\n",
      "\n",
      "\n",
      "DataFrame: orders\n",
      "<class 'pandas.core.frame.DataFrame'>\n",
      "RangeIndex: 1197 entries, 0 to 1196\n",
      "Data columns (total 5 columns):\n",
      " #   Column         Non-Null Count  Dtype \n",
      "---  ------         --------------  ----- \n",
      " 0   transactionId  1197 non-null   int64 \n",
      " 1   visitorId      1197 non-null   int64 \n",
      " 2   date           1197 non-null   object\n",
      " 3   revenue        1197 non-null   int64 \n",
      " 4   group          1197 non-null   object\n",
      "dtypes: int64(3), object(2)\n",
      "memory usage: 46.9+ KB\n",
      "None\n",
      "\n",
      "transactionId    0\n",
      "visitorId        0\n",
      "date             0\n",
      "revenue          0\n",
      "group            0\n",
      "dtype: int64\n",
      "\n",
      "Duplicates in df orders: 0\n",
      "\n",
      "   transactionId   visitorId        date  revenue group\n",
      "0     3667963787  3312258926  2019-08-15     1650     B\n",
      "1     2804400009  3642806036  2019-08-15      730     B\n",
      "2     2961555356  4069496402  2019-08-15      400     A\n",
      "3     3797467345  1196621759  2019-08-15     9759     B\n",
      "4     2282983706  2322279887  2019-08-15     2308     B\n",
      "\n",
      "\n",
      "\n",
      "DataFrame: visitors\n",
      "<class 'pandas.core.frame.DataFrame'>\n",
      "RangeIndex: 62 entries, 0 to 61\n",
      "Data columns (total 3 columns):\n",
      " #   Column    Non-Null Count  Dtype \n",
      "---  ------    --------------  ----- \n",
      " 0   date      62 non-null     object\n",
      " 1   group     62 non-null     object\n",
      " 2   visitors  62 non-null     int64 \n",
      "dtypes: int64(1), object(2)\n",
      "memory usage: 1.6+ KB\n",
      "None\n",
      "\n",
      "date        0\n",
      "group       0\n",
      "visitors    0\n",
      "dtype: int64\n",
      "\n",
      "Duplicates in df visitors: 0\n",
      "\n",
      "         date group  visitors\n",
      "0  2019-08-01     A       719\n",
      "1  2019-08-02     A       619\n",
      "2  2019-08-03     A       507\n",
      "3  2019-08-04     A       717\n",
      "4  2019-08-05     A       756\n",
      "\n",
      "\n",
      "\n"
     ]
    }
   ],
   "source": [
    "# creating and exploring a dataframe\n",
    "\n",
    "hypothesis = pd.read_csv('/hypothesis.csv')\n",
    "orders = pd.read_csv('/orders.csv')\n",
    "visitors = pd.read_csv('/visitors.csv')\n",
    "\n",
    "all_dfs = {\n",
    "    'hypothesis': hypothesis,\n",
    "    'orders': orders,\n",
    "    'visitors': visitors\n",
    "}\n",
    "\n",
    "for df_name, df in all_dfs.items():\n",
    "    print(f'DataFrame: {df_name}')  \n",
    "    print(df.info())\n",
    "    for _ in range(1):\n",
    "        print()\n",
    "    print(df.isna().sum())\n",
    "    for _ in range(1):\n",
    "        print()\n",
    "    print(f'Duplicates in df {df_name}: {df.duplicated().sum()}')\n",
    "    for _ in range(1):\n",
    "        print()\n",
    "    print(df.head())\n",
    "    for _ in range(3):\n",
    "        print()"
   ]
  },
  {
   "cell_type": "markdown",
   "metadata": {},
   "source": [
    "### Additional step for hypothesis readability: translating initial data to English"
   ]
  },
  {
   "cell_type": "code",
   "execution_count": 7,
   "metadata": {},
   "outputs": [],
   "source": [
    "hypothesis['Hypothesis'] = hypothesis['Hypothesis'].replace({\n",
    "    'Добавить два новых канала привлечения трафика, что позволит привлекать на 30% больше пользователей': 'Add two new channels to attract traffic, allowing to attract 30% more users',\n",
    "    'Запустить собственную службу доставки, что сократит срок доставки заказов': 'Launch its own delivery service, which will shorten the delivery time of orders',\n",
    "    'Добавить блоки рекомендаций товаров на сайт интернет магазина, чтобы повысить конверсию и средний чек заказа':'Add product recommendation blocks to online store website to increase conversion rate and average order receipt',\n",
    "    'Изменить структура категорий, что увеличит конверсию, т.к. пользователи быстрее найдут нужный товар':'Change the structure of categories, which will increase the conversion rate, as users will find the desired product faster',\n",
    "    'Изменить цвет фона главной страницы, чтобы увеличить вовлеченность пользователей':'Change the background color of the homepage to increase user engagement',\n",
    "    'Добавить страницу отзывов клиентов о магазине, что позволит увеличить количество заказов':'Add a customer reviews page about the store, which will increase the number of orders',\n",
    "    'Показать на главной странице баннеры с актуальными акциями и распродажами, чтобы увеличить конверсию':'Show banners with current promotions and sales on the homepage to increase conversion',\n",
    "    'Добавить форму подписки на все основные страницы, чтобы собрать базу клиентов для email-рассылок':'Add a subscription form to all main pages to gather a customer base for email newsletters',\n",
    "    'Запустить акцию, дающую скидку на товар в день рождения':'Run a promo discount on birthday'\n",
    "})"
   ]
  },
  {
   "cell_type": "code",
   "execution_count": 8,
   "metadata": {},
   "outputs": [
    {
     "name": "stdout",
     "output_type": "stream",
     "text": [
      "Add two new channels to attract traffic, allowing to attract 30% more users\n",
      "Launch its own delivery service, which will shorten the delivery time of orders\n",
      "Add product recommendation blocks to online store website to increase conversion rate and average order receipt\n",
      "Change the structure of categories, which will increase the conversion rate, as users will find the desired product faster\n",
      "Change the background color of the homepage to increase user engagement\n",
      "Add a customer reviews page about the store, which will increase the number of orders\n",
      "Show banners with current promotions and sales on the homepage to increase conversion\n",
      "Add a subscription form to all main pages to gather a customer base for email newsletters\n",
      "Run a promo discount on birthday\n"
     ]
    }
   ],
   "source": [
    "for i in hypothesis['Hypothesis']:\n",
    "    print (i)"
   ]
  },
  {
   "cell_type": "markdown",
   "metadata": {},
   "source": [
    "**Summary:**  \n",
    "\n",
    "1. **Hypotheses:**\n",
    "\n",
    "    - Contains 9 entries\n",
    "    - No missing values or duplicates\n",
    "    - Contains information on a brief description of the hypothesis, user reach on a 10-point scale, impact on users on a 10-point scale, confidence in the hypothesis on a 10-point scale, and resource costs for testing the hypothesis on a 10-point scale\n",
    "    - Data types are correctly represented and do not require changes\n",
    "\n",
    "<div>\n",
    "\n",
    "</div>\n",
    "\n",
    "2. **Orders:**\n",
    "\n",
    "   - Contains 1197 entries\n",
    "   - No missing values or duplicates\n",
    "   - Contains information on order and user IDs, order date, order revenue, and the A/B test group the order belongs to.\n",
    "   - The date column needs to be converted to the required datetime format; the object type is not appropriate here\n",
    "\n",
    "<div>\n",
    "\n",
    "</div>\n",
    "\n",
    "3. **Visitors:**\n",
    "\n",
    "   - Contains 62 entries\n",
    "   - No missing values or duplicates\n",
    "   - Contains information on the date, A/B test group, and the number of users on that date in the specified A/B test group\n",
    "   - The date column needs to be converted to the required datetime format; the object type is not appropriate here\n"
   ]
  },
  {
   "cell_type": "code",
   "execution_count": 10,
   "metadata": {},
   "outputs": [],
   "source": [
    "# changing the type to datetime\n",
    "\n",
    "orders['date'] = orders['date'].map(\n",
    "    lambda x: dt.datetime.strptime(x, '%Y-%m-%d')\n",
    ")\n",
    "visitors['date'] = visitors['date'].map(\n",
    "    lambda x: dt.datetime.strptime(x, '%Y-%m-%d')\n",
    ")"
   ]
  },
  {
   "cell_type": "markdown",
   "metadata": {},
   "source": [
    "## Hypothesis Prioritization"
   ]
  },
  {
   "cell_type": "code",
   "execution_count": 12,
   "metadata": {
    "scrolled": true
   },
   "outputs": [
    {
     "data": {
      "text/html": [
       "<div>\n",
       "<style scoped>\n",
       "    .dataframe tbody tr th:only-of-type {\n",
       "        vertical-align: middle;\n",
       "    }\n",
       "\n",
       "    .dataframe tbody tr th {\n",
       "        vertical-align: top;\n",
       "    }\n",
       "\n",
       "    .dataframe thead th {\n",
       "        text-align: right;\n",
       "    }\n",
       "</style>\n",
       "<table border=\"1\" class=\"dataframe\">\n",
       "  <thead>\n",
       "    <tr style=\"text-align: right;\">\n",
       "      <th></th>\n",
       "      <th>index</th>\n",
       "      <th>Hypothesis</th>\n",
       "      <th>Reach</th>\n",
       "      <th>Impact</th>\n",
       "      <th>Confidence</th>\n",
       "      <th>Efforts</th>\n",
       "      <th>ICE</th>\n",
       "    </tr>\n",
       "  </thead>\n",
       "  <tbody>\n",
       "    <tr>\n",
       "      <th>0</th>\n",
       "      <td>8</td>\n",
       "      <td>Run a promo discount on birthday</td>\n",
       "      <td>1</td>\n",
       "      <td>9</td>\n",
       "      <td>9</td>\n",
       "      <td>5</td>\n",
       "      <td>16.20</td>\n",
       "    </tr>\n",
       "    <tr>\n",
       "      <th>1</th>\n",
       "      <td>0</td>\n",
       "      <td>Add two new channels to attract traffic, allow...</td>\n",
       "      <td>3</td>\n",
       "      <td>10</td>\n",
       "      <td>8</td>\n",
       "      <td>6</td>\n",
       "      <td>13.33</td>\n",
       "    </tr>\n",
       "    <tr>\n",
       "      <th>2</th>\n",
       "      <td>7</td>\n",
       "      <td>Add a subscription form to all main pages to g...</td>\n",
       "      <td>10</td>\n",
       "      <td>7</td>\n",
       "      <td>8</td>\n",
       "      <td>5</td>\n",
       "      <td>11.20</td>\n",
       "    </tr>\n",
       "    <tr>\n",
       "      <th>3</th>\n",
       "      <td>6</td>\n",
       "      <td>Show banners with current promotions and sales...</td>\n",
       "      <td>5</td>\n",
       "      <td>3</td>\n",
       "      <td>8</td>\n",
       "      <td>3</td>\n",
       "      <td>8.00</td>\n",
       "    </tr>\n",
       "    <tr>\n",
       "      <th>4</th>\n",
       "      <td>2</td>\n",
       "      <td>Add product recommendation blocks to online st...</td>\n",
       "      <td>8</td>\n",
       "      <td>3</td>\n",
       "      <td>7</td>\n",
       "      <td>3</td>\n",
       "      <td>7.00</td>\n",
       "    </tr>\n",
       "    <tr>\n",
       "      <th>5</th>\n",
       "      <td>1</td>\n",
       "      <td>Launch its own delivery service, which will sh...</td>\n",
       "      <td>2</td>\n",
       "      <td>5</td>\n",
       "      <td>4</td>\n",
       "      <td>10</td>\n",
       "      <td>2.00</td>\n",
       "    </tr>\n",
       "    <tr>\n",
       "      <th>6</th>\n",
       "      <td>5</td>\n",
       "      <td>Add a customer reviews page about the store, w...</td>\n",
       "      <td>3</td>\n",
       "      <td>2</td>\n",
       "      <td>2</td>\n",
       "      <td>3</td>\n",
       "      <td>1.33</td>\n",
       "    </tr>\n",
       "    <tr>\n",
       "      <th>7</th>\n",
       "      <td>3</td>\n",
       "      <td>Change the structure of categories, which will...</td>\n",
       "      <td>8</td>\n",
       "      <td>3</td>\n",
       "      <td>3</td>\n",
       "      <td>8</td>\n",
       "      <td>1.12</td>\n",
       "    </tr>\n",
       "    <tr>\n",
       "      <th>8</th>\n",
       "      <td>4</td>\n",
       "      <td>Change the background color of the homepage to...</td>\n",
       "      <td>3</td>\n",
       "      <td>1</td>\n",
       "      <td>1</td>\n",
       "      <td>1</td>\n",
       "      <td>1.00</td>\n",
       "    </tr>\n",
       "  </tbody>\n",
       "</table>\n",
       "</div>"
      ],
      "text/plain": [
       "   index                                         Hypothesis  Reach  Impact  \\\n",
       "0      8                   Run a promo discount on birthday      1       9   \n",
       "1      0  Add two new channels to attract traffic, allow...      3      10   \n",
       "2      7  Add a subscription form to all main pages to g...     10       7   \n",
       "3      6  Show banners with current promotions and sales...      5       3   \n",
       "4      2  Add product recommendation blocks to online st...      8       3   \n",
       "5      1  Launch its own delivery service, which will sh...      2       5   \n",
       "6      5  Add a customer reviews page about the store, w...      3       2   \n",
       "7      3  Change the structure of categories, which will...      8       3   \n",
       "8      4  Change the background color of the homepage to...      3       1   \n",
       "\n",
       "   Confidence  Efforts    ICE  \n",
       "0           9        5  16.20  \n",
       "1           8        6  13.33  \n",
       "2           8        5  11.20  \n",
       "3           8        3   8.00  \n",
       "4           7        3   7.00  \n",
       "5           4       10   2.00  \n",
       "6           2        3   1.33  \n",
       "7           3        8   1.12  \n",
       "8           1        1   1.00  "
      ]
     },
     "execution_count": 12,
     "metadata": {},
     "output_type": "execute_result"
    }
   ],
   "source": [
    "# ICE calculating\n",
    "hypothesis['ICE'] = round((hypothesis['Impact'] * hypothesis['Confidence']) / hypothesis['Efforts'],2)\n",
    "ice_sorted = hypothesis.sort_values(by='ICE', ascending=False).reset_index(drop=False)\n",
    "ice_sorted"
   ]
  },
  {
   "cell_type": "code",
   "execution_count": 13,
   "metadata": {},
   "outputs": [
    {
     "name": "stdout",
     "output_type": "stream",
     "text": [
      "Priority 1: Run a promo discount on birthday\n",
      "Priority 2: Add two new channels to attract traffic, allowing to attract 30% more users\n",
      "Priority 3: Add a subscription form to all main pages to gather a customer base for email newsletters\n"
     ]
    }
   ],
   "source": [
    "for i in [0,1,2]:\n",
    "    print(f\"Priority {i+1}: {ice_sorted['Hypothesis'][i]}\")"
   ]
  },
  {
   "cell_type": "code",
   "execution_count": 14,
   "metadata": {},
   "outputs": [
    {
     "data": {
      "text/html": [
       "<div>\n",
       "<style scoped>\n",
       "    .dataframe tbody tr th:only-of-type {\n",
       "        vertical-align: middle;\n",
       "    }\n",
       "\n",
       "    .dataframe tbody tr th {\n",
       "        vertical-align: top;\n",
       "    }\n",
       "\n",
       "    .dataframe thead th {\n",
       "        text-align: right;\n",
       "    }\n",
       "</style>\n",
       "<table border=\"1\" class=\"dataframe\">\n",
       "  <thead>\n",
       "    <tr style=\"text-align: right;\">\n",
       "      <th></th>\n",
       "      <th>index</th>\n",
       "      <th>Hypothesis</th>\n",
       "      <th>Reach</th>\n",
       "      <th>Impact</th>\n",
       "      <th>Confidence</th>\n",
       "      <th>Efforts</th>\n",
       "      <th>ICE</th>\n",
       "      <th>RICE</th>\n",
       "    </tr>\n",
       "  </thead>\n",
       "  <tbody>\n",
       "    <tr>\n",
       "      <th>0</th>\n",
       "      <td>7</td>\n",
       "      <td>Add a subscription form to all main pages to g...</td>\n",
       "      <td>10</td>\n",
       "      <td>7</td>\n",
       "      <td>8</td>\n",
       "      <td>5</td>\n",
       "      <td>11.20</td>\n",
       "      <td>112.0</td>\n",
       "    </tr>\n",
       "    <tr>\n",
       "      <th>1</th>\n",
       "      <td>2</td>\n",
       "      <td>Add product recommendation blocks to online st...</td>\n",
       "      <td>8</td>\n",
       "      <td>3</td>\n",
       "      <td>7</td>\n",
       "      <td>3</td>\n",
       "      <td>7.00</td>\n",
       "      <td>56.0</td>\n",
       "    </tr>\n",
       "    <tr>\n",
       "      <th>2</th>\n",
       "      <td>0</td>\n",
       "      <td>Add two new channels to attract traffic, allow...</td>\n",
       "      <td>3</td>\n",
       "      <td>10</td>\n",
       "      <td>8</td>\n",
       "      <td>6</td>\n",
       "      <td>13.33</td>\n",
       "      <td>40.0</td>\n",
       "    </tr>\n",
       "    <tr>\n",
       "      <th>3</th>\n",
       "      <td>6</td>\n",
       "      <td>Show banners with current promotions and sales...</td>\n",
       "      <td>5</td>\n",
       "      <td>3</td>\n",
       "      <td>8</td>\n",
       "      <td>3</td>\n",
       "      <td>8.00</td>\n",
       "      <td>40.0</td>\n",
       "    </tr>\n",
       "    <tr>\n",
       "      <th>4</th>\n",
       "      <td>8</td>\n",
       "      <td>Run a promo discount on birthday</td>\n",
       "      <td>1</td>\n",
       "      <td>9</td>\n",
       "      <td>9</td>\n",
       "      <td>5</td>\n",
       "      <td>16.20</td>\n",
       "      <td>16.2</td>\n",
       "    </tr>\n",
       "    <tr>\n",
       "      <th>5</th>\n",
       "      <td>3</td>\n",
       "      <td>Change the structure of categories, which will...</td>\n",
       "      <td>8</td>\n",
       "      <td>3</td>\n",
       "      <td>3</td>\n",
       "      <td>8</td>\n",
       "      <td>1.12</td>\n",
       "      <td>9.0</td>\n",
       "    </tr>\n",
       "    <tr>\n",
       "      <th>6</th>\n",
       "      <td>1</td>\n",
       "      <td>Launch its own delivery service, which will sh...</td>\n",
       "      <td>2</td>\n",
       "      <td>5</td>\n",
       "      <td>4</td>\n",
       "      <td>10</td>\n",
       "      <td>2.00</td>\n",
       "      <td>4.0</td>\n",
       "    </tr>\n",
       "    <tr>\n",
       "      <th>7</th>\n",
       "      <td>5</td>\n",
       "      <td>Add a customer reviews page about the store, w...</td>\n",
       "      <td>3</td>\n",
       "      <td>2</td>\n",
       "      <td>2</td>\n",
       "      <td>3</td>\n",
       "      <td>1.33</td>\n",
       "      <td>4.0</td>\n",
       "    </tr>\n",
       "    <tr>\n",
       "      <th>8</th>\n",
       "      <td>4</td>\n",
       "      <td>Change the background color of the homepage to...</td>\n",
       "      <td>3</td>\n",
       "      <td>1</td>\n",
       "      <td>1</td>\n",
       "      <td>1</td>\n",
       "      <td>1.00</td>\n",
       "      <td>3.0</td>\n",
       "    </tr>\n",
       "  </tbody>\n",
       "</table>\n",
       "</div>"
      ],
      "text/plain": [
       "   index                                         Hypothesis  Reach  Impact  \\\n",
       "0      7  Add a subscription form to all main pages to g...     10       7   \n",
       "1      2  Add product recommendation blocks to online st...      8       3   \n",
       "2      0  Add two new channels to attract traffic, allow...      3      10   \n",
       "3      6  Show banners with current promotions and sales...      5       3   \n",
       "4      8                   Run a promo discount on birthday      1       9   \n",
       "5      3  Change the structure of categories, which will...      8       3   \n",
       "6      1  Launch its own delivery service, which will sh...      2       5   \n",
       "7      5  Add a customer reviews page about the store, w...      3       2   \n",
       "8      4  Change the background color of the homepage to...      3       1   \n",
       "\n",
       "   Confidence  Efforts    ICE   RICE  \n",
       "0           8        5  11.20  112.0  \n",
       "1           7        3   7.00   56.0  \n",
       "2           8        6  13.33   40.0  \n",
       "3           8        3   8.00   40.0  \n",
       "4           9        5  16.20   16.2  \n",
       "5           3        8   1.12    9.0  \n",
       "6           4       10   2.00    4.0  \n",
       "7           2        3   1.33    4.0  \n",
       "8           1        1   1.00    3.0  "
      ]
     },
     "execution_count": 14,
     "metadata": {},
     "output_type": "execute_result"
    }
   ],
   "source": [
    "# RICE calculating\n",
    "hypothesis['RICE'] = (hypothesis['Reach'] * hypothesis['Impact'] * hypothesis['Confidence']) / hypothesis['Efforts']\n",
    "rice_sorted = hypothesis.sort_values(by='RICE', ascending=False).reset_index(drop=False)\n",
    "rice_sorted"
   ]
  },
  {
   "cell_type": "code",
   "execution_count": 15,
   "metadata": {
    "scrolled": true
   },
   "outputs": [
    {
     "name": "stdout",
     "output_type": "stream",
     "text": [
      "Priority 1: Add a subscription form to all main pages to gather a customer base for email newsletters\n",
      "Priority 2: Add product recommendation blocks to online store website to increase conversion rate and average order receipt\n",
      "Priority 3: Add two new channels to attract traffic, allowing to attract 30% more users\n"
     ]
    }
   ],
   "source": [
    "for i in [0,1,2]:\n",
    "    print(f\"Priority {i+1}: {rice_sorted['Hypothesis'][i]}\")"
   ]
  },
  {
   "cell_type": "code",
   "execution_count": 16,
   "metadata": {},
   "outputs": [
    {
     "data": {
      "text/html": [
       "<div>\n",
       "<style scoped>\n",
       "    .dataframe tbody tr th:only-of-type {\n",
       "        vertical-align: middle;\n",
       "    }\n",
       "\n",
       "    .dataframe tbody tr th {\n",
       "        vertical-align: top;\n",
       "    }\n",
       "\n",
       "    .dataframe thead th {\n",
       "        text-align: right;\n",
       "    }\n",
       "</style>\n",
       "<table border=\"1\" class=\"dataframe\">\n",
       "  <thead>\n",
       "    <tr style=\"text-align: right;\">\n",
       "      <th></th>\n",
       "      <th>manual_id</th>\n",
       "      <th>Hypothesis</th>\n",
       "      <th>Reach</th>\n",
       "      <th>Impact</th>\n",
       "      <th>Confidence</th>\n",
       "      <th>Efforts</th>\n",
       "      <th>ICE</th>\n",
       "    </tr>\n",
       "  </thead>\n",
       "  <tbody>\n",
       "    <tr>\n",
       "      <th>0</th>\n",
       "      <td>9</td>\n",
       "      <td>Run a promo discount on birthday</td>\n",
       "      <td>1</td>\n",
       "      <td>9</td>\n",
       "      <td>9</td>\n",
       "      <td>5</td>\n",
       "      <td>16.20</td>\n",
       "    </tr>\n",
       "    <tr>\n",
       "      <th>1</th>\n",
       "      <td>1</td>\n",
       "      <td>Add two new channels to attract traffic, allow...</td>\n",
       "      <td>3</td>\n",
       "      <td>10</td>\n",
       "      <td>8</td>\n",
       "      <td>6</td>\n",
       "      <td>13.33</td>\n",
       "    </tr>\n",
       "    <tr>\n",
       "      <th>2</th>\n",
       "      <td>8</td>\n",
       "      <td>Add a subscription form to all main pages to g...</td>\n",
       "      <td>10</td>\n",
       "      <td>7</td>\n",
       "      <td>8</td>\n",
       "      <td>5</td>\n",
       "      <td>11.20</td>\n",
       "    </tr>\n",
       "    <tr>\n",
       "      <th>3</th>\n",
       "      <td>7</td>\n",
       "      <td>Show banners with current promotions and sales...</td>\n",
       "      <td>5</td>\n",
       "      <td>3</td>\n",
       "      <td>8</td>\n",
       "      <td>3</td>\n",
       "      <td>8.00</td>\n",
       "    </tr>\n",
       "    <tr>\n",
       "      <th>4</th>\n",
       "      <td>3</td>\n",
       "      <td>Add product recommendation blocks to online st...</td>\n",
       "      <td>8</td>\n",
       "      <td>3</td>\n",
       "      <td>7</td>\n",
       "      <td>3</td>\n",
       "      <td>7.00</td>\n",
       "    </tr>\n",
       "    <tr>\n",
       "      <th>5</th>\n",
       "      <td>2</td>\n",
       "      <td>Launch its own delivery service, which will sh...</td>\n",
       "      <td>2</td>\n",
       "      <td>5</td>\n",
       "      <td>4</td>\n",
       "      <td>10</td>\n",
       "      <td>2.00</td>\n",
       "    </tr>\n",
       "    <tr>\n",
       "      <th>6</th>\n",
       "      <td>6</td>\n",
       "      <td>Add a customer reviews page about the store, w...</td>\n",
       "      <td>3</td>\n",
       "      <td>2</td>\n",
       "      <td>2</td>\n",
       "      <td>3</td>\n",
       "      <td>1.33</td>\n",
       "    </tr>\n",
       "    <tr>\n",
       "      <th>7</th>\n",
       "      <td>4</td>\n",
       "      <td>Change the structure of categories, which will...</td>\n",
       "      <td>8</td>\n",
       "      <td>3</td>\n",
       "      <td>3</td>\n",
       "      <td>8</td>\n",
       "      <td>1.12</td>\n",
       "    </tr>\n",
       "    <tr>\n",
       "      <th>8</th>\n",
       "      <td>5</td>\n",
       "      <td>Change the background color of the homepage to...</td>\n",
       "      <td>3</td>\n",
       "      <td>1</td>\n",
       "      <td>1</td>\n",
       "      <td>1</td>\n",
       "      <td>1.00</td>\n",
       "    </tr>\n",
       "  </tbody>\n",
       "</table>\n",
       "</div>"
      ],
      "text/plain": [
       "   manual_id                                         Hypothesis  Reach  \\\n",
       "0          9                   Run a promo discount on birthday      1   \n",
       "1          1  Add two new channels to attract traffic, allow...      3   \n",
       "2          8  Add a subscription form to all main pages to g...     10   \n",
       "3          7  Show banners with current promotions and sales...      5   \n",
       "4          3  Add product recommendation blocks to online st...      8   \n",
       "5          2  Launch its own delivery service, which will sh...      2   \n",
       "6          6  Add a customer reviews page about the store, w...      3   \n",
       "7          4  Change the structure of categories, which will...      8   \n",
       "8          5  Change the background color of the homepage to...      3   \n",
       "\n",
       "   Impact  Confidence  Efforts    ICE  \n",
       "0       9           9        5  16.20  \n",
       "1      10           8        6  13.33  \n",
       "2       7           8        5  11.20  \n",
       "3       3           8        3   8.00  \n",
       "4       3           7        3   7.00  \n",
       "5       5           4       10   2.00  \n",
       "6       2           2        3   1.33  \n",
       "7       3           3        8   1.12  \n",
       "8       1           1        1   1.00  "
      ]
     },
     "execution_count": 16,
     "metadata": {},
     "output_type": "execute_result"
    }
   ],
   "source": [
    "# Let's label the initial indexes as “manual hypothesis id”, it will be easier to refer to them that way \n",
    "ice_sorted['index'] += 1\n",
    "ice_sorted = ice_sorted.rename(columns={'index': 'manual_id'})\n",
    "ice_sorted"
   ]
  },
  {
   "cell_type": "code",
   "execution_count": 17,
   "metadata": {},
   "outputs": [
    {
     "data": {
      "text/html": [
       "<div>\n",
       "<style scoped>\n",
       "    .dataframe tbody tr th:only-of-type {\n",
       "        vertical-align: middle;\n",
       "    }\n",
       "\n",
       "    .dataframe tbody tr th {\n",
       "        vertical-align: top;\n",
       "    }\n",
       "\n",
       "    .dataframe thead th {\n",
       "        text-align: right;\n",
       "    }\n",
       "</style>\n",
       "<table border=\"1\" class=\"dataframe\">\n",
       "  <thead>\n",
       "    <tr style=\"text-align: right;\">\n",
       "      <th></th>\n",
       "      <th>manual_id</th>\n",
       "      <th>Hypothesis</th>\n",
       "      <th>Reach</th>\n",
       "      <th>Impact</th>\n",
       "      <th>Confidence</th>\n",
       "      <th>Efforts</th>\n",
       "      <th>ICE</th>\n",
       "      <th>RICE</th>\n",
       "    </tr>\n",
       "  </thead>\n",
       "  <tbody>\n",
       "    <tr>\n",
       "      <th>0</th>\n",
       "      <td>8</td>\n",
       "      <td>Add a subscription form to all main pages to g...</td>\n",
       "      <td>10</td>\n",
       "      <td>7</td>\n",
       "      <td>8</td>\n",
       "      <td>5</td>\n",
       "      <td>11.20</td>\n",
       "      <td>112.0</td>\n",
       "    </tr>\n",
       "    <tr>\n",
       "      <th>1</th>\n",
       "      <td>3</td>\n",
       "      <td>Add product recommendation blocks to online st...</td>\n",
       "      <td>8</td>\n",
       "      <td>3</td>\n",
       "      <td>7</td>\n",
       "      <td>3</td>\n",
       "      <td>7.00</td>\n",
       "      <td>56.0</td>\n",
       "    </tr>\n",
       "    <tr>\n",
       "      <th>2</th>\n",
       "      <td>1</td>\n",
       "      <td>Add two new channels to attract traffic, allow...</td>\n",
       "      <td>3</td>\n",
       "      <td>10</td>\n",
       "      <td>8</td>\n",
       "      <td>6</td>\n",
       "      <td>13.33</td>\n",
       "      <td>40.0</td>\n",
       "    </tr>\n",
       "    <tr>\n",
       "      <th>3</th>\n",
       "      <td>7</td>\n",
       "      <td>Show banners with current promotions and sales...</td>\n",
       "      <td>5</td>\n",
       "      <td>3</td>\n",
       "      <td>8</td>\n",
       "      <td>3</td>\n",
       "      <td>8.00</td>\n",
       "      <td>40.0</td>\n",
       "    </tr>\n",
       "    <tr>\n",
       "      <th>4</th>\n",
       "      <td>9</td>\n",
       "      <td>Run a promo discount on birthday</td>\n",
       "      <td>1</td>\n",
       "      <td>9</td>\n",
       "      <td>9</td>\n",
       "      <td>5</td>\n",
       "      <td>16.20</td>\n",
       "      <td>16.2</td>\n",
       "    </tr>\n",
       "    <tr>\n",
       "      <th>5</th>\n",
       "      <td>4</td>\n",
       "      <td>Change the structure of categories, which will...</td>\n",
       "      <td>8</td>\n",
       "      <td>3</td>\n",
       "      <td>3</td>\n",
       "      <td>8</td>\n",
       "      <td>1.12</td>\n",
       "      <td>9.0</td>\n",
       "    </tr>\n",
       "    <tr>\n",
       "      <th>6</th>\n",
       "      <td>2</td>\n",
       "      <td>Launch its own delivery service, which will sh...</td>\n",
       "      <td>2</td>\n",
       "      <td>5</td>\n",
       "      <td>4</td>\n",
       "      <td>10</td>\n",
       "      <td>2.00</td>\n",
       "      <td>4.0</td>\n",
       "    </tr>\n",
       "    <tr>\n",
       "      <th>7</th>\n",
       "      <td>6</td>\n",
       "      <td>Add a customer reviews page about the store, w...</td>\n",
       "      <td>3</td>\n",
       "      <td>2</td>\n",
       "      <td>2</td>\n",
       "      <td>3</td>\n",
       "      <td>1.33</td>\n",
       "      <td>4.0</td>\n",
       "    </tr>\n",
       "    <tr>\n",
       "      <th>8</th>\n",
       "      <td>5</td>\n",
       "      <td>Change the background color of the homepage to...</td>\n",
       "      <td>3</td>\n",
       "      <td>1</td>\n",
       "      <td>1</td>\n",
       "      <td>1</td>\n",
       "      <td>1.00</td>\n",
       "      <td>3.0</td>\n",
       "    </tr>\n",
       "  </tbody>\n",
       "</table>\n",
       "</div>"
      ],
      "text/plain": [
       "   manual_id                                         Hypothesis  Reach  \\\n",
       "0          8  Add a subscription form to all main pages to g...     10   \n",
       "1          3  Add product recommendation blocks to online st...      8   \n",
       "2          1  Add two new channels to attract traffic, allow...      3   \n",
       "3          7  Show banners with current promotions and sales...      5   \n",
       "4          9                   Run a promo discount on birthday      1   \n",
       "5          4  Change the structure of categories, which will...      8   \n",
       "6          2  Launch its own delivery service, which will sh...      2   \n",
       "7          6  Add a customer reviews page about the store, w...      3   \n",
       "8          5  Change the background color of the homepage to...      3   \n",
       "\n",
       "   Impact  Confidence  Efforts    ICE   RICE  \n",
       "0       7           8        5  11.20  112.0  \n",
       "1       3           7        3   7.00   56.0  \n",
       "2      10           8        6  13.33   40.0  \n",
       "3       3           8        3   8.00   40.0  \n",
       "4       9           9        5  16.20   16.2  \n",
       "5       3           3        8   1.12    9.0  \n",
       "6       5           4       10   2.00    4.0  \n",
       "7       2           2        3   1.33    4.0  \n",
       "8       1           1        1   1.00    3.0  "
      ]
     },
     "execution_count": 17,
     "metadata": {},
     "output_type": "execute_result"
    }
   ],
   "source": [
    "rice_sorted['index'] += 1\n",
    "rice_sorted = rice_sorted.rename(columns={'index': 'manual_id'})\n",
    "rice_sorted"
   ]
  },
  {
   "cell_type": "markdown",
   "metadata": {},
   "source": [
    "**Summary:**\n",
    "\n",
    "After sorting the hypotheses by both metrics, it became evident that depending on the prioritization method, the hypotheses were ranked differently:\n",
    "\n",
    "1. In the case of ICE, the first hypothesis proposed for testing is number 9: \"Run a promo discount on birthday\". The second and third places are occupied by hypotheses 1 and 8, respectively: \"Add two new channels to attract traffic\" and \"Add a subscription form to all main pages to gather a customer base for email newsletters\"\n",
    "\n",
    "2. In the case of RICE, the first hypothesis proposed for testing is number 8: \"Add a subscription form to all main pages to gather a customer base for email newsletters\" The second and third places are occupied by hypotheses 3 and 1, respectively: \"Add product recommendation blocks to online store website\" and \"Add two new channels to attract traffic\"\n",
    "\n",
    "*Why did hypotheses differ from each other?* The hypotheses shifted because when calculating RICE, the reach metric is included in the formula, while it is not in ICE. Thus, those hypotheses that either have a high reach score or serve as a minor addition that slightly outweighs other values have risen to the top. In our case, RICE for hypotheses 1 and 7 is identical, but the third place rightfully goes to hypothesis 1, because its ICE is higher despite having an equal RICE."
   ]
  },
  {
   "cell_type": "markdown",
   "metadata": {},
   "source": [
    "## Evaluating A/B test results"
   ]
  },
  {
   "cell_type": "markdown",
   "metadata": {},
   "source": [
    "### Cumulative revenue"
   ]
  },
  {
   "cell_type": "code",
   "execution_count": 21,
   "metadata": {},
   "outputs": [
    {
     "data": {
      "image/png": "[encoded data removed]",
      "text/plain": [
       "<Figure size 1200x600 with 1 Axes>"
      ]
     },
     "metadata": {},
     "output_type": "display_data"
    }
   ],
   "source": [
    "cumulative_revenue = orders.groupby(['date', 'group'])['revenue'].sum().reset_index()\n",
    "cumulative_revenue['cumulative_revenue'] = cumulative_revenue.groupby('group')['revenue'].cumsum()\n",
    "\n",
    "plt.figure(figsize=(12, 6))\n",
    "for group in cumulative_revenue['group'].unique():\n",
    "    group_data = cumulative_revenue[cumulative_revenue['group'] == group]\n",
    "    plt.plot(group_data['date'], group_data['cumulative_revenue'], label=group)\n",
    "plt.title('Cumulative revenue by groups')\n",
    "plt.xlabel('Date')\n",
    "plt.ylabel('Cumulative revenue')\n",
    "plt.legend()\n",
    "plt.grid()\n",
    "plt.show()"
   ]
  },
  {
   "cell_type": "markdown",
   "metadata": {},
   "source": [
    "**Summary:**\n",
    "\n",
    "- At the beginning, both lines start equally; however, on the fourth day of the test, Group B confidently surpasses Group A in terms of revenue from orders\n",
    "- Further along, we will see only one point of intersection between the lines in the middle of the testing period; otherwise, Group B steadily leads \n",
    "- This graph shows a sharp increase in growth for Group B at the end of August. After that, there will be no more sharp increases\n",
    "- The line for Group A moves evenly, without fluctuations\n",
    "\n",
    "Thus, this graph clearly demonstrates the dominance of Group B over Group A in terms of cumulative revenue."
   ]
  },
  {
   "cell_type": "markdown",
   "metadata": {},
   "source": [
    "### Cumulative average check"
   ]
  },
  {
   "cell_type": "code",
   "execution_count": 24,
   "metadata": {},
   "outputs": [
    {
     "data": {
      "image/png": "[encoded data removed]",
      "text/plain": [
       "<Figure size 1200x600 with 1 Axes>"
      ]
     },
     "metadata": {},
     "output_type": "display_data"
    }
   ],
   "source": [
    "orders_count = orders.groupby(['date', 'group']).agg({'transactionId': 'count', 'revenue': 'sum'}).rename(columns={'transactionId': 'orders_count'}).reset_index()\n",
    "cumulative_data = pd.merge(orders_count, cumulative_revenue.drop(columns=['revenue']), on=['date', 'group'])\n",
    "\n",
    "cumulative_data['cumulative_avg_check'] = cumulative_data['revenue'] / cumulative_data['orders_count']\n",
    "\n",
    "plt.figure(figsize=(12, 6))\n",
    "for group in cumulative_data['group'].unique():\n",
    "    group_data = cumulative_data[cumulative_data['group'] == group]\n",
    "    plt.plot(group_data['date'], group_data['cumulative_avg_check'], label=group)\n",
    "plt.title('Cumulative average check by groups')\n",
    "plt.xlabel('Date')\n",
    "plt.ylabel('Cumulative average check')\n",
    "plt.legend()\n",
    "plt.grid()\n",
    "plt.show()"
   ]
  },
  {
   "cell_type": "markdown",
   "metadata": {},
   "source": [
    "**Summary:**\n",
    "\n",
    "- In both cases, it is not possible to speak of a stable decrease or stable increase in the average check. There is no trend towards an increase or decrease in either Group A or Group B\n",
    "- There are outliers in both groups: Group B shows a much more pronounced peak in the average check in the middle of the testing period. The spike in Group A occurred slightly earlier and is approximately 7 times smaller than that of the second group. Outliers may be caused by the purchase of expensive items\n",
    "- Both groups have unstable graphs. While there is no trend towards an increase or decrease, the fluctuations in the graphs are evident\n",
    "\n",
    "Thus, for a more accurate interpretation of the graph, it is necessary to construct a graph of the relative change in the cumulative average check of Group B compared to Group A."
   ]
  },
  {
   "cell_type": "markdown",
   "metadata": {},
   "source": [
    "### Relative change in the cumulative average check of Group B compared to Group A"
   ]
  },
  {
   "cell_type": "code",
   "execution_count": 27,
   "metadata": {},
   "outputs": [
    {
     "data": {
      "image/png": "[encoded data removed]",
      "text/plain": [
       "<Figure size 1200x600 with 1 Axes>"
      ]
     },
     "metadata": {},
     "output_type": "display_data"
    }
   ],
   "source": [
    "avg_check_A = cumulative_data[cumulative_data['group'] == 'A'][['date', 'cumulative_avg_check']]\n",
    "avg_check_B = cumulative_data[cumulative_data['group'] == 'B'][['date', 'cumulative_avg_check']]\n",
    "avg_check_B.rename(columns={'cumulative_avg_check': 'cumulative_avg_check_B'}, inplace=True)\n",
    "\n",
    "\n",
    "merged_avg_checks = pd.merge(avg_check_A, avg_check_B, on='date', how='outer')\n",
    "\n",
    "merged_avg_checks['relative_change'] = (merged_avg_checks['cumulative_avg_check_B'] - merged_avg_checks['cumulative_avg_check']) / merged_avg_checks['cumulative_avg_check'] * 100\n",
    "\n",
    "plt.figure(figsize=(12, 6))\n",
    "plt.plot(merged_avg_checks['date'], merged_avg_checks['relative_change'], label='Relative change', color='green')\n",
    "plt.title('Relative change in the cumulative average check of Group B compared to Group A')\n",
    "plt.xlabel('Date')\n",
    "plt.ylabel('Relative change (%)')\n",
    "plt.axhline(0, color='red', linestyle='--') \n",
    "plt.legend()\n",
    "plt.grid()\n",
    "plt.show()"
   ]
  },
  {
   "cell_type": "markdown",
   "metadata": {},
   "source": [
    "**Summary:**\n",
    "\n",
    "Overall, one can speak of a slight advantage in the average check of Group B; however, this advantage is partially explained by a significant outlier, which reached 700% on August 19. It is important to note that such a sharp spike can arise from specific circumstances, such as large orders or promotions. Therefore, based on the current data, the relationship of the cumulative average check has not yet stabilized, and it is premature to draw definitive conclusions from the test. For a more accurate interpretation of the results, a detailed analysis of anomalies is necessary to understand their impact on the overall dynamics and to make informed decisions regarding further steps."
   ]
  },
  {
   "cell_type": "markdown",
   "metadata": {},
   "source": [
    "### Cumulative average number of orders per visitor by group"
   ]
  },
  {
   "cell_type": "code",
   "execution_count": 30,
   "metadata": {},
   "outputs": [
    {
     "data": {
      "image/png": "[encoded data removed]",
      "text/plain": [
       "<Figure size 1200x600 with 1 Axes>"
      ]
     },
     "metadata": {},
     "output_type": "display_data"
    }
   ],
   "source": [
    "orders_count = orders.groupby(['date', 'group']).agg({'transactionId': 'count'}).rename(columns={'transactionId': 'orders_count'}).reset_index()\n",
    "\n",
    "cumulative_data = pd.merge(orders_count, visitors, on=['date', 'group'], how='inner')\n",
    "\n",
    "cumulative_data['cumulative_orders'] = cumulative_data.groupby('group')['orders_count'].cumsum()\n",
    "cumulative_data['cumulative_visitors'] = cumulative_data.groupby('group')['visitors'].cumsum()\n",
    "\n",
    "cumulative_data['avg_orders_per_visitor'] = cumulative_data['cumulative_orders'] / cumulative_data['cumulative_visitors']\n",
    "\n",
    "plt.figure(figsize=(12, 6))\n",
    "for group in cumulative_data['group'].unique():\n",
    "    group_data = cumulative_data[cumulative_data['group'] == group]\n",
    "    plt.plot(group_data['date'], group_data['avg_orders_per_visitor'], label=group)\n",
    "\n",
    "plt.title('Cumulative average number of orders per visitor by group')\n",
    "plt.xlabel('Date')\n",
    "plt.ylabel('Cumulative average number of orders per visitor')\n",
    "plt.legend()\n",
    "plt.grid()\n",
    "plt.show()"
   ]
  },
  {
   "cell_type": "markdown",
   "metadata": {},
   "source": [
    "**Summary:** \n",
    "Despite the fact that the indicator has not stabilized and there are fluctuations in the values, the graph clearly shows a stable trend of decreasing average orders per visitor in Group A, while Group B exhibits a stable increase. In this test, we can speak of an advantage for Group B. We will separately check the relative change in the indicator in the next section."
   ]
  },
  {
   "cell_type": "markdown",
   "metadata": {},
   "source": [
    "### Relative change in the cumulative average number of orders per visitor of group B to group A"
   ]
  },
  {
   "cell_type": "code",
   "execution_count": 33,
   "metadata": {},
   "outputs": [
    {
     "data": {
      "image/png": "[encoded data removed]",
      "text/plain": [
       "<Figure size 1200x600 with 1 Axes>"
      ]
     },
     "metadata": {},
     "output_type": "display_data"
    }
   ],
   "source": [
    "avg_orders_A = cumulative_data[cumulative_data['group'] == 'A'][['date', 'avg_orders_per_visitor']]\n",
    "avg_orders_B = cumulative_data[cumulative_data['group'] == 'B'][['date', 'avg_orders_per_visitor']]\n",
    "\n",
    "avg_orders_B.rename(columns={'avg_orders_per_visitor': 'avg_orders_B'}, inplace=True)\n",
    "\n",
    "merged_orders = pd.merge(avg_orders_A, avg_orders_B, on='date', how='outer')\n",
    "\n",
    "merged_orders['relative_change'] = (merged_orders['avg_orders_B'] - merged_orders['avg_orders_per_visitor']) / merged_orders['avg_orders_per_visitor'] * 100\n",
    "\n",
    "plt.figure(figsize=(12, 6))\n",
    "plt.plot(merged_orders['date'], merged_orders['relative_change'], label='Relative change', color='blue')\n",
    "plt.title('Relative change in the cumulative average number of orders per visitor of group B to group A')\n",
    "plt.xlabel('Date')\n",
    "plt.ylabel('Relative change (%)')\n",
    "plt.axhline(0, color='red', linestyle='--')\n",
    "plt.legend()\n",
    "plt.grid()\n",
    "plt.show()"
   ]
  },
  {
   "cell_type": "markdown",
   "metadata": {},
   "source": [
    "**Summary:** The advantage of Group B has been confirmed - on the eighth day of the test, its indicator showed at least a 10% advantage over Group A. This indicates that the strategy chosen for Group B clearly provides a higher average number of orders per visitor compared to Group A."
   ]
  },
  {
   "cell_type": "markdown",
   "metadata": {},
   "source": [
    "### Number of orders by user"
   ]
  },
  {
   "cell_type": "code",
   "execution_count": 36,
   "metadata": {},
   "outputs": [
    {
     "data": {
      "image/png": "[encoded data removed]",
      "text/plain": [
       "<Figure size 1200x600 with 1 Axes>"
      ]
     },
     "metadata": {},
     "output_type": "display_data"
    }
   ],
   "source": [
    "user_orders = orders.groupby(['visitorId', 'group'], as_index=False).agg({'transactionId': 'count'}).sort_values(by='group').rename(columns={'transactionId': 'orders_count'})\n",
    "\n",
    "plt.figure(figsize=(12, 6))\n",
    "for group in user_orders['group'].unique():\n",
    "    group_data = user_orders[user_orders['group'] == group]\n",
    "    plt.scatter(x=group_data['visitorId'], y=group_data['orders_count'], alpha=0.5, label=group)\n",
    "\n",
    "plt.title('Number of orders by user')\n",
    "plt.xlabel('User Id')\n",
    "plt.ylabel('Number of orders')\n",
    "plt.legend()\n",
    "plt.grid()\n",
    "plt.show()"
   ]
  },
  {
   "cell_type": "markdown",
   "metadata": {},
   "source": [
    "**Summary:** The distribution of the number of orders during the study period per user did not show significant differences between the groups - in both groups, the overwhelming majority of clients made one order per month. Some customers made more than one order, but even here they were equally distributed between the groups"
   ]
  },
  {
   "cell_type": "markdown",
   "metadata": {},
   "source": [
    "### Orders revenue"
   ]
  },
  {
   "cell_type": "code",
   "execution_count": 39,
   "metadata": {
    "scrolled": true
   },
   "outputs": [
    {
     "data": {
      "image/png": "[encoded data removed]",
      "text/plain": [
       "<Figure size 1200x600 with 1 Axes>"
      ]
     },
     "metadata": {},
     "output_type": "display_data"
    }
   ],
   "source": [
    "orders = orders.sort_values(by='group')\n",
    "\n",
    "plt.figure(figsize=(12, 6))\n",
    "for group in orders['group'].unique():\n",
    "    group_data = orders[orders['group'] == group]\n",
    "    plt.scatter(group_data['date'], group_data['revenue'], alpha=0.5, label=group)\n",
    "\n",
    "plt.title('Orders revenue by date')\n",
    "plt.xlabel('Date')\n",
    "plt.ylabel('Orders revenue')\n",
    "plt.xticks(rotation=45)\n",
    "plt.legend(title='Группа')\n",
    "plt.grid()\n",
    "plt.show()"
   ]
  },
  {
   "cell_type": "markdown",
   "metadata": {},
   "source": [
    "**The constructed graph is heavily 'compressed' due to the presence of a large outlier in revenue per order. We will set an upper limit on the Y-axis to make the data easier to analyze**"
   ]
  },
  {
   "cell_type": "code",
   "execution_count": 41,
   "metadata": {},
   "outputs": [
    {
     "data": {
      "image/png": "[encoded data removed]",
      "text/plain": [
       "<Figure size 1200x600 with 1 Axes>"
      ]
     },
     "metadata": {},
     "output_type": "display_data"
    }
   ],
   "source": [
    "plt.figure(figsize=(12, 6))\n",
    "for group in orders['group'].unique():\n",
    "    group_data = orders[orders['group'] == group]\n",
    "    plt.scatter(group_data['date'], group_data['revenue'], alpha=0.5, label=group)\n",
    "\n",
    "plt.ylim(0, 230000)    \n",
    "plt.title('Orders revenue by date')\n",
    "plt.xlabel('Date')\n",
    "plt.ylabel('Orders revenue')\n",
    "plt.xticks(rotation=45)\n",
    "plt.legend(title='Группа')\n",
    "plt.grid()\n",
    "plt.show()"
   ]
  },
  {
   "cell_type": "markdown",
   "metadata": {},
   "source": [
    "**Summary:** \n",
    "\n",
    "Thus, having established a boundary that cuts off the outlier, we obtained a more convenient and detailed graph of revenue distribution by orders over the days. The graph shows that there is no clear superiority of one group over the other - revenue is distributed evenly. We can speak of two one-time outliers where revenue per order is significantly above average. All these outliers belong to Group B, but due to their uniqueness, they do not appear as a systematic increase in value - it is more of a coincidence than a correlation. \n",
    "\n",
    "For further analysis, we will highlight a boundary from which we can talk about anomalous values in order costs. For this, we will obtain the 95th and 99th percentiles."
   ]
  },
  {
   "cell_type": "markdown",
   "metadata": {},
   "source": [
    "### 95th and 99th percentiles of orders revenue"
   ]
  },
  {
   "cell_type": "code",
   "execution_count": 44,
   "metadata": {},
   "outputs": [
    {
     "name": "stdout",
     "output_type": "stream",
     "text": [
      "95th percentile: 28000.000000000004\n",
      "99th percentile: 58233.19999999999\n",
      "Boundary for abnormal orders: 28000.000000000004\n"
     ]
    }
   ],
   "source": [
    "percentile_95 = orders['revenue'].quantile(0.95)\n",
    "percentile_99 = orders['revenue'].quantile(0.99)\n",
    "\n",
    "print('95th percentile:', percentile_95)\n",
    "print('99th percentile:', percentile_99)\n",
    "\n",
    "anomaly_threshold = percentile_95  \n",
    "print('Boundary for abnormal orders:', anomaly_threshold)"
   ]
  },
  {
   "cell_type": "markdown",
   "metadata": {},
   "source": [
    "**Summary:** \n",
    "The boundary for defining anomalies has been established - starting from 28000 currency units (the 95th percentile), an order is considered anomalous and should not be included in the cleaned data. Onward, we will calculate the statistical significance for the raw and cleaned data sets."
   ]
  },
  {
   "cell_type": "markdown",
   "metadata": {},
   "source": [
    "### Statistical Significance of differences in average number of orders per visitor between groups (raw data)\n",
    "\n",
    "**Null Hypothesis (H0):**\n",
    "The average number of orders per visitor in the variant group does not exceed the average number of orders per visitor in the control group. (The average number of orders per visitor for Group A is equal to the average number of orders per visitor for Group B).\n",
    "\n",
    "**Alternative Hypothesis (H1):**\n",
    "The average number of orders per visitor in the variant group exceeds the average number of orders per visitor in the control group. (The average number of orders per visitor for Group B is greater than the average number of orders per visitor for Group A)."
   ]
  },
  {
   "cell_type": "code",
   "execution_count": 47,
   "metadata": {},
   "outputs": [
    {
     "name": "stdout",
     "output_type": "stream",
     "text": [
      "t-stat: 0.5224474609480537\n",
      "p-value: 0.6014652744511322\n",
      "No statistically significant differences\n"
     ]
    }
   ],
   "source": [
    "order_counts_A = orders[orders['group'] == 'A']['transactionId'].count()\n",
    "order_counts_B = orders[orders['group'] == 'B']['transactionId'].count()\n",
    "\n",
    "visitors_A = visitors[visitors['group'] == 'A']['visitors'].sum()\n",
    "visitors_B = visitors[visitors['group'] == 'B']['visitors'].sum()\n",
    "\n",
    "orders_per_visitor_A = orders[orders['group'] == 'A'].groupby('visitorId')['transactionId'].count()\n",
    "orders_per_visitor_B = orders[orders['group'] == 'B'].groupby('visitorId')['transactionId'].count()\n",
    "\n",
    "t_stat, p_value = stats.ttest_ind(orders_per_visitor_A, orders_per_visitor_B)\n",
    "\n",
    "print('t-stat:', t_stat)\n",
    "print('p-value:', p_value)\n",
    "\n",
    "if p_value < 0.05:\n",
    "    print(\"Statistically significant differences exist\")\n",
    "else:\n",
    "    print(\"No statistically significant differences\")"
   ]
  },
  {
   "cell_type": "markdown",
   "metadata": {},
   "source": [
    "**Summary:** When analyzing the average number of orders per visitor between Groups A and B, it was found that the t-statistic is 0.52, and the p-value is 0.60. This indicates a lack of statistically significant differences between the groups.\n",
    "\n",
    "The t-value of 0.52 shows that the difference in the average number of orders per visitor between the two groups is small. Since the t-value is close to zero, it suggests that the differences between the groups may be insignificant. The p-value of 0.60, which exceeds the threshold of 0.05, confirms this interpretation: it indicates a high probability that the observed difference is random. Thus, taken together, these values provide grounds to state that there is currently no compelling evidence of statistically significant differences in the average number of orders per visitor between Groups A and B."
   ]
  },
  {
   "cell_type": "markdown",
   "metadata": {},
   "source": [
    "### Statistical Significance of differences in average order revenue between groups (raw data)\n",
    "\n",
    "**Null Hypothesis (H0):**\n",
    "The average order revenue in the variant group does not exceed the average order revenue in the control group. (The average order revenue for Group A is equal to the average order revenue for Group B).\n",
    "\n",
    "**Alternative Hypothesis (H1):**\n",
    "The average order revenue in the variant group exceeds the average order revenue in the control group. (The average order revenue for Group B is greater than the average order revenue for Group A)."
   ]
  },
  {
   "cell_type": "code",
   "execution_count": 50,
   "metadata": {},
   "outputs": [
    {
     "name": "stdout",
     "output_type": "stream",
     "text": [
      "t-stat (revenue): -0.8353397071852605\n",
      "p-value (revenue): 0.403693443754076\n",
      "No statistically significant differences\n"
     ]
    }
   ],
   "source": [
    "average_revenue_A = orders[orders['group'] == 'A']['revenue'].mean()\n",
    "average_revenue_B = orders[orders['group'] == 'B']['revenue'].mean()\n",
    "\n",
    "t_stat_revenue, p_value_revenue = stats.ttest_ind(orders[orders['group'] == 'A']['revenue'], \n",
    "                                                   orders[orders['group'] == 'B']['revenue'])\n",
    "print('t-stat (revenue):', t_stat_revenue)\n",
    "print('p-value (revenue):', p_value_revenue)\n",
    "\n",
    "if p_value_revenue < 0.05:\n",
    "    print(\"Statistically significant differences exist\")\n",
    "else:\n",
    "    print(\"No statistically significant differences\")"
   ]
  },
  {
   "cell_type": "markdown",
   "metadata": {},
   "source": [
    "**Summary:** In examining the differences in the average order revenue between groups A and B, the following results were obtained: the t-statistic is -0.83, and the p-value is 0.40. This also indicates a lack of statistical significance in the differences. \n",
    "\n",
    "The t-value of -0.83 suggests that the average order revenues between the groups are close and do not demonstrate a significant difference. The negative t-value indicates that the average order revenue for group B may be lower than that of group A; however, the difference is small. The p-value of 0.40, which is significantly higher than 0.05, indicates a high probability that these differences may be random and are not the result of any systematic factor. Thus, in this situation, the t-value and p-value together confirm that there are no statistically significant differences in the average order revenue between the tested groups."
   ]
  },
  {
   "cell_type": "markdown",
   "metadata": {},
   "source": [
    "### Statistical Significance of differences in average number of orders per visitor between groups (cleaned data)\n",
    "\n",
    "**Null Hypothesis (H0):**\n",
    "The average number of orders per visitor in the variant group does not exceed the average number of orders per visitor in the control group. (The average number of orders per visitor for Group A is equal to the average number of orders per visitor for Group B).\n",
    "\n",
    "**Alternative Hypothesis (H1):**\n",
    "The average number of orders per visitor in the variant group exceeds the average number of orders per visitor in the control group. (The average number of orders per visitor for Group B is greater than the average number of orders per visitor for Group A)."
   ]
  },
  {
   "cell_type": "code",
   "execution_count": 53,
   "metadata": {},
   "outputs": [
    {
     "name": "stdout",
     "output_type": "stream",
     "text": [
      "t-stat (cleaned data): 0.7113757534616725\n",
      "p-value (cleaned data): 0.47701186650777283\n",
      "No statistically significant differences\n"
     ]
    }
   ],
   "source": [
    "cleaned_orders = orders[orders['revenue'] <= anomaly_threshold]\n",
    "cleaned_orders_A = cleaned_orders[cleaned_orders['group'] == 'A']\n",
    "cleaned_orders_B = cleaned_orders[cleaned_orders['group'] == 'B']\n",
    "\n",
    "visitors_A = visitors[visitors['group'] == 'A']['visitors'].sum()\n",
    "visitors_B = visitors[visitors['group'] == 'B']['visitors'].sum()\n",
    "\n",
    "orders_per_visitor_A_cleaned = cleaned_orders_A.groupby('visitorId')['transactionId'].count()\n",
    "orders_per_visitor_B_cleaned = cleaned_orders_B.groupby('visitorId')['transactionId'].count()\n",
    "\n",
    "t_stat_cleaned, p_value_cleaned = stats.ttest_ind(orders_per_visitor_A_cleaned, orders_per_visitor_B_cleaned)\n",
    "\n",
    "print('t-stat (cleaned data):', t_stat_cleaned)\n",
    "print('p-value (cleaned data):', p_value_cleaned)\n",
    "\n",
    "if p_value_cleaned < 0.05:\n",
    "    print(\"Statistically significant differences exist\")\n",
    "else:\n",
    "    print(\"No statistically significant differences\")"
   ]
  },
  {
   "cell_type": "markdown",
   "metadata": {},
   "source": [
    "**Summary:** When analyzing the average number of orders per visitor between groups A and B, after removing anomalies, it was found that the t-statistic is 0.71, and the p-value is 0.48. This indicates an absence of statistically significant differences between the groups. \n",
    "\n",
    "The t-value of 0.71 shows that the difference in the average number of orders per visitor between the two groups is small. Since the t-value is close to zero, this suggests that the differences between the groups may be insignificant. The p-value of 0.48, exceeding the threshold of 0.05, confirms this interpretation and indicates a high probability that the observed difference is random. Thus, these values provide grounds to state that there is currently no compelling evidence of statistically significant differences in the average number of orders per visitor between groups A and B."
   ]
  },
  {
   "cell_type": "markdown",
   "metadata": {},
   "source": [
    "### Statistical Significance of differences in average order revenue between groups (cleaned data)\n",
    "\n",
    "**Null Hypothesis (H0):** The average order revenue in the variant group does not exceed the average order revenue in the control group. (The average order revenue for Group A is equal to the average order revenue for Group B).\n",
    "\n",
    "**Alternative Hypothesis (H1):** The average order revenue in the variant group exceeds the average order revenue in the control group. (The average order revenue for Group B is greater than the average order revenue for Group A)."
   ]
  },
  {
   "cell_type": "code",
   "execution_count": 56,
   "metadata": {},
   "outputs": [
    {
     "name": "stdout",
     "output_type": "stream",
     "text": [
      "t-stat (cleaned data revenue): 0.243827419058848\n",
      "p-value (cleaned data revenue): 0.8074085481926553\n",
      "No statistically significant differences\n"
     ]
    }
   ],
   "source": [
    "average_revenue_A_cleaned = cleaned_orders_A['revenue'].mean()\n",
    "average_revenue_B_cleaned = cleaned_orders_B['revenue'].mean()\n",
    "\n",
    "t_stat_revenue_cleaned, p_value_revenue_cleaned = stats.ttest_ind(cleaned_orders_A['revenue'], \n",
    "                                                                  cleaned_orders_B['revenue'])\n",
    "print('t-stat (cleaned data revenue):', t_stat_revenue_cleaned)\n",
    "print('p-value (cleaned data revenue):', p_value_revenue_cleaned)\n",
    "\n",
    "if p_value_cleaned < 0.05:\n",
    "    print(\"Statistically significant differences exist\")\n",
    "else:\n",
    "    print(\"No statistically significant differences\")"
   ]
  },
  {
   "cell_type": "markdown",
   "metadata": {},
   "source": [
    "**Summary:** During the study of differences in average order revenue between groups A and B, after removing anomalies, the following results were obtained: the t-statistic is 0.24, and the p-value is 0.81. This also indicates a lack of statistical significance in the differences. \n",
    "\n",
    "The t-value of 0.24 suggests that the average order revenues between the groups are close and do not demonstrate a significant difference. Since the t-value is close to zero, this indicates that the differences between the groups are insignificant. The p-value of 0.81, significantly exceeding 0.05, indicates a high probability that these differences are random and not the result of any systematic factor. Thus, the t-value and p-value together confirm that there are no statistically significant differences in the average order revenue between the tested groups."
   ]
  },
  {
   "cell_type": "markdown",
   "metadata": {},
   "source": [
    "### Decision making"
   ]
  },
  {
   "cell_type": "code",
   "execution_count": 59,
   "metadata": {},
   "outputs": [
    {
     "name": "stdout",
     "output_type": "stream",
     "text": [
      "Based on the raw data, statistically significant differences between groups cannot be recorded.\n",
      "Based on the cleaned data, statistically significant differences between groups cannot be recorded.\n"
     ]
    }
   ],
   "source": [
    "if p_value < 0.05:\n",
    "    print(\"Based on the raw data, statistically significant differences between groups can be recorded.\")\n",
    "else:\n",
    "    print(\"Based on the raw data, statistically significant differences between groups cannot be recorded.\")\n",
    "\n",
    "if p_value_cleaned < 0.05:\n",
    "    print(\"Based on the cleaned data, statistically significant differences between groups can be recorded.\")\n",
    "else:\n",
    "    print(\"Based on the cleaned data, statistically significant differences between groups cannot be recorded.\")"
   ]
  },
  {
   "cell_type": "markdown",
   "metadata": {},
   "source": [
    "**Summary:** Based on the conducted A/B testing and the analysis of the collected data, the following conclusions can be drawn:\n",
    "\n",
    "1. Comparative Results: Group B demonstrates a consistent advantage over Group A in several metrics, including cumulative revenue and the average number of orders per visitor. By the 8th day of the test, Group B confidently maintains an advantage of at least 10% compared to Group A.\n",
    "\n",
    "2. Outliers and Anomalies: The identified outliers, represented by one-time high revenue values for Group B, do not indicate a stable growth trend but rather random circumstances, highlighting the need for further analysis.\n",
    "\n",
    "3. Absence of Fundamental Differences: There is no clear superiority of one group in the distribution of orders per user, Groups A and B exhibit similar patterns of behavior among customers, where most users make only one order per month. Similarly, no differences are observed for the revenue per order by dates.\n",
    "\n",
    "4. Statistical Significance: The results obtained indicate that no statistically significant differences were found between the groups in the cleaned data, both in the average number of orders per visitor (t-statistic 0.71, p-value 0.48) and in the average order value (t-statistic 0.24, p-value 0.81).\n",
    "\n",
    "Given the above, it is recommended to continue testing. This will allow:\n",
    "\n",
    "- To form more substantiated conclusions about the long-term effectiveness and sustainability of the strategy applied in Group B.\n",
    "- To eliminate the influence of outliers and anomalies on the data, clarifying the results and confirming that the obtained results remain stable and proven.\n",
    "\n",
    "Thus, it is more prudent at this stage to continue testing to ensure the validity of the obtained data and to assess the impact of changes in a longer-term perspective."
   ]
  },
  {
   "cell_type": "markdown",
   "metadata": {},
   "source": [
    "### Final conclusion\n",
    "\n",
    "As a result of the conducted A/B testing and analysis of the collected data, significant results were obtained, allowing for several conclusions regarding user interaction and the effectiveness of the applied strategies.\n",
    "\n",
    "1. **Comparative results:** Group B demonstrated a stable advantage in cumulative revenue and the average number of orders per visitor compared to Group A. By the 8th day of the test, Group B maintained an advantage of at least 10%, indicating a more successful strategy for attracting and retaining customers.\n",
    "\n",
    "2. **Outliers and anomalies:** It was found that one-time high revenue values for Group B do not indicate sustainable growth but are rather random anomalies that should be considered when interpreting the results.\n",
    "\n",
    "3. **Absence of fundamental differences:** The distribution of the number of orders per user showed that both groups predominantly have one order per month. No differences in user behavior between the control and experimental groups were observed.\n",
    "\n",
    "4. **Statistical Significance:**  Statistical methods confirmed the absence of significant differences between the groups in both the average number of orders per visitor and the average order value. This is supported by t-statistics and p-values, indicating the need for additional tests for reliable assessment.\n",
    "\n",
    "5. **Recommendations:**\n",
    "\n",
    "   - Based on the above conclusions, it is recommended to continue testing for a deeper analysis. This will help to eliminate the influence of outliers and anomalies and provide an opportunity to confirm the stability and longevity of the observed effects.\n",
    "   - It is important to gather additional data for a more accurate assessment of the impact of changes, which will further help in making informed decisions for optimizing business strategies."
   ]
  }
 ],
 "metadata": {
  "ExecuteTimeLog": [
   {
    "duration": 946,
    "start_time": "2024-08-26T16:13:16.888Z"
   },
   {
    "duration": 875,
    "start_time": "2024-08-26T16:20:01.498Z"
   },
   {
    "duration": 242,
    "start_time": "2024-08-26T16:20:02.375Z"
   },
   {
    "duration": 37,
    "start_time": "2024-08-26T16:20:02.618Z"
   },
   {
    "duration": 6,
    "start_time": "2024-08-26T16:50:40.612Z"
   },
   {
    "duration": 927,
    "start_time": "2024-08-26T16:53:07.830Z"
   },
   {
    "duration": 13,
    "start_time": "2024-08-26T16:53:35.893Z"
   },
   {
    "duration": 13,
    "start_time": "2024-08-26T16:54:18.132Z"
   },
   {
    "duration": 850,
    "start_time": "2024-08-26T16:56:06.872Z"
   },
   {
    "duration": 78,
    "start_time": "2024-08-26T16:56:07.723Z"
   },
   {
    "duration": 34,
    "start_time": "2024-08-26T16:56:07.803Z"
   },
   {
    "duration": 5,
    "start_time": "2024-08-26T16:56:07.838Z"
   },
   {
    "duration": 56,
    "start_time": "2024-08-26T16:56:07.844Z"
   },
   {
    "duration": 9,
    "start_time": "2024-08-26T16:56:07.901Z"
   },
   {
    "duration": 6,
    "start_time": "2024-08-26T17:00:15.752Z"
   },
   {
    "duration": 101,
    "start_time": "2024-08-26T17:01:26.093Z"
   },
   {
    "duration": 8,
    "start_time": "2024-08-26T17:01:32.992Z"
   },
   {
    "duration": 14,
    "start_time": "2024-08-26T17:01:40.231Z"
   },
   {
    "duration": 4,
    "start_time": "2024-08-26T17:02:12.839Z"
   },
   {
    "duration": 4,
    "start_time": "2024-08-26T17:03:15.631Z"
   },
   {
    "duration": 150,
    "start_time": "2024-08-26T17:04:21.282Z"
   },
   {
    "duration": 4,
    "start_time": "2024-08-26T17:05:15.419Z"
   },
   {
    "duration": 828,
    "start_time": "2024-08-26T17:06:01.812Z"
   },
   {
    "duration": 81,
    "start_time": "2024-08-26T17:06:02.642Z"
   },
   {
    "duration": 38,
    "start_time": "2024-08-26T17:06:02.724Z"
   },
   {
    "duration": 6,
    "start_time": "2024-08-26T17:06:02.764Z"
   },
   {
    "duration": 36,
    "start_time": "2024-08-26T17:06:02.771Z"
   },
   {
    "duration": 3,
    "start_time": "2024-08-26T17:06:02.810Z"
   },
   {
    "duration": 29,
    "start_time": "2024-08-26T17:06:02.814Z"
   },
   {
    "duration": 4,
    "start_time": "2024-08-26T17:06:02.844Z"
   },
   {
    "duration": 773,
    "start_time": "2024-08-26T17:07:40.751Z"
   },
   {
    "duration": 79,
    "start_time": "2024-08-26T17:07:41.526Z"
   },
   {
    "duration": 39,
    "start_time": "2024-08-26T17:07:41.607Z"
   },
   {
    "duration": 6,
    "start_time": "2024-08-26T17:07:41.648Z"
   },
   {
    "duration": 17,
    "start_time": "2024-08-26T17:07:41.655Z"
   },
   {
    "duration": 19,
    "start_time": "2024-08-26T17:07:41.674Z"
   },
   {
    "duration": 37,
    "start_time": "2024-08-26T17:07:41.695Z"
   },
   {
    "duration": 19,
    "start_time": "2024-08-26T17:07:41.733Z"
   },
   {
    "duration": 898,
    "start_time": "2024-08-26T17:08:37.761Z"
   },
   {
    "duration": 78,
    "start_time": "2024-08-26T17:08:38.661Z"
   },
   {
    "duration": 38,
    "start_time": "2024-08-26T17:08:38.740Z"
   },
   {
    "duration": 5,
    "start_time": "2024-08-26T17:08:38.779Z"
   },
   {
    "duration": 43,
    "start_time": "2024-08-26T17:08:38.786Z"
   },
   {
    "duration": 4,
    "start_time": "2024-08-26T17:08:38.830Z"
   },
   {
    "duration": 19,
    "start_time": "2024-08-26T17:08:38.835Z"
   },
   {
    "duration": 16,
    "start_time": "2024-08-26T17:08:38.855Z"
   },
   {
    "duration": 59,
    "start_time": "2024-08-26T17:11:01.672Z"
   },
   {
    "duration": 4,
    "start_time": "2024-08-26T17:11:16.002Z"
   },
   {
    "duration": 10,
    "start_time": "2024-08-26T17:21:02.422Z"
   },
   {
    "duration": 10,
    "start_time": "2024-08-26T17:21:05.714Z"
   },
   {
    "duration": 1001,
    "start_time": "2024-08-26T17:21:54.521Z"
   },
   {
    "duration": 887,
    "start_time": "2024-08-26T17:22:16.975Z"
   },
   {
    "duration": 82,
    "start_time": "2024-08-26T17:22:17.864Z"
   },
   {
    "duration": 40,
    "start_time": "2024-08-26T17:22:17.947Z"
   },
   {
    "duration": 9,
    "start_time": "2024-08-26T17:22:17.990Z"
   },
   {
    "duration": 25,
    "start_time": "2024-08-26T17:22:18.002Z"
   },
   {
    "duration": 4,
    "start_time": "2024-08-26T17:22:18.028Z"
   },
   {
    "duration": 14,
    "start_time": "2024-08-26T17:22:18.034Z"
   },
   {
    "duration": 6,
    "start_time": "2024-08-26T17:22:18.049Z"
   },
   {
    "duration": 33,
    "start_time": "2024-08-26T17:22:18.057Z"
   },
   {
    "duration": 14,
    "start_time": "2024-08-26T17:22:18.094Z"
   },
   {
    "duration": 8,
    "start_time": "2024-08-26T17:22:25.056Z"
   },
   {
    "duration": 843,
    "start_time": "2024-08-26T17:23:19.415Z"
   },
   {
    "duration": 79,
    "start_time": "2024-08-26T17:23:20.261Z"
   },
   {
    "duration": 35,
    "start_time": "2024-08-26T17:23:20.342Z"
   },
   {
    "duration": 5,
    "start_time": "2024-08-26T17:23:20.379Z"
   },
   {
    "duration": 23,
    "start_time": "2024-08-26T17:23:20.386Z"
   },
   {
    "duration": 7,
    "start_time": "2024-08-26T17:23:20.410Z"
   },
   {
    "duration": 26,
    "start_time": "2024-08-26T17:23:20.418Z"
   },
   {
    "duration": 12,
    "start_time": "2024-08-26T17:23:20.446Z"
   },
   {
    "duration": 19,
    "start_time": "2024-08-26T17:23:20.460Z"
   },
   {
    "duration": 12,
    "start_time": "2024-08-26T17:23:20.481Z"
   },
   {
    "duration": 933,
    "start_time": "2024-08-27T14:49:01.188Z"
   },
   {
    "duration": 284,
    "start_time": "2024-08-27T14:49:02.123Z"
   },
   {
    "duration": 18,
    "start_time": "2024-08-27T14:49:02.408Z"
   },
   {
    "duration": 51,
    "start_time": "2024-08-27T14:49:02.429Z"
   },
   {
    "duration": 6,
    "start_time": "2024-08-27T14:49:02.482Z"
   },
   {
    "duration": 15,
    "start_time": "2024-08-27T14:49:02.490Z"
   },
   {
    "duration": 21,
    "start_time": "2024-08-27T14:49:02.507Z"
   },
   {
    "duration": 20,
    "start_time": "2024-08-27T14:49:02.530Z"
   },
   {
    "duration": 36,
    "start_time": "2024-08-27T14:49:02.552Z"
   },
   {
    "duration": 266,
    "start_time": "2024-08-27T14:49:02.592Z"
   },
   {
    "duration": 0,
    "start_time": "2024-08-27T14:49:02.869Z"
   },
   {
    "duration": 988,
    "start_time": "2024-08-27T14:58:17.100Z"
   },
   {
    "duration": 117,
    "start_time": "2024-08-27T14:58:18.090Z"
   },
   {
    "duration": 14,
    "start_time": "2024-08-27T14:58:18.209Z"
   },
   {
    "duration": 65,
    "start_time": "2024-08-27T14:58:18.226Z"
   },
   {
    "duration": 12,
    "start_time": "2024-08-27T14:58:18.293Z"
   },
   {
    "duration": 21,
    "start_time": "2024-08-27T14:58:18.307Z"
   },
   {
    "duration": 5,
    "start_time": "2024-08-27T14:58:18.330Z"
   },
   {
    "duration": 29,
    "start_time": "2024-08-27T14:58:18.337Z"
   },
   {
    "duration": 25,
    "start_time": "2024-08-27T14:58:18.369Z"
   },
   {
    "duration": 115,
    "start_time": "2024-08-27T14:58:18.396Z"
   },
   {
    "duration": 0,
    "start_time": "2024-08-27T14:58:18.513Z"
   },
   {
    "duration": 0,
    "start_time": "2024-08-27T14:58:18.514Z"
   },
   {
    "duration": 1417,
    "start_time": "2024-08-27T14:58:47.135Z"
   },
   {
    "duration": 222,
    "start_time": "2024-08-27T14:58:48.556Z"
   },
   {
    "duration": 21,
    "start_time": "2024-08-27T14:58:48.780Z"
   },
   {
    "duration": 32,
    "start_time": "2024-08-27T14:58:48.804Z"
   },
   {
    "duration": 12,
    "start_time": "2024-08-27T14:58:48.838Z"
   },
   {
    "duration": 42,
    "start_time": "2024-08-27T14:58:48.851Z"
   },
   {
    "duration": 18,
    "start_time": "2024-08-27T14:58:48.895Z"
   },
   {
    "duration": 28,
    "start_time": "2024-08-27T14:58:48.915Z"
   },
   {
    "duration": 27,
    "start_time": "2024-08-27T14:58:48.945Z"
   },
   {
    "duration": 369,
    "start_time": "2024-08-27T14:58:48.974Z"
   },
   {
    "duration": 287,
    "start_time": "2024-08-27T14:58:49.344Z"
   },
   {
    "duration": 489,
    "start_time": "2024-08-27T14:58:49.633Z"
   },
   {
    "duration": 1223,
    "start_time": "2024-08-28T15:56:54.176Z"
   },
   {
    "duration": 338,
    "start_time": "2024-08-28T15:56:55.401Z"
   },
   {
    "duration": 14,
    "start_time": "2024-08-28T15:56:55.741Z"
   },
   {
    "duration": 21,
    "start_time": "2024-08-28T15:56:55.757Z"
   },
   {
    "duration": 4,
    "start_time": "2024-08-28T15:56:55.779Z"
   },
   {
    "duration": 25,
    "start_time": "2024-08-28T15:56:55.784Z"
   },
   {
    "duration": 7,
    "start_time": "2024-08-28T15:56:55.810Z"
   },
   {
    "duration": 12,
    "start_time": "2024-08-28T15:56:55.818Z"
   },
   {
    "duration": 14,
    "start_time": "2024-08-28T15:56:55.831Z"
   },
   {
    "duration": 352,
    "start_time": "2024-08-28T15:56:55.848Z"
   },
   {
    "duration": 250,
    "start_time": "2024-08-28T15:56:56.202Z"
   },
   {
    "duration": 444,
    "start_time": "2024-08-28T15:56:56.454Z"
   },
   {
    "duration": 306,
    "start_time": "2024-08-28T15:56:56.900Z"
   },
   {
    "duration": 112,
    "start_time": "2024-08-28T15:56:57.208Z"
   },
   {
    "duration": 0,
    "start_time": "2024-08-28T15:56:57.321Z"
   },
   {
    "duration": 0,
    "start_time": "2024-08-28T15:56:57.323Z"
   },
   {
    "duration": 8,
    "start_time": "2024-08-28T15:58:05.234Z"
   },
   {
    "duration": 11,
    "start_time": "2024-08-28T15:58:34.026Z"
   },
   {
    "duration": 25,
    "start_time": "2024-08-28T15:59:11.985Z"
   },
   {
    "duration": 23,
    "start_time": "2024-08-28T15:59:24.275Z"
   },
   {
    "duration": 10,
    "start_time": "2024-08-28T16:00:03.896Z"
   },
   {
    "duration": 1010,
    "start_time": "2024-08-28T16:00:24.237Z"
   },
   {
    "duration": 177,
    "start_time": "2024-08-28T16:00:25.249Z"
   },
   {
    "duration": 14,
    "start_time": "2024-08-28T16:00:25.427Z"
   },
   {
    "duration": 27,
    "start_time": "2024-08-28T16:00:25.444Z"
   },
   {
    "duration": 3,
    "start_time": "2024-08-28T16:00:25.473Z"
   },
   {
    "duration": 25,
    "start_time": "2024-08-28T16:00:25.478Z"
   },
   {
    "duration": 4,
    "start_time": "2024-08-28T16:00:25.505Z"
   },
   {
    "duration": 10,
    "start_time": "2024-08-28T16:00:25.511Z"
   },
   {
    "duration": 14,
    "start_time": "2024-08-28T16:00:25.523Z"
   },
   {
    "duration": 334,
    "start_time": "2024-08-28T16:00:25.539Z"
   },
   {
    "duration": 273,
    "start_time": "2024-08-28T16:00:25.875Z"
   },
   {
    "duration": 331,
    "start_time": "2024-08-28T16:00:26.150Z"
   },
   {
    "duration": 331,
    "start_time": "2024-08-28T16:00:26.483Z"
   },
   {
    "duration": 97,
    "start_time": "2024-08-28T16:00:26.816Z"
   },
   {
    "duration": 0,
    "start_time": "2024-08-28T16:00:26.915Z"
   },
   {
    "duration": 0,
    "start_time": "2024-08-28T16:00:26.916Z"
   },
   {
    "duration": 0,
    "start_time": "2024-08-28T16:00:26.917Z"
   },
   {
    "duration": 2,
    "start_time": "2024-08-28T16:00:32.046Z"
   },
   {
    "duration": 11,
    "start_time": "2024-08-28T16:00:32.788Z"
   },
   {
    "duration": 9,
    "start_time": "2024-08-28T16:00:36.946Z"
   },
   {
    "duration": 255,
    "start_time": "2024-08-28T16:04:47.715Z"
   },
   {
    "duration": 1131,
    "start_time": "2024-08-28T16:09:08.001Z"
   },
   {
    "duration": 182,
    "start_time": "2024-08-28T16:09:09.134Z"
   },
   {
    "duration": 15,
    "start_time": "2024-08-28T16:09:09.318Z"
   },
   {
    "duration": 16,
    "start_time": "2024-08-28T16:09:09.336Z"
   },
   {
    "duration": 4,
    "start_time": "2024-08-28T16:09:09.354Z"
   },
   {
    "duration": 41,
    "start_time": "2024-08-28T16:09:09.360Z"
   },
   {
    "duration": 17,
    "start_time": "2024-08-28T16:09:09.403Z"
   },
   {
    "duration": 18,
    "start_time": "2024-08-28T16:09:09.422Z"
   },
   {
    "duration": 10,
    "start_time": "2024-08-28T16:09:09.442Z"
   },
   {
    "duration": 313,
    "start_time": "2024-08-28T16:09:09.455Z"
   },
   {
    "duration": 248,
    "start_time": "2024-08-28T16:09:09.770Z"
   },
   {
    "duration": 347,
    "start_time": "2024-08-28T16:09:10.020Z"
   },
   {
    "duration": 263,
    "start_time": "2024-08-28T16:09:10.368Z"
   },
   {
    "duration": 336,
    "start_time": "2024-08-28T16:09:10.632Z"
   },
   {
    "duration": 259,
    "start_time": "2024-08-28T16:09:10.970Z"
   },
   {
    "duration": 274,
    "start_time": "2024-08-28T16:12:17.640Z"
   },
   {
    "duration": 264,
    "start_time": "2024-08-28T16:13:55.642Z"
   },
   {
    "duration": 210,
    "start_time": "2024-08-28T16:14:12.569Z"
   },
   {
    "duration": 304,
    "start_time": "2024-08-28T16:14:27.859Z"
   },
   {
    "duration": 10,
    "start_time": "2024-08-28T16:15:26.689Z"
   },
   {
    "duration": 13,
    "start_time": "2024-08-28T16:15:34.310Z"
   },
   {
    "duration": 15,
    "start_time": "2024-08-28T16:17:05.460Z"
   },
   {
    "duration": 10,
    "start_time": "2024-08-28T16:17:21.388Z"
   },
   {
    "duration": 10,
    "start_time": "2024-08-28T16:18:06.119Z"
   },
   {
    "duration": 202,
    "start_time": "2024-08-28T16:18:20.557Z"
   },
   {
    "duration": 217,
    "start_time": "2024-08-28T16:18:34.098Z"
   },
   {
    "duration": 209,
    "start_time": "2024-08-28T16:18:55.347Z"
   },
   {
    "duration": 10,
    "start_time": "2024-08-28T16:20:43.959Z"
   },
   {
    "duration": 10,
    "start_time": "2024-08-28T16:20:50.969Z"
   },
   {
    "duration": 202,
    "start_time": "2024-08-28T16:20:58.520Z"
   },
   {
    "duration": 208,
    "start_time": "2024-08-28T16:21:36.811Z"
   },
   {
    "duration": 1088,
    "start_time": "2024-08-28T16:22:24.362Z"
   },
   {
    "duration": 173,
    "start_time": "2024-08-28T16:22:25.452Z"
   },
   {
    "duration": 14,
    "start_time": "2024-08-28T16:22:25.626Z"
   },
   {
    "duration": 17,
    "start_time": "2024-08-28T16:22:25.642Z"
   },
   {
    "duration": 4,
    "start_time": "2024-08-28T16:22:25.660Z"
   },
   {
    "duration": 34,
    "start_time": "2024-08-28T16:22:25.665Z"
   },
   {
    "duration": 7,
    "start_time": "2024-08-28T16:22:25.700Z"
   },
   {
    "duration": 34,
    "start_time": "2024-08-28T16:22:25.708Z"
   },
   {
    "duration": 77,
    "start_time": "2024-08-28T16:22:25.744Z"
   },
   {
    "duration": 305,
    "start_time": "2024-08-28T16:22:25.823Z"
   },
   {
    "duration": 240,
    "start_time": "2024-08-28T16:22:26.130Z"
   },
   {
    "duration": 366,
    "start_time": "2024-08-28T16:22:26.371Z"
   },
   {
    "duration": 256,
    "start_time": "2024-08-28T16:22:26.739Z"
   },
   {
    "duration": 341,
    "start_time": "2024-08-28T16:22:26.998Z"
   },
   {
    "duration": 214,
    "start_time": "2024-08-28T16:22:27.340Z"
   },
   {
    "duration": 299,
    "start_time": "2024-08-28T16:24:52.400Z"
   },
   {
    "duration": 274,
    "start_time": "2024-08-28T16:25:27.208Z"
   },
   {
    "duration": 7,
    "start_time": "2024-08-28T16:25:41.766Z"
   },
   {
    "duration": 10,
    "start_time": "2024-08-28T16:25:48.989Z"
   },
   {
    "duration": 15,
    "start_time": "2024-08-28T16:26:00.435Z"
   },
   {
    "duration": 1074,
    "start_time": "2024-08-28T16:27:52.589Z"
   },
   {
    "duration": 190,
    "start_time": "2024-08-28T16:27:53.665Z"
   },
   {
    "duration": 16,
    "start_time": "2024-08-28T16:27:53.856Z"
   },
   {
    "duration": 18,
    "start_time": "2024-08-28T16:27:53.875Z"
   },
   {
    "duration": 4,
    "start_time": "2024-08-28T16:27:53.895Z"
   },
   {
    "duration": 16,
    "start_time": "2024-08-28T16:27:53.901Z"
   },
   {
    "duration": 7,
    "start_time": "2024-08-28T16:27:53.919Z"
   },
   {
    "duration": 11,
    "start_time": "2024-08-28T16:27:53.927Z"
   },
   {
    "duration": 12,
    "start_time": "2024-08-28T16:27:53.939Z"
   },
   {
    "duration": 334,
    "start_time": "2024-08-28T16:27:53.952Z"
   },
   {
    "duration": 253,
    "start_time": "2024-08-28T16:27:54.288Z"
   },
   {
    "duration": 330,
    "start_time": "2024-08-28T16:27:54.543Z"
   },
   {
    "duration": 268,
    "start_time": "2024-08-28T16:27:54.875Z"
   },
   {
    "duration": 331,
    "start_time": "2024-08-28T16:27:55.146Z"
   },
   {
    "duration": 221,
    "start_time": "2024-08-28T16:27:55.479Z"
   },
   {
    "duration": 281,
    "start_time": "2024-08-28T16:27:55.701Z"
   },
   {
    "duration": 19,
    "start_time": "2024-08-28T16:27:55.984Z"
   },
   {
    "duration": 18,
    "start_time": "2024-08-28T16:27:56.005Z"
   },
   {
    "duration": 24,
    "start_time": "2024-08-28T16:27:56.025Z"
   },
   {
    "duration": 12,
    "start_time": "2024-08-28T16:27:56.050Z"
   },
   {
    "duration": 6,
    "start_time": "2024-08-28T16:27:56.063Z"
   },
   {
    "duration": 5,
    "start_time": "2024-08-28T16:27:56.071Z"
   },
   {
    "duration": 1046,
    "start_time": "2024-08-28T16:30:46.009Z"
   },
   {
    "duration": 180,
    "start_time": "2024-08-28T16:30:47.058Z"
   },
   {
    "duration": 14,
    "start_time": "2024-08-28T16:30:47.240Z"
   },
   {
    "duration": 62,
    "start_time": "2024-08-28T16:30:47.256Z"
   },
   {
    "duration": 6,
    "start_time": "2024-08-28T16:30:47.320Z"
   },
   {
    "duration": 23,
    "start_time": "2024-08-28T16:30:47.328Z"
   },
   {
    "duration": 5,
    "start_time": "2024-08-28T16:30:47.353Z"
   },
   {
    "duration": 16,
    "start_time": "2024-08-28T16:30:47.360Z"
   },
   {
    "duration": 21,
    "start_time": "2024-08-28T16:30:47.378Z"
   },
   {
    "duration": 326,
    "start_time": "2024-08-28T16:30:47.400Z"
   },
   {
    "duration": 247,
    "start_time": "2024-08-28T16:30:47.728Z"
   },
   {
    "duration": 362,
    "start_time": "2024-08-28T16:30:47.976Z"
   },
   {
    "duration": 279,
    "start_time": "2024-08-28T16:30:48.340Z"
   },
   {
    "duration": 332,
    "start_time": "2024-08-28T16:30:48.621Z"
   },
   {
    "duration": 226,
    "start_time": "2024-08-28T16:30:48.954Z"
   },
   {
    "duration": 288,
    "start_time": "2024-08-28T16:30:49.181Z"
   },
   {
    "duration": 8,
    "start_time": "2024-08-28T16:30:49.470Z"
   },
   {
    "duration": 27,
    "start_time": "2024-08-28T16:30:49.480Z"
   },
   {
    "duration": 19,
    "start_time": "2024-08-28T16:30:49.509Z"
   },
   {
    "duration": 13,
    "start_time": "2024-08-28T16:30:49.530Z"
   },
   {
    "duration": 6,
    "start_time": "2024-08-28T16:30:49.545Z"
   },
   {
    "duration": 6,
    "start_time": "2024-08-28T16:30:49.552Z"
   },
   {
    "duration": 7,
    "start_time": "2024-08-28T16:31:16.019Z"
   },
   {
    "duration": 9,
    "start_time": "2024-08-28T16:31:20.071Z"
   },
   {
    "duration": 1060,
    "start_time": "2024-08-28T17:23:50.582Z"
   },
   {
    "duration": 176,
    "start_time": "2024-08-28T17:23:51.644Z"
   },
   {
    "duration": 14,
    "start_time": "2024-08-28T17:23:51.822Z"
   },
   {
    "duration": 24,
    "start_time": "2024-08-28T17:23:51.837Z"
   },
   {
    "duration": 4,
    "start_time": "2024-08-28T17:23:51.863Z"
   },
   {
    "duration": 29,
    "start_time": "2024-08-28T17:23:51.869Z"
   },
   {
    "duration": 3,
    "start_time": "2024-08-28T17:23:51.900Z"
   },
   {
    "duration": 23,
    "start_time": "2024-08-28T17:23:51.905Z"
   },
   {
    "duration": 23,
    "start_time": "2024-08-28T17:23:51.930Z"
   },
   {
    "duration": 373,
    "start_time": "2024-08-28T17:23:51.955Z"
   },
   {
    "duration": 240,
    "start_time": "2024-08-28T17:23:52.330Z"
   },
   {
    "duration": 371,
    "start_time": "2024-08-28T17:23:52.572Z"
   },
   {
    "duration": 264,
    "start_time": "2024-08-28T17:23:52.945Z"
   },
   {
    "duration": 345,
    "start_time": "2024-08-28T17:23:53.211Z"
   },
   {
    "duration": 219,
    "start_time": "2024-08-28T17:23:53.557Z"
   },
   {
    "duration": 271,
    "start_time": "2024-08-28T17:23:53.778Z"
   },
   {
    "duration": 8,
    "start_time": "2024-08-28T17:23:54.050Z"
   },
   {
    "duration": 15,
    "start_time": "2024-08-28T17:23:54.059Z"
   },
   {
    "duration": 127,
    "start_time": "2024-08-28T17:23:54.075Z"
   },
   {
    "duration": 0,
    "start_time": "2024-08-28T17:23:54.204Z"
   },
   {
    "duration": 0,
    "start_time": "2024-08-28T17:23:54.204Z"
   },
   {
    "duration": 0,
    "start_time": "2024-08-28T17:23:54.205Z"
   },
   {
    "duration": 10,
    "start_time": "2024-08-28T17:24:09.317Z"
   },
   {
    "duration": 13,
    "start_time": "2024-08-28T17:24:12.773Z"
   },
   {
    "duration": 6,
    "start_time": "2024-08-28T17:24:15.035Z"
   },
   {
    "duration": 3,
    "start_time": "2024-08-28T17:24:17.334Z"
   },
   {
    "duration": 272,
    "start_time": "2024-08-28T17:29:28.107Z"
   },
   {
    "duration": 250,
    "start_time": "2024-08-28T17:30:41.047Z"
   },
   {
    "duration": 1093,
    "start_time": "2024-08-28T17:31:13.464Z"
   },
   {
    "duration": 211,
    "start_time": "2024-08-28T17:31:14.560Z"
   },
   {
    "duration": 15,
    "start_time": "2024-08-28T17:31:14.772Z"
   },
   {
    "duration": 35,
    "start_time": "2024-08-28T17:31:14.789Z"
   },
   {
    "duration": 4,
    "start_time": "2024-08-28T17:31:14.826Z"
   },
   {
    "duration": 16,
    "start_time": "2024-08-28T17:31:14.832Z"
   },
   {
    "duration": 8,
    "start_time": "2024-08-28T17:31:14.849Z"
   },
   {
    "duration": 13,
    "start_time": "2024-08-28T17:31:14.858Z"
   },
   {
    "duration": 31,
    "start_time": "2024-08-28T17:31:14.872Z"
   },
   {
    "duration": 330,
    "start_time": "2024-08-28T17:31:14.907Z"
   },
   {
    "duration": 254,
    "start_time": "2024-08-28T17:31:15.239Z"
   },
   {
    "duration": 418,
    "start_time": "2024-08-28T17:31:15.498Z"
   },
   {
    "duration": 392,
    "start_time": "2024-08-28T17:31:15.918Z"
   },
   {
    "duration": 0,
    "start_time": "2024-08-28T17:31:16.312Z"
   },
   {
    "duration": 0,
    "start_time": "2024-08-28T17:31:16.314Z"
   },
   {
    "duration": 0,
    "start_time": "2024-08-28T17:31:16.315Z"
   },
   {
    "duration": 0,
    "start_time": "2024-08-28T17:31:16.316Z"
   },
   {
    "duration": 0,
    "start_time": "2024-08-28T17:31:16.317Z"
   },
   {
    "duration": 0,
    "start_time": "2024-08-28T17:31:16.318Z"
   },
   {
    "duration": 0,
    "start_time": "2024-08-28T17:31:16.319Z"
   },
   {
    "duration": 0,
    "start_time": "2024-08-28T17:31:16.320Z"
   },
   {
    "duration": 0,
    "start_time": "2024-08-28T17:31:16.321Z"
   },
   {
    "duration": 0,
    "start_time": "2024-08-28T17:31:16.322Z"
   },
   {
    "duration": 277,
    "start_time": "2024-08-28T17:31:34.918Z"
   },
   {
    "duration": 290,
    "start_time": "2024-08-28T17:31:38.347Z"
   },
   {
    "duration": 377,
    "start_time": "2024-08-28T17:35:10.166Z"
   },
   {
    "duration": 7,
    "start_time": "2024-08-28T17:39:31.688Z"
   },
   {
    "duration": 5,
    "start_time": "2024-08-28T17:39:44.437Z"
   },
   {
    "duration": 5,
    "start_time": "2024-08-28T17:39:53.116Z"
   },
   {
    "duration": 241,
    "start_time": "2024-08-28T17:42:43.219Z"
   },
   {
    "duration": 300,
    "start_time": "2024-08-28T17:42:50.859Z"
   },
   {
    "duration": 248,
    "start_time": "2024-08-28T17:46:54.837Z"
   },
   {
    "duration": 141,
    "start_time": "2024-08-28T17:47:28.698Z"
   },
   {
    "duration": 1074,
    "start_time": "2024-08-28T17:49:59.357Z"
   },
   {
    "duration": 203,
    "start_time": "2024-08-28T17:50:00.434Z"
   },
   {
    "duration": 18,
    "start_time": "2024-08-28T17:50:00.639Z"
   },
   {
    "duration": 18,
    "start_time": "2024-08-28T17:50:00.661Z"
   },
   {
    "duration": 19,
    "start_time": "2024-08-28T17:50:00.681Z"
   },
   {
    "duration": 28,
    "start_time": "2024-08-28T17:50:00.702Z"
   },
   {
    "duration": 7,
    "start_time": "2024-08-28T17:50:00.732Z"
   },
   {
    "duration": 16,
    "start_time": "2024-08-28T17:50:00.741Z"
   },
   {
    "duration": 47,
    "start_time": "2024-08-28T17:50:00.759Z"
   },
   {
    "duration": 166,
    "start_time": "2024-08-28T17:50:00.810Z"
   },
   {
    "duration": 362,
    "start_time": "2024-08-28T17:50:00.978Z"
   },
   {
    "duration": 166,
    "start_time": "2024-08-28T17:50:01.342Z"
   },
   {
    "duration": 296,
    "start_time": "2024-08-28T17:50:01.510Z"
   },
   {
    "duration": 177,
    "start_time": "2024-08-28T17:50:01.808Z"
   },
   {
    "duration": 466,
    "start_time": "2024-08-28T17:50:01.987Z"
   },
   {
    "duration": 379,
    "start_time": "2024-08-28T17:50:02.455Z"
   },
   {
    "duration": 414,
    "start_time": "2024-08-28T17:50:02.837Z"
   },
   {
    "duration": 217,
    "start_time": "2024-08-28T17:50:03.253Z"
   },
   {
    "duration": 374,
    "start_time": "2024-08-28T17:50:03.472Z"
   },
   {
    "duration": 333,
    "start_time": "2024-08-28T17:50:03.848Z"
   },
   {
    "duration": 17,
    "start_time": "2024-08-28T17:50:04.184Z"
   },
   {
    "duration": 21,
    "start_time": "2024-08-28T17:50:04.203Z"
   },
   {
    "duration": 14,
    "start_time": "2024-08-28T17:50:04.226Z"
   },
   {
    "duration": 55,
    "start_time": "2024-08-28T17:50:04.243Z"
   },
   {
    "duration": 89,
    "start_time": "2024-08-28T17:50:04.300Z"
   },
   {
    "duration": 11,
    "start_time": "2024-08-28T17:50:04.392Z"
   },
   {
    "duration": 5,
    "start_time": "2024-08-28T17:50:49.630Z"
   },
   {
    "duration": 4,
    "start_time": "2024-08-28T17:51:19.720Z"
   },
   {
    "duration": 522,
    "start_time": "2024-08-28T17:52:53.568Z"
   },
   {
    "duration": 204,
    "start_time": "2024-08-28T17:53:12.296Z"
   },
   {
    "duration": 249,
    "start_time": "2024-08-28T17:56:59.139Z"
   },
   {
    "duration": 327,
    "start_time": "2024-08-28T17:57:28.060Z"
   },
   {
    "duration": 285,
    "start_time": "2024-08-28T17:57:52.315Z"
   },
   {
    "duration": 273,
    "start_time": "2024-08-28T17:58:11.627Z"
   },
   {
    "duration": 14,
    "start_time": "2024-08-28T18:01:38.670Z"
   },
   {
    "duration": 67,
    "start_time": "2024-08-28T18:01:49.739Z"
   },
   {
    "duration": 22,
    "start_time": "2024-08-28T18:01:50.130Z"
   },
   {
    "duration": 159,
    "start_time": "2024-08-28T18:02:47.498Z"
   },
   {
    "duration": 161,
    "start_time": "2024-08-28T18:03:29.321Z"
   },
   {
    "duration": 254,
    "start_time": "2024-08-28T18:03:39.912Z"
   },
   {
    "duration": 337,
    "start_time": "2024-08-28T18:04:26.491Z"
   },
   {
    "duration": 344,
    "start_time": "2024-08-28T18:04:34.232Z"
   },
   {
    "duration": 344,
    "start_time": "2024-08-28T18:04:44.762Z"
   },
   {
    "duration": 231,
    "start_time": "2024-08-28T18:05:11.425Z"
   },
   {
    "duration": 1056,
    "start_time": "2024-08-28T18:05:28.356Z"
   },
   {
    "duration": 184,
    "start_time": "2024-08-28T18:05:29.414Z"
   },
   {
    "duration": 13,
    "start_time": "2024-08-28T18:05:29.600Z"
   },
   {
    "duration": 16,
    "start_time": "2024-08-28T18:05:29.615Z"
   },
   {
    "duration": 4,
    "start_time": "2024-08-28T18:05:29.632Z"
   },
   {
    "duration": 14,
    "start_time": "2024-08-28T18:05:29.637Z"
   },
   {
    "duration": 4,
    "start_time": "2024-08-28T18:05:29.653Z"
   },
   {
    "duration": 46,
    "start_time": "2024-08-28T18:05:29.658Z"
   },
   {
    "duration": 20,
    "start_time": "2024-08-28T18:05:29.706Z"
   },
   {
    "duration": 324,
    "start_time": "2024-08-28T18:05:29.728Z"
   },
   {
    "duration": 246,
    "start_time": "2024-08-28T18:05:30.054Z"
   },
   {
    "duration": 374,
    "start_time": "2024-08-28T18:05:30.302Z"
   },
   {
    "duration": 276,
    "start_time": "2024-08-28T18:05:30.679Z"
   },
   {
    "duration": 387,
    "start_time": "2024-08-28T18:05:30.956Z"
   },
   {
    "duration": 229,
    "start_time": "2024-08-28T18:05:31.344Z"
   },
   {
    "duration": 282,
    "start_time": "2024-08-28T18:05:31.575Z"
   },
   {
    "duration": 276,
    "start_time": "2024-08-28T18:05:31.859Z"
   },
   {
    "duration": 8,
    "start_time": "2024-08-28T18:05:32.136Z"
   },
   {
    "duration": 17,
    "start_time": "2024-08-28T18:05:32.146Z"
   },
   {
    "duration": 8,
    "start_time": "2024-08-28T18:05:32.165Z"
   },
   {
    "duration": 18,
    "start_time": "2024-08-28T18:05:32.197Z"
   },
   {
    "duration": 9,
    "start_time": "2024-08-28T18:05:32.217Z"
   },
   {
    "duration": 9,
    "start_time": "2024-08-28T18:05:32.228Z"
   },
   {
    "duration": 117,
    "start_time": "2024-08-28T18:19:25.959Z"
   },
   {
    "duration": 14,
    "start_time": "2024-08-28T18:19:36.408Z"
   },
   {
    "duration": 13,
    "start_time": "2024-08-28T18:19:48.008Z"
   },
   {
    "duration": 17,
    "start_time": "2024-08-28T18:19:54.587Z"
   },
   {
    "duration": 122,
    "start_time": "2024-08-28T18:20:11.228Z"
   },
   {
    "duration": 203,
    "start_time": "2024-08-28T18:20:34.758Z"
   },
   {
    "duration": 234,
    "start_time": "2024-08-28T18:21:10.249Z"
   },
   {
    "duration": 130,
    "start_time": "2024-08-28T18:21:25.668Z"
   },
   {
    "duration": 10,
    "start_time": "2024-08-28T18:24:00.260Z"
   },
   {
    "duration": 8,
    "start_time": "2024-08-28T18:24:06.660Z"
   },
   {
    "duration": 5,
    "start_time": "2024-08-28T18:24:39.050Z"
   },
   {
    "duration": 1025,
    "start_time": "2024-08-28T19:09:15.241Z"
   },
   {
    "duration": 192,
    "start_time": "2024-08-28T19:09:16.268Z"
   },
   {
    "duration": 15,
    "start_time": "2024-08-28T19:09:16.461Z"
   },
   {
    "duration": 24,
    "start_time": "2024-08-28T19:09:16.478Z"
   },
   {
    "duration": 4,
    "start_time": "2024-08-28T19:09:16.504Z"
   },
   {
    "duration": 22,
    "start_time": "2024-08-28T19:09:16.509Z"
   },
   {
    "duration": 6,
    "start_time": "2024-08-28T19:09:16.533Z"
   },
   {
    "duration": 14,
    "start_time": "2024-08-28T19:09:16.540Z"
   },
   {
    "duration": 35,
    "start_time": "2024-08-28T19:09:16.556Z"
   },
   {
    "duration": 321,
    "start_time": "2024-08-28T19:09:16.593Z"
   },
   {
    "duration": 253,
    "start_time": "2024-08-28T19:09:16.915Z"
   },
   {
    "duration": 390,
    "start_time": "2024-08-28T19:09:17.169Z"
   },
   {
    "duration": 260,
    "start_time": "2024-08-28T19:09:17.560Z"
   },
   {
    "duration": 333,
    "start_time": "2024-08-28T19:09:17.822Z"
   },
   {
    "duration": 227,
    "start_time": "2024-08-28T19:09:18.157Z"
   },
   {
    "duration": 312,
    "start_time": "2024-08-28T19:09:18.386Z"
   },
   {
    "duration": 267,
    "start_time": "2024-08-28T19:09:18.700Z"
   },
   {
    "duration": 8,
    "start_time": "2024-08-28T19:09:18.968Z"
   },
   {
    "duration": 28,
    "start_time": "2024-08-28T19:09:18.977Z"
   },
   {
    "duration": 10,
    "start_time": "2024-08-28T19:09:19.007Z"
   },
   {
    "duration": 11,
    "start_time": "2024-08-28T19:09:19.019Z"
   },
   {
    "duration": 9,
    "start_time": "2024-08-28T19:09:19.032Z"
   },
   {
    "duration": 4,
    "start_time": "2024-08-28T19:09:19.043Z"
   },
   {
    "duration": 1226,
    "start_time": "2024-08-29T16:24:39.302Z"
   },
   {
    "duration": 345,
    "start_time": "2024-08-29T16:24:40.531Z"
   },
   {
    "duration": 15,
    "start_time": "2024-08-29T16:24:40.878Z"
   },
   {
    "duration": 40,
    "start_time": "2024-08-29T16:24:40.895Z"
   },
   {
    "duration": 4,
    "start_time": "2024-08-29T16:24:40.937Z"
   },
   {
    "duration": 26,
    "start_time": "2024-08-29T16:24:40.943Z"
   },
   {
    "duration": 16,
    "start_time": "2024-08-29T16:24:40.971Z"
   },
   {
    "duration": 34,
    "start_time": "2024-08-29T16:24:40.989Z"
   },
   {
    "duration": 25,
    "start_time": "2024-08-29T16:24:41.025Z"
   },
   {
    "duration": 351,
    "start_time": "2024-08-29T16:24:41.053Z"
   },
   {
    "duration": 272,
    "start_time": "2024-08-29T16:24:41.406Z"
   },
   {
    "duration": 415,
    "start_time": "2024-08-29T16:24:41.680Z"
   },
   {
    "duration": 266,
    "start_time": "2024-08-29T16:24:42.098Z"
   },
   {
    "duration": 351,
    "start_time": "2024-08-29T16:24:42.366Z"
   },
   {
    "duration": 240,
    "start_time": "2024-08-29T16:24:42.719Z"
   },
   {
    "duration": 305,
    "start_time": "2024-08-29T16:24:42.961Z"
   },
   {
    "duration": 295,
    "start_time": "2024-08-29T16:24:43.268Z"
   },
   {
    "duration": 7,
    "start_time": "2024-08-29T16:24:43.565Z"
   },
   {
    "duration": 21,
    "start_time": "2024-08-29T16:24:43.574Z"
   },
   {
    "duration": 34,
    "start_time": "2024-08-29T16:24:43.597Z"
   },
   {
    "duration": 16,
    "start_time": "2024-08-29T16:24:43.633Z"
   },
   {
    "duration": 6,
    "start_time": "2024-08-29T16:24:43.651Z"
   },
   {
    "duration": 9,
    "start_time": "2024-08-29T16:24:43.658Z"
   },
   {
    "duration": 1072,
    "start_time": "2024-08-29T16:30:35.563Z"
   },
   {
    "duration": 177,
    "start_time": "2024-08-29T16:30:36.637Z"
   },
   {
    "duration": 14,
    "start_time": "2024-08-29T16:30:36.816Z"
   },
   {
    "duration": 30,
    "start_time": "2024-08-29T16:30:36.833Z"
   },
   {
    "duration": 8,
    "start_time": "2024-08-29T16:30:36.864Z"
   },
   {
    "duration": 22,
    "start_time": "2024-08-29T16:30:36.874Z"
   },
   {
    "duration": 16,
    "start_time": "2024-08-29T16:30:36.898Z"
   },
   {
    "duration": 46,
    "start_time": "2024-08-29T16:30:36.916Z"
   },
   {
    "duration": 27,
    "start_time": "2024-08-29T16:30:36.964Z"
   },
   {
    "duration": 346,
    "start_time": "2024-08-29T16:30:36.994Z"
   },
   {
    "duration": 277,
    "start_time": "2024-08-29T16:30:37.341Z"
   },
   {
    "duration": 387,
    "start_time": "2024-08-29T16:30:37.620Z"
   },
   {
    "duration": 274,
    "start_time": "2024-08-29T16:30:38.008Z"
   },
   {
    "duration": 333,
    "start_time": "2024-08-29T16:30:38.284Z"
   },
   {
    "duration": 238,
    "start_time": "2024-08-29T16:30:38.619Z"
   },
   {
    "duration": 288,
    "start_time": "2024-08-29T16:30:38.859Z"
   },
   {
    "duration": 290,
    "start_time": "2024-08-29T16:30:39.149Z"
   },
   {
    "duration": 16,
    "start_time": "2024-08-29T16:30:39.441Z"
   },
   {
    "duration": 36,
    "start_time": "2024-08-29T16:30:39.459Z"
   },
   {
    "duration": 17,
    "start_time": "2024-08-29T16:30:39.497Z"
   },
   {
    "duration": 37,
    "start_time": "2024-08-29T16:30:39.515Z"
   },
   {
    "duration": 12,
    "start_time": "2024-08-29T16:30:39.554Z"
   },
   {
    "duration": 27,
    "start_time": "2024-08-29T16:30:39.568Z"
   }
  ],
  "kernelspec": {
   "display_name": "Python 3 (ipykernel)",
   "language": "python",
   "name": "python3"
  },
  "language_info": {
   "codemirror_mode": {
    "name": "ipython",
    "version": 3
   },
   "file_extension": ".py",
   "mimetype": "text/x-python",
   "name": "python",
   "nbconvert_exporter": "python",
   "pygments_lexer": "ipython3",
   "version": "3.12.7"
  },
  "toc": {
   "base_numbering": 1,
   "nav_menu": {},
   "number_sections": true,
   "sideBar": true,
   "skip_h1_title": true,
   "title_cell": "Table of Contents",
   "title_sidebar": "Contents",
   "toc_cell": false,
   "toc_position": {},
   "toc_section_display": true,
   "toc_window_display": false
  }
 },
 "nbformat": 4,
 "nbformat_minor": 4
}
