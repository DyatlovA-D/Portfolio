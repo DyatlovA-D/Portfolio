{
 "cells": [
  {
   "cell_type": "markdown",
   "metadata": {},
   "source": [
    "<div style=\"border:solid green 3px; padding: 20px\">\n",
    "\t\t\t\t\t\t\t\t\t\t\t\t\t\t\t\t\t\t\t\t\t\n",
    "<b>Привет!</b>\n",
    "\t\t\t\t\t\t\t\t\t\t\t\t\t\t\t\t\t\t\t\t\t\n",
    "Меня зовут Сороколетов Илья и я буду проверять твой проект. \n",
    "\t\t\t\t\t\t\t\t\t\t\t\t\t\t\t\t\t\t\t\t\t\n",
    "Предлагаю общаться на «**ты**», но если тебе будет комфортнее общаться на «**вы**», то сообщи об этом в комментариях)\n",
    "\t\t\t\t\t\t\t\t\t\t\t\t\t\t\t\t\t\t\t\t\t\n",
    "\t\t\t\t\t\t\t\t\t\t\t\t\t\t\t\t\t\t\t\t\t\n",
    "Для твоего удобства, я буду выделять свои комментарии следующим образом:\n",
    "\t\t\t\t\t\t\t\t\t\t\t\t\t\t\t\t\t\t\t\t\t\n",
    "<div class=\"alert alert-danger\">\n",
    "<b>❌ Комментарий ревьюера v1:</b> Самые важные замечания. Они указывают на ключевые моменты, которые влияют на конечный результат проекта. </div>\n",
    "\t\t\t\t\t\t\t\t\t\t\t\t\t\t\t\t\t\t\t\t\t\n",
    "<div class=\"alert alert-warning\">\n",
    "<b>⚠️ Комментарий ревьюера v1:</b> Советы или замечания, которые помогут сделать твою работу лучше, но необязательны к выполнению.\n",
    "\t\t\t\t\t\t\t\t\t\t\t\t\t\t\t\t\t\t\t\t\t\n",
    "</div>\n",
    "\t\t\t\t\t\t\t\t\t\t\t\t\t\t\t\t\t\t\t\t\t\n",
    "<div class=\"alert alert-success\">\n",
    "<b>✔️ Комментарий ревьюера v1:</b> Так я выделяю все остальные комментарии.</div>\n",
    "\t\t\t\t\t\t\t\t\t\t\t\t\t\t\t\t\t\t\t\t\t\n",
    "\t\t\t\t\t\t\t\t\t\t\t\t\t\t\t\t\t\t\t\t\t\n",
    "Пометками <b>v1-v2-v3-...</b> я буду отмечать версию проверки. Так ты сможешь быстро найти мои новые комментарии.\n",
    "\t\t\t\t\t\t\t\t\t\t\t\t\t\t\t\t\t\t\t\t\t\n",
    "Давай работать над проектом в диалоге: если ты что-то меняешь в проекте по моим рекомендациям — пиши об этом. Выбери для своих комментариев какой-то заметный цвет, так мне будет легче отследить изменения, например вот так:\n",
    "\t\t\t\t\t\t\t\t\t\t\t\t\t\t\t\t\t\t\t\t\t    \n",
    "<div class=\"alert alert-info\">\n",
    "<b>Комментарий студента:</b>\n",
    "<br>\n",
    "</div>\n",
    "\t\t\t\t\t\t\t\t\t\t\t\t\t\t\t\t\t\t\t\t\t\n",
    "<b>Пожалуйста, не перемещай, не изменяй и не удаляй мои комментарии.</b> Если ты оставляешь свои комментарии, то делай это под моими, чтобы сообщения были расположены в хронологическом порядке. Всё это поможет выполнить повторную проверку твоего проекта быстрее. \n",
    "\t\t\t\t\t\t\t\t\t\t\t\t\t\t\t\t\t\t\t\t\t\n",
    "Перед отправкой работы я рекомендую нажимать Kernel -> Restart & Run All. Это перезапустит ядро и по очереди выполнит все ячейки. Так ты сможешь проверить, что всё работает корректно. Кнопка Kernel находится в панели сверху\n",
    "\t\t\t\t\t\t\t\t\t\t\t\t\t\t\t\t\t\t\t\t\t\n",
    "Обязательно задавай вопросы если они возникнут, а я перехожу к проверке)\n",
    "\t\t\t\t\t\t\t\t\t\t\t\t\t\t\t\t\t\t\t\t\t\n",
    "P.S. На всякий случай, я оставлю пустой шаблон для твоих комментариев ниже. Кликни два раза на мой комментарий, скопируй последние четыре строчки кода и вставляй их в пустую ячейку там, где ты хочешь оставить комментарий. Не забудь только перед этим сменить тип ячейки на Markdown. Быстро это можно сделать так: кликнуть на ячейку - нажать ESC - нажать M. \n",
    "\t\t\t\t\t\t\t\t\t\t\t\t\t\t\t\t\t\t\t\t\t    \n",
    "\t\t\t\t\t\t\t\t\t\t\t\t\t\t\t\t\t\t\t\t\t    \n",
    "<div class=\"alert alert-info\">\n",
    "<b>Комментарий студента:</b>\n",
    "<br>Удали этот текст и вместо него напиши свой комментарий 🙂\n",
    "</div>"
   ]
  },
  {
   "cell_type": "markdown",
   "metadata": {},
   "source": [
    "# Исследование объявлений о продаже квартир\n",
    "\n",
    "В вашем распоряжении данные сервиса Яндекс.Недвижимость — архив объявлений о продаже квартир в Санкт-Петербурге и соседних населённых пунктов за несколько лет. Нужно научиться определять рыночную стоимость объектов недвижимости. Ваша задача — установить параметры. Это позволит построить автоматизированную систему: она отследит аномалии и мошенническую деятельность. \n",
    "\n",
    "По каждой квартире на продажу доступны два вида данных. Первые вписаны пользователем, вторые — получены автоматически на основе картографических данных. Например, расстояние до центра, аэропорта, ближайшего парка и водоёма. "
   ]
  },
  {
   "cell_type": "markdown",
   "metadata": {},
   "source": [
    "### Откройте файл с данными и изучите общую информацию. "
   ]
  },
  {
   "cell_type": "code",
   "execution_count": 1,
   "metadata": {},
   "outputs": [],
   "source": [
    "#импорт библиотек\n",
    "import pandas as pd\n",
    "import matplotlib as mb\n",
    "import numpy as np\n",
    "from termcolor import colored\n",
    "from decimal import Decimal\n",
    "import matplotlib.pyplot as plt"
   ]
  },
  {
   "cell_type": "code",
   "execution_count": 2,
   "metadata": {},
   "outputs": [
    {
     "data": {
      "text/html": [
       "<div>\n",
       "<style scoped>\n",
       "    .dataframe tbody tr th:only-of-type {\n",
       "        vertical-align: middle;\n",
       "    }\n",
       "\n",
       "    .dataframe tbody tr th {\n",
       "        vertical-align: top;\n",
       "    }\n",
       "\n",
       "    .dataframe thead th {\n",
       "        text-align: right;\n",
       "    }\n",
       "</style>\n",
       "<table border=\"1\" class=\"dataframe\">\n",
       "  <thead>\n",
       "    <tr style=\"text-align: right;\">\n",
       "      <th></th>\n",
       "      <th>total_images</th>\n",
       "      <th>last_price</th>\n",
       "      <th>total_area</th>\n",
       "      <th>first_day_exposition</th>\n",
       "      <th>rooms</th>\n",
       "      <th>ceiling_height</th>\n",
       "      <th>floors_total</th>\n",
       "      <th>living_area</th>\n",
       "      <th>floor</th>\n",
       "      <th>is_apartment</th>\n",
       "      <th>...</th>\n",
       "      <th>kitchen_area</th>\n",
       "      <th>balcony</th>\n",
       "      <th>locality_name</th>\n",
       "      <th>airports_nearest</th>\n",
       "      <th>cityCenters_nearest</th>\n",
       "      <th>parks_around3000</th>\n",
       "      <th>parks_nearest</th>\n",
       "      <th>ponds_around3000</th>\n",
       "      <th>ponds_nearest</th>\n",
       "      <th>days_exposition</th>\n",
       "    </tr>\n",
       "  </thead>\n",
       "  <tbody>\n",
       "    <tr>\n",
       "      <th>0</th>\n",
       "      <td>20</td>\n",
       "      <td>13000000.0</td>\n",
       "      <td>108.00</td>\n",
       "      <td>2019-03-07T00:00:00</td>\n",
       "      <td>3</td>\n",
       "      <td>2.70</td>\n",
       "      <td>16.0</td>\n",
       "      <td>51.00</td>\n",
       "      <td>8</td>\n",
       "      <td>NaN</td>\n",
       "      <td>...</td>\n",
       "      <td>25.00</td>\n",
       "      <td>NaN</td>\n",
       "      <td>Санкт-Петербург</td>\n",
       "      <td>18863.0</td>\n",
       "      <td>16028.0</td>\n",
       "      <td>1.0</td>\n",
       "      <td>482.0</td>\n",
       "      <td>2.0</td>\n",
       "      <td>755.0</td>\n",
       "      <td>NaN</td>\n",
       "    </tr>\n",
       "    <tr>\n",
       "      <th>1</th>\n",
       "      <td>7</td>\n",
       "      <td>3350000.0</td>\n",
       "      <td>40.40</td>\n",
       "      <td>2018-12-04T00:00:00</td>\n",
       "      <td>1</td>\n",
       "      <td>NaN</td>\n",
       "      <td>11.0</td>\n",
       "      <td>18.60</td>\n",
       "      <td>1</td>\n",
       "      <td>NaN</td>\n",
       "      <td>...</td>\n",
       "      <td>11.00</td>\n",
       "      <td>2.0</td>\n",
       "      <td>посёлок Шушары</td>\n",
       "      <td>12817.0</td>\n",
       "      <td>18603.0</td>\n",
       "      <td>0.0</td>\n",
       "      <td>NaN</td>\n",
       "      <td>0.0</td>\n",
       "      <td>NaN</td>\n",
       "      <td>81.0</td>\n",
       "    </tr>\n",
       "    <tr>\n",
       "      <th>2</th>\n",
       "      <td>10</td>\n",
       "      <td>5196000.0</td>\n",
       "      <td>56.00</td>\n",
       "      <td>2015-08-20T00:00:00</td>\n",
       "      <td>2</td>\n",
       "      <td>NaN</td>\n",
       "      <td>5.0</td>\n",
       "      <td>34.30</td>\n",
       "      <td>4</td>\n",
       "      <td>NaN</td>\n",
       "      <td>...</td>\n",
       "      <td>8.30</td>\n",
       "      <td>0.0</td>\n",
       "      <td>Санкт-Петербург</td>\n",
       "      <td>21741.0</td>\n",
       "      <td>13933.0</td>\n",
       "      <td>1.0</td>\n",
       "      <td>90.0</td>\n",
       "      <td>2.0</td>\n",
       "      <td>574.0</td>\n",
       "      <td>558.0</td>\n",
       "    </tr>\n",
       "    <tr>\n",
       "      <th>3</th>\n",
       "      <td>0</td>\n",
       "      <td>64900000.0</td>\n",
       "      <td>159.00</td>\n",
       "      <td>2015-07-24T00:00:00</td>\n",
       "      <td>3</td>\n",
       "      <td>NaN</td>\n",
       "      <td>14.0</td>\n",
       "      <td>NaN</td>\n",
       "      <td>9</td>\n",
       "      <td>NaN</td>\n",
       "      <td>...</td>\n",
       "      <td>NaN</td>\n",
       "      <td>0.0</td>\n",
       "      <td>Санкт-Петербург</td>\n",
       "      <td>28098.0</td>\n",
       "      <td>6800.0</td>\n",
       "      <td>2.0</td>\n",
       "      <td>84.0</td>\n",
       "      <td>3.0</td>\n",
       "      <td>234.0</td>\n",
       "      <td>424.0</td>\n",
       "    </tr>\n",
       "    <tr>\n",
       "      <th>4</th>\n",
       "      <td>2</td>\n",
       "      <td>10000000.0</td>\n",
       "      <td>100.00</td>\n",
       "      <td>2018-06-19T00:00:00</td>\n",
       "      <td>2</td>\n",
       "      <td>3.03</td>\n",
       "      <td>14.0</td>\n",
       "      <td>32.00</td>\n",
       "      <td>13</td>\n",
       "      <td>NaN</td>\n",
       "      <td>...</td>\n",
       "      <td>41.00</td>\n",
       "      <td>NaN</td>\n",
       "      <td>Санкт-Петербург</td>\n",
       "      <td>31856.0</td>\n",
       "      <td>8098.0</td>\n",
       "      <td>2.0</td>\n",
       "      <td>112.0</td>\n",
       "      <td>1.0</td>\n",
       "      <td>48.0</td>\n",
       "      <td>121.0</td>\n",
       "    </tr>\n",
       "    <tr>\n",
       "      <th>5</th>\n",
       "      <td>10</td>\n",
       "      <td>2890000.0</td>\n",
       "      <td>30.40</td>\n",
       "      <td>2018-09-10T00:00:00</td>\n",
       "      <td>1</td>\n",
       "      <td>NaN</td>\n",
       "      <td>12.0</td>\n",
       "      <td>14.40</td>\n",
       "      <td>5</td>\n",
       "      <td>NaN</td>\n",
       "      <td>...</td>\n",
       "      <td>9.10</td>\n",
       "      <td>NaN</td>\n",
       "      <td>городской посёлок Янино-1</td>\n",
       "      <td>NaN</td>\n",
       "      <td>NaN</td>\n",
       "      <td>NaN</td>\n",
       "      <td>NaN</td>\n",
       "      <td>NaN</td>\n",
       "      <td>NaN</td>\n",
       "      <td>55.0</td>\n",
       "    </tr>\n",
       "    <tr>\n",
       "      <th>6</th>\n",
       "      <td>6</td>\n",
       "      <td>3700000.0</td>\n",
       "      <td>37.30</td>\n",
       "      <td>2017-11-02T00:00:00</td>\n",
       "      <td>1</td>\n",
       "      <td>NaN</td>\n",
       "      <td>26.0</td>\n",
       "      <td>10.60</td>\n",
       "      <td>6</td>\n",
       "      <td>NaN</td>\n",
       "      <td>...</td>\n",
       "      <td>14.40</td>\n",
       "      <td>1.0</td>\n",
       "      <td>посёлок Парголово</td>\n",
       "      <td>52996.0</td>\n",
       "      <td>19143.0</td>\n",
       "      <td>0.0</td>\n",
       "      <td>NaN</td>\n",
       "      <td>0.0</td>\n",
       "      <td>NaN</td>\n",
       "      <td>155.0</td>\n",
       "    </tr>\n",
       "    <tr>\n",
       "      <th>7</th>\n",
       "      <td>5</td>\n",
       "      <td>7915000.0</td>\n",
       "      <td>71.60</td>\n",
       "      <td>2019-04-18T00:00:00</td>\n",
       "      <td>2</td>\n",
       "      <td>NaN</td>\n",
       "      <td>24.0</td>\n",
       "      <td>NaN</td>\n",
       "      <td>22</td>\n",
       "      <td>NaN</td>\n",
       "      <td>...</td>\n",
       "      <td>18.90</td>\n",
       "      <td>2.0</td>\n",
       "      <td>Санкт-Петербург</td>\n",
       "      <td>23982.0</td>\n",
       "      <td>11634.0</td>\n",
       "      <td>0.0</td>\n",
       "      <td>NaN</td>\n",
       "      <td>0.0</td>\n",
       "      <td>NaN</td>\n",
       "      <td>NaN</td>\n",
       "    </tr>\n",
       "    <tr>\n",
       "      <th>8</th>\n",
       "      <td>20</td>\n",
       "      <td>2900000.0</td>\n",
       "      <td>33.16</td>\n",
       "      <td>2018-05-23T00:00:00</td>\n",
       "      <td>1</td>\n",
       "      <td>NaN</td>\n",
       "      <td>27.0</td>\n",
       "      <td>15.43</td>\n",
       "      <td>26</td>\n",
       "      <td>NaN</td>\n",
       "      <td>...</td>\n",
       "      <td>8.81</td>\n",
       "      <td>NaN</td>\n",
       "      <td>посёлок Мурино</td>\n",
       "      <td>NaN</td>\n",
       "      <td>NaN</td>\n",
       "      <td>NaN</td>\n",
       "      <td>NaN</td>\n",
       "      <td>NaN</td>\n",
       "      <td>NaN</td>\n",
       "      <td>189.0</td>\n",
       "    </tr>\n",
       "    <tr>\n",
       "      <th>9</th>\n",
       "      <td>18</td>\n",
       "      <td>5400000.0</td>\n",
       "      <td>61.00</td>\n",
       "      <td>2017-02-26T00:00:00</td>\n",
       "      <td>3</td>\n",
       "      <td>2.50</td>\n",
       "      <td>9.0</td>\n",
       "      <td>43.60</td>\n",
       "      <td>7</td>\n",
       "      <td>NaN</td>\n",
       "      <td>...</td>\n",
       "      <td>6.50</td>\n",
       "      <td>2.0</td>\n",
       "      <td>Санкт-Петербург</td>\n",
       "      <td>50898.0</td>\n",
       "      <td>15008.0</td>\n",
       "      <td>0.0</td>\n",
       "      <td>NaN</td>\n",
       "      <td>0.0</td>\n",
       "      <td>NaN</td>\n",
       "      <td>289.0</td>\n",
       "    </tr>\n",
       "  </tbody>\n",
       "</table>\n",
       "<p>10 rows × 22 columns</p>\n",
       "</div>"
      ],
      "text/plain": [
       "   total_images  last_price  total_area first_day_exposition  rooms  \\\n",
       "0            20  13000000.0      108.00  2019-03-07T00:00:00      3   \n",
       "1             7   3350000.0       40.40  2018-12-04T00:00:00      1   \n",
       "2            10   5196000.0       56.00  2015-08-20T00:00:00      2   \n",
       "3             0  64900000.0      159.00  2015-07-24T00:00:00      3   \n",
       "4             2  10000000.0      100.00  2018-06-19T00:00:00      2   \n",
       "5            10   2890000.0       30.40  2018-09-10T00:00:00      1   \n",
       "6             6   3700000.0       37.30  2017-11-02T00:00:00      1   \n",
       "7             5   7915000.0       71.60  2019-04-18T00:00:00      2   \n",
       "8            20   2900000.0       33.16  2018-05-23T00:00:00      1   \n",
       "9            18   5400000.0       61.00  2017-02-26T00:00:00      3   \n",
       "\n",
       "   ceiling_height  floors_total  living_area  floor is_apartment  ...  \\\n",
       "0            2.70          16.0        51.00      8          NaN  ...   \n",
       "1             NaN          11.0        18.60      1          NaN  ...   \n",
       "2             NaN           5.0        34.30      4          NaN  ...   \n",
       "3             NaN          14.0          NaN      9          NaN  ...   \n",
       "4            3.03          14.0        32.00     13          NaN  ...   \n",
       "5             NaN          12.0        14.40      5          NaN  ...   \n",
       "6             NaN          26.0        10.60      6          NaN  ...   \n",
       "7             NaN          24.0          NaN     22          NaN  ...   \n",
       "8             NaN          27.0        15.43     26          NaN  ...   \n",
       "9            2.50           9.0        43.60      7          NaN  ...   \n",
       "\n",
       "   kitchen_area  balcony              locality_name  airports_nearest  \\\n",
       "0         25.00      NaN            Санкт-Петербург           18863.0   \n",
       "1         11.00      2.0             посёлок Шушары           12817.0   \n",
       "2          8.30      0.0            Санкт-Петербург           21741.0   \n",
       "3           NaN      0.0            Санкт-Петербург           28098.0   \n",
       "4         41.00      NaN            Санкт-Петербург           31856.0   \n",
       "5          9.10      NaN  городской посёлок Янино-1               NaN   \n",
       "6         14.40      1.0          посёлок Парголово           52996.0   \n",
       "7         18.90      2.0            Санкт-Петербург           23982.0   \n",
       "8          8.81      NaN             посёлок Мурино               NaN   \n",
       "9          6.50      2.0            Санкт-Петербург           50898.0   \n",
       "\n",
       "  cityCenters_nearest  parks_around3000  parks_nearest  ponds_around3000  \\\n",
       "0             16028.0               1.0          482.0               2.0   \n",
       "1             18603.0               0.0            NaN               0.0   \n",
       "2             13933.0               1.0           90.0               2.0   \n",
       "3              6800.0               2.0           84.0               3.0   \n",
       "4              8098.0               2.0          112.0               1.0   \n",
       "5                 NaN               NaN            NaN               NaN   \n",
       "6             19143.0               0.0            NaN               0.0   \n",
       "7             11634.0               0.0            NaN               0.0   \n",
       "8                 NaN               NaN            NaN               NaN   \n",
       "9             15008.0               0.0            NaN               0.0   \n",
       "\n",
       "   ponds_nearest  days_exposition  \n",
       "0          755.0              NaN  \n",
       "1            NaN             81.0  \n",
       "2          574.0            558.0  \n",
       "3          234.0            424.0  \n",
       "4           48.0            121.0  \n",
       "5            NaN             55.0  \n",
       "6            NaN            155.0  \n",
       "7            NaN              NaN  \n",
       "8            NaN            189.0  \n",
       "9            NaN            289.0  \n",
       "\n",
       "[10 rows x 22 columns]"
      ]
     },
     "execution_count": 2,
     "metadata": {},
     "output_type": "execute_result"
    }
   ],
   "source": [
    "#сохранение в переменную и изучение данных\n",
    "data = pd.read_csv('/datasets/real_estate_data.csv',sep='\\t')\n",
    "data.head(10)"
   ]
  },
  {
   "cell_type": "markdown",
   "metadata": {},
   "source": []
  },
  {
   "cell_type": "code",
   "execution_count": 3,
   "metadata": {},
   "outputs": [
    {
     "data": {
      "image/png": "[encoded data removed]",
      "text/plain": [
       "<Figure size 1080x1440 with 20 Axes>"
      ]
     },
     "metadata": {
      "needs_background": "light"
     },
     "output_type": "display_data"
    }
   ],
   "source": [
    "#гистограмма df\n",
    "data.hist(figsize=(15, 20));"
   ]
  },
  {
   "cell_type": "markdown",
   "metadata": {},
   "source": [
    "<div class=\"alert alert-success\">\n",
    "<b>✔️ Комментарий ревьюера v1:</b> \n",
    "<br>Графики построено верно! \n",
    "</div>\n",
    "\t\t\t\t\t\t\t\t\t\t\t\t\t\t\t\n",
    "<div class=\"alert alert-warning\">\n",
    "<b>⚠️ Комментарий ревьюера v1:</b> \n",
    "<br>Если после кода вызывающего график добавить \";\", то мы избавимся от строчки над графиком)\n",
    "\n",
    "\tdata.hist(figsize=(15, 20));\n",
    "</div>"
   ]
  },
  {
   "cell_type": "markdown",
   "metadata": {},
   "source": [
    "<div class=\"alert alert-info\">\n",
    "<b>Комментарий студента:</b>\n",
    "<br> знак добавлен)\n",
    "</div>"
   ]
  },
  {
   "cell_type": "code",
   "execution_count": 4,
   "metadata": {
    "scrolled": true
   },
   "outputs": [
    {
     "name": "stdout",
     "output_type": "stream",
     "text": [
      "<class 'pandas.core.frame.DataFrame'>\n",
      "RangeIndex: 23699 entries, 0 to 23698\n",
      "Data columns (total 22 columns):\n",
      " #   Column                Non-Null Count  Dtype  \n",
      "---  ------                --------------  -----  \n",
      " 0   total_images          23699 non-null  int64  \n",
      " 1   last_price            23699 non-null  float64\n",
      " 2   total_area            23699 non-null  float64\n",
      " 3   first_day_exposition  23699 non-null  object \n",
      " 4   rooms                 23699 non-null  int64  \n",
      " 5   ceiling_height        14504 non-null  float64\n",
      " 6   floors_total          23613 non-null  float64\n",
      " 7   living_area           21796 non-null  float64\n",
      " 8   floor                 23699 non-null  int64  \n",
      " 9   is_apartment          2775 non-null   object \n",
      " 10  studio                23699 non-null  bool   \n",
      " 11  open_plan             23699 non-null  bool   \n",
      " 12  kitchen_area          21421 non-null  float64\n",
      " 13  balcony               12180 non-null  float64\n",
      " 14  locality_name         23650 non-null  object \n",
      " 15  airports_nearest      18157 non-null  float64\n",
      " 16  cityCenters_nearest   18180 non-null  float64\n",
      " 17  parks_around3000      18181 non-null  float64\n",
      " 18  parks_nearest         8079 non-null   float64\n",
      " 19  ponds_around3000      18181 non-null  float64\n",
      " 20  ponds_nearest         9110 non-null   float64\n",
      " 21  days_exposition       20518 non-null  float64\n",
      "dtypes: bool(2), float64(14), int64(3), object(3)\n",
      "memory usage: 3.7+ MB\n"
     ]
    }
   ],
   "source": [
    "#общая инф-ия по df\n",
    "data.info()"
   ]
  },
  {
   "cell_type": "markdown",
   "metadata": {},
   "source": [
    "<div class=\"alert alert-info\">\n",
    "<b>Комментарий студента:</b>\n",
    "<br> Датафрейм содержит всего 23699 строк. В данных обнаружены следующие проблемы: пропуски и неправильный тип данных. Пропусков нет только в 8 из 21 столбцах, и значения нужно перевести в 8 из 21 столбцах. К примеру, в столбце first_day_exposition требуется поменять тип на дату, так как дата в формате object может быть задействована не во всех вычилениях. А целочисленные значения, записанные в int, становятся читабельнее, чем в формате float \n",
    "</div>"
   ]
  },
  {
   "cell_type": "markdown",
   "metadata": {},
   "source": [
    "<div class=\"alert alert-danger\">\n",
    "<b>❌ Комментарий ревьюера v1:</b> \n",
    "<br>Здесь необходимо написать короткий вывод о проблемах с данными (пропуски, дубликаты, неверный тип данных, странные значения и т.д.)\n",
    "</div>"
   ]
  },
  {
   "cell_type": "markdown",
   "metadata": {},
   "source": [
    "<div class=\"alert alert-success\">\n",
    "<b>✔️ Комментарий ревьюера v2:</b>\n",
    "<br>Правка выполнена 👍\n",
    "</div>"
   ]
  },
  {
   "cell_type": "markdown",
   "metadata": {},
   "source": [
    "### Предобработка данных"
   ]
  },
  {
   "cell_type": "code",
   "execution_count": 5,
   "metadata": {
    "scrolled": false
   },
   "outputs": [
    {
     "data": {
      "text/plain": [
       "total_images                0\n",
       "last_price                  0\n",
       "total_area                  0\n",
       "first_day_exposition        0\n",
       "rooms                       0\n",
       "ceiling_height           9195\n",
       "floors_total               86\n",
       "living_area              1903\n",
       "floor                       0\n",
       "is_apartment            20924\n",
       "studio                      0\n",
       "open_plan                   0\n",
       "kitchen_area             2278\n",
       "balcony                 11519\n",
       "locality_name              49\n",
       "airports_nearest         5542\n",
       "cityCenters_nearest      5519\n",
       "parks_around3000         5518\n",
       "parks_nearest           15620\n",
       "ponds_around3000         5518\n",
       "ponds_nearest           14589\n",
       "days_exposition          3181\n",
       "dtype: int64"
      ]
     },
     "execution_count": 5,
     "metadata": {},
     "output_type": "execute_result"
    }
   ],
   "source": [
    "#находим пропуски в данных\n",
    "data.isna().sum()"
   ]
  },
  {
   "cell_type": "code",
   "execution_count": 6,
   "metadata": {},
   "outputs": [],
   "source": [
    "#поправим нулевые значения в столбце с комнатами. нули могут исказить данные на этапе расчетов и визуализации, поэтому берем минимум \n",
    "data['rooms'] = data['rooms'].replace(0, 1)"
   ]
  },
  {
   "cell_type": "code",
   "execution_count": 7,
   "metadata": {
    "scrolled": false
   },
   "outputs": [
    {
     "name": "stdout",
     "output_type": "stream",
     "text": [
      "\u001b[35mСтрок в датафрейме, где этаж выше этажей в доме: 0\u001b[0m\n"
     ]
    },
    {
     "data": {
      "text/plain": [
       "total_images               0\n",
       "last_price                 0\n",
       "total_area                 0\n",
       "first_day_exposition       0\n",
       "rooms                      0\n",
       "ceiling_height             0\n",
       "floors_total               0\n",
       "living_area                0\n",
       "floor                      0\n",
       "is_apartment               0\n",
       "studio                     0\n",
       "open_plan                  0\n",
       "kitchen_area               0\n",
       "balcony                    0\n",
       "locality_name              0\n",
       "airports_nearest           0\n",
       "cityCenters_nearest        0\n",
       "parks_around3000           0\n",
       "parks_nearest              0\n",
       "ponds_around3000           0\n",
       "ponds_nearest              0\n",
       "days_exposition         3181\n",
       "dtype: int64"
      ]
     },
     "execution_count": 7,
     "metadata": {},
     "output_type": "execute_result"
    }
   ],
   "source": [
    "#устраняем некоторые пропуски\n",
    "data[['balcony', 'locality_name', 'ponds_around3000', 'parks_around3000']] = data[['balcony', 'locality_name', 'ponds_around3000', 'parks_around3000']].fillna({'balcony':0, 'locality_name':'Нет_данных', 'parks_around3000':0, 'ponds_around3000':0})\n",
    "data['is_apartment'] = data['is_apartment'].fillna(False)\n",
    "\n",
    "# заполняем средним значением высоту потолка (потолки обычно не сильно отличаются в квартирах, можно заполнить без группировки)\n",
    "data['ceiling_height'] = data['ceiling_height']. fillna(data['ceiling_height'].mean())\n",
    "\n",
    "# # заполняем средним значением в зависимости от области - например в селе +- будут одинаковое кол-во этажей\n",
    "# # число этажей - группируем по области и берем оттуда среднее, округленное (round), но оно не может быть меньше этажа \n",
    "data['floors_total'] = data.groupby('locality_name')['floors_total'].transform(lambda x: x.fillna(x.mean()))\n",
    "data['floors_total'] = round(data['floors_total'])\n",
    "data.loc[data['floor'] > data['floors_total'], 'floors_total'] = data['floor']\n",
    "print(colored('Строк в датафрейме, где этаж выше этажей в доме: ' + str(data.query('floor > floors_total')['total_area'].count()), 'magenta'))\n",
    "\n",
    "# если у нас апартамент - тогда жилплощадь и кухня = общая площадь. иначе - делим общую площадь на кол-во комнат и заполняем пропуски\n",
    "data.loc[data['is_apartment'] == True, 'living_area'] = data.loc[data['is_apartment'] == True, 'living_area'].fillna(data.loc[data['is_apartment'] == True, 'total_area'])\n",
    "data.loc[data['is_apartment'] == True, 'kitchen_area'] = data.loc[data['is_apartment'] == True, 'kitchen_area'].fillna(data.loc[data['is_apartment'] == True, 'total_area'])\n",
    "\n",
    "data.loc[data['is_apartment'] == False, 'living_area'] = data.loc[data['is_apartment'] == False, 'living_area'].fillna(data.loc[data['is_apartment'] == False, 'total_area'] / data.loc[data['is_apartment'] == False, 'rooms'])\n",
    "data.loc[data['is_apartment'] == False, 'kitchen_area'] = data.loc[data['is_apartment'] == False, 'kitchen_area'].fillna(data.loc[data['is_apartment'] == False, 'total_area'] / data.loc[data['is_apartment'] == False, 'rooms'])\n",
    "\n",
    "# по округе - если она у нас не ноль и не город, то смотрим по округе среднее значение для прудов, парков, аэропорта и центра, тк тут речь идет о маленьких поселениях. Если у нас Спб - тогда берем максимальное, тк город большой. В противном случае признаем, что всего этого нет и ставим 0\n",
    "data.loc[data['locality_name'] != 'Санкт-Петербург', 'airports_nearest'] = data.loc[data['locality_name'] != 'Санкт-Петербург', 'airports_nearest'].fillna(data.groupby('locality_name')['airports_nearest'].transform('mean'))\n",
    "data.loc[data['locality_name'] == 'Санкт-Петербург', 'airports_nearest'] = data.loc[data['locality_name'] == 'Санкт-Петербург', 'airports_nearest'].fillna(data.groupby('locality_name')['airports_nearest'].transform('mean'))\n",
    "data['airports_nearest'] = data['airports_nearest'].fillna(0)\n",
    "\n",
    "data.loc[data['locality_name'] != 'Санкт-Петербург', 'cityCenters_nearest'] = data.loc[data['locality_name'] != 'Санкт-Петербург', 'cityCenters_nearest'].fillna(data.groupby('locality_name')['cityCenters_nearest'].transform('mean'))\n",
    "data.loc[data['locality_name'] == 'Санкт-Петербург', 'cityCenters_nearest'] = data.loc[data['locality_name'] == 'Санкт-Петербург', 'cityCenters_nearest'].fillna(data.groupby('locality_name')['cityCenters_nearest'].transform('mean'))\n",
    "data['cityCenters_nearest'] = data['cityCenters_nearest'].fillna(0)\n",
    "\n",
    "data.loc[data['locality_name'] != 'Санкт-Петербург', 'parks_nearest'] = data.loc[data['locality_name'] != 'Санкт-Петербург', 'parks_nearest'].fillna(data.groupby('locality_name')['parks_nearest'].transform('mean'))\n",
    "data.loc[data['locality_name'] == 'Санкт-Петербург', 'parks_nearest'] = data.loc[data['locality_name'] == 'Санкт-Петербург', 'parks_nearest'].fillna(data.groupby('locality_name')['parks_nearest'].transform('mean'))\n",
    "data['parks_nearest'] = data['parks_nearest'].fillna(0)\n",
    "\n",
    "data.loc[data['locality_name'] != 'Санкт-Петербург', 'ponds_nearest'] = data.loc[data['locality_name'] != 'Санкт-Петербург', 'ponds_nearest'].fillna(data.groupby('locality_name')['ponds_nearest'].transform('mean'))\n",
    "data.loc[data['locality_name'] == 'Санкт-Петербург', 'ponds_nearest'] = data.loc[data['locality_name'] == 'Санкт-Петербург', 'ponds_nearest'].fillna(data.groupby('locality_name')['ponds_nearest'].transform('mean'))\n",
    "data['ponds_nearest'] = data['ponds_nearest'].fillna(0)\n",
    "\n",
    "data.isna().sum()"
   ]
  },
  {
   "cell_type": "markdown",
   "metadata": {},
   "source": [
    "<div class=\"alert alert-success\">\n",
    "<b>✔️ Комментарий ревьюера v1:</b> \n",
    "<br>Пропуски заполнены верно!\n",
    "</div>"
   ]
  },
  {
   "cell_type": "markdown",
   "metadata": {},
   "source": [
    "<div class=\"alert alert-warning\">\n",
    "<b>⚠️ Комментарий ревьюера v1:</b> \n",
    "<br>Разбивай, пожалуйста, код на несколько ячеек. Так будет более наглядно и проще комментировать твой код\n",
    "</div>"
   ]
  },
  {
   "cell_type": "markdown",
   "metadata": {},
   "source": [
    "<font color='teal'>***Почему могли \"потеряться\" данные?***                                                               \n",
    "\n",
    "\n",
    "Полагаю, все столбцы до balcony включительно заполнял человек, а все, что идет далее, заполнялось автоматически. Поэтому разделю возможные причины пропусков в значениях на условные 2 группы.\n",
    "    \n",
    "    1.1 Обычная невнимательность\\нежелание человека заполнять данные о квартире. К примеру, высота потолка. Очевидно, в каждой квартире есть потолок. А вот измерять его не очень удобно, надо подниматься, лестницу доставать. Думаю, 9195 из 23699 (39%) собственников как раз могли полениться указать потолок\n",
    "    1.2 Человек не заполнил данные, которые он не счел нужным заполнять. К примеру, если балкона нет, то собственник может и пропустить это поле. Точно так же и с апартаментами, если не указано ничего - скорее всего, это не апартаменты, т.е. False.Даже если рассматривать пропуски с числом этажей нельзя отрицать, что дом может быть одноэтажным. Или, что это - апартаменты, в них сложно выделить отдельно кухню, отдельно жилплощадь. Заметно, что в общей площади пропусков совсем нет\n",
    "    2.1 Та часть, которую (по своему предположению) я отношу к части, заполненной автоматически, не имеет полностью заполненных столбцов. Тут дело может быть в технической ошибке(особенно, если смотреть на кол-во дней с момента размещения объявления собственником) или в отсутствии картографических данных. Даже можно увидеть +- одинаковое кол-во отсутсвующих значений в столбцах с расстоянием до аэропорта, центра города, кол-ву парков и прудов, очень вероятно, что тут дело именно в отсутствии картографических данных.\n",
    "    3. Отдельно выделю столбец с наименованием района/области. Его мог заполнять как человек, так и компьютер. Маленькое кол-во пропущенных значений больше указывает на первый вариант, человек мог просто не указать эти данные, если он указал адрес, который не попал в датафрейм. Но и автоматически эти данные могли бы собираться, ведь по какому-то признаку определяется расстояние от дома до значимых мест, значит и расположение известно. Во втором случае речь может идти об отсутсвии картографических данных"
   ]
  },
  {
   "cell_type": "code",
   "execution_count": 8,
   "metadata": {
    "scrolled": true
   },
   "outputs": [
    {
     "name": "stdout",
     "output_type": "stream",
     "text": [
      "<class 'pandas.core.frame.DataFrame'>\n",
      "RangeIndex: 23699 entries, 0 to 23698\n",
      "Data columns (total 22 columns):\n",
      " #   Column                Non-Null Count  Dtype         \n",
      "---  ------                --------------  -----         \n",
      " 0   total_images          23699 non-null  int64         \n",
      " 1   last_price            23699 non-null  int64         \n",
      " 2   total_area            23699 non-null  float64       \n",
      " 3   first_day_exposition  23699 non-null  datetime64[ns]\n",
      " 4   rooms                 23699 non-null  int64         \n",
      " 5   ceiling_height        23699 non-null  float64       \n",
      " 6   floors_total          23699 non-null  int64         \n",
      " 7   living_area           23699 non-null  float64       \n",
      " 8   floor                 23699 non-null  int64         \n",
      " 9   is_apartment          23699 non-null  bool          \n",
      " 10  studio                23699 non-null  int64         \n",
      " 11  open_plan             23699 non-null  int64         \n",
      " 12  kitchen_area          23699 non-null  float64       \n",
      " 13  balcony               23699 non-null  int64         \n",
      " 14  locality_name         23699 non-null  object        \n",
      " 15  airports_nearest      23699 non-null  float64       \n",
      " 16  cityCenters_nearest   23699 non-null  float64       \n",
      " 17  parks_around3000      23699 non-null  int64         \n",
      " 18  parks_nearest         23699 non-null  float64       \n",
      " 19  ponds_around3000      23699 non-null  int64         \n",
      " 20  ponds_nearest         23699 non-null  float64       \n",
      " 21  days_exposition       20518 non-null  float64       \n",
      "dtypes: bool(1), datetime64[ns](1), float64(9), int64(10), object(1)\n",
      "memory usage: 3.8+ MB\n"
     ]
    }
   ],
   "source": [
    "#правим тип данных\n",
    "d = ['balcony','last_price','ponds_around3000', 'parks_around3000', 'floors_total', 'studio', 'open_plan']\n",
    "for i in d:\n",
    "    data[i]=data[i].astype(int)\n",
    "\n",
    "data['first_day_exposition'] = pd.to_datetime(data['first_day_exposition'])\n",
    "\n",
    "data.info()"
   ]
  },
  {
   "cell_type": "markdown",
   "metadata": {},
   "source": [
    "<div class=\"alert alert-success\">\n",
    "<b>✔️ Комментарий ревьюера v1:</b> \n",
    "<br>Изменение типов данных проведено верно. Можно ещё заменить тип данных с float64 на float32 для экономии памяти.\n",
    "</div>"
   ]
  },
  {
   "cell_type": "markdown",
   "metadata": {},
   "source": [
    "<font color='teal'>***Почему надо менять тип данных?*** \n",
    "    \n",
    "    1. Тип данных был изменен с float на int в столбцах со значением цены (вряд ли цену на квартиру указали бы в точности до копеек), кол-ву прудов рядом, кол-ву парков рядом, кол-ву этажей и кол-ву балконов. Очевидно, дробных чисел здесь быть не может. Дробные числа почти не отличаются от целочисленных, однако, возможностей с ними больше, поскольку дроби поддерживают не все арифметические функции, что поддерживает int\n",
    "    2. Тип данных с булева значения на int был изменен для столбцов, в которых содержится информация по соотвествию апартаментам, студии и открытой планировке. Данные типа boolean не попали в гистограммы, а их соотношения бы очень хотелось увидеть на графике. Так же с int проще будет проводить расчеты, не прибегая лишний раз к pivot_table\n",
    "    3. Тип данных с object на datetime для столбца first_day_exposition. Дату и время иногда нужно вводить в арифметические операции, поэтому и нужно менять тип\n",
    "    "
   ]
  },
  {
   "cell_type": "code",
   "execution_count": 9,
   "metadata": {
    "scrolled": true
   },
   "outputs": [
    {
     "name": "stdout",
     "output_type": "stream",
     "text": [
      "\u001b[31mНЕЯВНЫЕ ДУБЛИ\u001b[0m\n",
      "\n",
      "Бокситогорск\n",
      "Волосово\n",
      "Волхов\n",
      "Всеволожск\n",
      "Выборг\n",
      "Высоцк\n",
      "Гатчина\n",
      "Зеленогорск\n",
      "Ивангород\n",
      "Каменногорск\n",
      "Кингисепп\n",
      "Кириши\n",
      "Кировск\n",
      "Колпино\n",
      "Коммунар\n",
      "Красное Село\n",
      "Кронштадт\n",
      "Кудрово\n",
      "Лодейное Поле\n",
      "Ломоносов\n",
      "Луга\n",
      "Любань\n",
      "Мурино\n",
      "Нет_данных\n",
      "Никольское\n",
      "Новая Ладога\n",
      "Отрадное\n",
      "Павловск\n",
      "Петергоф\n",
      "Пикалёво\n",
      "Подпорожье\n",
      "Приморск\n",
      "Приозерск\n",
      "Пушкин\n",
      "Санкт-Петербург\n",
      "Светогорск\n",
      "Сертолово\n",
      "Сестрорецк\n",
      "Сланцы\n",
      "Сосновый Бор\n",
      "Сясьстрой\n",
      "Тихвин\n",
      "Тосно\n",
      "Шлиссельбург\n",
      "городской поселок Большая Ижора\n",
      "городской поселок Янино-1\n",
      "городской посёлок Будогощь\n",
      "городской посёлок Виллози\n",
      "городской посёлок Лесогорский\n",
      "городской посёлок Мга\n",
      "городской посёлок Назия\n",
      "городской посёлок Новоселье\n",
      "городской посёлок Павлово\n",
      "городской посёлок Рощино\n",
      "городской посёлок Свирьстрой\n",
      "городской посёлок Советский\n",
      "городской посёлок Фёдоровское\n",
      "городской посёлок Янино-1\n",
      "деревня Агалатово\n",
      "деревня Аро\n",
      "деревня Батово\n",
      "деревня Бегуницы\n",
      "деревня Белогорка\n",
      "деревня Большая Вруда\n",
      "деревня Большая Пустомержа\n",
      "деревня Большие Колпаны\n",
      "деревня Большое Рейзино\n",
      "деревня Большой Сабск\n",
      "деревня Бор\n",
      "деревня Борисова Грива\n",
      "деревня Ваганово\n",
      "деревня Вартемяги\n",
      "деревня Вахнова Кара\n",
      "деревня Выскатка\n",
      "деревня Гарболово\n",
      "деревня Глинка\n",
      "деревня Горбунки\n",
      "деревня Гостилицы\n",
      "деревня Заклинье\n",
      "деревня Заневка\n",
      "деревня Зимитицы\n",
      "деревня Извара\n",
      "деревня Иссад\n",
      "деревня Калитино\n",
      "деревня Кальтино\n",
      "деревня Камышовка\n",
      "деревня Каськово\n",
      "деревня Келози\n",
      "деревня Кипень\n",
      "деревня Кисельня\n",
      "деревня Колтуши\n",
      "деревня Коркино\n",
      "деревня Котлы\n",
      "деревня Кривко\n",
      "деревня Кудрово\n",
      "деревня Кузьмолово\n",
      "деревня Курковицы\n",
      "деревня Куровицы\n",
      "деревня Куттузи\n",
      "деревня Лаврики\n",
      "деревня Лаголово\n",
      "деревня Лампово\n",
      "деревня Лесколово\n",
      "деревня Лопухинка\n",
      "деревня Лупполово\n",
      "деревня Малая Романовка\n",
      "деревня Малое Верево\n",
      "деревня Малое Карлино\n",
      "деревня Малые Колпаны\n",
      "деревня Мануйлово\n",
      "деревня Меньково\n",
      "деревня Мины\n",
      "деревня Мистолово\n",
      "деревня Ненимяки\n",
      "деревня Нижние Осельки\n",
      "деревня Нижняя\n",
      "деревня Низино\n",
      "деревня Новое Девяткино\n",
      "деревня Новолисино\n",
      "деревня Нурма\n",
      "деревня Оржицы\n",
      "деревня Парицы\n",
      "деревня Пельгора\n",
      "деревня Пеники\n",
      "деревня Пижма\n",
      "деревня Пикколово\n",
      "деревня Пудомяги\n",
      "деревня Пустынка\n",
      "деревня Пчева\n",
      "деревня Рабитицы\n",
      "деревня Разбегаево\n",
      "деревня Раздолье\n",
      "деревня Разметелево\n",
      "деревня Рапполово\n",
      "деревня Реброво\n",
      "деревня Русско\n",
      "деревня Сижно\n",
      "деревня Снегирёвка\n",
      "деревня Старая\n",
      "деревня Старая Пустошь\n",
      "деревня Старое Хинколово\n",
      "деревня Старополье\n",
      "деревня Старосиверская\n",
      "деревня Старые Бегуницы\n",
      "деревня Суоранда\n",
      "деревня Сяськелево\n",
      "деревня Тарасово\n",
      "деревня Терпилицы\n",
      "деревня Тихковицы\n",
      "деревня Тойворово\n",
      "деревня Торосово\n",
      "деревня Торошковичи\n",
      "деревня Трубников Бор\n",
      "деревня Фалилеево\n",
      "деревня Фёдоровское\n",
      "деревня Хапо-Ое\n",
      "деревня Хязельки\n",
      "деревня Чудской Бор\n",
      "деревня Шпаньково\n",
      "деревня Щеглово\n",
      "деревня Юкки\n",
      "деревня Ялгино\n",
      "деревня Яльгелево\n",
      "деревня Ям-Тесово\n",
      "коттеджный поселок Кивеннапа Север\n",
      "коттеджный поселок Счастье\n",
      "коттеджный посёлок Лесное\n",
      "поселок Аннино\n",
      "поселок Барышево\n",
      "поселок Бугры\n",
      "поселок Возрождение\n",
      "поселок Войсковицы\n",
      "поселок Володарское\n",
      "поселок Гаврилово\n",
      "поселок Гарболово\n",
      "поселок Гладкое\n",
      "поселок Глажево\n",
      "поселок Глебычево\n",
      "поселок Гончарово\n",
      "поселок Громово\n",
      "поселок Дружноселье\n",
      "поселок Елизаветино\n",
      "поселок Жилгородок\n",
      "поселок Жилпосёлок\n",
      "поселок Житково\n",
      "поселок Заводской\n",
      "поселок Запорожское\n",
      "поселок Зимитицы\n",
      "поселок Ильичёво\n",
      "поселок Калитино\n",
      "поселок Каложицы\n",
      "поселок Кингисеппский\n",
      "поселок Кирпичное\n",
      "поселок Кобралово\n",
      "поселок Кобринское\n",
      "поселок Коммунары\n",
      "поселок Коробицыно\n",
      "поселок Котельский\n",
      "поселок Красная Долина\n",
      "поселок Красносельское\n",
      "поселок Лесное\n",
      "поселок Лисий Нос\n",
      "поселок Лукаши\n",
      "поселок Любань\n",
      "поселок Мельниково\n",
      "поселок Мичуринское\n",
      "поселок Молодцово\n",
      "поселок Мурино\n",
      "поселок Новый Свет\n",
      "поселок Новый Учхоз\n",
      "поселок Оредеж\n",
      "поселок Пансионат Зелёный Бор\n",
      "поселок Первомайское\n",
      "поселок Перово\n",
      "поселок Петровское\n",
      "поселок Победа\n",
      "поселок Поляны\n",
      "поселок Почап\n",
      "поселок Починок\n",
      "поселок Пушное\n",
      "поселок Пчевжа\n",
      "поселок Рабитицы\n",
      "поселок Романовка\n",
      "поселок Ромашки\n",
      "поселок Рябово\n",
      "поселок Севастьяново\n",
      "поселок Селезнёво\n",
      "поселок Сельцо\n",
      "поселок Семиозерье\n",
      "поселок Семрино\n",
      "поселок Серебрянский\n",
      "поселок Совхозный\n",
      "поселок Старая Малукса\n",
      "поселок Стеклянный\n",
      "поселок Сумино\n",
      "поселок Суходолье\n",
      "поселок Тельмана\n",
      "поселок Терволово\n",
      "поселок Торковичи\n",
      "поселок Тёсово-4\n",
      "поселок Углово\n",
      "поселок Усть-Луга\n",
      "поселок Ушаки\n",
      "поселок Цвелодубово\n",
      "поселок Цвылёво\n",
      "поселок городского типа Большая Ижора\n",
      "поселок городского типа Вырица\n",
      "поселок городского типа Дружная Горка\n",
      "поселок городского типа Дубровка\n",
      "поселок городского типа Ефимовский\n",
      "поселок городского типа Кондратьево\n",
      "поселок городского типа Красный Бор\n",
      "поселок городского типа Кузьмоловский\n",
      "поселок городского типа Лебяжье\n",
      "поселок городского типа Лесогорский\n",
      "поселок городского типа Назия\n",
      "поселок городского типа Никольский\n",
      "поселок городского типа Приладожский\n",
      "поселок городского типа Рахья\n",
      "поселок городского типа Рощино\n",
      "поселок городского типа Рябово\n",
      "поселок городского типа Синявино\n",
      "поселок городского типа Советский\n",
      "поселок городского типа Токсово\n",
      "поселок городского типа Форносово\n",
      "поселок городского типа имени Свердлова\n",
      "поселок станции Вещево\n",
      "поселок станции Корнево\n",
      "поселок станции Лужайка\n",
      "поселок станции Приветнинское\n",
      "посёлок Александровская\n",
      "посёлок Алексеевка\n",
      "посёлок Аннино\n",
      "посёлок Белоостров\n",
      "посёлок Бугры\n",
      "посёлок Возрождение\n",
      "посёлок Войскорово\n",
      "посёлок Высокоключевой\n",
      "посёлок Гаврилово\n",
      "посёлок Дзержинского\n",
      "посёлок Жилгородок\n",
      "посёлок Ильичёво\n",
      "посёлок Кикерино\n",
      "посёлок Кобралово\n",
      "посёлок Коробицыно\n",
      "посёлок Левашово\n",
      "посёлок Ленинское\n",
      "посёлок Лисий Нос\n",
      "посёлок Мельниково\n",
      "посёлок Металлострой\n",
      "посёлок Мичуринское\n",
      "посёлок Молодёжное\n",
      "посёлок Мурино\n",
      "посёлок Мыза-Ивановка\n",
      "посёлок Новогорелово\n",
      "посёлок Новый Свет\n",
      "посёлок Пансионат Зелёный Бор\n",
      "посёлок Парголово\n",
      "посёлок Перово\n",
      "посёлок Песочный\n",
      "посёлок Петро-Славянка\n",
      "посёлок Петровское\n",
      "посёлок Платформа 69-й километр\n",
      "посёлок Плодовое\n",
      "посёлок Плоское\n",
      "посёлок Победа\n",
      "посёлок Поляны\n",
      "посёлок Понтонный\n",
      "посёлок Пригородный\n",
      "посёлок Пудость\n",
      "посёлок Репино\n",
      "посёлок Ропша\n",
      "посёлок Сапёрное\n",
      "посёлок Сапёрный\n",
      "посёлок Сосново\n",
      "посёлок Старая Малукса\n",
      "посёлок Стеклянный\n",
      "посёлок Стрельна\n",
      "посёлок Суйда\n",
      "посёлок Сумино\n",
      "посёлок Тельмана\n",
      "посёлок Терволово\n",
      "посёлок Торфяное\n",
      "посёлок Усть-Ижора\n",
      "посёлок Усть-Луга\n",
      "посёлок Форт Красная Горка\n",
      "посёлок Шугозеро\n",
      "посёлок Шушары\n",
      "посёлок Щеглово\n",
      "посёлок городского типа Важины\n",
      "посёлок городского типа Вознесенье\n",
      "посёлок городского типа Вырица\n",
      "посёлок городского типа Красный Бор\n",
      "посёлок городского типа Кузнечное\n",
      "посёлок городского типа Кузьмоловский\n",
      "посёлок городского типа Лебяжье\n",
      "посёлок городского типа Мга\n",
      "посёлок городского типа Павлово\n",
      "посёлок городского типа Рощино\n",
      "посёлок городского типа Рябово\n",
      "посёлок городского типа Сиверский\n",
      "посёлок городского типа Тайцы\n",
      "посёлок городского типа Токсово\n",
      "посёлок городского типа Ульяновка\n",
      "посёлок городского типа Форносово\n",
      "посёлок городского типа имени Морозова\n",
      "посёлок городского типа имени Свердлова\n",
      "посёлок при железнодорожной станции Вещево\n",
      "посёлок при железнодорожной станции Приветнинское\n",
      "посёлок станции Громово\n",
      "посёлок станции Свирь\n",
      "садоводческое некоммерческое товарищество Лесная Поляна\n",
      "садовое товарищество Новая Ропша\n",
      "садовое товарищество Приладожский\n",
      "садовое товарищество Рахья\n",
      "садовое товарищество Садко\n",
      "село Копорье\n",
      "село Никольское\n",
      "село Павлово\n",
      "село Паша\n",
      "село Путилово\n",
      "село Рождествено\n",
      "село Русско-Высоцкое\n",
      "село Старая Ладога\n",
      "село Шум\n",
      "\n",
      "\u001b[32mДУБЛИ УСТРАНЕНЫ\u001b[0m\n",
      "\n",
      "Бокситогорск\n",
      "Волосово\n",
      "Волхов\n",
      "Всеволожск\n",
      "Выборг\n",
      "Высоцк\n",
      "Гатчина\n",
      "Зеленогорск\n",
      "Ивангород\n",
      "Каменногорск\n",
      "Кингисепп\n",
      "Кириши\n",
      "Кировск\n",
      "Колпино\n",
      "Коммунар\n",
      "Красное Село\n",
      "Кронштадт\n",
      "Кудрово\n",
      "Лодейное Поле\n",
      "Ломоносов\n",
      "Луга\n",
      "Любань\n",
      "Мурино\n",
      "Нет_данных\n",
      "Никольское\n",
      "Новая Ладога\n",
      "Отрадное\n",
      "Павловск\n",
      "Петергоф\n",
      "Пикалево\n",
      "Подпорожье\n",
      "Приморск\n",
      "Приозерск\n",
      "Пушкин\n",
      "Санкт-Петербург\n",
      "Светогорск\n",
      "Сертолово\n",
      "Сестрорецк\n",
      "Сланцы\n",
      "Сосновый Бор\n",
      "Сясьстрой\n",
      "Тихвин\n",
      "Тосно\n",
      "Шлиссельбург\n",
      "городской поселок Большая Ижора\n",
      "городской поселок Будогощь\n",
      "городской поселок Важины\n",
      "городской поселок Виллози\n",
      "городской поселок Вознесенье\n",
      "городской поселок Вырица\n",
      "городской поселок Дружная Горка\n",
      "городской поселок Дубровка\n",
      "городской поселок Ефимовский\n",
      "городской поселок Кондратьево\n",
      "городской поселок Красный Бор\n",
      "городской поселок Кузнечное\n",
      "городской поселок Кузьмоловский\n",
      "городской поселок Лебяжье\n",
      "городской поселок Лесогорский\n",
      "городской поселок Мга\n",
      "городской поселок Назия\n",
      "городской поселок Никольский\n",
      "городской поселок Новоселье\n",
      "городской поселок Павлово\n",
      "городской поселок Приладожский\n",
      "городской поселок Рахья\n",
      "городской поселок Рощино\n",
      "городской поселок Рябово\n",
      "городской поселок Свирьстрой\n",
      "городской поселок Сиверский\n",
      "городской поселок Синявино\n",
      "городской поселок Советский\n",
      "городской поселок Тайцы\n",
      "городской поселок Токсово\n",
      "городской поселок Ульяновка\n",
      "городской поселок Федоровское\n",
      "городской поселок Форносово\n",
      "городской поселок Янино-1\n",
      "городской поселок имени Морозова\n",
      "городской поселок имени Свердлова\n",
      "деревня Агалатово\n",
      "деревня Аро\n",
      "деревня Батово\n",
      "деревня Бегуницы\n",
      "деревня Белогорка\n",
      "деревня Большая Вруда\n",
      "деревня Большая Пустомержа\n",
      "деревня Большие Колпаны\n",
      "деревня Большое Рейзино\n",
      "деревня Большой Сабск\n",
      "деревня Бор\n",
      "деревня Борисова Грива\n",
      "деревня Ваганово\n",
      "деревня Вартемяги\n",
      "деревня Вахнова Кара\n",
      "деревня Выскатка\n",
      "деревня Гарболово\n",
      "деревня Глинка\n",
      "деревня Горбунки\n",
      "деревня Гостилицы\n",
      "деревня Заклинье\n",
      "деревня Заневка\n",
      "деревня Зимитицы\n",
      "деревня Извара\n",
      "деревня Иссад\n",
      "деревня Калитино\n",
      "деревня Кальтино\n",
      "деревня Камышовка\n",
      "деревня Каськово\n",
      "деревня Келози\n",
      "деревня Кипень\n",
      "деревня Кисельня\n",
      "деревня Колтуши\n",
      "деревня Коркино\n",
      "деревня Котлы\n",
      "деревня Кривко\n",
      "деревня Кудрово\n",
      "деревня Кузьмолово\n",
      "деревня Курковицы\n",
      "деревня Куровицы\n",
      "деревня Куттузи\n",
      "деревня Лаврики\n",
      "деревня Лаголово\n",
      "деревня Лампово\n",
      "деревня Лесколово\n",
      "деревня Лопухинка\n",
      "деревня Лупполово\n",
      "деревня Малая Романовка\n",
      "деревня Малое Верево\n",
      "деревня Малое Карлино\n",
      "деревня Малые Колпаны\n",
      "деревня Мануйлово\n",
      "деревня Меньково\n",
      "деревня Мины\n",
      "деревня Мистолово\n",
      "деревня Ненимяки\n",
      "деревня Нижние Осельки\n",
      "деревня Нижняя\n",
      "деревня Низино\n",
      "деревня Новое Девяткино\n",
      "деревня Новолисино\n",
      "деревня Нурма\n",
      "деревня Оржицы\n",
      "деревня Парицы\n",
      "деревня Пельгора\n",
      "деревня Пеники\n",
      "деревня Пижма\n",
      "деревня Пикколово\n",
      "деревня Пудомяги\n",
      "деревня Пустынка\n",
      "деревня Пчева\n",
      "деревня Рабитицы\n",
      "деревня Разбегаево\n",
      "деревня Раздолье\n",
      "деревня Разметелево\n",
      "деревня Рапполово\n",
      "деревня Реброво\n",
      "деревня Русско\n",
      "деревня Сижно\n",
      "деревня Снегиревка\n",
      "деревня Старая\n",
      "деревня Старая Пустошь\n",
      "деревня Старое Хинколово\n",
      "деревня Старополье\n",
      "деревня Старосиверская\n",
      "деревня Старые Бегуницы\n",
      "деревня Суоранда\n",
      "деревня Сяськелево\n",
      "деревня Тарасово\n",
      "деревня Терпилицы\n",
      "деревня Тихковицы\n",
      "деревня Тойворово\n",
      "деревня Торосово\n",
      "деревня Торошковичи\n",
      "деревня Трубников Бор\n",
      "деревня Фалилеево\n",
      "деревня Федоровское\n",
      "деревня Хапо-Ое\n",
      "деревня Хязельки\n",
      "деревня Чудской Бор\n",
      "деревня Шпаньково\n",
      "деревня Щеглово\n",
      "деревня Юкки\n",
      "деревня Ялгино\n",
      "деревня Яльгелево\n",
      "деревня Ям-Тесово\n",
      "коттеджный поселок Кивеннапа Север\n",
      "коттеджный поселок Лесное\n",
      "коттеджный поселок Счастье\n",
      "поселок Александровская\n",
      "поселок Алексеевка\n",
      "поселок Аннино\n",
      "поселок Барышево\n",
      "поселок Белоостров\n",
      "поселок Бугры\n",
      "поселок Возрождение\n",
      "поселок Войсковицы\n",
      "поселок Войскорово\n",
      "поселок Володарское\n",
      "поселок Высокоключевой\n",
      "поселок Гаврилово\n",
      "поселок Гарболово\n",
      "поселок Гладкое\n",
      "поселок Глажево\n",
      "поселок Глебычево\n",
      "поселок Гончарово\n",
      "поселок Громово\n",
      "поселок Дзержинского\n",
      "поселок Дружноселье\n",
      "поселок Елизаветино\n",
      "поселок Жилгородок\n",
      "поселок Жилпоселок\n",
      "поселок Житково\n",
      "поселок Заводской\n",
      "поселок Запорожское\n",
      "поселок Зимитицы\n",
      "поселок Ильичево\n",
      "поселок Калитино\n",
      "поселок Каложицы\n",
      "поселок Кикерино\n",
      "поселок Кингисеппский\n",
      "поселок Кирпичное\n",
      "поселок Кобралово\n",
      "поселок Кобринское\n",
      "поселок Коммунары\n",
      "поселок Коробицыно\n",
      "поселок Котельский\n",
      "поселок Красная Долина\n",
      "поселок Красносельское\n",
      "поселок Левашово\n",
      "поселок Ленинское\n",
      "поселок Лесное\n",
      "поселок Лисий Нос\n",
      "поселок Лукаши\n",
      "поселок Любань\n",
      "поселок Мельниково\n",
      "поселок Металлострой\n",
      "поселок Мичуринское\n",
      "поселок Молодежное\n",
      "поселок Молодцово\n",
      "поселок Мурино\n",
      "поселок Мыза-Ивановка\n",
      "поселок Новогорелово\n",
      "поселок Новый Свет\n",
      "поселок Новый Учхоз\n",
      "поселок Оредеж\n",
      "поселок Пансионат Зеленый Бор\n",
      "поселок Парголово\n",
      "поселок Первомайское\n",
      "поселок Перово\n",
      "поселок Песочный\n",
      "поселок Петро-Славянка\n",
      "поселок Петровское\n",
      "поселок Платформа 69-й километр\n",
      "поселок Плодовое\n",
      "поселок Плоское\n",
      "поселок Победа\n",
      "поселок Поляны\n",
      "поселок Понтонный\n",
      "поселок Почап\n",
      "поселок Починок\n",
      "поселок Пригородный\n",
      "поселок Пудость\n",
      "поселок Пушное\n",
      "поселок Пчевжа\n",
      "поселок Рабитицы\n",
      "поселок Репино\n",
      "поселок Романовка\n",
      "поселок Ромашки\n",
      "поселок Ропша\n",
      "поселок Рябово\n",
      "поселок Саперное\n",
      "поселок Саперный\n",
      "поселок Севастьяново\n",
      "поселок Селезнево\n",
      "поселок Сельцо\n",
      "поселок Семиозерье\n",
      "поселок Семрино\n",
      "поселок Серебрянский\n",
      "поселок Совхозный\n",
      "поселок Сосново\n",
      "поселок Старая Малукса\n",
      "поселок Стеклянный\n",
      "поселок Стрельна\n",
      "поселок Суйда\n",
      "поселок Сумино\n",
      "поселок Суходолье\n",
      "поселок Тельмана\n",
      "поселок Терволово\n",
      "поселок Тесово-4\n",
      "поселок Торковичи\n",
      "поселок Торфяное\n",
      "поселок Углово\n",
      "поселок Усть-Ижора\n",
      "поселок Усть-Луга\n",
      "поселок Ушаки\n",
      "поселок Форт Красная Горка\n",
      "поселок Цвелодубово\n",
      "поселок Цвылево\n",
      "поселок Шугозеро\n",
      "поселок Шушары\n",
      "поселок Щеглово\n",
      "поселок при железнодорожной станции Вещево\n",
      "поселок при железнодорожной станции Громово\n",
      "поселок при железнодорожной станции Корнево\n",
      "поселок при железнодорожной станции Лужайка\n",
      "поселок при железнодорожной станции Приветнинское\n",
      "поселок при железнодорожной станции Свирь\n",
      "садовое товарищество Лесная Поляна\n",
      "садовое товарищество Новая Ропша\n",
      "садовое товарищество Приладожский\n",
      "садовое товарищество Рахья\n",
      "садовое товарищество Садко\n",
      "село Копорье\n",
      "село Никольское\n",
      "село Павлово\n",
      "село Паша\n",
      "село Путилово\n",
      "село Рождествено\n",
      "село Русско-Высоцкое\n",
      "село Старая Ладога\n",
      "село Шум\n"
     ]
    }
   ],
   "source": [
    "#ищем дубликаты\n",
    "print(colored('НЕЯВНЫЕ ДУБЛИ', 'red'))\n",
    "print()\n",
    "for i in pd.Series(data['locality_name'].unique()).sort_values():\n",
    "    print (i)\n",
    "print()\n",
    "\n",
    "#устраняем дубликаты\n",
    "data['locality_name'] = (\n",
    "    data['locality_name']\n",
    "    .str.replace('ё', 'е')\n",
    "    .replace(['поселок городского типа', 'садоводческое некоммерческое', 'поселок станции'], ['городской поселок','садовое', 'поселок при железнодорожной станции'], regex=True)\n",
    ") \n",
    "\n",
    "#проверяем\n",
    "print(colored('ДУБЛИ УСТРАНЕНЫ', 'green'))\n",
    "print()\n",
    "for i in pd.Series(data['locality_name'].unique()).sort_values():\n",
    "    print (i)"
   ]
  },
  {
   "cell_type": "markdown",
   "metadata": {},
   "source": [
    "<div class=\"alert alert-success\">\n",
    "<b>✔️ Комментарий ревьюера v1:</b> \n",
    "<br>Супер! Здесь всё верно)\n",
    "</div>"
   ]
  },
  {
   "cell_type": "code",
   "execution_count": 10,
   "metadata": {},
   "outputs": [
    {
     "name": "stdout",
     "output_type": "stream",
     "text": [
      "\u001b[32mtotal_images\u001b[0m\n",
      "50\n",
      "0\n",
      "\n",
      "\u001b[32mlast_price\u001b[0m\n",
      "763000000\n",
      "12190\n",
      "\n",
      "\u001b[32mtotal_area\u001b[0m\n",
      "900.0\n",
      "12.0\n",
      "\n",
      "\u001b[32mfirst_day_exposition\u001b[0m\n",
      "2019-05-03 00:00:00\n",
      "2014-11-27 00:00:00\n",
      "\n",
      "\u001b[32mrooms\u001b[0m\n",
      "19\n",
      "1\n",
      "\n",
      "\u001b[32mceiling_height\u001b[0m\n",
      "100.0\n",
      "1.0\n",
      "\n",
      "\u001b[32mfloors_total\u001b[0m\n",
      "60\n",
      "1\n",
      "\n",
      "\u001b[32mliving_area\u001b[0m\n",
      "494.1\n",
      "2.0\n",
      "\n",
      "\u001b[32mfloor\u001b[0m\n",
      "33\n",
      "1\n",
      "\n",
      "\u001b[32mis_apartment\u001b[0m\n",
      "True\n",
      "False\n",
      "\n",
      "\u001b[32mstudio\u001b[0m\n",
      "1\n",
      "0\n",
      "\n",
      "\u001b[32mopen_plan\u001b[0m\n",
      "1\n",
      "0\n",
      "\n",
      "\u001b[32mkitchen_area\u001b[0m\n",
      "494.1\n",
      "1.3\n",
      "\n",
      "\u001b[32mbalcony\u001b[0m\n",
      "5\n",
      "0\n",
      "\n",
      "\u001b[32mlocality_name\u001b[0m\n",
      "село Шум\n",
      "Бокситогорск\n",
      "\n",
      "\u001b[32mairports_nearest\u001b[0m\n",
      "84869.0\n",
      "0.0\n",
      "\n",
      "\u001b[32mcityCenters_nearest\u001b[0m\n",
      "65968.0\n",
      "0.0\n",
      "\n",
      "\u001b[32mparks_around3000\u001b[0m\n",
      "3\n",
      "0\n",
      "\n",
      "\u001b[32mparks_nearest\u001b[0m\n",
      "3190.0\n",
      "0.0\n",
      "\n",
      "\u001b[32mponds_around3000\u001b[0m\n",
      "3\n",
      "0\n",
      "\n",
      "\u001b[32mponds_nearest\u001b[0m\n",
      "1344.0\n",
      "0.0\n",
      "\n",
      "\u001b[32mdays_exposition\u001b[0m\n",
      "1580.0\n",
      "1.0\n",
      "\n"
     ]
    }
   ],
   "source": [
    "# убираем артефакты\n",
    "col = pd.Series(data.columns)\n",
    "for i in col:\n",
    "    print(colored(i,'green'))\n",
    "    print(data[i].max())\n",
    "    print(data[i].min())\n",
    "    print()\n"
   ]
  },
  {
   "cell_type": "markdown",
   "metadata": {},
   "source": [
    "<font color='teal'>*Как итог, мы проверили данные на неявные дубликаты и устранили их, проверили есть ли в данных артефакты. Для того, чтобы исключить дубликаты, мы привели признаки локации к \"общему знаменателю\". Далее мы рассмотрели минимальное значение и максимальное для каждого столбца, чтобы определить, не выходят ли рамки за пределы \"нормальных\"*"
   ]
  },
  {
   "cell_type": "markdown",
   "metadata": {},
   "source": [
    "### Посчитайте и добавьте в таблицу новые столбцы"
   ]
  },
  {
   "cell_type": "code",
   "execution_count": 11,
   "metadata": {},
   "outputs": [],
   "source": [
    "#цена одного квадратного метра\n",
    "data['price_m2'] = round(data['last_price'] / data['total_area'],2)\n",
    "\n",
    "#день недели публикации объявления\n",
    "data['weekday_name'] = data['first_day_exposition'].dt.weekday\n",
    "\n",
    "#месяц публикации объявления\n",
    "data['month_name'] = data['first_day_exposition'].dt.month\n",
    "\n",
    "#год публикации объявления\n",
    "data['year_name'] = data['first_day_exposition'].dt.year\n",
    "\n",
    "#тип этажа квартиры (значения — «первый», «последний», «другой»);\n",
    "\n",
    "def floor_type(row):\n",
    "    floors_total = row['floors_total']\n",
    "    floor = row['floor']\n",
    "    if floor == 1:\n",
    "        return 'первый'\n",
    "    if floor == floors_total:\n",
    "        return 'последний'\n",
    "    else:\n",
    "        return 'другой'\n",
    "\n",
    "data['floor_type'] = data.apply(floor_type, axis = 1)\n",
    "\n",
    "#расстояние до центра города в километрах\n",
    "data['cityCenters_nearest'] = round(data['cityCenters_nearest']/1000, 0)"
   ]
  },
  {
   "cell_type": "markdown",
   "metadata": {},
   "source": [
    "<div class=\"alert alert-success\">\n",
    "<b>✔️ Комментарий ревьюера v1:</b> \n",
    "<br>Все необходимые колонки добавлены. Идём дальше)\n",
    "</div>"
   ]
  },
  {
   "cell_type": "markdown",
   "metadata": {},
   "source": [
    "### Проведите исследовательский анализ данных"
   ]
  },
  {
   "cell_type": "markdown",
   "metadata": {},
   "source": [
    "#### Изучим параметры датафрема"
   ]
  },
  {
   "cell_type": "code",
   "execution_count": 12,
   "metadata": {
    "scrolled": true
   },
   "outputs": [
    {
     "name": "stdout",
     "output_type": "stream",
     "text": [
      "count    23699.000000\n",
      "mean        60.348651\n",
      "std         35.654083\n",
      "min         12.000000\n",
      "25%         40.000000\n",
      "50%         52.000000\n",
      "75%         69.900000\n",
      "max        900.000000\n",
      "Name: total_area, dtype: float64\n"
     ]
    },
    {
     "data": {
      "image/png": "[encoded data removed]",
      "text/plain": [
       "<Figure size 360x432 with 1 Axes>"
      ]
     },
     "metadata": {
      "needs_background": "light"
     },
     "output_type": "display_data"
    },
    {
     "data": {
      "image/png": "[encoded data removed]",
      "text/plain": [
       "<Figure size 576x432 with 1 Axes>"
      ]
     },
     "metadata": {
      "needs_background": "light"
     },
     "output_type": "display_data"
    }
   ],
   "source": [
    "#total_area\n",
    "print(data['total_area'].describe())\n",
    "data['total_area'].hist(bins=100, grid=True, figsize=(5,6), range=(data['total_area'].min(),113))\n",
    "plt.xlabel('total_area')\n",
    "plt.ylabel('count_objects')\n",
    "plt.title('total_area')\n",
    "plt.show()\n",
    "\n",
    "#смотрим аномалии через боксплот\n",
    "fig, ax = plt.subplots(figsize=(8, 6))\n",
    "boxplot = ax.boxplot(data['total_area'], vert=False)\n",
    "ax.set_xlabel('total_area')\n",
    "ax.set_xticks(range(0, 900, 50))\n",
    "ax.tick_params(axis='x', labelrotation=90)\n",
    "ax.grid(True)\n",
    "plt.show()"
   ]
  },
  {
   "cell_type": "code",
   "execution_count": 13,
   "metadata": {},
   "outputs": [],
   "source": [
    "# устраним аномалии \n",
    "data['total_area'] = data['total_area'].where((data['total_area'] <= 133) & (data['total_area'] >= 12))"
   ]
  },
  {
   "cell_type": "markdown",
   "metadata": {},
   "source": [
    "<div class=\"alert alert-info\">\n",
    "<b>Комментарий студента_v2:</b>\n",
    "<br> Аномалии срезаны из датафрейма\n",
    "</div>"
   ]
  },
  {
   "cell_type": "markdown",
   "metadata": {},
   "source": [
    "<div class=\"alert alert-info\">\n",
    "<b>Комментарий студента:</b>\n",
    "<br> Для построения гистограммы мы предварительно проверили данные на аномалии методом \"ящика с усами\" - узнали границы \"нормальных\" данных (В размах «усов» попадают нормальные значения, а за пределами находятся выбросы, изображённые точками (с. ЯП). Для того, чтобы отсечь выбросы и рассмотреть гистограмму внимательнее мы установили границы в пределах размаха, а именно 12м2 - 113 м2. Как итог, мы получили следующий диапазон метражей с наибольшим количеством объявлений: от 30 до 45 м2. \n",
    "</div>"
   ]
  },
  {
   "cell_type": "code",
   "execution_count": 14,
   "metadata": {},
   "outputs": [
    {
     "name": "stdout",
     "output_type": "stream",
     "text": [
      "count    23699.000000\n",
      "mean        34.313397\n",
      "std         21.759765\n",
      "min          2.000000\n",
      "25%         19.000000\n",
      "50%         30.000000\n",
      "75%         42.000000\n",
      "max        494.100000\n",
      "Name: living_area, dtype: float64\n"
     ]
    },
    {
     "data": {
      "image/png": "[encoded data removed]",
      "text/plain": [
       "<Figure size 360x432 with 1 Axes>"
      ]
     },
     "metadata": {
      "needs_background": "light"
     },
     "output_type": "display_data"
    },
    {
     "data": {
      "image/png": "[encoded data removed]",
      "text/plain": [
       "<Figure size 792x216 with 1 Axes>"
      ]
     },
     "metadata": {
      "needs_background": "light"
     },
     "output_type": "display_data"
    }
   ],
   "source": [
    "#living_area\n",
    "print(data['living_area'].describe())\n",
    "data['living_area'].hist(bins=100, grid=True, figsize=(5,6), range=(1,77))\n",
    "plt.xlabel('living_area')\n",
    "plt.ylabel('count_objects')\n",
    "plt.title('living_area')\n",
    "plt.show()\n",
    "\n",
    "#смотрим аномалии через боксплот\n",
    "fig, ax = plt.subplots(figsize=(11, 3))\n",
    "boxplot = ax.boxplot(data['living_area'], vert=False)\n",
    "ax.set_xlabel('living_area')\n",
    "ax.set_xticks(range(0, 495, 25))\n",
    "ax.tick_params(axis='x', labelrotation=90)\n",
    "ax.grid(True)\n",
    "plt.show()"
   ]
  },
  {
   "cell_type": "code",
   "execution_count": 15,
   "metadata": {},
   "outputs": [],
   "source": [
    "#удалим аномалии\n",
    "data['living_area'] = data['living_area'].where((data['living_area'] <= 77) & (data['living_area'] >= 1))"
   ]
  },
  {
   "cell_type": "markdown",
   "metadata": {},
   "source": [
    "<div class=\"alert alert-info\">\n",
    "<b>Комментарий студента_v2:</b>\n",
    "<br> Аномалии срезаны из датафрейма\n",
    "</div>"
   ]
  },
  {
   "cell_type": "markdown",
   "metadata": {},
   "source": [
    "<div class=\"alert alert-info\">\n",
    "<b>Комментарий студента:</b>\n",
    "<br> При построении гистограммы пользовались аналогичным способом (см. total_area): проверили данные на аномалии методом \"ящика с усами\". Для того, чтобы отсечь выбросы и рассмотреть гистограмму внимательнее мы установили границы в пределах размаха, а именно 1м2 - 71 м2. Как итог, мы получили следующий диапазон метражей с наибольшим количеством объявлений: от 15 до 19 м2. \n",
    "</div>"
   ]
  },
  {
   "cell_type": "code",
   "execution_count": 16,
   "metadata": {},
   "outputs": [
    {
     "name": "stdout",
     "output_type": "stream",
     "text": [
      "count    23699.00000\n",
      "mean        12.54664\n",
      "std          9.70864\n",
      "min          1.30000\n",
      "25%          7.40000\n",
      "50%         10.00000\n",
      "75%         13.50000\n",
      "max        494.10000\n",
      "Name: kitchen_area, dtype: float64\n"
     ]
    },
    {
     "data": {
      "image/png": "[encoded data removed]",
      "text/plain": [
       "<Figure size 360x432 with 1 Axes>"
      ]
     },
     "metadata": {
      "needs_background": "light"
     },
     "output_type": "display_data"
    },
    {
     "data": {
      "image/png": "[encoded data removed]",
      "text/plain": [
       "<Figure size 792x216 with 1 Axes>"
      ]
     },
     "metadata": {
      "needs_background": "light"
     },
     "output_type": "display_data"
    }
   ],
   "source": [
    "#kitchen_area\n",
    "print(data['kitchen_area'].describe())\n",
    "data['kitchen_area'].hist(bins=100, grid=True, figsize=(5,6), range=(0,25))\n",
    "plt.xlabel('kitchen_area')\n",
    "plt.ylabel('count_objects')\n",
    "plt.title('kitchen_area')\n",
    "plt.show()\n",
    "\n",
    "#смотрим аномалии через боксплот\n",
    "fig, ax = plt.subplots(figsize=(11, 3))\n",
    "boxplot = ax.boxplot(data['kitchen_area'], vert=False)\n",
    "ax.set_xlabel('kitchen_area')\n",
    "ax.set_xticks(range(0, 495, 25))\n",
    "ax.tick_params(axis='x', labelrotation=90)\n",
    "ax.grid(True)\n",
    "plt.show()"
   ]
  },
  {
   "cell_type": "code",
   "execution_count": 17,
   "metadata": {},
   "outputs": [],
   "source": [
    "#удалим аномалии\n",
    "data['kitchen_area'] = data['kitchen_area'].where((data['kitchen_area'] <= 25) & (data['kitchen_area'] >= 1))"
   ]
  },
  {
   "cell_type": "markdown",
   "metadata": {},
   "source": [
    "<div class=\"alert alert-info\">\n",
    "<b>Комментарий студента_v2:</b>\n",
    "<br> Аномалии срезаны из датафрейма\n",
    "</div>"
   ]
  },
  {
   "cell_type": "markdown",
   "metadata": {},
   "source": [
    "<div class=\"alert alert-info\">\n",
    "<b>Комментарий студента:</b>\n",
    "<br> Все действия проводились по аналогии предшествующим ячейкам с изучением параметров площади. Мы получили следующий диапазон метражей с наибольшим количеством объявлений: от 7 до 12 м2\n",
    "</div>"
   ]
  },
  {
   "cell_type": "code",
   "execution_count": 18,
   "metadata": {},
   "outputs": [
    {
     "name": "stdout",
     "output_type": "stream",
     "text": [
      "count    23699.000000\n",
      "mean         2.078948\n",
      "std          1.066196\n",
      "min          1.000000\n",
      "25%          1.000000\n",
      "50%          2.000000\n",
      "75%          3.000000\n",
      "max         19.000000\n",
      "Name: rooms, dtype: float64\n"
     ]
    },
    {
     "data": {
      "image/png": "[encoded data removed]",
      "text/plain": [
       "<Figure size 360x432 with 1 Axes>"
      ]
     },
     "metadata": {
      "needs_background": "light"
     },
     "output_type": "display_data"
    },
    {
     "data": {
      "image/png": "[encoded data removed]",
      "text/plain": [
       "<Figure size 792x216 with 1 Axes>"
      ]
     },
     "metadata": {
      "needs_background": "light"
     },
     "output_type": "display_data"
    }
   ],
   "source": [
    "#rooms\n",
    "print(data['rooms'].describe())\n",
    "data['rooms'].hist(bins=100, grid=True, figsize=(5,6), range=(data['rooms'].min(),6))\n",
    "plt.xlabel('rooms')\n",
    "plt.ylabel('count_objects')\n",
    "plt.title('rooms')\n",
    "plt.show()\n",
    "\n",
    "#аналогично проверяем аномалии\n",
    "fig, ax = plt.subplots(figsize=(11, 3))\n",
    "boxplot = ax.boxplot(data['rooms'], vert=False)\n",
    "ax.set_xlabel('rooms')\n",
    "ax.set_xticks(range(0, 19, 1))\n",
    "ax.tick_params(axis='x', labelrotation=90)\n",
    "ax.grid(True)\n",
    "plt.show()"
   ]
  },
  {
   "cell_type": "code",
   "execution_count": 19,
   "metadata": {},
   "outputs": [],
   "source": [
    "#удалим аномалии\n",
    "data['rooms'] = data['rooms'].where((data['rooms'] <= 6) & (data['rooms'] >= 1))"
   ]
  },
  {
   "cell_type": "markdown",
   "metadata": {},
   "source": [
    "<div class=\"alert alert-info\">\n",
    "<b>Комментарий студента_v2:</b>\n",
    "<br> Аномалии срезаны из датафрейма\n",
    "</div>"
   ]
  },
  {
   "cell_type": "markdown",
   "metadata": {},
   "source": [
    "<div class=\"alert alert-info\">\n",
    "<b>Комментарий студента:</b>\n",
    "<br> Проанализировав параметр и устраня из поля зрения выбивающиеся значения, мы получили такой итог: самая многочисленная группа объявлений - группа с однокомнатными квартирами. Тенденция без всплесков плавно снижается, а значит объявлений на двухкомнатные квартиры меньше, чем на однокомнатные. А на трехкомнатные меньше двухкомнатных и т.д.\n",
    "</div>\n"
   ]
  },
  {
   "cell_type": "code",
   "execution_count": 20,
   "metadata": {},
   "outputs": [
    {
     "name": "stdout",
     "output_type": "stream",
     "text": [
      "count    23699.000000\n",
      "mean         5.892358\n",
      "std          4.885249\n",
      "min          1.000000\n",
      "25%          2.000000\n",
      "50%          4.000000\n",
      "75%          8.000000\n",
      "max         33.000000\n",
      "Name: floor, dtype: float64\n"
     ]
    },
    {
     "data": {
      "image/png": "[encoded data removed]",
      "text/plain": [
       "<Figure size 360x432 with 1 Axes>"
      ]
     },
     "metadata": {
      "needs_background": "light"
     },
     "output_type": "display_data"
    },
    {
     "data": {
      "image/png": "[encoded data removed]",
      "text/plain": [
       "<Figure size 792x216 with 1 Axes>"
      ]
     },
     "metadata": {
      "needs_background": "light"
     },
     "output_type": "display_data"
    }
   ],
   "source": [
    "#floor\n",
    "print(data['floor'].describe())\n",
    "data['floor'].hist(bins=100, grid=True, figsize=(5,6), range=(data['floor'].min(),8))\n",
    "plt.xlabel('floor')\n",
    "plt.ylabel('count_objects')\n",
    "plt.title('floor')\n",
    "plt.show()\n",
    "\n",
    "#проверяем аномалии\n",
    "fig, ax = plt.subplots(figsize=(11, 3))\n",
    "boxplot = ax.boxplot(data['floor'], vert=False)\n",
    "ax.set_xlabel('floor')\n",
    "ax.set_xticks(range(0, 33, 1))\n",
    "ax.tick_params(axis='x', labelrotation=90)\n",
    "ax.grid(True)\n",
    "plt.show()"
   ]
  },
  {
   "cell_type": "markdown",
   "metadata": {},
   "source": [
    "<div class=\"alert alert-info\">\n",
    "<b>Комментарий студента:</b>\n",
    "<br> Наиболее популярным среди объявлений является второй этаж, на втором месте по популярности - третий этаж, а третье место достается первому этажу. Далее кол-во предложений с бо'льшим этажом уменьшается, чем выше этаж - тем меньше можно найти по нему объявлений\n",
    "</div>"
   ]
  },
  {
   "cell_type": "code",
   "execution_count": 21,
   "metadata": {},
   "outputs": [
    {
     "name": "stdout",
     "output_type": "stream",
     "text": [
      "count    23699.000000\n",
      "mean        10.990717\n",
      "std          9.649241\n",
      "min          0.000000\n",
      "25%          3.000000\n",
      "50%         11.000000\n",
      "75%         15.000000\n",
      "max         66.000000\n",
      "Name: cityCenters_nearest, dtype: float64\n"
     ]
    },
    {
     "data": {
      "image/png": "[encoded data removed]",
      "text/plain": [
       "<Figure size 360x432 with 1 Axes>"
      ]
     },
     "metadata": {
      "needs_background": "light"
     },
     "output_type": "display_data"
    },
    {
     "data": {
      "image/png": "[encoded data removed]",
      "text/plain": [
       "<Figure size 792x216 with 1 Axes>"
      ]
     },
     "metadata": {
      "needs_background": "light"
     },
     "output_type": "display_data"
    }
   ],
   "source": [
    "#cityCenters_nearest\n",
    "print(data['cityCenters_nearest'].describe())\n",
    "data['cityCenters_nearest'].hist(bins=100, grid=True, figsize=(5,6), range=(0,33))\n",
    "plt.xlabel('cityCenters_nearest')\n",
    "plt.ylabel('count_objects')\n",
    "plt.title('cityCenters_nearest')\n",
    "plt.show()\n",
    "\n",
    "#проверяем аномалии\n",
    "fig, ax = plt.subplots(figsize=(11, 3))\n",
    "boxplot = ax.boxplot(data['cityCenters_nearest'], vert=False)\n",
    "ax.set_xlabel('cityCenters_nearest')\n",
    "ax.set_xticks(range(0, 66, 5))\n",
    "ax.tick_params(axis='x', labelrotation=90)\n",
    "ax.grid(True)\n",
    "plt.show()"
   ]
  },
  {
   "cell_type": "markdown",
   "metadata": {},
   "source": [
    "<div class=\"alert alert-info\">\n",
    "<b>Комментарий студента:</b>\n",
    "<br> График по кол-ву объявлений по близости центра напоминает распределение Пуассона - видим холм, который возрастает до определенного уровня, потом так же плавно начинает спускаться. Мы видим выброс на значении 0, но мы понимаем, что этот выброс - итог устранения пропущенных значений. Эту часть графика можно игнорировать. Также становится заметно, что значения могли указать с ошибкой, сложно представить расстояние до центра в 11 м. Полагаю, что расстояние в этом столбце указано в км, а не метрах. Если придерживаться моего понимания, то больше всего объявлений с диапазоном расстояния до центра от 11км до 16км.\n",
    "</div>"
   ]
  },
  {
   "cell_type": "code",
   "execution_count": 22,
   "metadata": {},
   "outputs": [
    {
     "name": "stdout",
     "output_type": "stream",
     "text": [
      "count    23699.000000\n",
      "mean       367.631245\n",
      "std        293.195692\n",
      "min          0.000000\n",
      "25%          0.000000\n",
      "50%        498.597886\n",
      "75%        498.597886\n",
      "max       3190.000000\n",
      "Name: parks_nearest, dtype: float64\n"
     ]
    },
    {
     "data": {
      "image/png": "[encoded data removed]",
      "text/plain": [
       "<Figure size 576x216 with 1 Axes>"
      ]
     },
     "metadata": {
      "needs_background": "light"
     },
     "output_type": "display_data"
    },
    {
     "data": {
      "image/png": "[encoded data removed]",
      "text/plain": [
       "<Figure size 792x216 with 1 Axes>"
      ]
     },
     "metadata": {
      "needs_background": "light"
     },
     "output_type": "display_data"
    }
   ],
   "source": [
    "#parks_nearest\n",
    "print(data['parks_nearest'].describe())\n",
    "data['parks_nearest'].hist(bins=100, grid=True, figsize=(8,3), range=(data['parks_nearest'].min(),1210))\n",
    "plt.xlabel('parks_nearest')\n",
    "plt.ylabel('count_objects')\n",
    "plt.ylim(0, 500) #обрежем аномально высокие столбцы, вызванные заполнением пропусков\n",
    "plt.title('parks_nearest')\n",
    "plt.show()\n",
    "\n",
    "#аналогично проверяем аномалии\n",
    "fig, ax = plt.subplots(figsize=(11, 3))\n",
    "boxplot = ax.boxplot(data['parks_nearest'], vert=False)\n",
    "ax.set_xlabel('parks_nearest')\n",
    "ax.set_xticks(range(0, 3200, 100))\n",
    "ax.tick_params(axis='x', labelrotation=90)\n",
    "ax.grid(True)\n",
    "plt.show()\n"
   ]
  },
  {
   "cell_type": "markdown",
   "metadata": {},
   "source": [
    "<div class=\"alert alert-info\">\n",
    "<b>Комментарий студента:</b>\n",
    "<br> Рассмотрев гистограмму, видно, что расстояние для парков - то же самое распределение Пуассона. Явно выбивается здесь одна колонка(~500м), которая образовалась вследствие устранения пропусков в данных. Самыми многочисленными объявлениями были объявления с расстоянием до парка от 390 до 490 м. Такие низкие значения сложно воспринимать, как возможную ошибку и переводить в километры (а в дециметрах люди никогда ничего не указывали), однако, попытаться объяснить их можно. Парком собственники жильня могли называть любой сквер рядом, который есть почти в любом дворе.\n",
    "</div>"
   ]
  },
  {
   "cell_type": "code",
   "execution_count": 23,
   "metadata": {},
   "outputs": [
    {
     "name": "stdout",
     "output_type": "stream",
     "text": [
      "count    23699.000000\n",
      "mean         2.744938\n",
      "std          0.235528\n",
      "min          1.000000\n",
      "25%          2.600000\n",
      "50%          2.771499\n",
      "75%          2.771499\n",
      "max         10.000000\n",
      "Name: ceiling_height, dtype: float64\n"
     ]
    },
    {
     "data": {
      "image/png": "[encoded data removed]",
      "text/plain": [
       "<Figure size 720x432 with 1 Axes>"
      ]
     },
     "metadata": {
      "needs_background": "light"
     },
     "output_type": "display_data"
    },
    {
     "data": {
      "image/png": "[encoded data removed]",
      "text/plain": [
       "<Figure size 792x216 with 1 Axes>"
      ]
     },
     "metadata": {
      "needs_background": "light"
     },
     "output_type": "display_data"
    }
   ],
   "source": [
    "#уберем аномально высокие потолки, предположим, что потолок в 10 м ошибочно указали, имели в виду 1.0. Переведем все аномальные значения после 10 \"м\" в адекватные метры \n",
    "data['ceiling_height'] = data['ceiling_height'].where(data['ceiling_height'] <= 10, data['ceiling_height'] / 10)\n",
    "\n",
    "#ceiling_height\n",
    "print(data['ceiling_height'].describe())\n",
    "data['ceiling_height'].hist(bins=100, grid=True, range=(1,10), figsize=(10,6))\n",
    "plt.xlabel('ceiling_height')\n",
    "plt.ylim(0, 4000) #обрежем аномально высокие столбцы, вызванные заполнением пропусков\n",
    "plt.ylabel('count_objects')\n",
    "plt.title('ceiling_height')\n",
    "plt.show()\n",
    "\n",
    "#аналогично проверяем аномалии\n",
    "fig, ax = plt.subplots(figsize=(11, 3))\n",
    "boxplot = ax.boxplot(data['ceiling_height'], vert=False)\n",
    "ax.set_xlabel('ceiling_height')\n",
    "ax.set_xticks(range(0, 10, 1))\n",
    "ax.tick_params(axis='x', labelrotation=90)\n",
    "ax.grid(True)\n",
    "plt.show()\n"
   ]
  },
  {
   "cell_type": "markdown",
   "metadata": {},
   "source": [
    "<div class=\"alert alert-info\">\n",
    "<b>Комментарий студента:</b>\n",
    "<br> Аномалии в столбце были устранены таким образом, что потолки выше 10 метров принимались за ошибочные и делились на 10, чтобы перевести в значения, имеющиеся в виду. Больше всего квартир продается с потолками в диапазоне 2.3 - 3.0 м.\n",
    "</div>"
   ]
  },
  {
   "cell_type": "code",
   "execution_count": 24,
   "metadata": {},
   "outputs": [],
   "source": [
    "data['last_price'] = data['last_price']/1000000 # очень большие значения, лучше сократить до миллиона "
   ]
  },
  {
   "cell_type": "code",
   "execution_count": 25,
   "metadata": {},
   "outputs": [
    {
     "name": "stdout",
     "output_type": "stream",
     "text": [
      "count    23699.000000\n",
      "mean         6.541549\n",
      "std         10.887013\n",
      "min          0.012190\n",
      "25%          3.400000\n",
      "50%          4.650000\n",
      "75%          6.800000\n",
      "max        763.000000\n",
      "Name: last_price, dtype: float64\n"
     ]
    },
    {
     "data": {
      "image/png": "[encoded data removed]",
      "text/plain": [
       "<Figure size 720x864 with 1 Axes>"
      ]
     },
     "metadata": {
      "needs_background": "light"
     },
     "output_type": "display_data"
    },
    {
     "data": {
      "image/png": "[encoded data removed]",
      "text/plain": [
       "<Figure size 1440x216 with 1 Axes>"
      ]
     },
     "metadata": {
      "needs_background": "light"
     },
     "output_type": "display_data"
    }
   ],
   "source": [
    "#last_price   \n",
    "print(data['last_price'].describe())\n",
    "data['last_price'].hist(bins=100, grid=True, figsize=(10,12), range=(0.5,10)) #не будем брать значения за пределами \"усов\", но и в \"усы\" попали странные значения, типа 0,012. Неясно, на что можно заменить эти значения, поэтому при рассмотрении графика мы не будем их брать в диапазон\n",
    "plt.xlabel('last_price')\n",
    "plt.ylabel('count_objects')\n",
    "plt.ylim(0, 800) \n",
    "plt.title('last_price')\n",
    "plt.show()\n",
    "\n",
    "fig, ax = plt.subplots(figsize=(20, 3))\n",
    "boxplot = ax.boxplot(data['last_price'], vert=False)\n",
    "ax.set_xlabel('last_price')\n",
    "ax.set_xticks(range(0, 763, 10))\n",
    "ax.tick_params(axis='x', labelrotation=90)\n",
    "ax.grid(True)\n",
    "plt.show()"
   ]
  },
  {
   "cell_type": "code",
   "execution_count": 26,
   "metadata": {},
   "outputs": [],
   "source": [
    "#удалим аномалии\n",
    "data['last_price'] = data['last_price'].where((data['last_price'] < 11) & (data['last_price'] > 0.4))"
   ]
  },
  {
   "cell_type": "markdown",
   "metadata": {},
   "source": [
    "<div class=\"alert alert-info\">\n",
    "<b>Комментарий студента_v2:</b>\n",
    "<br> Аномалии срезаны из датафрейма\n",
    "</div>"
   ]
  },
  {
   "cell_type": "markdown",
   "metadata": {},
   "source": [
    "<div class=\"alert alert-info\">\n",
    "<b>Комментарий студента:</b>\n",
    "<br> После устранения аномалий стало заметно, что распределение объявлений по цене квартиры в миллионах напоминает распределение Пуассона. Больше всего квартир выставлено на продажу с ценой от 3 до 5 млн.\n",
    "</div>"
   ]
  },
  {
   "cell_type": "code",
   "execution_count": 27,
   "metadata": {},
   "outputs": [
    {
     "data": {
      "image/png": "[encoded data removed]",
      "text/plain": [
       "<Figure size 216x360 with 1 Axes>"
      ]
     },
     "metadata": {
      "needs_background": "light"
     },
     "output_type": "display_data"
    }
   ],
   "source": [
    "#floor_type\n",
    "grouped_data = data.groupby('floor_type').size()\n",
    "grouped_data.plot(kind='bar', figsize=(3, 5))\n",
    "plt.xlabel('floor_type')\n",
    "plt.ylabel('count_objects')\n",
    "plt.title('floor_type')\n",
    "plt.show()"
   ]
  },
  {
   "cell_type": "markdown",
   "metadata": {},
   "source": [
    "<div class=\"alert alert-info\">\n",
    "<b>Комментарий студента:</b>\n",
    "<br> По итогам гистограммы видно, что меньше всего объявлений с квартирами на первом этаже. Соответственно, квартиры на последнем этаже чуть чаще выставляются на продажу. Вполне ожидаемо в топ входят квартиры на остальных этажах.\n",
    "</div>"
   ]
  },
  {
   "cell_type": "markdown",
   "metadata": {},
   "source": [
    "<div class=\"alert alert-danger\">\n",
    "<b>❌ Комментарий ревьюера v1:</b> \n",
    "<br>Давай внесем несколько правок в это задание:\n",
    "<br>- построй каждый график отдельно и напиши отзыв под ним. Так будет проще соотносить график и вывод по нему\n",
    "<br>- добавь больше конкретики в выводы. Небольшой метраж это сколько? Укажи диапазоны, где расположена большая часть квартир\n",
    "<br>- у тебя график для категории этажей слился в один столбец, получается что все категории этажей есть в равном количестве? Сгруппируй по категориям и построй гистограмму\n",
    "</div>"
   ]
  },
  {
   "cell_type": "markdown",
   "metadata": {},
   "source": [
    "<div class=\"alert alert-info\">\n",
    "<b>Комментарий студента:</b>\n",
    "<br> График по этажам перестроен) А выводы выше\n",
    "</div>"
   ]
  },
  {
   "cell_type": "markdown",
   "metadata": {},
   "source": [
    "<div class=\"alert alert-success\">\n",
    "<b>✔️ Комментарий ревьюера v2:</b>\n",
    "<br>Отлично! Теперь всё верно)\n",
    "</div>"
   ]
  },
  {
   "cell_type": "markdown",
   "metadata": {},
   "source": [
    "<div class=\"alert alert-danger\">\n",
    "<b>❌ Комментарий ревьюера v1:</b> \n",
    "<br>Тут ещё нужно убрать аномальные значения для потолков, стоимости квартиры, площади и количества комнат. Аномальное значение не значит, что оно нереальное или не может существовать. Это значит, что такое значение выделяется на общем фоне и встретить его большая редкость. Количество отброшенных данных не должно превышать 10% от изначального объёма данных. \n",
    "</div>"
   ]
  },
  {
   "cell_type": "markdown",
   "metadata": {},
   "source": [
    "<div class=\"alert alert-danger\">\n",
    "<b>❌ Комментарий ревьюера v2:</b> \n",
    "<br>Аномалии остались (ты удалил только в столбце с потолками), их нужно удалить из датасета data, с которым ты работаешь далее. Давай разберём на примере общей площади (график ниже). На графике чётко видно, что после 200м квартир практически нет, а после 300 линии даже не видно. В данном случае аномальными значениями можно считать все квартиры больше 200-300м. Значит эти значения нужно отбросить. Удали аномалии в столбцах с общей ценой, площадью и количеством комнат\n",
    "</div>\n"
   ]
  },
  {
   "cell_type": "markdown",
   "metadata": {},
   "source": [
    "<div class=\"alert alert-info\">\n",
    "<b>Комментарий студента_v2:</b>\n",
    "<br> Все аномалии исключены\n",
    "</div>"
   ]
  },
  {
   "cell_type": "markdown",
   "metadata": {},
   "source": [
    "<div class=\"alert alert-success\">\n",
    "<b>✔️ Комментарий ревьюера v3:</b>\n",
    "<br>Отлично! Теперь всё верно)\n",
    "</div>"
   ]
  },
  {
   "cell_type": "code",
   "execution_count": 28,
   "metadata": {},
   "outputs": [
    {
     "data": {
      "image/png": "[encoded data removed]",
      "text/plain": [
       "<Figure size 432x288 with 1 Axes>"
      ]
     },
     "metadata": {
      "needs_background": "light"
     },
     "output_type": "display_data"
    }
   ],
   "source": [
    "#код ревьюера\n",
    "data2 = pd.read_csv('/datasets/real_estate_data.csv', sep='\\t')\n",
    "(data2['total_area']).hist(bins=30);"
   ]
  },
  {
   "cell_type": "code",
   "execution_count": 29,
   "metadata": {
    "scrolled": true
   },
   "outputs": [
    {
     "name": "stdout",
     "output_type": "stream",
     "text": [
      "count    20518.000000\n",
      "mean       180.888634\n",
      "std        219.727988\n",
      "min          1.000000\n",
      "25%         45.000000\n",
      "50%         95.000000\n",
      "75%        232.000000\n",
      "max       1580.000000\n",
      "Name: days_exposition, dtype: float64\n"
     ]
    },
    {
     "data": {
      "image/png": "[encoded data removed]",
      "text/plain": [
       "<Figure size 720x864 with 1 Axes>"
      ]
     },
     "metadata": {
      "needs_background": "light"
     },
     "output_type": "display_data"
    },
    {
     "data": {
      "image/png": "[encoded data removed]",
      "text/plain": [
       "<Figure size 720x864 with 1 Axes>"
      ]
     },
     "metadata": {
      "needs_background": "light"
     },
     "output_type": "display_data"
    },
    {
     "name": "stdout",
     "output_type": "stream",
     "text": [
      "Медиана: 102.0\n",
      "Среднее: 185.76537527817115\n"
     ]
    }
   ],
   "source": [
    "print(data['days_exposition'].describe())\n",
    "data['days_exposition'].hist(bins=500,range=(0,1580), figsize=(10,12))\n",
    "plt.show()\n",
    "\n",
    "#посмотрим выбросы в ограничении до 100, там есть несколько столбцов подозрительно высоких\n",
    "data['days_exposition'].hist(bins=100,range=(0,100), figsize=(10,12))\n",
    "plt.show()\n",
    "\n",
    "#выбросы есть в значениях 45 и 60 дней. еще есть маленькие выбросы там, где 30 и 90 дней. выглядит так, будто они автоматически закрылись(техническая ошибка?). Определить это сложно, нужно уточнять эту информацию, какова система автоматического закрытия объявлений, поэтому сейчас я просто исключу эти значения из расчетов\n",
    "\n",
    "print('Медиана: ' + str(data.loc[~data['days_exposition'].isin([30, 45, 60, 90]), 'days_exposition'].median()))\n",
    "print('Среднее: ' + str(data.loc[~data['days_exposition'].isin([30, 45, 60, 90]), 'days_exposition'].mean()))"
   ]
  },
  {
   "cell_type": "markdown",
   "metadata": {},
   "source": [
    "<font color='teal'>***Какие продажи можно считать быстрыми, а какие — необычно долгими?***\n",
    "На гистограмме видно, что постепенно \"стихает\" период продажи. По моему мнению, выбросами тут можно считать те значения, которые очень похожи на автоматическое списание. В остальном же, тенденция такая - большее кол-во продается до 200 дней,есть объявления, закрытые и через 1580 дней (4,3 года). Но в силу того, что гистограмма не похожа на обманчивую, я считаю, что и это возможно (к примеру, это квартира за высокую цену в селе, где рядом нет ни парков ни прудов, а еще половины информации по ней в объявлении)"
   ]
  },
  {
   "cell_type": "markdown",
   "metadata": {},
   "source": [
    "<div class=\"alert alert-success\">\n",
    "<b>✔️ Комментарий ревьюера v1:</b> \n",
    "<br>Здорово, что ты заметила эти всплески! Это действительно особенность функционирования системы размещения объявлений. Убедиться в этом можно по ссылке ниже\n",
    "\n",
    "\thttps://yandex.ru/support/realty/owner/home/add-ads-housing.html\n",
    "</div>"
   ]
  },
  {
   "cell_type": "markdown",
   "metadata": {},
   "source": [
    "#### Изучим зависимость параметров от цены"
   ]
  },
  {
   "cell_type": "code",
   "execution_count": 30,
   "metadata": {},
   "outputs": [
    {
     "name": "stdout",
     "output_type": "stream",
     "text": [
      "Корреляция от общей площади = 0.6859255896844012\n"
     ]
    },
    {
     "data": {
      "image/png": "[encoded data removed]",
      "text/plain": [
       "<Figure size 432x288 with 1 Axes>"
      ]
     },
     "metadata": {
      "needs_background": "light"
     },
     "output_type": "display_data"
    }
   ],
   "source": [
    "#от общей площади\n",
    "totar = data.groupby('total_area')['last_price'].agg(['mean', 'count', 'median']).rename(columns={'mean':'mean', 'count':'count', 'median':'median'})\n",
    "totar.plot(y='median',style='o',alpha=0.4)\n",
    "print('Корреляция от общей площади = ' + str(data['total_area'].corr(data['last_price'])))\n",
    "plt.show()\n"
   ]
  },
  {
   "cell_type": "markdown",
   "metadata": {},
   "source": [
    "<div class=\"alert alert-info\">\n",
    "<b>Комментарий студента:</b>\n",
    "<br> С увеличением площади увеличивается и стоимость квартиры. Коэффициент корреляции говорит нам о том, что площадь на 68% зависит от цены - чем больше, тем выше цена\n",
    "</div>"
   ]
  },
  {
   "cell_type": "code",
   "execution_count": 31,
   "metadata": {},
   "outputs": [
    {
     "name": "stdout",
     "output_type": "stream",
     "text": [
      "Корреляция от жилой площади = 0.5351564222289464\n"
     ]
    },
    {
     "data": {
      "image/png": "[encoded data removed]",
      "text/plain": [
       "<Figure size 432x288 with 1 Axes>"
      ]
     },
     "metadata": {
      "needs_background": "light"
     },
     "output_type": "display_data"
    }
   ],
   "source": [
    "# от жилой площади\n",
    "livar = data.groupby('living_area')['last_price'].agg(['mean', 'count', 'median']).rename(columns={'mean':'mean', 'count':'count', 'median':'median'})\n",
    "livar.plot(y='median',style='o',alpha=0.3)\n",
    "print('Корреляция от жилой площади = ' + str(data['living_area'].corr(data['last_price'])))\n",
    "plt.show()"
   ]
  },
  {
   "cell_type": "markdown",
   "metadata": {},
   "source": [
    "<div class=\"alert alert-info\">\n",
    "<b>Комментарий студента:</b>\n",
    "<br> История с жилой площадью аналогична истории с общей площадью. разве что корреляция здесь не 66%, а 53%. Цифры могли бы получиться более близкими, если бы в общей площади нам не пришлось устранять пропуски\n",
    "</div>"
   ]
  },
  {
   "cell_type": "code",
   "execution_count": 32,
   "metadata": {},
   "outputs": [
    {
     "name": "stdout",
     "output_type": "stream",
     "text": [
      "Корреляция от площади кухни = 0.32230152396113615\n"
     ]
    },
    {
     "data": {
      "image/png": "[encoded data removed]",
      "text/plain": [
       "<Figure size 432x288 with 1 Axes>"
      ]
     },
     "metadata": {
      "needs_background": "light"
     },
     "output_type": "display_data"
    }
   ],
   "source": [
    "# от площади кухни\n",
    "kiar = data.groupby('kitchen_area')['last_price'].agg(['mean', 'count', 'median']).rename(columns={'mean':'mean', 'count':'count', 'median':'median'})\n",
    "kiar.plot(y='median',style='o-',alpha=0.4)\n",
    "print('Корреляция от площади кухни = ' + str(data['kitchen_area'].corr(data['last_price'])))\n",
    "plt.show()"
   ]
  },
  {
   "cell_type": "markdown",
   "metadata": {},
   "source": [
    "<div class=\"alert alert-info\">\n",
    "<b>Комментарий студента:</b>\n",
    "<br> Корреляция от площади кухни совсем не высокая - всего 32%. Это может быть связано с тем, что ценообразование рассчитывается в большинстве случаев по общей площади или жилой площади\n",
    "</div>"
   ]
  },
  {
   "cell_type": "code",
   "execution_count": 33,
   "metadata": {},
   "outputs": [
    {
     "name": "stdout",
     "output_type": "stream",
     "text": [
      "Корреляция от кол-ва комнат = 0.4424346769479774\n"
     ]
    },
    {
     "data": {
      "image/png": "[encoded data removed]",
      "text/plain": [
       "<Figure size 864x360 with 1 Axes>"
      ]
     },
     "metadata": {
      "needs_background": "light"
     },
     "output_type": "display_data"
    }
   ],
   "source": [
    "# количество комнат;\n",
    "roo = data.groupby('rooms')['last_price'].agg(['mean', 'count', 'median']).rename(columns={'mean':'mean', 'count':'count', 'median':'median'})\n",
    "roo.plot(y='median',alpha=0.9, figsize=(12,5), grid=True, style='o-')\n",
    "print('Корреляция от кол-ва комнат = ' + str(data['rooms'].corr(data['last_price'])))\n",
    "plt.show()"
   ]
  },
  {
   "cell_type": "markdown",
   "metadata": {},
   "source": [
    "<div class=\"alert alert-info\">\n",
    "<b>Комментарий студента:</b>\n",
    "<br> В разборе зависимости цены от кол-ва комнат заметно, что часть данных срезалась по причине фильтрации цены квартиры. Таким образом, мы рассчитали корреляцию точнее, и ее коэффициент составил 44%.\n",
    "</div>"
   ]
  },
  {
   "cell_type": "code",
   "execution_count": 34,
   "metadata": {},
   "outputs": [
    {
     "data": {
      "image/png": "[encoded data removed]",
      "text/plain": [
       "<Figure size 432x288 with 1 Axes>"
      ]
     },
     "metadata": {
      "needs_background": "light"
     },
     "output_type": "display_data"
    }
   ],
   "source": [
    "# типа этажа, на котором расположена квартира (первый, последний, другой);\n",
    "floty = data.groupby('floor_type')['last_price'].agg('median')\n",
    "floty.plot(y='count', style='o-', alpha=0.8)\n",
    "plt.xticks(rotation=45)\n",
    "plt.show()"
   ]
  },
  {
   "cell_type": "markdown",
   "metadata": {},
   "source": [
    "<div class=\"alert alert-info\">\n",
    "<b>Комментарий студента:</b>\n",
    "<br> Не совсем корректно рассматривать на графике 3 типа этажей. Выборка с типом \"другой\" в разы больше выборки по остальным типам. Если сравнить первый и последний этаж - то видно, что самые недорогие квартиры находятся на первом этаже (что можно объяснить не очень комфортным расположением), а квартиры на последнем этаже в среднем стоят на 0.2 млн. дороже тех, что на первом\n",
    "</div>"
   ]
  },
  {
   "cell_type": "code",
   "execution_count": 35,
   "metadata": {
    "scrolled": true
   },
   "outputs": [
    {
     "data": {
      "image/png": "[encoded data removed]",
      "text/plain": [
       "<Figure size 432x288 with 1 Axes>"
      ]
     },
     "metadata": {
      "needs_background": "light"
     },
     "output_type": "display_data"
    }
   ],
   "source": [
    "# даты размещения (день недели, месяц, год);\n",
    "dat = data.groupby('weekday_name')['last_price'].agg('median')\n",
    "dat.plot(x='weekday_name', y='last_price', style='o-', grid=True, alpha=0.8) \n",
    "plt.show()"
   ]
  },
  {
   "cell_type": "markdown",
   "metadata": {},
   "source": [
    "<div class=\"alert alert-info\">\n",
    "<b>Комментарий студента:</b>\n",
    "<br> Построив график зависимости видно, что в с понедельника по среду цены на квартиры устанавливаются больше, чем те, что ближе к выходным. При этом разницы между устанавливаемой ценой во второй половине недели нет, а с понедельника по среду цены на квартиры постепенно возрастают, обретая свой пик в среду\n",
    "</div>"
   ]
  },
  {
   "cell_type": "code",
   "execution_count": 36,
   "metadata": {},
   "outputs": [
    {
     "data": {
      "image/png": "[encoded data removed]",
      "text/plain": [
       "<Figure size 432x288 with 1 Axes>"
      ]
     },
     "metadata": {
      "needs_background": "light"
     },
     "output_type": "display_data"
    }
   ],
   "source": [
    "dat = data.groupby('month_name')['last_price'].agg('median')\n",
    "dat.plot(x='month_name', y='last_price', ylim=(4, 5), style='o-', grid=True, alpha=0.8) \n",
    "plt.show()"
   ]
  },
  {
   "cell_type": "markdown",
   "metadata": {},
   "source": [
    "<div class=\"alert alert-info\">\n",
    "<b>Комментарий студента:</b>\n",
    "<br> Зависимость цены от месяца публикации показывает, что самые низкие цены устанавливаются в период с мая по октябрь. Выше всего цены на квартиры в апреле, ноябре и декабре\n",
    "</div>"
   ]
  },
  {
   "cell_type": "code",
   "execution_count": 37,
   "metadata": {},
   "outputs": [
    {
     "data": {
      "image/png": "[encoded data removed]",
      "text/plain": [
       "<Figure size 432x288 with 1 Axes>"
      ]
     },
     "metadata": {
      "needs_background": "light"
     },
     "output_type": "display_data"
    }
   ],
   "source": [
    "dat = data.groupby('year_name')['last_price'].agg('median')\n",
    "dat.plot(x='year_name', y='last_price', ylim=(4, 6), style='o-', grid=True, alpha=0.8) \n",
    "plt.show()"
   ]
  },
  {
   "cell_type": "markdown",
   "metadata": {},
   "source": [
    "<div class=\"alert alert-info\">\n",
    "<b>Комментарий студента:</b>\n",
    "<br> Самые высокие цены устанавливались в 2014-2015 году. Цены постепенно снижались с  2014 года по 2017. В 2017 был пик самой низкой средней цены квартиры, далее цены начали возрастать вплоть до 2019 года\n",
    "</div>"
   ]
  },
  {
   "cell_type": "markdown",
   "metadata": {},
   "source": [
    "<div class=\"alert alert-danger\">\n",
    "<b>❌ Комментарий ревьюера v1:</b> \n",
    "<br>Тут необходимо рассчитать по отдельности зависимость для дня недели, месяца и года. Мы ведь для этого создавали отдельные столбцы\n",
    "</div>"
   ]
  },
  {
   "cell_type": "markdown",
   "metadata": {},
   "source": [
    "<div class=\"alert alert-danger\">\n",
    "<b>❌ Комментарий ревьюера v2:</b> \n",
    "<br>Для категории этажа, дня недели, месяца и года ты считаешь количество объявлений, а нас интересует зависимость от цены. Значит нужно считать среднее или медиану"
   ]
  },
  {
   "cell_type": "markdown",
   "metadata": {},
   "source": [
    "<div class=\"alert alert-info\">\n",
    "<b>Комментарий студента_v2:</b>\n",
    "<br> готово)\n",
    "</div>"
   ]
  },
  {
   "cell_type": "markdown",
   "metadata": {},
   "source": [
    "<div class=\"alert alert-success\">\n",
    "<b>✔️ Комментарий ревьюера v3:</b>\n",
    "<br>Правка выполнена 👍\n",
    "</div>"
   ]
  },
  {
   "cell_type": "code",
   "execution_count": 38,
   "metadata": {
    "scrolled": true
   },
   "outputs": [
    {
     "name": "stdout",
     "output_type": "stream",
     "text": [
      "                   floor  last_price\n",
      "locality_name                       \n",
      "Санкт-Петербург    15721    5.552160\n",
      "поселок Мурино       556    3.652361\n",
      "поселок Шушары       440    4.108082\n",
      "Всеволожск           398    3.718778\n",
      "Пушкин               369    5.316534\n",
      "Колпино              338    3.839849\n",
      "поселок Парголово    327    4.488075\n",
      "Гатчина              307    3.423998\n",
      "деревня Кудрово      299    4.204742\n",
      "Выборг               237    3.180055\n",
      "\n",
      "\u001b[32mНаселенный пункт с самой высокой стоимостью кв. м: Санкт-Петербург\u001b[0m\n",
      "\u001b[31mНаселенный пункт с самой низкой стоимостью кв.м: Выборг\u001b[0m\n"
     ]
    }
   ],
   "source": [
    "#средняя цена одного квадратного метра в 10 населённых пунктах с наибольшим числом объявлений\n",
    "\n",
    "local_gr = data.groupby('locality_name').agg({'floor': 'count', 'last_price': 'mean'})\n",
    "local_srt = local_gr.sort_values('floor', ascending=False)\n",
    "local_srt10 = local_srt.head(10)\n",
    "top_pr = local_srt10['last_price'].idxmax()\n",
    "low_pr = local_srt10['last_price'].idxmin()\n",
    "\n",
    "print(local_srt10)\n",
    "print()\n",
    "print(colored('Населенный пункт с самой высокой стоимостью кв. м: ' + str(top_pr), 'green'))\n",
    "print(colored('Населенный пункт с самой низкой стоимостью кв.м: ' + str(low_pr), 'red'))\n"
   ]
  },
  {
   "cell_type": "markdown",
   "metadata": {},
   "source": [
    "<div class=\"alert alert-success\">\n",
    "<b>✔️ Комментарий ревьюера v1:</b> \n",
    "<br>Всё верно! Как вариант, тут можно построить барплот для топ10 по средней цене, так будет более наглядно)\n",
    "</div>"
   ]
  },
  {
   "cell_type": "markdown",
   "metadata": {},
   "source": [
    "<font color='teal'>***Изучили стоимость кв.метра в населениях с наибольшим кол-вом объявлений:***\n",
    "    <font color='black'>Ожидаемо, на первом месте стоит СПб - это самый крупный город среди всех локаций, считается \"второй столицей\" России. Разумеется, и цены там самые высокие среди объявлений. Менее дорогим является Выборг. Изменения в цене можно объяснить по-разному. Какая-то локация дальше от Спб, какая-то ближе. Стоимость может складываться с общего состояния жилья, с его площади, с количества этажей в доме и т.д."
   ]
  },
  {
   "cell_type": "code",
   "execution_count": 39,
   "metadata": {
    "scrolled": true
   },
   "outputs": [
    {
     "data": {
      "image/png": "[encoded data removed]",
      "text/plain": [
       "<Figure size 432x288 with 1 Axes>"
      ]
     },
     "metadata": {
      "needs_background": "light"
     },
     "output_type": "display_data"
    }
   ],
   "source": [
    "# Вычисляем среднюю цену каждого километра\n",
    "grouped_data = data.loc[data['locality_name'] == 'Санкт-Петербург'].groupby('cityCenters_nearest')['price_m2'].mean()\n",
    "plt.plot(grouped_data.index, grouped_data.values)\n",
    "plt.xlabel('Расстояние до центра города')\n",
    "plt.ylabel('Средняя стоимость за м2')\n",
    "plt.show()\n"
   ]
  },
  {
   "cell_type": "markdown",
   "metadata": {},
   "source": [
    "<font color='teal'>***Изучили среднюю цену каждого километра в городе СПб:***\n",
    "    <font color='black'> Опять же, все последовательно - чем квартира ближе к центру, тем она дороже, и наоборот"
   ]
  },
  {
   "cell_type": "markdown",
   "metadata": {},
   "source": [
    "<div class=\"alert alert-danger\">\n",
    "<b>❌ Комментарий ревьюера v1:</b> \n",
    "<br>Делить общую стоимость на расстояния до центра не нужно. Нужно построить график используя среднюю цену за квадратный метр и расстояние до центра в километрах\n",
    "</div>"
   ]
  },
  {
   "cell_type": "markdown",
   "metadata": {},
   "source": [
    "<div class=\"alert alert-info\">\n",
    "<b>Комментарий студента:</b>\n",
    "<br> код изменен\n",
    "</div>"
   ]
  },
  {
   "cell_type": "markdown",
   "metadata": {},
   "source": [
    "<div class=\"alert alert-success\">\n",
    "<b>✔️ Комментарий ревьюера v2:</b>\n",
    "<br>Правка выполнена 👍\n",
    "</div>"
   ]
  },
  {
   "cell_type": "markdown",
   "metadata": {},
   "source": [
    "<div class=\"alert alert-info\">\n",
    "<b>P.S:</b>\n",
    "<br> в описании к проекту ошибка: в шаге 4 пункте 5 пишется \"Теперь выделите квартиры в Санкт-Петербурге с помощью столбца locality_name и вычислите среднюю цену каждого километра. Опишите, как стоимость объектов зависит от расстояния до центра города — постройте график изменения средней цены для каждого километра от центра Петербурга.\"\n",
    "</div>"
   ]
  },
  {
   "cell_type": "markdown",
   "metadata": {},
   "source": [
    "<div class=\"alert alert-success\">\n",
    "<b>✔️ Комментарий ревьюера v2:</b>\n",
    "<br>А в чем ошибка?\n",
    "</div>"
   ]
  },
  {
   "cell_type": "markdown",
   "metadata": {},
   "source": [
    "<div class=\"alert alert-info\">\n",
    "<b>Комментарий студента_v2:</b>\n",
    "<br> А, ее и правда нет)\n",
    "</div>"
   ]
  },
  {
   "cell_type": "markdown",
   "metadata": {},
   "source": [
    "### Общий вывод"
   ]
  },
  {
   "cell_type": "markdown",
   "metadata": {},
   "source": [
    "- *Цель исследования*:\n",
    "\n",
    "Провести исследовательский анализ данных, который поможет установить параметры, влияющие на цену объектов недвижимости\n",
    "\n",
    "- *Выводы*: \n",
    "  \n",
    "    1. высокий процент корреляции цены квартиры с ее площадью - 65%. Это означает, что ее площадь оказывает очень сильное влияние ее ценообразование.\n",
    "    2. еще одним важным фактором выступает сама локация квартиры, ее местоположение. Соответственно, квартиры в крупных городах стоят дороже, чем квартиры в небольших поселениях\n",
    "    3. рассматривая квартиру в пределах крупного города стоит учитывать его близость к центру города - она также оказывает сильное влияние на цену квартиры \n",
    "    4. среднее влияние оказывает кол-во комнат в квартире. Это можно объяснить тем, что метраж квартиры больше говорит о размере квартиры, чем количество комнат, поэтому наличие нескольких крохотных комнат не может составить конкуренцию огромным апартаментам.\n",
    "    5. этаж, на котором находится квартира, влияет на цену не сильно. Разве что наименьшей популярностью пользуются квартиры на первом этаже, поэтому на них цена, как правило, меньше\n",
    "\n",
    "- *Описание данных*:\n",
    "\n",
    "Входные данные были представлены банком — это архив объявлений о продаже квартир в Санкт-Петербурге и соседних населённых пунктах за несколько лет в формате csv-файла. Файл содержит информацию по квартирам, такую как:\n",
    "\n",
    "    1. расстояние до ближайшего аэропорта в метрах (м)\n",
    "    2. число балконов\n",
    "    3. высота потолков (м)\n",
    "    4. расстояние до центра города (м)\n",
    "    5. сколько дней было размещено объявление (от публикации до снятия)\n",
    "    6. дата публикации\n",
    "    7. этаж\n",
    "    8. всего этажей в доме\n",
    "    9. апартаменты (булев тип)\n",
    "    10. площадь кухни в квадратных метрах (м²)\n",
    "    11. цена на момент снятия с публикации\n",
    "    12. жилая площадь в квадратных метрах (м²)\n",
    "    13. название населённого пункта\n",
    "    14. свободная планировка (булев тип)\n",
    "    15. число парков в радиусе 3 км\n",
    "    16. расстояние до ближайшего парка (м)\n",
    "    17. число водоёмов в радиусе 3 км\n",
    "    18. расстояние до ближайшего водоёма (м)\n",
    "    19. число комнат\n",
    "    20. квартира-студия (булев тип)\n",
    "    21. общая площадь квартиры в квадратных метрах (м²)\n",
    "    22. число фотографий квартиры в объявлении\n",
    "\n",
    "- *Порядок обработки аномалий, пропусков, дубликатов*:\n",
    "\n",
    "В данных встретились такие ошибки, как: \n",
    "\n",
    "1. пропуски значений встречались во многих столбцах : *высота потолка, кол-во этажей, жилая площадь, апартамент(д\\н), площадь кухни, наличие балкона, локация, расстояние до аэропорта, расстояние до центра города, кол-во парков поблизости, расстояние до ближайшего парка, кол-во прудов поблизости, расстояние до ближайшего пруда.*         \n",
    "Пропуски в них заполнялись различными способами:\n",
    "\n",
    "     1.1 столбцы в вариантами ответа \"да\\нет\", а именно *апартамент* и *балкон*, были заменены на False, т.е. на ноль\n",
    "     \n",
    "     1.2 Локация была заменена на \"Нет_данных' в столбце с пропусками\n",
    "     \n",
    "     1.3 Количество парков и прудов поблизости было заменено на 0 по принципу \"не указали, потому что их нет\"\n",
    "     \n",
    "     1.4 высота потолка была заполнена средним значением, так как потолки обычно не сильно отличаются в квартирах, и их можно заполнить без группировки\n",
    "     \n",
    "     1.5 средними значениями по области заполнили количество этажей, так как оно не может быть рассчитано для всех локаций (в крупном городе средним значением может быть 18 этажей, а в поселке - 2 этажа).\n",
    "     \n",
    "     1.6 Жилая площадь и площадь кухни были заполнены в зависимости от параметра \"апартамент\". Если у нас апартамент - тогда жилплощадь и кухня = общая площадь, так как отдельно кухню и жилую площадь выделить нельзя, они находятся в одной комнате, а значит равняются общей площадью. Если это не апартамент - делим общую площадь на кол-во комнат (примем кухню за комнату)\n",
    "     \n",
    "     1.7 Расстояние до центра, аэропорта, пруда и парка было заполнено средним значением по локации при условии, что она у нас не \"Нет данных\" и не крупный город (СПб), такая стратегия подойдет маленьким поселениям. Если город - Спб, тогда берем максимальное значения, так как город большой и некорректно указывать среднее расстояние для квартиры, рядом с которой, к примеру, на несколько километров парка или пруда. Если ни одна из стратегий не подошла, и в данных по-прежнему остались пропуски, признаем, что объекта рядом нет и ставим 0\n",
    "\n",
    "\n",
    "2. Аномалии были обнаружены в столбце \"комнаты\" - нулевые значения были заменены на 1\n",
    "3. Неявные дубликаты в столбце *название населённого пункта* были удалены методом анализа уникальных значений и последующей унификации однотипных признаков поселения\n",
    "\n",
    "- *Предобаботка данных*:\n",
    "\n",
    "Для проведения анализа были также добавлены столбцы:\n",
    "\n",
    "1. цена одного квадратного метра \n",
    "2. день недели публикации объявления \n",
    "3. месяц публикации объявления\n",
    "4. год публикации объявления\n",
    "5. тип этажа квартиры (значения — «первый», «последний» или «другой»)\n",
    "6. расстояние до центра города в километрах \n",
    "\n",
    "- *Проведенный анализ*\n",
    "\n",
    "1. Было проведено исследование параметров (общая площадь, жилая площадь, площадь кухни, цена объекта, количество комнат, высота потолков, тип этажа квартиры («первый», «последний», «другой»), общее количество этажей в доме, расстояние до центра города в метрах) построения гистограмм и метода describe().\n",
    "2. Изучено, как быстро продавались квартиры (столбец days_exposition) с помощью построения гистограммы на основе медианного значения\n",
    "3. Проанализирована зависимость цены от таких факторов, как общая площадь, жилая площадь, кол-во комнат, типа этажа и дата размещения объявления с помощью построения графиков и вычислении корреляции методом corr()\n",
    "4. Посчитана средняя цена одного квадратного метра в 10 населённых пунктах с наибольшим числом объявлений с помощью построения сводной таблицы с количеством объявлений и средней ценой квадратного метра для этих населенных пунктов\n",
    "5. Было проведено вычисление средней цены каждого километра до центра города в городе Санкт-Петербурге, а также построен график изменения средней цены для каждого километра от центра Петербурга"
   ]
  },
  {
   "cell_type": "markdown",
   "metadata": {},
   "source": [
    "<div class=\"alert alert-danger\">\n",
    "<b>❌ Итоговый комментарий ревьюера v1:</b> \n",
    "<br>Необходимо поправить:\n",
    "<br>- написать короткий вывод после первичного просмотра данных\n",
    "<br>- корректно выполнить задание 4.1\t\n",
    "<br>- отбросить аномальные значения \n",
    "<br>- изучить зависимость цены от трёх столбцов по отдельности: день недели, месяц, год\n",
    "<br>- корректно рассчитать стоимость каждого километра в последнем шаге\n",
    "\n",
    "<br>После всех внесённых правок не забудь поправить выводы там, где это необходимо\n",
    "</div>"
   ]
  },
  {
   "cell_type": "markdown",
   "metadata": {},
   "source": [
    "<div class=\"alert alert-danger\">\n",
    "<b>❌ Итоговый комментарий ревьюера v2:</b> \n",
    "<br>Необходимо поправить:\n",
    "<br>- отбросить аномальные значения \n",
    "<br>- корректно изучить зависимость цены от категории этажа, дня недели, месяца и года публикации \n",
    "\n",
    "<br>После всех внесённых правок не забудь поправить выводы там, где это необходимо\n",
    "</div>"
   ]
  },
  {
   "cell_type": "markdown",
   "metadata": {},
   "source": [
    "<div class=\"alert alert-success\">\n",
    "<b>✔️ Итоговый комментарий ревьюера v3:</b>\n",
    "<br>Все правки выполнены. Молодец!\n",
    "<br>Я рад был поработать над проверкой твоей работы) В качестве дополнительного материала для изучения могу порекомендовать следующий ресурс:\n",
    "\n",
    "\thttps://www.python-graph-gallery.com/\n",
    "<br>В нем содержится большая библиотека графиков с готовым кодом, который можно использовать при работе.\n",
    "<br>Поздравляю со сдачей проекта и желаю удачи в дальнейшем обучении! 😉    \n",
    "</div>"
   ]
  },
  {
   "cell_type": "markdown",
   "metadata": {},
   "source": [
    "**Чек-лист готовности проекта**\n",
    "\n",
    "Поставьте 'x' в выполненных пунктах. Далее нажмите Shift+Enter."
   ]
  },
  {
   "cell_type": "markdown",
   "metadata": {},
   "source": [
    "1. [x]  открыт файл\n",
    "2. [x]  файлы изучены (выведены первые строки, метод `info()`, гистограммы и т.д.)\n",
    "3. [X]  определены пропущенные значения\n",
    "4. [X]  заполнены пропущенные значения там, где это возможно\n",
    "5. [X]  есть пояснение, какие пропущенные значения обнаружены\n",
    "6. [X]  изменены типы данных\n",
    "7. [X]  есть пояснение, в каких столбцах изменены типы и почему\n",
    "8. [X]  устранены неявные дубликаты в названиях населённых пунктов\n",
    "9. [X]  устранены редкие и выбивающиеся значения (аномалии) во всех столбцах\n",
    "10. [X]  посчитано и добавлено в таблицу: цена одного квадратного метра\n",
    "11. [X]  посчитано и добавлено в таблицу: день публикации объявления (0 - понедельник, 1 - вторник и т.д.)\n",
    "12. [X]  посчитано и добавлено в таблицу: месяц публикации объявления\n",
    "13. [X]  посчитано и добавлено в таблицу: год публикации объявления\n",
    "14. [X]  посчитано и добавлено в таблицу: тип этажа квартиры (значения — «первый», «последний», «другой»)\n",
    "15. [X]  посчитано и добавлено в таблицу: расстояние в км до центра города\n",
    "16. [X]  изучены и описаны следующие параметры:\n",
    "        - общая площадь;\n",
    "        - жилая площадь;\n",
    "        - площадь кухни;\n",
    "        - цена объекта;\n",
    "        - количество комнат;\n",
    "        - высота потолков;\n",
    "        - этаж квартиры;\n",
    "        - тип этажа квартиры («первый», «последний», «другой»);\n",
    "        - общее количество этажей в доме;\n",
    "        - расстояние до центра города в метрах;\n",
    "        - расстояние до ближайшего аэропорта;\n",
    "        - расстояние до ближайшего парка;\n",
    "        - день и месяц публикации объявления\n",
    "17. [X]  построены гистограммы для каждого параметра\n",
    "18. [X]  выполнено задание: \"Изучите, как быстро продавались квартиры (столбец days_exposition). Этот параметр показывает, сколько дней «висело» каждое объявление.\n",
    "    - Постройте гистограмму.\n",
    "    - Посчитайте среднее и медиану.\n",
    "    - В ячейке типа markdown опишите, сколько обычно занимает продажа. Какие продажи можно считать быстрыми, а какие — необычно долгими?\"\n",
    "19. [X]  выполнено задание: \"Какие факторы больше всего влияют на общую (полную) стоимость объекта? Постройте графики, которые покажут зависимость цены от указанных ниже параметров. Для подготовки данных перед визуализацией вы можете использовать сводные таблицы.\"\n",
    "        - общей площади;\n",
    "        - жилой площади;\n",
    "        - площади кухни;\n",
    "        - количество комнат;\n",
    "        - типа этажа, на котором расположена квартира (первый, последний, другой);\n",
    "        - даты размещения (день недели, месяц, год);\n",
    "20. [X]  выполнено задание: \"Посчитайте среднюю цену одного квадратного метра в 10 населённых пунктах с наибольшим числом объявлений. Выделите населённые пункты с самой высокой и низкой стоимостью квадратного метра. Эти данные можно найти по имени в столбце `locality_name`.\"\n",
    "21. [X]  выполнено задание: \"Ранее вы посчитали расстояние до центра в километрах. Теперь выделите квартиры в Санкт-Петербурге с помощью столбца `locality_name` и вычислите среднюю цену каждого километра. Опишите, как стоимость объектов зависит от расстояния до центра города.\"\n",
    "22. [X]  в каждом этапе есть промежуточные выводы\n",
    "23. [X]  есть общий вывод"
   ]
  },
  {
   "cell_type": "code",
   "execution_count": null,
   "metadata": {},
   "outputs": [],
   "source": []
  }
 ],
 "metadata": {
  "ExecuteTimeLog": [
   {
    "duration": 425,
    "start_time": "2023-10-15T11:50:55.282Z"
   },
   {
    "duration": 222,
    "start_time": "2023-10-15T11:51:20.400Z"
   },
   {
    "duration": 68,
    "start_time": "2023-10-15T11:52:10.727Z"
   },
   {
    "duration": 132,
    "start_time": "2023-10-15T11:54:53.780Z"
   },
   {
    "duration": 610,
    "start_time": "2023-10-15T15:39:31.797Z"
   },
   {
    "duration": 2579,
    "start_time": "2023-10-15T15:41:15.539Z"
   },
   {
    "duration": 478,
    "start_time": "2023-10-15T15:47:46.577Z"
   },
   {
    "duration": 2320,
    "start_time": "2023-10-15T15:47:47.058Z"
   },
   {
    "duration": 14,
    "start_time": "2023-10-15T15:47:49.379Z"
   },
   {
    "duration": 2284,
    "start_time": "2023-10-15T15:48:41.813Z"
   },
   {
    "duration": 469,
    "start_time": "2023-10-15T15:49:27.472Z"
   },
   {
    "duration": 158,
    "start_time": "2023-10-15T15:49:27.943Z"
   },
   {
    "duration": 2304,
    "start_time": "2023-10-15T15:49:28.102Z"
   },
   {
    "duration": 15,
    "start_time": "2023-10-15T15:49:30.408Z"
   },
   {
    "duration": 126,
    "start_time": "2023-10-15T16:01:41.597Z"
   },
   {
    "duration": 465,
    "start_time": "2023-10-15T16:03:10.899Z"
   },
   {
    "duration": 142,
    "start_time": "2023-10-15T16:03:11.367Z"
   },
   {
    "duration": 2283,
    "start_time": "2023-10-15T16:03:11.511Z"
   },
   {
    "duration": 15,
    "start_time": "2023-10-15T16:03:13.796Z"
   },
   {
    "duration": 77,
    "start_time": "2023-10-15T16:03:13.813Z"
   },
   {
    "duration": 20,
    "start_time": "2023-10-15T16:10:01.438Z"
   },
   {
    "duration": 9,
    "start_time": "2023-10-15T16:10:11.810Z"
   },
   {
    "duration": 463,
    "start_time": "2023-10-15T16:10:26.277Z"
   },
   {
    "duration": 150,
    "start_time": "2023-10-15T16:10:26.742Z"
   },
   {
    "duration": 2207,
    "start_time": "2023-10-15T16:10:26.894Z"
   },
   {
    "duration": 15,
    "start_time": "2023-10-15T16:10:29.103Z"
   },
   {
    "duration": 19,
    "start_time": "2023-10-15T16:10:29.120Z"
   },
   {
    "duration": 451,
    "start_time": "2023-10-15T16:17:34.809Z"
   },
   {
    "duration": 129,
    "start_time": "2023-10-15T16:17:35.262Z"
   },
   {
    "duration": 2146,
    "start_time": "2023-10-15T16:17:35.392Z"
   },
   {
    "duration": 23,
    "start_time": "2023-10-15T16:17:37.541Z"
   },
   {
    "duration": 6,
    "start_time": "2023-10-15T16:17:37.566Z"
   },
   {
    "duration": 9,
    "start_time": "2023-10-15T16:17:37.574Z"
   },
   {
    "duration": 16,
    "start_time": "2023-10-15T16:18:04.172Z"
   },
   {
    "duration": 11,
    "start_time": "2023-10-15T16:18:49.359Z"
   },
   {
    "duration": 20,
    "start_time": "2023-10-15T16:25:06.745Z"
   },
   {
    "duration": 76,
    "start_time": "2023-10-15T16:25:16.805Z"
   },
   {
    "duration": 468,
    "start_time": "2023-10-15T16:25:36.421Z"
   },
   {
    "duration": 135,
    "start_time": "2023-10-15T16:25:36.891Z"
   },
   {
    "duration": 2114,
    "start_time": "2023-10-15T16:25:37.028Z"
   },
   {
    "duration": 21,
    "start_time": "2023-10-15T16:25:39.144Z"
   },
   {
    "duration": 7,
    "start_time": "2023-10-15T16:25:39.167Z"
   },
   {
    "duration": 30,
    "start_time": "2023-10-15T16:25:39.175Z"
   },
   {
    "duration": 25,
    "start_time": "2023-10-15T16:25:39.206Z"
   },
   {
    "duration": 99,
    "start_time": "2023-10-15T16:25:39.233Z"
   },
   {
    "duration": 8,
    "start_time": "2023-10-15T16:25:49.004Z"
   },
   {
    "duration": 8,
    "start_time": "2023-10-15T16:27:26.865Z"
   },
   {
    "duration": 458,
    "start_time": "2023-10-15T16:27:41.970Z"
   },
   {
    "duration": 135,
    "start_time": "2023-10-15T16:27:42.430Z"
   },
   {
    "duration": 2452,
    "start_time": "2023-10-15T16:27:42.566Z"
   },
   {
    "duration": 20,
    "start_time": "2023-10-15T16:27:45.020Z"
   },
   {
    "duration": 27,
    "start_time": "2023-10-15T16:27:45.042Z"
   },
   {
    "duration": 26,
    "start_time": "2023-10-15T16:27:45.070Z"
   },
   {
    "duration": 14,
    "start_time": "2023-10-15T16:27:45.098Z"
   },
   {
    "duration": 48,
    "start_time": "2023-10-15T16:27:45.114Z"
   },
   {
    "duration": 17,
    "start_time": "2023-10-15T16:28:23.837Z"
   },
   {
    "duration": 73,
    "start_time": "2023-10-15T16:28:55.369Z"
   },
   {
    "duration": 15,
    "start_time": "2023-10-15T16:29:00.804Z"
   },
   {
    "duration": 9,
    "start_time": "2023-10-15T16:29:11.262Z"
   },
   {
    "duration": 18,
    "start_time": "2023-10-15T16:31:02.674Z"
   },
   {
    "duration": 19,
    "start_time": "2023-10-15T16:31:15.810Z"
   },
   {
    "duration": 13,
    "start_time": "2023-10-15T16:31:34.429Z"
   },
   {
    "duration": 146,
    "start_time": "2023-10-15T16:44:05.702Z"
   },
   {
    "duration": 11,
    "start_time": "2023-10-15T17:02:27.806Z"
   },
   {
    "duration": 5,
    "start_time": "2023-10-15T17:03:05.184Z"
   },
   {
    "duration": 5,
    "start_time": "2023-10-15T17:03:14.370Z"
   },
   {
    "duration": 9,
    "start_time": "2023-10-15T17:04:45.885Z"
   },
   {
    "duration": 10,
    "start_time": "2023-10-15T17:04:53.227Z"
   },
   {
    "duration": 18,
    "start_time": "2023-10-15T17:04:59.743Z"
   },
   {
    "duration": 497,
    "start_time": "2023-10-15T17:06:40.569Z"
   },
   {
    "duration": 156,
    "start_time": "2023-10-15T17:06:41.074Z"
   },
   {
    "duration": 2317,
    "start_time": "2023-10-15T17:06:41.232Z"
   },
   {
    "duration": 22,
    "start_time": "2023-10-15T17:06:43.551Z"
   },
   {
    "duration": 9,
    "start_time": "2023-10-15T17:06:43.580Z"
   },
   {
    "duration": 12,
    "start_time": "2023-10-15T17:06:43.590Z"
   },
   {
    "duration": 10,
    "start_time": "2023-10-15T17:06:43.604Z"
   },
   {
    "duration": 9,
    "start_time": "2023-10-15T17:07:01.726Z"
   },
   {
    "duration": 77,
    "start_time": "2023-10-15T17:07:23.565Z"
   },
   {
    "duration": 12,
    "start_time": "2023-10-15T17:07:29.706Z"
   },
   {
    "duration": 14,
    "start_time": "2023-10-15T17:08:04.119Z"
   },
   {
    "duration": 11,
    "start_time": "2023-10-15T17:08:28.567Z"
   },
   {
    "duration": 15,
    "start_time": "2023-10-15T17:08:38.373Z"
   },
   {
    "duration": 8,
    "start_time": "2023-10-15T17:08:56.707Z"
   },
   {
    "duration": 34,
    "start_time": "2023-10-15T17:09:16.706Z"
   },
   {
    "duration": 17,
    "start_time": "2023-10-15T17:09:37.418Z"
   },
   {
    "duration": 9,
    "start_time": "2023-10-15T17:10:13.077Z"
   },
   {
    "duration": 467,
    "start_time": "2023-10-15T17:11:00.212Z"
   },
   {
    "duration": 153,
    "start_time": "2023-10-15T17:11:00.681Z"
   },
   {
    "duration": 2282,
    "start_time": "2023-10-15T17:11:00.836Z"
   },
   {
    "duration": 17,
    "start_time": "2023-10-15T17:11:03.120Z"
   },
   {
    "duration": 5,
    "start_time": "2023-10-15T17:11:03.138Z"
   },
   {
    "duration": 23,
    "start_time": "2023-10-15T17:11:03.144Z"
   },
   {
    "duration": 15,
    "start_time": "2023-10-15T17:11:03.169Z"
   },
   {
    "duration": 5,
    "start_time": "2023-10-15T17:11:03.185Z"
   },
   {
    "duration": 540,
    "start_time": "2023-10-15T17:51:17.536Z"
   },
   {
    "duration": 129,
    "start_time": "2023-10-15T17:51:18.078Z"
   },
   {
    "duration": 2637,
    "start_time": "2023-10-15T17:51:18.209Z"
   },
   {
    "duration": 17,
    "start_time": "2023-10-15T17:51:20.848Z"
   },
   {
    "duration": 11,
    "start_time": "2023-10-15T17:51:20.868Z"
   },
   {
    "duration": 25,
    "start_time": "2023-10-15T17:51:20.880Z"
   },
   {
    "duration": 24,
    "start_time": "2023-10-15T17:51:20.907Z"
   },
   {
    "duration": 14,
    "start_time": "2023-10-15T17:51:20.933Z"
   },
   {
    "duration": 2457,
    "start_time": "2023-10-15T17:51:52.328Z"
   },
   {
    "duration": 1937,
    "start_time": "2023-10-15T17:52:45.532Z"
   },
   {
    "duration": 2048,
    "start_time": "2023-10-15T17:53:25.626Z"
   },
   {
    "duration": 158,
    "start_time": "2023-10-15T17:55:06.918Z"
   },
   {
    "duration": 121777,
    "start_time": "2023-10-15T17:57:44.695Z"
   },
   {
    "duration": 165,
    "start_time": "2023-10-15T18:00:42.802Z"
   },
   {
    "duration": 473,
    "start_time": "2023-10-15T18:02:38.739Z"
   },
   {
    "duration": 129,
    "start_time": "2023-10-15T18:02:39.214Z"
   },
   {
    "duration": 2117,
    "start_time": "2023-10-15T18:02:39.345Z"
   },
   {
    "duration": 15,
    "start_time": "2023-10-15T18:02:41.464Z"
   },
   {
    "duration": 4,
    "start_time": "2023-10-15T18:02:41.481Z"
   },
   {
    "duration": 24,
    "start_time": "2023-10-15T18:02:41.487Z"
   },
   {
    "duration": 20,
    "start_time": "2023-10-15T18:02:41.513Z"
   },
   {
    "duration": 10,
    "start_time": "2023-10-15T18:02:41.535Z"
   },
   {
    "duration": 15,
    "start_time": "2023-10-15T18:11:39.536Z"
   },
   {
    "duration": 6,
    "start_time": "2023-10-15T18:12:12.067Z"
   },
   {
    "duration": 4,
    "start_time": "2023-10-15T18:18:15.420Z"
   },
   {
    "duration": 16,
    "start_time": "2023-10-15T18:18:18.615Z"
   },
   {
    "duration": 5,
    "start_time": "2023-10-15T18:18:39.503Z"
   },
   {
    "duration": 5,
    "start_time": "2023-10-15T18:19:01.810Z"
   },
   {
    "duration": 478,
    "start_time": "2023-10-15T18:20:02.755Z"
   },
   {
    "duration": 126,
    "start_time": "2023-10-15T18:20:03.235Z"
   },
   {
    "duration": 2131,
    "start_time": "2023-10-15T18:20:03.363Z"
   },
   {
    "duration": 16,
    "start_time": "2023-10-15T18:20:05.496Z"
   },
   {
    "duration": 47,
    "start_time": "2023-10-15T18:20:05.513Z"
   },
   {
    "duration": 44,
    "start_time": "2023-10-15T18:20:05.562Z"
   },
   {
    "duration": 59,
    "start_time": "2023-10-15T18:20:05.607Z"
   },
   {
    "duration": 29,
    "start_time": "2023-10-15T18:20:05.668Z"
   },
   {
    "duration": 41,
    "start_time": "2023-10-15T18:20:05.699Z"
   },
   {
    "duration": 2193,
    "start_time": "2023-10-15T18:21:05.556Z"
   },
   {
    "duration": 14,
    "start_time": "2023-10-15T18:22:42.925Z"
   },
   {
    "duration": 81,
    "start_time": "2023-10-15T18:28:46.542Z"
   },
   {
    "duration": 16,
    "start_time": "2023-10-15T18:30:16.526Z"
   },
   {
    "duration": 5,
    "start_time": "2023-10-15T18:33:26.577Z"
   },
   {
    "duration": 6,
    "start_time": "2023-10-15T18:34:24.033Z"
   },
   {
    "duration": 6,
    "start_time": "2023-10-15T18:35:39.609Z"
   },
   {
    "duration": 19,
    "start_time": "2023-10-15T18:35:54.667Z"
   },
   {
    "duration": 34,
    "start_time": "2023-10-15T18:36:06.470Z"
   },
   {
    "duration": 15,
    "start_time": "2023-10-15T18:37:13.724Z"
   },
   {
    "duration": 12,
    "start_time": "2023-10-15T18:38:00.010Z"
   },
   {
    "duration": 507,
    "start_time": "2023-10-15T18:38:11.763Z"
   },
   {
    "duration": 36,
    "start_time": "2023-10-15T18:39:00.640Z"
   },
   {
    "duration": 8,
    "start_time": "2023-10-15T18:40:11.396Z"
   },
   {
    "duration": 14,
    "start_time": "2023-10-15T18:40:28.256Z"
   },
   {
    "duration": 6,
    "start_time": "2023-10-15T18:41:58.500Z"
   },
   {
    "duration": 11,
    "start_time": "2023-10-15T18:44:33.517Z"
   },
   {
    "duration": 512,
    "start_time": "2023-10-15T18:44:43.886Z"
   },
   {
    "duration": 137,
    "start_time": "2023-10-15T18:44:44.400Z"
   },
   {
    "duration": 2195,
    "start_time": "2023-10-15T18:44:44.539Z"
   },
   {
    "duration": 18,
    "start_time": "2023-10-15T18:44:46.736Z"
   },
   {
    "duration": 11,
    "start_time": "2023-10-15T18:44:46.756Z"
   },
   {
    "duration": 19,
    "start_time": "2023-10-15T18:44:46.769Z"
   },
   {
    "duration": 18,
    "start_time": "2023-10-15T18:44:46.790Z"
   },
   {
    "duration": 99,
    "start_time": "2023-10-15T18:44:46.810Z"
   },
   {
    "duration": 0,
    "start_time": "2023-10-15T18:44:46.911Z"
   },
   {
    "duration": 0,
    "start_time": "2023-10-15T18:44:46.912Z"
   },
   {
    "duration": 0,
    "start_time": "2023-10-15T18:44:46.913Z"
   },
   {
    "duration": 18,
    "start_time": "2023-10-15T18:44:57.178Z"
   },
   {
    "duration": 25,
    "start_time": "2023-10-15T18:45:24.869Z"
   },
   {
    "duration": 16,
    "start_time": "2023-10-15T18:48:20.125Z"
   },
   {
    "duration": 19,
    "start_time": "2023-10-15T18:48:25.473Z"
   },
   {
    "duration": 17,
    "start_time": "2023-10-15T18:48:45.189Z"
   },
   {
    "duration": 497,
    "start_time": "2023-10-16T13:30:27.510Z"
   },
   {
    "duration": 342,
    "start_time": "2023-10-16T13:30:28.009Z"
   },
   {
    "duration": 2333,
    "start_time": "2023-10-16T13:30:28.352Z"
   },
   {
    "duration": 17,
    "start_time": "2023-10-16T13:30:30.688Z"
   },
   {
    "duration": 55,
    "start_time": "2023-10-16T13:30:30.706Z"
   },
   {
    "duration": 158,
    "start_time": "2023-10-16T13:30:30.762Z"
   },
   {
    "duration": 53,
    "start_time": "2023-10-16T13:30:30.923Z"
   },
   {
    "duration": 107,
    "start_time": "2023-10-16T13:30:30.977Z"
   },
   {
    "duration": 0,
    "start_time": "2023-10-16T13:30:31.086Z"
   },
   {
    "duration": 0,
    "start_time": "2023-10-16T13:30:31.087Z"
   },
   {
    "duration": 14,
    "start_time": "2023-10-16T13:35:43.647Z"
   },
   {
    "duration": 1171,
    "start_time": "2023-10-16T13:38:28.499Z"
   },
   {
    "duration": 23,
    "start_time": "2023-10-16T13:40:31.552Z"
   },
   {
    "duration": 31,
    "start_time": "2023-10-16T13:40:50.800Z"
   },
   {
    "duration": 30,
    "start_time": "2023-10-16T13:43:51.884Z"
   },
   {
    "duration": 30,
    "start_time": "2023-10-16T13:45:44.178Z"
   },
   {
    "duration": 676,
    "start_time": "2023-10-16T13:47:28.938Z"
   },
   {
    "duration": 129,
    "start_time": "2023-10-16T13:47:29.616Z"
   },
   {
    "duration": 2162,
    "start_time": "2023-10-16T13:47:29.747Z"
   },
   {
    "duration": 16,
    "start_time": "2023-10-16T13:47:31.911Z"
   },
   {
    "duration": 22,
    "start_time": "2023-10-16T13:47:31.929Z"
   },
   {
    "duration": 83,
    "start_time": "2023-10-16T13:47:31.953Z"
   },
   {
    "duration": 53,
    "start_time": "2023-10-16T13:47:32.037Z"
   },
   {
    "duration": 61,
    "start_time": "2023-10-16T13:47:32.092Z"
   },
   {
    "duration": 15,
    "start_time": "2023-10-16T13:47:32.154Z"
   },
   {
    "duration": 14,
    "start_time": "2023-10-16T13:47:32.171Z"
   },
   {
    "duration": 44,
    "start_time": "2023-10-16T14:39:48.350Z"
   },
   {
    "duration": 6,
    "start_time": "2023-10-16T14:40:29.168Z"
   },
   {
    "duration": 73,
    "start_time": "2023-10-16T14:51:13.305Z"
   },
   {
    "duration": 6,
    "start_time": "2023-10-16T14:51:26.305Z"
   },
   {
    "duration": 32,
    "start_time": "2023-10-16T14:51:50.477Z"
   },
   {
    "duration": 39,
    "start_time": "2023-10-16T14:52:11.129Z"
   },
   {
    "duration": 12,
    "start_time": "2023-10-16T14:54:30.454Z"
   },
   {
    "duration": 9,
    "start_time": "2023-10-16T14:54:34.052Z"
   },
   {
    "duration": 535,
    "start_time": "2023-10-16T14:55:51.373Z"
   },
   {
    "duration": 144,
    "start_time": "2023-10-16T14:55:51.910Z"
   },
   {
    "duration": 2345,
    "start_time": "2023-10-16T14:55:52.056Z"
   },
   {
    "duration": 14,
    "start_time": "2023-10-16T14:55:54.403Z"
   },
   {
    "duration": 6,
    "start_time": "2023-10-16T14:55:54.419Z"
   },
   {
    "duration": 31,
    "start_time": "2023-10-16T14:55:54.426Z"
   },
   {
    "duration": 20,
    "start_time": "2023-10-16T14:55:54.459Z"
   },
   {
    "duration": 28,
    "start_time": "2023-10-16T14:55:54.480Z"
   },
   {
    "duration": 8,
    "start_time": "2023-10-16T14:55:54.509Z"
   },
   {
    "duration": 20,
    "start_time": "2023-10-16T14:55:54.524Z"
   },
   {
    "duration": 5,
    "start_time": "2023-10-16T14:55:54.546Z"
   },
   {
    "duration": 7,
    "start_time": "2023-10-16T14:57:19.885Z"
   },
   {
    "duration": 81,
    "start_time": "2023-10-16T14:58:22.309Z"
   },
   {
    "duration": 10,
    "start_time": "2023-10-16T14:59:03.207Z"
   },
   {
    "duration": 6,
    "start_time": "2023-10-16T14:59:53.220Z"
   },
   {
    "duration": 11,
    "start_time": "2023-10-16T15:00:12.171Z"
   },
   {
    "duration": 7,
    "start_time": "2023-10-16T15:00:23.359Z"
   },
   {
    "duration": 4,
    "start_time": "2023-10-16T15:00:33.382Z"
   },
   {
    "duration": 12,
    "start_time": "2023-10-16T15:01:06.938Z"
   },
   {
    "duration": 5,
    "start_time": "2023-10-16T15:01:14.455Z"
   },
   {
    "duration": 12,
    "start_time": "2023-10-16T15:01:29.676Z"
   },
   {
    "duration": 8,
    "start_time": "2023-10-16T15:01:49.449Z"
   },
   {
    "duration": 6,
    "start_time": "2023-10-16T15:37:50.268Z"
   },
   {
    "duration": 108,
    "start_time": "2023-10-16T15:45:30.923Z"
   },
   {
    "duration": 123,
    "start_time": "2023-10-16T15:45:43.243Z"
   },
   {
    "duration": 3,
    "start_time": "2023-10-16T15:45:57.099Z"
   },
   {
    "duration": 5,
    "start_time": "2023-10-16T15:47:27.309Z"
   },
   {
    "duration": 7,
    "start_time": "2023-10-16T15:47:44.518Z"
   },
   {
    "duration": 10,
    "start_time": "2023-10-16T15:48:06.494Z"
   },
   {
    "duration": 5,
    "start_time": "2023-10-16T15:48:12.393Z"
   },
   {
    "duration": 9,
    "start_time": "2023-10-16T15:49:00.891Z"
   },
   {
    "duration": 9,
    "start_time": "2023-10-16T15:49:04.366Z"
   },
   {
    "duration": 5,
    "start_time": "2023-10-16T15:49:20.816Z"
   },
   {
    "duration": 6,
    "start_time": "2023-10-16T15:50:00.878Z"
   },
   {
    "duration": 43,
    "start_time": "2023-10-16T15:50:29.807Z"
   },
   {
    "duration": 38,
    "start_time": "2023-10-16T15:50:51.146Z"
   },
   {
    "duration": 40,
    "start_time": "2023-10-16T16:00:03.418Z"
   },
   {
    "duration": 9,
    "start_time": "2023-10-16T16:00:36.159Z"
   },
   {
    "duration": 45,
    "start_time": "2023-10-16T16:00:50.347Z"
   },
   {
    "duration": 10,
    "start_time": "2023-10-16T16:29:09.673Z"
   },
   {
    "duration": 14,
    "start_time": "2023-10-16T16:29:31.094Z"
   },
   {
    "duration": 10,
    "start_time": "2023-10-16T16:30:11.645Z"
   },
   {
    "duration": 10,
    "start_time": "2023-10-16T16:30:37.224Z"
   },
   {
    "duration": 8,
    "start_time": "2023-10-16T16:31:50.528Z"
   },
   {
    "duration": 16,
    "start_time": "2023-10-16T16:31:54.236Z"
   },
   {
    "duration": 16,
    "start_time": "2023-10-16T16:32:23.105Z"
   },
   {
    "duration": 17,
    "start_time": "2023-10-16T16:32:35.530Z"
   },
   {
    "duration": 14,
    "start_time": "2023-10-16T16:32:52.927Z"
   },
   {
    "duration": 16,
    "start_time": "2023-10-16T16:33:04.248Z"
   },
   {
    "duration": 14,
    "start_time": "2023-10-16T16:34:09.089Z"
   },
   {
    "duration": 15,
    "start_time": "2023-10-16T16:34:25.240Z"
   },
   {
    "duration": 12,
    "start_time": "2023-10-16T16:35:16.412Z"
   },
   {
    "duration": 15,
    "start_time": "2023-10-16T16:35:39.494Z"
   },
   {
    "duration": 12,
    "start_time": "2023-10-16T16:35:56.317Z"
   },
   {
    "duration": 15,
    "start_time": "2023-10-16T16:38:06.447Z"
   },
   {
    "duration": 17,
    "start_time": "2023-10-16T16:38:16.510Z"
   },
   {
    "duration": 20,
    "start_time": "2023-10-16T16:38:46.221Z"
   },
   {
    "duration": 13,
    "start_time": "2023-10-16T16:39:19.084Z"
   },
   {
    "duration": 17,
    "start_time": "2023-10-16T16:41:55.802Z"
   },
   {
    "duration": 18,
    "start_time": "2023-10-16T16:42:36.744Z"
   },
   {
    "duration": 16,
    "start_time": "2023-10-16T16:42:49.956Z"
   },
   {
    "duration": 24,
    "start_time": "2023-10-16T16:43:02.737Z"
   },
   {
    "duration": 18,
    "start_time": "2023-10-16T16:43:14.253Z"
   },
   {
    "duration": 18,
    "start_time": "2023-10-16T16:43:21.142Z"
   },
   {
    "duration": 12,
    "start_time": "2023-10-16T16:44:03.663Z"
   },
   {
    "duration": 12,
    "start_time": "2023-10-16T16:44:13.544Z"
   },
   {
    "duration": 16,
    "start_time": "2023-10-16T16:46:50.042Z"
   },
   {
    "duration": 10,
    "start_time": "2023-10-16T16:47:13.085Z"
   },
   {
    "duration": 1563,
    "start_time": "2023-10-16T16:47:32.090Z"
   },
   {
    "duration": 10,
    "start_time": "2023-10-16T16:47:47.463Z"
   },
   {
    "duration": 11,
    "start_time": "2023-10-16T16:49:29.103Z"
   },
   {
    "duration": 14,
    "start_time": "2023-10-16T16:49:54.123Z"
   },
   {
    "duration": 13,
    "start_time": "2023-10-16T16:49:57.858Z"
   },
   {
    "duration": 462,
    "start_time": "2023-10-16T19:01:09.987Z"
   },
   {
    "duration": 349,
    "start_time": "2023-10-16T19:01:10.454Z"
   },
   {
    "duration": 2340,
    "start_time": "2023-10-16T19:01:10.805Z"
   },
   {
    "duration": 16,
    "start_time": "2023-10-16T19:01:13.147Z"
   },
   {
    "duration": 4,
    "start_time": "2023-10-16T19:01:13.165Z"
   },
   {
    "duration": 13,
    "start_time": "2023-10-16T19:01:13.171Z"
   },
   {
    "duration": 55,
    "start_time": "2023-10-16T19:01:13.185Z"
   },
   {
    "duration": 31,
    "start_time": "2023-10-16T19:01:13.242Z"
   },
   {
    "duration": 68,
    "start_time": "2023-10-16T19:01:13.275Z"
   },
   {
    "duration": 82,
    "start_time": "2023-10-16T19:06:53.251Z"
   },
   {
    "duration": 98,
    "start_time": "2023-10-16T19:09:07.740Z"
   },
   {
    "duration": 439,
    "start_time": "2023-10-16T19:09:26.660Z"
   },
   {
    "duration": 135,
    "start_time": "2023-10-16T19:09:27.101Z"
   },
   {
    "duration": 2076,
    "start_time": "2023-10-16T19:09:27.237Z"
   },
   {
    "duration": 15,
    "start_time": "2023-10-16T19:09:29.315Z"
   },
   {
    "duration": 5,
    "start_time": "2023-10-16T19:09:29.332Z"
   },
   {
    "duration": 18,
    "start_time": "2023-10-16T19:09:29.338Z"
   },
   {
    "duration": 16,
    "start_time": "2023-10-16T19:09:29.357Z"
   },
   {
    "duration": 29,
    "start_time": "2023-10-16T19:09:29.374Z"
   },
   {
    "duration": 150,
    "start_time": "2023-10-16T19:09:29.404Z"
   },
   {
    "duration": 467,
    "start_time": "2023-10-16T19:12:13.845Z"
   },
   {
    "duration": 134,
    "start_time": "2023-10-16T19:12:14.314Z"
   },
   {
    "duration": 2149,
    "start_time": "2023-10-16T19:12:14.450Z"
   },
   {
    "duration": 17,
    "start_time": "2023-10-16T19:12:16.601Z"
   },
   {
    "duration": 6,
    "start_time": "2023-10-16T19:12:16.620Z"
   },
   {
    "duration": 19,
    "start_time": "2023-10-16T19:12:16.628Z"
   },
   {
    "duration": 16,
    "start_time": "2023-10-16T19:12:16.649Z"
   },
   {
    "duration": 34,
    "start_time": "2023-10-16T19:12:16.667Z"
   },
   {
    "duration": 127,
    "start_time": "2023-10-16T19:12:16.703Z"
   },
   {
    "duration": 102,
    "start_time": "2023-10-16T19:16:06.561Z"
   },
   {
    "duration": 171,
    "start_time": "2023-10-16T19:16:41.833Z"
   },
   {
    "duration": 105,
    "start_time": "2023-10-16T19:17:25.766Z"
   },
   {
    "duration": 109,
    "start_time": "2023-10-16T19:18:27.999Z"
   },
   {
    "duration": 154,
    "start_time": "2023-10-16T19:18:58.633Z"
   },
   {
    "duration": 490,
    "start_time": "2023-10-16T19:20:35.306Z"
   },
   {
    "duration": 136,
    "start_time": "2023-10-16T19:20:35.798Z"
   },
   {
    "duration": 2130,
    "start_time": "2023-10-16T19:20:35.935Z"
   },
   {
    "duration": 16,
    "start_time": "2023-10-16T19:20:38.067Z"
   },
   {
    "duration": 5,
    "start_time": "2023-10-16T19:20:38.085Z"
   },
   {
    "duration": 31,
    "start_time": "2023-10-16T19:20:38.092Z"
   },
   {
    "duration": 17,
    "start_time": "2023-10-16T19:20:38.125Z"
   },
   {
    "duration": 32,
    "start_time": "2023-10-16T19:20:38.144Z"
   },
   {
    "duration": 283,
    "start_time": "2023-10-16T19:20:38.178Z"
   },
   {
    "duration": 122,
    "start_time": "2023-10-16T19:21:48.564Z"
   },
   {
    "duration": 122,
    "start_time": "2023-10-16T19:22:35.049Z"
   },
   {
    "duration": 99,
    "start_time": "2023-10-16T19:27:10.447Z"
   },
   {
    "duration": 82,
    "start_time": "2023-10-16T19:31:59.569Z"
   },
   {
    "duration": 70,
    "start_time": "2023-10-16T19:32:09.850Z"
   },
   {
    "duration": 78,
    "start_time": "2023-10-16T19:32:51.703Z"
   },
   {
    "duration": 4,
    "start_time": "2023-10-16T19:32:59.566Z"
   },
   {
    "duration": 3,
    "start_time": "2023-10-16T19:33:09.771Z"
   },
   {
    "duration": 449,
    "start_time": "2023-10-16T19:34:15.062Z"
   },
   {
    "duration": 138,
    "start_time": "2023-10-16T19:34:15.513Z"
   },
   {
    "duration": 2140,
    "start_time": "2023-10-16T19:34:15.653Z"
   },
   {
    "duration": 15,
    "start_time": "2023-10-16T19:34:17.795Z"
   },
   {
    "duration": 5,
    "start_time": "2023-10-16T19:34:17.812Z"
   },
   {
    "duration": 18,
    "start_time": "2023-10-16T19:34:17.818Z"
   },
   {
    "duration": 16,
    "start_time": "2023-10-16T19:34:17.837Z"
   },
   {
    "duration": 29,
    "start_time": "2023-10-16T19:34:17.854Z"
   },
   {
    "duration": 102,
    "start_time": "2023-10-16T19:34:17.885Z"
   },
   {
    "duration": 453,
    "start_time": "2023-10-16T19:34:46.366Z"
   },
   {
    "duration": 143,
    "start_time": "2023-10-16T19:34:46.821Z"
   },
   {
    "duration": 2099,
    "start_time": "2023-10-16T19:34:46.965Z"
   },
   {
    "duration": 16,
    "start_time": "2023-10-16T19:34:49.067Z"
   },
   {
    "duration": 5,
    "start_time": "2023-10-16T19:34:49.085Z"
   },
   {
    "duration": 13,
    "start_time": "2023-10-16T19:34:49.092Z"
   },
   {
    "duration": 27,
    "start_time": "2023-10-16T19:34:49.106Z"
   },
   {
    "duration": 29,
    "start_time": "2023-10-16T19:34:49.134Z"
   },
   {
    "duration": 190,
    "start_time": "2023-10-16T19:34:49.165Z"
   },
   {
    "duration": 74,
    "start_time": "2023-10-16T19:35:56.578Z"
   },
   {
    "duration": 1297,
    "start_time": "2023-10-16T19:36:48.179Z"
   },
   {
    "duration": 13,
    "start_time": "2023-10-16T19:36:58.157Z"
   },
   {
    "duration": 7,
    "start_time": "2023-10-16T19:37:50.764Z"
   },
   {
    "duration": 26,
    "start_time": "2023-10-16T19:38:08.941Z"
   },
   {
    "duration": 6,
    "start_time": "2023-10-16T19:39:31.595Z"
   },
   {
    "duration": 1261,
    "start_time": "2023-10-16T19:40:17.608Z"
   },
   {
    "duration": 11,
    "start_time": "2023-10-16T19:40:42.595Z"
   },
   {
    "duration": 3,
    "start_time": "2023-10-16T19:41:00.168Z"
   },
   {
    "duration": 4,
    "start_time": "2023-10-16T19:41:06.168Z"
   },
   {
    "duration": 2835,
    "start_time": "2023-10-16T19:41:13.815Z"
   },
   {
    "duration": 1526,
    "start_time": "2023-10-16T19:41:28.910Z"
   },
   {
    "duration": 1270,
    "start_time": "2023-10-16T19:41:48.617Z"
   },
   {
    "duration": 10,
    "start_time": "2023-10-16T19:43:55.461Z"
   },
   {
    "duration": 4,
    "start_time": "2023-10-16T19:45:13.124Z"
   },
   {
    "duration": 1316,
    "start_time": "2023-10-16T19:45:53.444Z"
   },
   {
    "duration": 1198,
    "start_time": "2023-10-16T19:46:10.974Z"
   },
   {
    "duration": 46,
    "start_time": "2023-10-16T19:46:21.536Z"
   },
   {
    "duration": 4,
    "start_time": "2023-10-16T19:46:42.121Z"
   },
   {
    "duration": 3,
    "start_time": "2023-10-16T19:47:06.767Z"
   },
   {
    "duration": 13,
    "start_time": "2023-10-16T19:53:15.326Z"
   },
   {
    "duration": 1234,
    "start_time": "2023-10-16T19:53:56.181Z"
   },
   {
    "duration": 12,
    "start_time": "2023-10-16T19:54:25.866Z"
   },
   {
    "duration": 1208,
    "start_time": "2023-10-16T19:56:23.628Z"
   },
   {
    "duration": 8,
    "start_time": "2023-10-16T19:58:17.096Z"
   },
   {
    "duration": 8,
    "start_time": "2023-10-16T19:58:48.722Z"
   },
   {
    "duration": 9,
    "start_time": "2023-10-16T19:59:22.584Z"
   },
   {
    "duration": 9,
    "start_time": "2023-10-16T20:00:15.628Z"
   },
   {
    "duration": 24961,
    "start_time": "2023-10-16T20:03:03.540Z"
   },
   {
    "duration": 5,
    "start_time": "2023-10-16T20:09:27.857Z"
   },
   {
    "duration": 1573,
    "start_time": "2023-10-16T20:10:26.039Z"
   },
   {
    "duration": 85,
    "start_time": "2023-10-16T20:10:44.916Z"
   },
   {
    "duration": 18,
    "start_time": "2023-10-16T20:10:59.061Z"
   },
   {
    "duration": 48,
    "start_time": "2023-10-16T20:11:26.060Z"
   },
   {
    "duration": 15,
    "start_time": "2023-10-16T20:11:46.792Z"
   },
   {
    "duration": 20,
    "start_time": "2023-10-16T20:12:29.140Z"
   },
   {
    "duration": 6,
    "start_time": "2023-10-16T20:12:48.965Z"
   },
   {
    "duration": 99,
    "start_time": "2023-10-16T20:13:45.097Z"
   },
   {
    "duration": 25,
    "start_time": "2023-10-16T20:15:13.679Z"
   },
   {
    "duration": 13,
    "start_time": "2023-10-16T20:15:37.320Z"
   },
   {
    "duration": 14,
    "start_time": "2023-10-16T20:17:58.577Z"
   },
   {
    "duration": 12,
    "start_time": "2023-10-16T20:18:34.143Z"
   },
   {
    "duration": 8,
    "start_time": "2023-10-16T20:24:40.213Z"
   },
   {
    "duration": 76,
    "start_time": "2023-10-16T20:25:43.640Z"
   },
   {
    "duration": 7,
    "start_time": "2023-10-16T20:26:00.386Z"
   },
   {
    "duration": 6,
    "start_time": "2023-10-16T20:26:13.788Z"
   },
   {
    "duration": 75,
    "start_time": "2023-10-16T20:27:29.647Z"
   },
   {
    "duration": 177,
    "start_time": "2023-10-16T20:27:46.392Z"
   },
   {
    "duration": 7,
    "start_time": "2023-10-16T20:27:59.461Z"
   },
   {
    "duration": 10,
    "start_time": "2023-10-16T20:29:11.166Z"
   },
   {
    "duration": 88,
    "start_time": "2023-10-16T20:30:07.296Z"
   },
   {
    "duration": 106,
    "start_time": "2023-10-16T20:30:12.564Z"
   },
   {
    "duration": 12,
    "start_time": "2023-10-16T20:30:21.948Z"
   },
   {
    "duration": 15,
    "start_time": "2023-10-16T20:30:31.193Z"
   },
   {
    "duration": 19,
    "start_time": "2023-10-16T20:31:27.459Z"
   },
   {
    "duration": 8,
    "start_time": "2023-10-16T20:31:51.773Z"
   },
   {
    "duration": 9,
    "start_time": "2023-10-16T20:32:00.638Z"
   },
   {
    "duration": 7,
    "start_time": "2023-10-16T20:32:18.411Z"
   },
   {
    "duration": 14,
    "start_time": "2023-10-16T20:32:23.387Z"
   },
   {
    "duration": 7,
    "start_time": "2023-10-16T20:32:39.860Z"
   },
   {
    "duration": 6,
    "start_time": "2023-10-16T20:32:43.509Z"
   },
   {
    "duration": 7,
    "start_time": "2023-10-16T20:32:46.408Z"
   },
   {
    "duration": 9,
    "start_time": "2023-10-16T20:32:51.931Z"
   },
   {
    "duration": 11,
    "start_time": "2023-10-16T20:33:03.409Z"
   },
   {
    "duration": 15,
    "start_time": "2023-10-16T20:33:09.383Z"
   },
   {
    "duration": 464,
    "start_time": "2023-10-16T20:33:29.368Z"
   },
   {
    "duration": 131,
    "start_time": "2023-10-16T20:33:29.834Z"
   },
   {
    "duration": 2254,
    "start_time": "2023-10-16T20:33:29.967Z"
   },
   {
    "duration": 19,
    "start_time": "2023-10-16T20:33:32.224Z"
   },
   {
    "duration": 6,
    "start_time": "2023-10-16T20:33:32.245Z"
   },
   {
    "duration": 39,
    "start_time": "2023-10-16T20:33:32.253Z"
   },
   {
    "duration": 31,
    "start_time": "2023-10-16T20:33:32.294Z"
   },
   {
    "duration": 31,
    "start_time": "2023-10-16T20:33:32.328Z"
   },
   {
    "duration": 188,
    "start_time": "2023-10-16T20:33:32.361Z"
   },
   {
    "duration": 19,
    "start_time": "2023-10-16T20:33:32.552Z"
   },
   {
    "duration": 17,
    "start_time": "2023-10-16T20:34:26.853Z"
   },
   {
    "duration": 89,
    "start_time": "2023-10-16T20:34:42.720Z"
   },
   {
    "duration": 26,
    "start_time": "2023-10-16T20:35:07.517Z"
   },
   {
    "duration": 34,
    "start_time": "2023-10-16T20:35:24.336Z"
   },
   {
    "duration": 23,
    "start_time": "2023-10-16T20:35:40.511Z"
   },
   {
    "duration": 22,
    "start_time": "2023-10-16T20:36:08.075Z"
   },
   {
    "duration": 23,
    "start_time": "2023-10-16T20:36:51.912Z"
   },
   {
    "duration": 440,
    "start_time": "2023-10-18T10:36:22.301Z"
   },
   {
    "duration": 204,
    "start_time": "2023-10-18T10:36:22.743Z"
   },
   {
    "duration": 2333,
    "start_time": "2023-10-18T10:36:22.949Z"
   },
   {
    "duration": 15,
    "start_time": "2023-10-18T10:36:25.283Z"
   },
   {
    "duration": 13,
    "start_time": "2023-10-18T10:36:25.299Z"
   },
   {
    "duration": 19,
    "start_time": "2023-10-18T10:36:25.313Z"
   },
   {
    "duration": 19,
    "start_time": "2023-10-18T10:36:25.333Z"
   },
   {
    "duration": 26,
    "start_time": "2023-10-18T10:36:25.353Z"
   },
   {
    "duration": 170,
    "start_time": "2023-10-18T10:36:25.381Z"
   },
   {
    "duration": 21,
    "start_time": "2023-10-18T10:36:25.552Z"
   },
   {
    "duration": 32,
    "start_time": "2023-10-18T10:39:36.213Z"
   },
   {
    "duration": 36,
    "start_time": "2023-10-18T10:40:09.810Z"
   },
   {
    "duration": 91,
    "start_time": "2023-10-18T10:59:03.338Z"
   },
   {
    "duration": 16,
    "start_time": "2023-10-18T11:07:30.710Z"
   },
   {
    "duration": 19,
    "start_time": "2023-10-18T11:08:18.314Z"
   },
   {
    "duration": 466,
    "start_time": "2023-10-18T11:09:11.713Z"
   },
   {
    "duration": 122,
    "start_time": "2023-10-18T11:09:12.181Z"
   },
   {
    "duration": 2469,
    "start_time": "2023-10-18T11:09:12.305Z"
   },
   {
    "duration": 14,
    "start_time": "2023-10-18T11:09:14.776Z"
   },
   {
    "duration": 16,
    "start_time": "2023-10-18T11:09:14.791Z"
   },
   {
    "duration": 24,
    "start_time": "2023-10-18T11:09:14.809Z"
   },
   {
    "duration": 101,
    "start_time": "2023-10-18T11:09:14.834Z"
   },
   {
    "duration": 0,
    "start_time": "2023-10-18T11:09:14.936Z"
   },
   {
    "duration": 0,
    "start_time": "2023-10-18T11:09:14.938Z"
   },
   {
    "duration": 21,
    "start_time": "2023-10-18T11:10:37.329Z"
   },
   {
    "duration": 33,
    "start_time": "2023-10-18T11:10:46.638Z"
   },
   {
    "duration": 22,
    "start_time": "2023-10-18T11:23:14.631Z"
   },
   {
    "duration": 21,
    "start_time": "2023-10-18T11:25:38.214Z"
   },
   {
    "duration": 23,
    "start_time": "2023-10-18T11:27:55.069Z"
   },
   {
    "duration": 23,
    "start_time": "2023-10-18T11:29:29.287Z"
   },
   {
    "duration": 40,
    "start_time": "2023-10-18T11:29:58.702Z"
   },
   {
    "duration": 46,
    "start_time": "2023-10-18T11:32:30.037Z"
   },
   {
    "duration": 39,
    "start_time": "2023-10-18T11:32:39.059Z"
   },
   {
    "duration": 49,
    "start_time": "2023-10-18T11:32:59.804Z"
   },
   {
    "duration": 41,
    "start_time": "2023-10-18T11:33:09.208Z"
   },
   {
    "duration": 1564,
    "start_time": "2023-10-18T11:35:31.917Z"
   },
   {
    "duration": 2212,
    "start_time": "2023-10-18T11:36:28.921Z"
   },
   {
    "duration": 24,
    "start_time": "2023-10-18T11:37:05.505Z"
   },
   {
    "duration": 66,
    "start_time": "2023-10-18T11:37:25.664Z"
   },
   {
    "duration": 834,
    "start_time": "2023-10-18T11:37:30.534Z"
   },
   {
    "duration": 46,
    "start_time": "2023-10-18T11:39:08.806Z"
   },
   {
    "duration": 27,
    "start_time": "2023-10-18T11:39:14.726Z"
   },
   {
    "duration": 23,
    "start_time": "2023-10-18T11:39:31.225Z"
   },
   {
    "duration": 25,
    "start_time": "2023-10-18T11:40:23.945Z"
   },
   {
    "duration": 24,
    "start_time": "2023-10-18T11:40:49.635Z"
   },
   {
    "duration": 38,
    "start_time": "2023-10-18T11:41:03.859Z"
   },
   {
    "duration": 25,
    "start_time": "2023-10-18T11:41:32.505Z"
   },
   {
    "duration": 3,
    "start_time": "2023-10-18T14:41:06.514Z"
   },
   {
    "duration": 505,
    "start_time": "2023-10-18T14:41:27.232Z"
   },
   {
    "duration": 187,
    "start_time": "2023-10-18T14:41:27.739Z"
   },
   {
    "duration": 2414,
    "start_time": "2023-10-18T14:41:27.927Z"
   },
   {
    "duration": 16,
    "start_time": "2023-10-18T14:41:30.343Z"
   },
   {
    "duration": 25,
    "start_time": "2023-10-18T14:41:30.361Z"
   },
   {
    "duration": 87,
    "start_time": "2023-10-18T14:41:30.387Z"
   },
   {
    "duration": 0,
    "start_time": "2023-10-18T14:41:30.475Z"
   },
   {
    "duration": 0,
    "start_time": "2023-10-18T14:41:30.476Z"
   },
   {
    "duration": 0,
    "start_time": "2023-10-18T14:41:30.478Z"
   },
   {
    "duration": 68,
    "start_time": "2023-10-18T14:41:45.533Z"
   },
   {
    "duration": 67,
    "start_time": "2023-10-18T14:41:58.884Z"
   },
   {
    "duration": 27,
    "start_time": "2023-10-18T14:42:17.645Z"
   },
   {
    "duration": 27,
    "start_time": "2023-10-18T14:42:22.165Z"
   },
   {
    "duration": 74,
    "start_time": "2023-10-18T14:43:00.784Z"
   },
   {
    "duration": 27,
    "start_time": "2023-10-18T14:43:17.088Z"
   },
   {
    "duration": 129,
    "start_time": "2023-10-18T14:43:24.154Z"
   },
   {
    "duration": 26,
    "start_time": "2023-10-18T14:43:29.545Z"
   },
   {
    "duration": 26,
    "start_time": "2023-10-18T14:44:27.261Z"
   },
   {
    "duration": 26,
    "start_time": "2023-10-18T14:44:45.529Z"
   },
   {
    "duration": 26,
    "start_time": "2023-10-18T14:45:55.495Z"
   },
   {
    "duration": 29,
    "start_time": "2023-10-18T14:46:01.907Z"
   },
   {
    "duration": 67,
    "start_time": "2023-10-18T14:47:31.911Z"
   },
   {
    "duration": 27,
    "start_time": "2023-10-18T14:47:40.196Z"
   },
   {
    "duration": 26,
    "start_time": "2023-10-18T14:48:02.216Z"
   },
   {
    "duration": 492,
    "start_time": "2023-10-18T14:54:23.795Z"
   },
   {
    "duration": 136,
    "start_time": "2023-10-18T14:54:24.289Z"
   },
   {
    "duration": 2231,
    "start_time": "2023-10-18T14:54:24.427Z"
   },
   {
    "duration": 16,
    "start_time": "2023-10-18T14:54:26.660Z"
   },
   {
    "duration": 9,
    "start_time": "2023-10-18T14:54:26.678Z"
   },
   {
    "duration": 55,
    "start_time": "2023-10-18T14:54:26.689Z"
   },
   {
    "duration": 83,
    "start_time": "2023-10-18T14:54:26.746Z"
   },
   {
    "duration": 0,
    "start_time": "2023-10-18T14:54:26.831Z"
   },
   {
    "duration": 0,
    "start_time": "2023-10-18T14:54:26.832Z"
   },
   {
    "duration": 23,
    "start_time": "2023-10-18T14:56:23.763Z"
   },
   {
    "duration": 13,
    "start_time": "2023-10-18T14:57:01.634Z"
   },
   {
    "duration": 29,
    "start_time": "2023-10-18T15:02:31.343Z"
   },
   {
    "duration": 26,
    "start_time": "2023-10-18T15:02:40.061Z"
   },
   {
    "duration": 22,
    "start_time": "2023-10-18T15:04:52.261Z"
   },
   {
    "duration": 17,
    "start_time": "2023-10-18T15:11:30.202Z"
   },
   {
    "duration": 131,
    "start_time": "2023-10-18T15:11:37.484Z"
   },
   {
    "duration": 137,
    "start_time": "2023-10-18T15:16:30.761Z"
   },
   {
    "duration": 9,
    "start_time": "2023-10-18T15:17:14.536Z"
   },
   {
    "duration": 14,
    "start_time": "2023-10-18T15:18:10.156Z"
   },
   {
    "duration": 66,
    "start_time": "2023-10-18T15:20:45.338Z"
   },
   {
    "duration": 7,
    "start_time": "2023-10-18T15:20:58.818Z"
   },
   {
    "duration": 13,
    "start_time": "2023-10-18T15:21:23.612Z"
   },
   {
    "duration": 20,
    "start_time": "2023-10-18T15:25:43.070Z"
   },
   {
    "duration": 9,
    "start_time": "2023-10-18T15:26:55.872Z"
   },
   {
    "duration": 5,
    "start_time": "2023-10-18T15:27:09.769Z"
   },
   {
    "duration": 497,
    "start_time": "2023-10-18T15:28:04.052Z"
   },
   {
    "duration": 142,
    "start_time": "2023-10-18T15:28:04.551Z"
   },
   {
    "duration": 2315,
    "start_time": "2023-10-18T15:28:04.695Z"
   },
   {
    "duration": 21,
    "start_time": "2023-10-18T15:28:07.013Z"
   },
   {
    "duration": 17,
    "start_time": "2023-10-18T15:28:07.036Z"
   },
   {
    "duration": 161,
    "start_time": "2023-10-18T15:28:07.055Z"
   },
   {
    "duration": 3,
    "start_time": "2023-10-18T15:28:07.218Z"
   },
   {
    "duration": 123,
    "start_time": "2023-10-18T15:28:07.222Z"
   },
   {
    "duration": 0,
    "start_time": "2023-10-18T15:28:07.347Z"
   },
   {
    "duration": 0,
    "start_time": "2023-10-18T15:28:07.349Z"
   },
   {
    "duration": 54,
    "start_time": "2023-10-18T15:31:07.404Z"
   },
   {
    "duration": 15,
    "start_time": "2023-10-18T15:38:25.637Z"
   },
   {
    "duration": 19,
    "start_time": "2023-10-18T15:39:12.576Z"
   },
   {
    "duration": 11,
    "start_time": "2023-10-18T15:40:07.313Z"
   },
   {
    "duration": 27,
    "start_time": "2023-10-18T15:42:31.757Z"
   },
   {
    "duration": 35,
    "start_time": "2023-10-18T15:42:41.630Z"
   },
   {
    "duration": 464,
    "start_time": "2023-10-18T15:47:32.589Z"
   },
   {
    "duration": 143,
    "start_time": "2023-10-18T15:47:33.055Z"
   },
   {
    "duration": 2405,
    "start_time": "2023-10-18T15:47:33.201Z"
   },
   {
    "duration": 18,
    "start_time": "2023-10-18T15:47:35.609Z"
   },
   {
    "duration": 11,
    "start_time": "2023-10-18T15:47:35.628Z"
   },
   {
    "duration": 268,
    "start_time": "2023-10-18T15:47:35.641Z"
   },
   {
    "duration": 55,
    "start_time": "2023-10-18T15:47:35.911Z"
   },
   {
    "duration": 85,
    "start_time": "2023-10-18T15:47:35.967Z"
   },
   {
    "duration": 0,
    "start_time": "2023-10-18T15:47:36.053Z"
   },
   {
    "duration": 0,
    "start_time": "2023-10-18T15:47:36.055Z"
   },
   {
    "duration": 20,
    "start_time": "2023-10-18T15:48:22.150Z"
   },
   {
    "duration": 151,
    "start_time": "2023-10-18T15:48:25.415Z"
   },
   {
    "duration": 962,
    "start_time": "2023-10-18T15:54:46.226Z"
   },
   {
    "duration": 461,
    "start_time": "2023-10-18T15:57:40.039Z"
   },
   {
    "duration": 1091,
    "start_time": "2023-10-18T15:59:33.589Z"
   },
   {
    "duration": 506,
    "start_time": "2023-10-18T16:02:52.173Z"
   },
   {
    "duration": 148,
    "start_time": "2023-10-18T16:02:52.681Z"
   },
   {
    "duration": 2563,
    "start_time": "2023-10-18T16:02:52.831Z"
   },
   {
    "duration": 17,
    "start_time": "2023-10-18T16:02:55.395Z"
   },
   {
    "duration": 10,
    "start_time": "2023-10-18T16:02:55.415Z"
   },
   {
    "duration": 1421,
    "start_time": "2023-10-18T16:02:55.427Z"
   },
   {
    "duration": 26,
    "start_time": "2023-10-18T16:02:56.852Z"
   },
   {
    "duration": 211,
    "start_time": "2023-10-18T16:02:56.880Z"
   },
   {
    "duration": 28,
    "start_time": "2023-10-18T16:02:57.093Z"
   },
   {
    "duration": 1282,
    "start_time": "2023-10-18T16:07:20.762Z"
   },
   {
    "duration": 545,
    "start_time": "2023-10-18T16:08:14.244Z"
   },
   {
    "duration": 141,
    "start_time": "2023-10-18T16:08:14.791Z"
   },
   {
    "duration": 2464,
    "start_time": "2023-10-18T16:08:14.934Z"
   },
   {
    "duration": 22,
    "start_time": "2023-10-18T16:08:17.399Z"
   },
   {
    "duration": 14,
    "start_time": "2023-10-18T16:08:17.424Z"
   },
   {
    "duration": 1413,
    "start_time": "2023-10-18T16:08:17.440Z"
   },
   {
    "duration": 32,
    "start_time": "2023-10-18T16:08:18.855Z"
   },
   {
    "duration": 43,
    "start_time": "2023-10-18T16:08:18.889Z"
   },
   {
    "duration": 186,
    "start_time": "2023-10-18T16:08:18.934Z"
   },
   {
    "duration": 53,
    "start_time": "2023-10-18T16:08:19.122Z"
   },
   {
    "duration": 27,
    "start_time": "2023-10-18T16:09:38.730Z"
   },
   {
    "duration": 194,
    "start_time": "2023-10-18T16:17:15.305Z"
   },
   {
    "duration": 25,
    "start_time": "2023-10-18T16:23:48.361Z"
   },
   {
    "duration": 78,
    "start_time": "2023-10-18T16:26:39.768Z"
   },
   {
    "duration": 282,
    "start_time": "2023-10-18T16:29:44.201Z"
   },
   {
    "duration": 460,
    "start_time": "2023-10-18T16:31:05.065Z"
   },
   {
    "duration": 146,
    "start_time": "2023-10-18T16:31:05.527Z"
   },
   {
    "duration": 2278,
    "start_time": "2023-10-18T16:31:05.674Z"
   },
   {
    "duration": 19,
    "start_time": "2023-10-18T16:31:07.955Z"
   },
   {
    "duration": 14,
    "start_time": "2023-10-18T16:31:07.976Z"
   },
   {
    "duration": 244,
    "start_time": "2023-10-18T16:31:07.992Z"
   },
   {
    "duration": 85,
    "start_time": "2023-10-18T16:31:08.238Z"
   },
   {
    "duration": 54,
    "start_time": "2023-10-18T16:31:08.324Z"
   },
   {
    "duration": 176,
    "start_time": "2023-10-18T16:31:08.380Z"
   },
   {
    "duration": 22,
    "start_time": "2023-10-18T16:31:08.561Z"
   },
   {
    "duration": 933,
    "start_time": "2023-10-18T16:33:26.557Z"
   },
   {
    "duration": 6,
    "start_time": "2023-10-18T16:34:01.992Z"
   },
   {
    "duration": 6,
    "start_time": "2023-10-18T16:34:20.674Z"
   },
   {
    "duration": 5,
    "start_time": "2023-10-18T16:34:25.339Z"
   },
   {
    "duration": 10,
    "start_time": "2023-10-18T16:36:01.840Z"
   },
   {
    "duration": 6,
    "start_time": "2023-10-18T16:38:10.272Z"
   },
   {
    "duration": 57,
    "start_time": "2023-10-18T16:47:48.689Z"
   },
   {
    "duration": 41,
    "start_time": "2023-10-18T16:48:25.882Z"
   },
   {
    "duration": 29,
    "start_time": "2023-10-18T16:50:43.553Z"
   },
   {
    "duration": 118,
    "start_time": "2023-10-18T16:50:56.279Z"
   },
   {
    "duration": 444,
    "start_time": "2023-10-18T16:51:07.670Z"
   },
   {
    "duration": 125,
    "start_time": "2023-10-18T16:51:08.116Z"
   },
   {
    "duration": 2072,
    "start_time": "2023-10-18T16:51:08.242Z"
   },
   {
    "duration": 16,
    "start_time": "2023-10-18T16:51:10.316Z"
   },
   {
    "duration": 9,
    "start_time": "2023-10-18T16:51:10.333Z"
   },
   {
    "duration": 209,
    "start_time": "2023-10-18T16:51:10.344Z"
   },
   {
    "duration": 42,
    "start_time": "2023-10-18T16:51:10.555Z"
   },
   {
    "duration": 46,
    "start_time": "2023-10-18T16:51:10.598Z"
   },
   {
    "duration": 175,
    "start_time": "2023-10-18T16:51:10.646Z"
   },
   {
    "duration": 42,
    "start_time": "2023-10-18T16:51:10.823Z"
   },
   {
    "duration": 74,
    "start_time": "2023-10-18T16:52:13.377Z"
   },
   {
    "duration": 80,
    "start_time": "2023-10-18T16:52:19.885Z"
   },
   {
    "duration": 46,
    "start_time": "2023-10-18T16:52:25.822Z"
   },
   {
    "duration": 282,
    "start_time": "2023-10-18T16:53:59.865Z"
   },
   {
    "duration": 83,
    "start_time": "2023-10-18T16:55:25.280Z"
   },
   {
    "duration": 6,
    "start_time": "2023-10-18T16:59:04.479Z"
   },
   {
    "duration": 8,
    "start_time": "2023-10-18T16:59:12.432Z"
   },
   {
    "duration": 11,
    "start_time": "2023-10-18T17:02:13.814Z"
   },
   {
    "duration": 11,
    "start_time": "2023-10-18T17:04:30.349Z"
   },
   {
    "duration": 4,
    "start_time": "2023-10-18T17:04:57.233Z"
   },
   {
    "duration": 525,
    "start_time": "2023-10-18T17:05:04.820Z"
   },
   {
    "duration": 125,
    "start_time": "2023-10-18T17:05:05.347Z"
   },
   {
    "duration": 2097,
    "start_time": "2023-10-18T17:05:05.473Z"
   },
   {
    "duration": 15,
    "start_time": "2023-10-18T17:05:07.572Z"
   },
   {
    "duration": 10,
    "start_time": "2023-10-18T17:05:07.590Z"
   },
   {
    "duration": 249,
    "start_time": "2023-10-18T17:05:07.602Z"
   },
   {
    "duration": 6,
    "start_time": "2023-10-18T17:05:07.853Z"
   },
   {
    "duration": 23,
    "start_time": "2023-10-18T17:05:07.860Z"
   },
   {
    "duration": 172,
    "start_time": "2023-10-18T17:05:07.886Z"
   },
   {
    "duration": 8,
    "start_time": "2023-10-18T17:05:08.059Z"
   },
   {
    "duration": 6,
    "start_time": "2023-10-18T17:08:12.576Z"
   },
   {
    "duration": 481,
    "start_time": "2023-10-18T17:08:26.940Z"
   },
   {
    "duration": 148,
    "start_time": "2023-10-18T17:08:27.423Z"
   },
   {
    "duration": 2218,
    "start_time": "2023-10-18T17:08:27.572Z"
   },
   {
    "duration": 16,
    "start_time": "2023-10-18T17:08:29.792Z"
   },
   {
    "duration": 8,
    "start_time": "2023-10-18T17:08:29.810Z"
   },
   {
    "duration": 270,
    "start_time": "2023-10-18T17:08:29.820Z"
   },
   {
    "duration": 8,
    "start_time": "2023-10-18T17:08:30.092Z"
   },
   {
    "duration": 51,
    "start_time": "2023-10-18T17:08:30.102Z"
   },
   {
    "duration": 169,
    "start_time": "2023-10-18T17:08:30.155Z"
   },
   {
    "duration": 18,
    "start_time": "2023-10-18T17:08:30.347Z"
   },
   {
    "duration": 7,
    "start_time": "2023-10-18T17:11:30.499Z"
   },
   {
    "duration": 523,
    "start_time": "2023-10-18T17:11:47.879Z"
   },
   {
    "duration": 157,
    "start_time": "2023-10-18T17:11:48.404Z"
   },
   {
    "duration": 2489,
    "start_time": "2023-10-18T17:11:48.566Z"
   },
   {
    "duration": 27,
    "start_time": "2023-10-18T17:11:51.058Z"
   },
   {
    "duration": 9,
    "start_time": "2023-10-18T17:11:51.087Z"
   },
   {
    "duration": 288,
    "start_time": "2023-10-18T17:11:51.098Z"
   },
   {
    "duration": 5,
    "start_time": "2023-10-18T17:11:51.387Z"
   },
   {
    "duration": 295,
    "start_time": "2023-10-18T17:11:51.393Z"
   },
   {
    "duration": 156,
    "start_time": "2023-10-18T17:11:51.690Z"
   },
   {
    "duration": 16,
    "start_time": "2023-10-18T17:11:51.853Z"
   },
   {
    "duration": 4,
    "start_time": "2023-10-18T17:12:17.226Z"
   },
   {
    "duration": 19,
    "start_time": "2023-10-18T17:12:46.263Z"
   },
   {
    "duration": 10,
    "start_time": "2023-10-18T17:12:59.531Z"
   },
   {
    "duration": 8,
    "start_time": "2023-10-18T17:13:02.411Z"
   },
   {
    "duration": 514,
    "start_time": "2023-10-18T17:15:30.151Z"
   },
   {
    "duration": 141,
    "start_time": "2023-10-18T17:15:30.667Z"
   },
   {
    "duration": 2280,
    "start_time": "2023-10-18T17:15:30.810Z"
   },
   {
    "duration": 17,
    "start_time": "2023-10-18T17:15:33.092Z"
   },
   {
    "duration": 9,
    "start_time": "2023-10-18T17:15:33.111Z"
   },
   {
    "duration": 283,
    "start_time": "2023-10-18T17:15:33.122Z"
   },
   {
    "duration": 52,
    "start_time": "2023-10-18T17:15:33.407Z"
   },
   {
    "duration": 185,
    "start_time": "2023-10-18T17:15:33.469Z"
   },
   {
    "duration": 11,
    "start_time": "2023-10-18T17:15:33.655Z"
   },
   {
    "duration": 231,
    "start_time": "2023-10-18T17:16:26.659Z"
   },
   {
    "duration": 336,
    "start_time": "2023-10-18T17:17:14.833Z"
   },
   {
    "duration": 227,
    "start_time": "2023-10-18T17:17:22.471Z"
   },
   {
    "duration": 541,
    "start_time": "2023-10-18T17:17:31.223Z"
   },
   {
    "duration": 135,
    "start_time": "2023-10-18T17:17:31.766Z"
   },
   {
    "duration": 2326,
    "start_time": "2023-10-18T17:17:31.904Z"
   },
   {
    "duration": 22,
    "start_time": "2023-10-18T17:17:34.234Z"
   },
   {
    "duration": 24,
    "start_time": "2023-10-18T17:17:34.261Z"
   },
   {
    "duration": 293,
    "start_time": "2023-10-18T17:17:34.287Z"
   },
   {
    "duration": 23,
    "start_time": "2023-10-18T17:17:34.581Z"
   },
   {
    "duration": 178,
    "start_time": "2023-10-18T17:17:34.606Z"
   },
   {
    "duration": 12,
    "start_time": "2023-10-18T17:17:34.787Z"
   },
   {
    "duration": 299,
    "start_time": "2023-10-18T17:18:22.537Z"
   },
   {
    "duration": 10,
    "start_time": "2023-10-18T17:20:24.760Z"
   },
   {
    "duration": 296,
    "start_time": "2023-10-18T17:21:49.307Z"
   },
   {
    "duration": 234,
    "start_time": "2023-10-18T17:22:25.587Z"
   },
   {
    "duration": 273,
    "start_time": "2023-10-18T17:23:03.433Z"
   },
   {
    "duration": 229,
    "start_time": "2023-10-18T17:26:33.806Z"
   },
   {
    "duration": 231,
    "start_time": "2023-10-18T17:26:51.889Z"
   },
   {
    "duration": 50,
    "start_time": "2023-10-18T17:28:56.880Z"
   },
   {
    "duration": 112,
    "start_time": "2023-10-18T17:29:47.741Z"
   },
   {
    "duration": 72,
    "start_time": "2023-10-18T17:30:42.454Z"
   },
   {
    "duration": 117,
    "start_time": "2023-10-18T17:31:26.837Z"
   },
   {
    "duration": 32,
    "start_time": "2023-10-18T17:32:10.006Z"
   },
   {
    "duration": 30,
    "start_time": "2023-10-18T17:32:17.110Z"
   },
   {
    "duration": 50,
    "start_time": "2023-10-18T17:34:00.277Z"
   },
   {
    "duration": 20,
    "start_time": "2023-10-18T17:37:27.609Z"
   },
   {
    "duration": 23,
    "start_time": "2023-10-18T17:47:11.596Z"
   },
   {
    "duration": 55,
    "start_time": "2023-10-18T17:47:20.563Z"
   },
   {
    "duration": 37,
    "start_time": "2023-10-18T17:47:25.610Z"
   },
   {
    "duration": 506,
    "start_time": "2023-10-18T17:48:34.986Z"
   },
   {
    "duration": 143,
    "start_time": "2023-10-18T17:48:35.496Z"
   },
   {
    "duration": 2273,
    "start_time": "2023-10-18T17:48:35.641Z"
   },
   {
    "duration": 23,
    "start_time": "2023-10-18T17:48:37.916Z"
   },
   {
    "duration": 23,
    "start_time": "2023-10-18T17:48:37.942Z"
   },
   {
    "duration": 259,
    "start_time": "2023-10-18T17:48:37.966Z"
   },
   {
    "duration": 34,
    "start_time": "2023-10-18T17:48:38.227Z"
   },
   {
    "duration": 23,
    "start_time": "2023-10-18T17:48:38.263Z"
   },
   {
    "duration": 202,
    "start_time": "2023-10-18T17:48:38.289Z"
   },
   {
    "duration": 11,
    "start_time": "2023-10-18T17:48:38.495Z"
   },
   {
    "duration": 48,
    "start_time": "2023-10-18T17:49:34.403Z"
   },
   {
    "duration": 49,
    "start_time": "2023-10-18T17:49:43.538Z"
   },
   {
    "duration": 28,
    "start_time": "2023-10-18T17:51:02.294Z"
   },
   {
    "duration": 89,
    "start_time": "2023-10-18T17:51:17.543Z"
   },
   {
    "duration": 435,
    "start_time": "2023-10-18T17:51:49.393Z"
   },
   {
    "duration": 152,
    "start_time": "2023-10-18T17:51:49.830Z"
   },
   {
    "duration": 2172,
    "start_time": "2023-10-18T17:51:49.983Z"
   },
   {
    "duration": 23,
    "start_time": "2023-10-18T17:51:52.158Z"
   },
   {
    "duration": 9,
    "start_time": "2023-10-18T17:51:52.184Z"
   },
   {
    "duration": 276,
    "start_time": "2023-10-18T17:51:52.195Z"
   },
   {
    "duration": 27,
    "start_time": "2023-10-18T17:51:52.473Z"
   },
   {
    "duration": 25,
    "start_time": "2023-10-18T17:51:52.502Z"
   },
   {
    "duration": 167,
    "start_time": "2023-10-18T17:51:52.546Z"
   },
   {
    "duration": 33,
    "start_time": "2023-10-18T17:51:52.715Z"
   },
   {
    "duration": 44,
    "start_time": "2023-10-18T17:53:43.613Z"
   },
   {
    "duration": 43,
    "start_time": "2023-10-18T17:54:46.066Z"
   },
   {
    "duration": 26,
    "start_time": "2023-10-18T17:55:03.544Z"
   },
   {
    "duration": 205,
    "start_time": "2023-10-18T17:57:10.268Z"
   },
   {
    "duration": 468,
    "start_time": "2023-10-18T17:57:48.896Z"
   },
   {
    "duration": 134,
    "start_time": "2023-10-18T17:57:49.366Z"
   },
   {
    "duration": 2249,
    "start_time": "2023-10-18T17:57:49.502Z"
   },
   {
    "duration": 23,
    "start_time": "2023-10-18T17:57:51.754Z"
   },
   {
    "duration": 14,
    "start_time": "2023-10-18T17:57:51.780Z"
   },
   {
    "duration": 273,
    "start_time": "2023-10-18T17:57:51.796Z"
   },
   {
    "duration": 112,
    "start_time": "2023-10-18T17:57:52.071Z"
   },
   {
    "duration": 0,
    "start_time": "2023-10-18T17:57:52.185Z"
   },
   {
    "duration": 0,
    "start_time": "2023-10-18T17:57:52.187Z"
   },
   {
    "duration": 0,
    "start_time": "2023-10-18T17:57:52.188Z"
   },
   {
    "duration": 29,
    "start_time": "2023-10-18T17:58:59.071Z"
   },
   {
    "duration": 43,
    "start_time": "2023-10-18T17:59:55.222Z"
   },
   {
    "duration": 523,
    "start_time": "2023-10-18T18:00:23.370Z"
   },
   {
    "duration": 163,
    "start_time": "2023-10-18T18:00:23.895Z"
   },
   {
    "duration": 2557,
    "start_time": "2023-10-18T18:00:24.061Z"
   },
   {
    "duration": 17,
    "start_time": "2023-10-18T18:00:26.619Z"
   },
   {
    "duration": 16,
    "start_time": "2023-10-18T18:00:26.638Z"
   },
   {
    "duration": 261,
    "start_time": "2023-10-18T18:00:26.656Z"
   },
   {
    "duration": 107,
    "start_time": "2023-10-18T18:00:26.919Z"
   },
   {
    "duration": 0,
    "start_time": "2023-10-18T18:00:27.028Z"
   },
   {
    "duration": 0,
    "start_time": "2023-10-18T18:00:27.029Z"
   },
   {
    "duration": 0,
    "start_time": "2023-10-18T18:00:27.030Z"
   },
   {
    "duration": 33,
    "start_time": "2023-10-18T18:00:36.959Z"
   },
   {
    "duration": 37,
    "start_time": "2023-10-18T18:02:30.966Z"
   },
   {
    "duration": 110,
    "start_time": "2023-10-18T18:05:30.458Z"
   },
   {
    "duration": 15,
    "start_time": "2023-10-18T18:16:25.067Z"
   },
   {
    "duration": 20,
    "start_time": "2023-10-18T18:19:52.077Z"
   },
   {
    "duration": 27,
    "start_time": "2023-10-18T18:56:26.181Z"
   },
   {
    "duration": 484,
    "start_time": "2023-10-18T18:57:17.648Z"
   },
   {
    "duration": 129,
    "start_time": "2023-10-18T18:57:18.134Z"
   },
   {
    "duration": 2210,
    "start_time": "2023-10-18T18:57:18.264Z"
   },
   {
    "duration": 15,
    "start_time": "2023-10-18T18:57:20.476Z"
   },
   {
    "duration": 22,
    "start_time": "2023-10-18T18:57:20.492Z"
   },
   {
    "duration": 217,
    "start_time": "2023-10-18T18:57:20.515Z"
   },
   {
    "duration": 24,
    "start_time": "2023-10-18T18:57:20.733Z"
   },
   {
    "duration": 155,
    "start_time": "2023-10-18T18:57:20.759Z"
   },
   {
    "duration": 32,
    "start_time": "2023-10-18T18:57:20.916Z"
   },
   {
    "duration": 11,
    "start_time": "2023-10-18T19:01:06.414Z"
   },
   {
    "duration": 10,
    "start_time": "2023-10-18T19:02:08.988Z"
   },
   {
    "duration": 22,
    "start_time": "2023-10-18T19:02:17.915Z"
   },
   {
    "duration": 72,
    "start_time": "2023-10-18T19:03:37.484Z"
   },
   {
    "duration": 10,
    "start_time": "2023-10-18T19:03:59.808Z"
   },
   {
    "duration": 9,
    "start_time": "2023-10-18T19:04:59.694Z"
   },
   {
    "duration": 10,
    "start_time": "2023-10-18T19:05:07.530Z"
   },
   {
    "duration": 11,
    "start_time": "2023-10-18T19:05:24.861Z"
   },
   {
    "duration": 13,
    "start_time": "2023-10-18T19:05:32.529Z"
   },
   {
    "duration": 14,
    "start_time": "2023-10-18T19:05:48.693Z"
   },
   {
    "duration": 11,
    "start_time": "2023-10-18T19:06:10.046Z"
   },
   {
    "duration": 9,
    "start_time": "2023-10-18T19:06:25.385Z"
   },
   {
    "duration": 10,
    "start_time": "2023-10-18T19:06:57.998Z"
   },
   {
    "duration": 7,
    "start_time": "2023-10-18T19:07:03.803Z"
   },
   {
    "duration": 8,
    "start_time": "2023-10-18T19:07:10.098Z"
   },
   {
    "duration": 185,
    "start_time": "2023-10-18T19:08:37.658Z"
   },
   {
    "duration": 9,
    "start_time": "2023-10-18T19:08:49.725Z"
   },
   {
    "duration": 465,
    "start_time": "2023-10-18T19:09:07.087Z"
   },
   {
    "duration": 144,
    "start_time": "2023-10-18T19:09:07.554Z"
   },
   {
    "duration": 2246,
    "start_time": "2023-10-18T19:09:07.700Z"
   },
   {
    "duration": 16,
    "start_time": "2023-10-18T19:09:09.948Z"
   },
   {
    "duration": 12,
    "start_time": "2023-10-18T19:09:09.966Z"
   },
   {
    "duration": 260,
    "start_time": "2023-10-18T19:09:09.980Z"
   },
   {
    "duration": 23,
    "start_time": "2023-10-18T19:09:10.243Z"
   },
   {
    "duration": 182,
    "start_time": "2023-10-18T19:09:10.268Z"
   },
   {
    "duration": 9,
    "start_time": "2023-10-18T19:09:10.452Z"
   },
   {
    "duration": 203,
    "start_time": "2023-10-18T19:11:03.018Z"
   },
   {
    "duration": 478,
    "start_time": "2023-10-18T19:11:23.162Z"
   },
   {
    "duration": 153,
    "start_time": "2023-10-18T19:11:24.379Z"
   },
   {
    "duration": 2098,
    "start_time": "2023-10-18T19:11:27.743Z"
   },
   {
    "duration": 12,
    "start_time": "2023-10-18T19:11:38.697Z"
   },
   {
    "duration": 1461,
    "start_time": "2023-10-18T19:11:48.692Z"
   },
   {
    "duration": 12,
    "start_time": "2023-10-18T19:11:54.354Z"
   },
   {
    "duration": 499,
    "start_time": "2023-10-18T19:12:25.114Z"
   },
   {
    "duration": 445,
    "start_time": "2023-10-18T19:13:00.792Z"
   },
   {
    "duration": 132,
    "start_time": "2023-10-18T19:13:01.520Z"
   },
   {
    "duration": 553,
    "start_time": "2023-10-18T19:13:10.014Z"
   },
   {
    "duration": 247,
    "start_time": "2023-10-18T19:13:46.474Z"
   },
   {
    "duration": 228,
    "start_time": "2023-10-18T19:14:42.288Z"
   },
   {
    "duration": 249,
    "start_time": "2023-10-18T19:15:12.984Z"
   },
   {
    "duration": 452,
    "start_time": "2023-10-18T19:15:24.783Z"
   },
   {
    "duration": 147,
    "start_time": "2023-10-18T19:15:25.914Z"
   },
   {
    "duration": 259,
    "start_time": "2023-10-18T19:15:32.421Z"
   },
   {
    "duration": 249,
    "start_time": "2023-10-18T19:15:59.907Z"
   },
   {
    "duration": 464,
    "start_time": "2023-10-18T19:16:57.639Z"
   },
   {
    "duration": 124,
    "start_time": "2023-10-18T19:16:59.066Z"
   },
   {
    "duration": 571,
    "start_time": "2023-10-18T19:17:21.487Z"
   },
   {
    "duration": 8,
    "start_time": "2023-10-18T19:17:46.539Z"
   },
   {
    "duration": 58,
    "start_time": "2023-10-18T19:18:14.809Z"
   },
   {
    "duration": 8,
    "start_time": "2023-10-18T19:18:18.074Z"
   },
   {
    "duration": 11,
    "start_time": "2023-10-18T19:18:24.878Z"
   },
   {
    "duration": 10,
    "start_time": "2023-10-18T19:18:31.275Z"
   },
   {
    "duration": 354,
    "start_time": "2023-10-18T19:18:58.859Z"
   },
   {
    "duration": 12,
    "start_time": "2023-10-18T19:19:51.053Z"
   },
   {
    "duration": 12,
    "start_time": "2023-10-18T19:20:20.671Z"
   },
   {
    "duration": 10,
    "start_time": "2023-10-18T19:20:35.259Z"
   },
   {
    "duration": 9,
    "start_time": "2023-10-18T19:20:49.427Z"
   },
   {
    "duration": 10,
    "start_time": "2023-10-18T19:20:54.436Z"
   },
   {
    "duration": 13,
    "start_time": "2023-10-18T19:21:11.317Z"
   },
   {
    "duration": 9,
    "start_time": "2023-10-18T19:21:32.132Z"
   },
   {
    "duration": 12,
    "start_time": "2023-10-18T19:21:49.096Z"
   },
   {
    "duration": 21,
    "start_time": "2023-10-18T19:22:09.635Z"
   },
   {
    "duration": 21,
    "start_time": "2023-10-18T19:22:26.333Z"
   },
   {
    "duration": 7,
    "start_time": "2023-10-18T19:22:56.597Z"
   },
   {
    "duration": 60,
    "start_time": "2023-10-18T19:23:00.610Z"
   },
   {
    "duration": 22,
    "start_time": "2023-10-18T19:23:05.938Z"
   },
   {
    "duration": 13,
    "start_time": "2023-10-18T19:23:13.856Z"
   },
   {
    "duration": 13,
    "start_time": "2023-10-18T19:23:18.160Z"
   },
   {
    "duration": 9,
    "start_time": "2023-10-18T19:23:32.357Z"
   },
   {
    "duration": 12,
    "start_time": "2023-10-18T19:24:51.360Z"
   },
   {
    "duration": 13,
    "start_time": "2023-10-18T19:25:15.270Z"
   },
   {
    "duration": 475,
    "start_time": "2023-10-18T19:26:58.500Z"
   },
   {
    "duration": 147,
    "start_time": "2023-10-18T19:27:01.011Z"
   },
   {
    "duration": 9,
    "start_time": "2023-10-18T19:27:07.876Z"
   },
   {
    "duration": 304,
    "start_time": "2023-10-18T19:27:11.827Z"
   },
   {
    "duration": 7,
    "start_time": "2023-10-18T19:27:36.668Z"
   },
   {
    "duration": 8,
    "start_time": "2023-10-18T19:28:48.287Z"
   },
   {
    "duration": 7,
    "start_time": "2023-10-18T19:28:58.020Z"
   },
   {
    "duration": 8,
    "start_time": "2023-10-18T19:29:10.258Z"
   },
   {
    "duration": 9,
    "start_time": "2023-10-18T19:29:19.894Z"
   },
   {
    "duration": 8,
    "start_time": "2023-10-18T19:29:27.471Z"
   },
   {
    "duration": 8,
    "start_time": "2023-10-18T19:29:33.464Z"
   },
   {
    "duration": 8,
    "start_time": "2023-10-18T19:43:41.880Z"
   },
   {
    "duration": 10,
    "start_time": "2023-10-18T19:43:56.378Z"
   },
   {
    "duration": 10,
    "start_time": "2023-10-18T19:44:05.913Z"
   },
   {
    "duration": 517,
    "start_time": "2023-10-18T19:44:23.084Z"
   },
   {
    "duration": 157,
    "start_time": "2023-10-18T19:44:23.604Z"
   },
   {
    "duration": 2619,
    "start_time": "2023-10-18T19:44:23.763Z"
   },
   {
    "duration": 19,
    "start_time": "2023-10-18T19:44:26.385Z"
   },
   {
    "duration": 10,
    "start_time": "2023-10-18T19:44:26.406Z"
   },
   {
    "duration": 274,
    "start_time": "2023-10-18T19:44:26.417Z"
   },
   {
    "duration": 20,
    "start_time": "2023-10-18T19:44:26.693Z"
   },
   {
    "duration": 191,
    "start_time": "2023-10-18T19:44:26.715Z"
   },
   {
    "duration": 8,
    "start_time": "2023-10-18T19:44:26.908Z"
   },
   {
    "duration": 27,
    "start_time": "2023-10-18T19:46:31.238Z"
   },
   {
    "duration": 474,
    "start_time": "2023-10-18T19:46:42.560Z"
   },
   {
    "duration": 172,
    "start_time": "2023-10-18T19:46:43.037Z"
   },
   {
    "duration": 2366,
    "start_time": "2023-10-18T19:46:43.211Z"
   },
   {
    "duration": 15,
    "start_time": "2023-10-18T19:46:45.580Z"
   },
   {
    "duration": 19,
    "start_time": "2023-10-18T19:46:45.597Z"
   },
   {
    "duration": 259,
    "start_time": "2023-10-18T19:46:45.618Z"
   },
   {
    "duration": 21,
    "start_time": "2023-10-18T19:46:45.879Z"
   },
   {
    "duration": 184,
    "start_time": "2023-10-18T19:46:45.902Z"
   },
   {
    "duration": 10,
    "start_time": "2023-10-18T19:46:46.088Z"
   },
   {
    "duration": 14,
    "start_time": "2023-10-18T19:47:46.073Z"
   },
   {
    "duration": 63,
    "start_time": "2023-10-18T19:50:33.726Z"
   },
   {
    "duration": 467,
    "start_time": "2023-10-18T19:50:49.563Z"
   },
   {
    "duration": 150,
    "start_time": "2023-10-18T19:50:50.032Z"
   },
   {
    "duration": 2238,
    "start_time": "2023-10-18T19:50:50.184Z"
   },
   {
    "duration": 15,
    "start_time": "2023-10-18T19:50:52.423Z"
   },
   {
    "duration": 21,
    "start_time": "2023-10-18T19:50:52.440Z"
   },
   {
    "duration": 243,
    "start_time": "2023-10-18T19:50:52.463Z"
   },
   {
    "duration": 20,
    "start_time": "2023-10-18T19:50:52.708Z"
   },
   {
    "duration": 180,
    "start_time": "2023-10-18T19:50:52.730Z"
   },
   {
    "duration": 81,
    "start_time": "2023-10-18T19:50:52.911Z"
   },
   {
    "duration": 14,
    "start_time": "2023-10-18T19:51:15.394Z"
   },
   {
    "duration": 114,
    "start_time": "2023-10-18T19:51:48.799Z"
   },
   {
    "duration": 96,
    "start_time": "2023-10-18T19:52:22.658Z"
   },
   {
    "duration": 1502,
    "start_time": "2023-10-18T19:52:32.666Z"
   },
   {
    "duration": 42,
    "start_time": "2023-10-18T19:54:12.400Z"
   },
   {
    "duration": 10,
    "start_time": "2023-10-18T19:55:28.720Z"
   },
   {
    "duration": 8,
    "start_time": "2023-10-18T19:56:42.874Z"
   },
   {
    "duration": 39,
    "start_time": "2023-10-18T19:57:18.413Z"
   },
   {
    "duration": 25,
    "start_time": "2023-10-18T19:57:53.776Z"
   },
   {
    "duration": 87,
    "start_time": "2023-10-18T20:01:39.527Z"
   },
   {
    "duration": 23,
    "start_time": "2023-10-18T20:01:52.094Z"
   },
   {
    "duration": 28,
    "start_time": "2023-10-18T20:05:41.063Z"
   },
   {
    "duration": 10,
    "start_time": "2023-10-18T20:05:47.350Z"
   },
   {
    "duration": 12,
    "start_time": "2023-10-18T20:06:32.065Z"
   },
   {
    "duration": 11,
    "start_time": "2023-10-18T20:06:38.759Z"
   },
   {
    "duration": 11,
    "start_time": "2023-10-18T20:06:49.824Z"
   },
   {
    "duration": 12,
    "start_time": "2023-10-18T20:07:29.778Z"
   },
   {
    "duration": 10,
    "start_time": "2023-10-18T20:07:33.916Z"
   },
   {
    "duration": 19,
    "start_time": "2023-10-18T20:07:45.017Z"
   },
   {
    "duration": 11,
    "start_time": "2023-10-18T20:07:57.887Z"
   },
   {
    "duration": 6,
    "start_time": "2023-10-18T20:08:15.365Z"
   },
   {
    "duration": 4,
    "start_time": "2023-10-18T20:08:35.922Z"
   },
   {
    "duration": 167,
    "start_time": "2023-10-18T20:08:46.988Z"
   },
   {
    "duration": 169,
    "start_time": "2023-10-18T20:11:49.980Z"
   },
   {
    "duration": 152,
    "start_time": "2023-10-18T20:13:29.937Z"
   },
   {
    "duration": 16,
    "start_time": "2023-10-18T20:14:04.883Z"
   },
   {
    "duration": 9,
    "start_time": "2023-10-18T20:17:52.190Z"
   },
   {
    "duration": 15,
    "start_time": "2023-10-18T20:18:03.992Z"
   },
   {
    "duration": 17,
    "start_time": "2023-10-18T20:19:28.698Z"
   },
   {
    "duration": 10,
    "start_time": "2023-10-18T20:20:23.181Z"
   },
   {
    "duration": 10,
    "start_time": "2023-10-18T20:20:32.108Z"
   },
   {
    "duration": 102,
    "start_time": "2023-10-18T20:22:11.538Z"
   },
   {
    "duration": 24,
    "start_time": "2023-10-18T20:25:44.464Z"
   },
   {
    "duration": 38,
    "start_time": "2023-10-18T20:26:55.512Z"
   },
   {
    "duration": 438,
    "start_time": "2023-10-18T20:27:14.472Z"
   },
   {
    "duration": 129,
    "start_time": "2023-10-18T20:27:14.912Z"
   },
   {
    "duration": 2012,
    "start_time": "2023-10-18T20:27:15.045Z"
   },
   {
    "duration": 14,
    "start_time": "2023-10-18T20:27:17.060Z"
   },
   {
    "duration": 26,
    "start_time": "2023-10-18T20:27:17.075Z"
   },
   {
    "duration": 220,
    "start_time": "2023-10-18T20:27:17.102Z"
   },
   {
    "duration": 26,
    "start_time": "2023-10-18T20:27:17.324Z"
   },
   {
    "duration": 161,
    "start_time": "2023-10-18T20:27:17.352Z"
   },
   {
    "duration": 67,
    "start_time": "2023-10-18T20:27:17.515Z"
   },
   {
    "duration": 64,
    "start_time": "2023-10-18T20:28:35.837Z"
   },
   {
    "duration": 480,
    "start_time": "2023-10-18T20:29:01.916Z"
   },
   {
    "duration": 124,
    "start_time": "2023-10-18T20:29:02.398Z"
   },
   {
    "duration": 2090,
    "start_time": "2023-10-18T20:29:02.524Z"
   },
   {
    "duration": 15,
    "start_time": "2023-10-18T20:29:04.617Z"
   },
   {
    "duration": 16,
    "start_time": "2023-10-18T20:29:04.634Z"
   },
   {
    "duration": 231,
    "start_time": "2023-10-18T20:29:04.652Z"
   },
   {
    "duration": 21,
    "start_time": "2023-10-18T20:29:04.885Z"
   },
   {
    "duration": 164,
    "start_time": "2023-10-18T20:29:04.907Z"
   },
   {
    "duration": 82,
    "start_time": "2023-10-18T20:29:05.073Z"
   },
   {
    "duration": 74,
    "start_time": "2023-10-18T20:29:49.755Z"
   },
   {
    "duration": 50,
    "start_time": "2023-10-18T20:30:12.766Z"
   },
   {
    "duration": 53,
    "start_time": "2023-10-18T20:30:38.847Z"
   },
   {
    "duration": 455,
    "start_time": "2023-10-18T20:31:04.960Z"
   },
   {
    "duration": 128,
    "start_time": "2023-10-18T20:31:05.417Z"
   },
   {
    "duration": 2207,
    "start_time": "2023-10-18T20:31:05.547Z"
   },
   {
    "duration": 17,
    "start_time": "2023-10-18T20:31:07.755Z"
   },
   {
    "duration": 9,
    "start_time": "2023-10-18T20:31:07.774Z"
   },
   {
    "duration": 259,
    "start_time": "2023-10-18T20:31:07.785Z"
   },
   {
    "duration": 19,
    "start_time": "2023-10-18T20:31:08.046Z"
   },
   {
    "duration": 157,
    "start_time": "2023-10-18T20:31:08.066Z"
   },
   {
    "duration": 54,
    "start_time": "2023-10-18T20:31:08.244Z"
   },
   {
    "duration": 53,
    "start_time": "2023-10-18T20:32:18.387Z"
   },
   {
    "duration": 52,
    "start_time": "2023-10-18T20:33:31.649Z"
   },
   {
    "duration": 428,
    "start_time": "2023-10-19T10:12:29.702Z"
   },
   {
    "duration": 182,
    "start_time": "2023-10-19T10:12:30.132Z"
   },
   {
    "duration": 2186,
    "start_time": "2023-10-19T10:12:30.316Z"
   },
   {
    "duration": 17,
    "start_time": "2023-10-19T10:12:32.504Z"
   },
   {
    "duration": 12,
    "start_time": "2023-10-19T10:12:32.522Z"
   },
   {
    "duration": 218,
    "start_time": "2023-10-19T10:12:32.536Z"
   },
   {
    "duration": 19,
    "start_time": "2023-10-19T10:12:32.756Z"
   },
   {
    "duration": 175,
    "start_time": "2023-10-19T10:12:32.777Z"
   },
   {
    "duration": 140,
    "start_time": "2023-10-19T10:12:32.954Z"
   },
   {
    "duration": 56,
    "start_time": "2023-10-19T10:13:15.337Z"
   },
   {
    "duration": 59,
    "start_time": "2023-10-19T10:14:01.898Z"
   },
   {
    "duration": 72,
    "start_time": "2023-10-19T10:15:17.025Z"
   },
   {
    "duration": 7568,
    "start_time": "2023-10-19T10:25:41.920Z"
   },
   {
    "duration": 17,
    "start_time": "2023-10-19T10:26:16.583Z"
   },
   {
    "duration": 13,
    "start_time": "2023-10-19T10:27:05.883Z"
   },
   {
    "duration": 13,
    "start_time": "2023-10-19T10:27:20.416Z"
   },
   {
    "duration": 16,
    "start_time": "2023-10-19T10:28:24.778Z"
   },
   {
    "duration": 14,
    "start_time": "2023-10-19T10:28:34.574Z"
   },
   {
    "duration": 16,
    "start_time": "2023-10-19T10:28:53.517Z"
   },
   {
    "duration": 16,
    "start_time": "2023-10-19T10:29:02.047Z"
   },
   {
    "duration": 71,
    "start_time": "2023-10-19T10:29:54.216Z"
   },
   {
    "duration": 17,
    "start_time": "2023-10-19T10:30:02.731Z"
   },
   {
    "duration": 46,
    "start_time": "2023-10-19T10:31:45.256Z"
   },
   {
    "duration": 444,
    "start_time": "2023-10-19T10:33:32.559Z"
   },
   {
    "duration": 155,
    "start_time": "2023-10-19T10:33:33.005Z"
   },
   {
    "duration": 2134,
    "start_time": "2023-10-19T10:33:33.162Z"
   },
   {
    "duration": 16,
    "start_time": "2023-10-19T10:33:35.298Z"
   },
   {
    "duration": 11,
    "start_time": "2023-10-19T10:33:35.316Z"
   },
   {
    "duration": 206,
    "start_time": "2023-10-19T10:33:35.329Z"
   },
   {
    "duration": 24,
    "start_time": "2023-10-19T10:33:35.536Z"
   },
   {
    "duration": 158,
    "start_time": "2023-10-19T10:33:35.562Z"
   },
   {
    "duration": 123,
    "start_time": "2023-10-19T10:33:35.722Z"
   },
   {
    "duration": 494,
    "start_time": "2023-10-19T10:33:53.782Z"
   },
   {
    "duration": 137,
    "start_time": "2023-10-19T10:33:54.280Z"
   },
   {
    "duration": 2199,
    "start_time": "2023-10-19T10:33:54.419Z"
   },
   {
    "duration": 18,
    "start_time": "2023-10-19T10:33:56.620Z"
   },
   {
    "duration": 10,
    "start_time": "2023-10-19T10:33:56.640Z"
   },
   {
    "duration": 242,
    "start_time": "2023-10-19T10:33:56.652Z"
   },
   {
    "duration": 19,
    "start_time": "2023-10-19T10:33:56.896Z"
   },
   {
    "duration": 181,
    "start_time": "2023-10-19T10:33:56.917Z"
   },
   {
    "duration": 107,
    "start_time": "2023-10-19T10:33:57.100Z"
   },
   {
    "duration": 26,
    "start_time": "2023-10-19T10:36:13.906Z"
   },
   {
    "duration": 42,
    "start_time": "2023-10-19T10:38:02.301Z"
   },
   {
    "duration": 41,
    "start_time": "2023-10-19T10:39:11.166Z"
   },
   {
    "duration": 43,
    "start_time": "2023-10-19T10:41:57.643Z"
   },
   {
    "duration": 38,
    "start_time": "2023-10-19T10:42:50.387Z"
   },
   {
    "duration": 37,
    "start_time": "2023-10-19T10:43:48.199Z"
   },
   {
    "duration": 400,
    "start_time": "2023-10-19T10:53:46.053Z"
   },
   {
    "duration": 495,
    "start_time": "2023-10-19T10:54:09.131Z"
   },
   {
    "duration": 128,
    "start_time": "2023-10-19T10:54:09.628Z"
   },
   {
    "duration": 2004,
    "start_time": "2023-10-19T10:54:09.758Z"
   },
   {
    "duration": 15,
    "start_time": "2023-10-19T10:54:11.765Z"
   },
   {
    "duration": 34,
    "start_time": "2023-10-19T10:54:11.782Z"
   },
   {
    "duration": 226,
    "start_time": "2023-10-19T10:54:11.818Z"
   },
   {
    "duration": 19,
    "start_time": "2023-10-19T10:54:12.046Z"
   },
   {
    "duration": 177,
    "start_time": "2023-10-19T10:54:12.067Z"
   },
   {
    "duration": 545,
    "start_time": "2023-10-19T10:54:12.246Z"
   },
   {
    "duration": 37,
    "start_time": "2023-10-19T10:57:32.919Z"
   },
   {
    "duration": 192,
    "start_time": "2023-10-19T11:01:25.625Z"
   },
   {
    "duration": 36,
    "start_time": "2023-10-19T11:01:43.958Z"
   },
   {
    "duration": 25,
    "start_time": "2023-10-19T11:03:33.114Z"
   },
   {
    "duration": 113,
    "start_time": "2023-10-19T11:04:26.261Z"
   },
   {
    "duration": 450,
    "start_time": "2023-10-19T11:04:48.067Z"
   },
   {
    "duration": 100,
    "start_time": "2023-10-19T11:04:52.204Z"
   },
   {
    "duration": 518,
    "start_time": "2023-10-19T11:06:25.824Z"
   },
   {
    "duration": 138,
    "start_time": "2023-10-19T11:06:26.344Z"
   },
   {
    "duration": 2127,
    "start_time": "2023-10-19T11:06:26.483Z"
   },
   {
    "duration": 17,
    "start_time": "2023-10-19T11:06:28.612Z"
   },
   {
    "duration": 9,
    "start_time": "2023-10-19T11:06:28.630Z"
   },
   {
    "duration": 246,
    "start_time": "2023-10-19T11:06:28.644Z"
   },
   {
    "duration": 24,
    "start_time": "2023-10-19T11:06:28.891Z"
   },
   {
    "duration": 88,
    "start_time": "2023-10-19T11:06:28.917Z"
   },
   {
    "duration": 0,
    "start_time": "2023-10-19T11:06:29.006Z"
   },
   {
    "duration": 0,
    "start_time": "2023-10-19T11:06:29.008Z"
   },
   {
    "duration": 15,
    "start_time": "2023-10-19T11:07:44.318Z"
   },
   {
    "duration": 527,
    "start_time": "2023-10-19T11:08:50.787Z"
   },
   {
    "duration": 147,
    "start_time": "2023-10-19T11:08:51.316Z"
   },
   {
    "duration": 2258,
    "start_time": "2023-10-19T11:08:51.464Z"
   },
   {
    "duration": 21,
    "start_time": "2023-10-19T11:08:53.724Z"
   },
   {
    "duration": 16,
    "start_time": "2023-10-19T11:08:53.747Z"
   },
   {
    "duration": 258,
    "start_time": "2023-10-19T11:08:53.764Z"
   },
   {
    "duration": 35,
    "start_time": "2023-10-19T11:08:54.024Z"
   },
   {
    "duration": 196,
    "start_time": "2023-10-19T11:08:54.062Z"
   },
   {
    "duration": 116,
    "start_time": "2023-10-19T11:08:54.261Z"
   },
   {
    "duration": 0,
    "start_time": "2023-10-19T11:08:54.379Z"
   },
   {
    "duration": 444,
    "start_time": "2023-10-19T11:15:12.190Z"
   },
   {
    "duration": 126,
    "start_time": "2023-10-19T11:15:12.636Z"
   },
   {
    "duration": 2141,
    "start_time": "2023-10-19T11:15:12.764Z"
   },
   {
    "duration": 15,
    "start_time": "2023-10-19T11:15:14.907Z"
   },
   {
    "duration": 8,
    "start_time": "2023-10-19T11:15:14.924Z"
   },
   {
    "duration": 4,
    "start_time": "2023-10-19T11:15:14.934Z"
   },
   {
    "duration": 243,
    "start_time": "2023-10-19T11:15:14.944Z"
   },
   {
    "duration": 20,
    "start_time": "2023-10-19T11:15:15.189Z"
   },
   {
    "duration": 168,
    "start_time": "2023-10-19T11:15:15.211Z"
   },
   {
    "duration": 25,
    "start_time": "2023-10-19T11:15:15.380Z"
   },
   {
    "duration": 318,
    "start_time": "2023-10-19T11:15:15.407Z"
   },
   {
    "duration": 467,
    "start_time": "2023-10-19T11:16:41.059Z"
   },
   {
    "duration": 126,
    "start_time": "2023-10-19T11:16:41.528Z"
   },
   {
    "duration": 2107,
    "start_time": "2023-10-19T11:16:41.655Z"
   },
   {
    "duration": 16,
    "start_time": "2023-10-19T11:16:43.764Z"
   },
   {
    "duration": 21,
    "start_time": "2023-10-19T11:16:43.782Z"
   },
   {
    "duration": 7,
    "start_time": "2023-10-19T11:16:43.804Z"
   },
   {
    "duration": 251,
    "start_time": "2023-10-19T11:16:43.813Z"
   },
   {
    "duration": 23,
    "start_time": "2023-10-19T11:16:44.066Z"
   },
   {
    "duration": 212,
    "start_time": "2023-10-19T11:16:44.091Z"
   },
   {
    "duration": 132,
    "start_time": "2023-10-19T11:16:44.306Z"
   },
   {
    "duration": 0,
    "start_time": "2023-10-19T11:16:44.440Z"
   },
   {
    "duration": 507,
    "start_time": "2023-10-19T11:18:37.053Z"
   },
   {
    "duration": 145,
    "start_time": "2023-10-19T11:18:37.562Z"
   },
   {
    "duration": 2138,
    "start_time": "2023-10-19T11:18:37.708Z"
   },
   {
    "duration": 19,
    "start_time": "2023-10-19T11:18:39.848Z"
   },
   {
    "duration": 11,
    "start_time": "2023-10-19T11:18:39.868Z"
   },
   {
    "duration": 25,
    "start_time": "2023-10-19T11:18:39.881Z"
   },
   {
    "duration": 269,
    "start_time": "2023-10-19T11:18:39.907Z"
   },
   {
    "duration": 20,
    "start_time": "2023-10-19T11:18:40.178Z"
   },
   {
    "duration": 177,
    "start_time": "2023-10-19T11:18:40.200Z"
   },
   {
    "duration": 25,
    "start_time": "2023-10-19T11:18:40.380Z"
   },
   {
    "duration": 330,
    "start_time": "2023-10-19T11:18:40.407Z"
   },
   {
    "duration": 36,
    "start_time": "2023-10-19T11:19:35.222Z"
   },
   {
    "duration": 39,
    "start_time": "2023-10-19T11:19:51.919Z"
   },
   {
    "duration": 106,
    "start_time": "2023-10-19T11:34:44.525Z"
   },
   {
    "duration": 357,
    "start_time": "2023-10-19T11:34:59.129Z"
   },
   {
    "duration": 446,
    "start_time": "2023-10-20T09:30:07.995Z"
   },
   {
    "duration": 350,
    "start_time": "2023-10-20T09:30:08.446Z"
   },
   {
    "duration": 2215,
    "start_time": "2023-10-20T09:30:08.798Z"
   },
   {
    "duration": 15,
    "start_time": "2023-10-20T09:30:11.015Z"
   },
   {
    "duration": 25,
    "start_time": "2023-10-20T09:30:11.031Z"
   },
   {
    "duration": 5,
    "start_time": "2023-10-20T09:30:11.058Z"
   },
   {
    "duration": 215,
    "start_time": "2023-10-20T09:30:11.065Z"
   },
   {
    "duration": 18,
    "start_time": "2023-10-20T09:30:11.281Z"
   },
   {
    "duration": 187,
    "start_time": "2023-10-20T09:30:11.301Z"
   },
   {
    "duration": 59,
    "start_time": "2023-10-20T09:30:11.494Z"
   },
   {
    "duration": 384,
    "start_time": "2023-10-20T09:30:11.554Z"
   },
   {
    "duration": 1085,
    "start_time": "2023-10-20T09:30:11.939Z"
   },
   {
    "duration": 4,
    "start_time": "2023-10-20T09:43:12.068Z"
   },
   {
    "duration": 1509,
    "start_time": "2023-10-20T09:44:51.528Z"
   },
   {
    "duration": 64,
    "start_time": "2023-10-20T09:45:36.688Z"
   },
   {
    "duration": 178,
    "start_time": "2023-10-20T09:47:42.491Z"
   },
   {
    "duration": 663,
    "start_time": "2023-10-20T09:48:16.039Z"
   },
   {
    "duration": 122,
    "start_time": "2023-10-20T09:48:16.704Z"
   },
   {
    "duration": 2037,
    "start_time": "2023-10-20T09:48:16.828Z"
   },
   {
    "duration": 14,
    "start_time": "2023-10-20T09:48:18.869Z"
   },
   {
    "duration": 13,
    "start_time": "2023-10-20T09:48:18.884Z"
   },
   {
    "duration": 4,
    "start_time": "2023-10-20T09:48:18.899Z"
   },
   {
    "duration": 206,
    "start_time": "2023-10-20T09:48:18.905Z"
   },
   {
    "duration": 32,
    "start_time": "2023-10-20T09:48:19.113Z"
   },
   {
    "duration": 190,
    "start_time": "2023-10-20T09:48:19.154Z"
   },
   {
    "duration": 24,
    "start_time": "2023-10-20T09:48:19.357Z"
   },
   {
    "duration": 389,
    "start_time": "2023-10-20T09:48:19.383Z"
   },
   {
    "duration": 194,
    "start_time": "2023-10-20T09:48:19.773Z"
   },
   {
    "duration": 0,
    "start_time": "2023-10-20T09:48:19.970Z"
   },
   {
    "duration": 1387,
    "start_time": "2023-10-20T09:48:31.019Z"
   },
   {
    "duration": 2710,
    "start_time": "2023-10-20T09:50:04.108Z"
   },
   {
    "duration": 275,
    "start_time": "2023-10-20T09:51:17.022Z"
   },
   {
    "duration": 48,
    "start_time": "2023-10-20T09:53:14.104Z"
   },
   {
    "duration": 8,
    "start_time": "2023-10-20T09:54:35.109Z"
   },
   {
    "duration": 225,
    "start_time": "2023-10-20T09:54:48.666Z"
   },
   {
    "duration": 298,
    "start_time": "2023-10-20T09:55:19.583Z"
   },
   {
    "duration": 314,
    "start_time": "2023-10-20T09:55:37.177Z"
   },
   {
    "duration": 292,
    "start_time": "2023-10-20T09:55:49.337Z"
   },
   {
    "duration": 317,
    "start_time": "2023-10-20T09:56:02.483Z"
   },
   {
    "duration": 310,
    "start_time": "2023-10-20T09:56:10.396Z"
   },
   {
    "duration": 334,
    "start_time": "2023-10-20T09:56:22.932Z"
   },
   {
    "duration": 268,
    "start_time": "2023-10-20T09:56:34.745Z"
   },
   {
    "duration": 281,
    "start_time": "2023-10-20T09:56:46.694Z"
   },
   {
    "duration": 268,
    "start_time": "2023-10-20T09:56:56.462Z"
   },
   {
    "duration": 214,
    "start_time": "2023-10-20T09:58:34.115Z"
   },
   {
    "duration": 339,
    "start_time": "2023-10-20T09:58:40.925Z"
   },
   {
    "duration": 248,
    "start_time": "2023-10-20T10:01:09.233Z"
   },
   {
    "duration": 233,
    "start_time": "2023-10-20T10:01:28.131Z"
   },
   {
    "duration": 333,
    "start_time": "2023-10-20T10:02:51.956Z"
   },
   {
    "duration": 303,
    "start_time": "2023-10-20T10:03:13.161Z"
   },
   {
    "duration": 670,
    "start_time": "2023-10-20T10:04:57.420Z"
   },
   {
    "duration": 124,
    "start_time": "2023-10-20T10:04:58.091Z"
   },
   {
    "duration": 1857,
    "start_time": "2023-10-20T10:04:58.217Z"
   },
   {
    "duration": 42,
    "start_time": "2023-10-20T10:05:00.075Z"
   },
   {
    "duration": 14,
    "start_time": "2023-10-20T10:05:00.118Z"
   },
   {
    "duration": 29,
    "start_time": "2023-10-20T10:05:00.134Z"
   },
   {
    "duration": 237,
    "start_time": "2023-10-20T10:05:00.168Z"
   },
   {
    "duration": 18,
    "start_time": "2023-10-20T10:05:00.407Z"
   },
   {
    "duration": 204,
    "start_time": "2023-10-20T10:05:00.427Z"
   },
   {
    "duration": 32,
    "start_time": "2023-10-20T10:05:00.660Z"
   },
   {
    "duration": 387,
    "start_time": "2023-10-20T10:05:00.693Z"
   },
   {
    "duration": 2337,
    "start_time": "2023-10-20T10:05:01.082Z"
   },
   {
    "duration": 0,
    "start_time": "2023-10-20T10:05:03.421Z"
   },
   {
    "duration": 88,
    "start_time": "2023-10-20T10:06:56.889Z"
   },
   {
    "duration": 3201,
    "start_time": "2023-10-20T10:07:19.551Z"
   },
   {
    "duration": 3288,
    "start_time": "2023-10-20T10:07:45.269Z"
   },
   {
    "duration": 168,
    "start_time": "2023-10-20T10:08:24.123Z"
   },
   {
    "duration": 121,
    "start_time": "2023-10-20T10:08:40.373Z"
   },
   {
    "duration": 137,
    "start_time": "2023-10-20T10:08:52.402Z"
   },
   {
    "duration": 163,
    "start_time": "2023-10-20T10:09:06.773Z"
   },
   {
    "duration": 167,
    "start_time": "2023-10-20T10:09:15.152Z"
   },
   {
    "duration": 635,
    "start_time": "2023-10-20T10:09:48.765Z"
   },
   {
    "duration": 127,
    "start_time": "2023-10-20T10:09:49.402Z"
   },
   {
    "duration": 1855,
    "start_time": "2023-10-20T10:09:49.530Z"
   },
   {
    "duration": 21,
    "start_time": "2023-10-20T10:09:51.388Z"
   },
   {
    "duration": 13,
    "start_time": "2023-10-20T10:09:51.411Z"
   },
   {
    "duration": 21,
    "start_time": "2023-10-20T10:09:51.426Z"
   },
   {
    "duration": 213,
    "start_time": "2023-10-20T10:09:51.470Z"
   },
   {
    "duration": 17,
    "start_time": "2023-10-20T10:09:51.685Z"
   },
   {
    "duration": 170,
    "start_time": "2023-10-20T10:09:51.704Z"
   },
   {
    "duration": 21,
    "start_time": "2023-10-20T10:09:51.877Z"
   },
   {
    "duration": 328,
    "start_time": "2023-10-20T10:09:51.899Z"
   },
   {
    "duration": 3,
    "start_time": "2023-10-20T10:09:52.228Z"
   },
   {
    "duration": 77,
    "start_time": "2023-10-20T10:09:52.232Z"
   },
   {
    "duration": 936,
    "start_time": "2023-10-20T10:10:07.771Z"
   },
   {
    "duration": 657,
    "start_time": "2023-10-20T10:12:36.064Z"
   },
   {
    "duration": 157,
    "start_time": "2023-10-20T10:12:36.722Z"
   },
   {
    "duration": 1917,
    "start_time": "2023-10-20T10:12:36.880Z"
   },
   {
    "duration": 14,
    "start_time": "2023-10-20T10:12:38.798Z"
   },
   {
    "duration": 8,
    "start_time": "2023-10-20T10:12:38.814Z"
   },
   {
    "duration": 3,
    "start_time": "2023-10-20T10:12:38.823Z"
   },
   {
    "duration": 240,
    "start_time": "2023-10-20T10:12:38.828Z"
   },
   {
    "duration": 26,
    "start_time": "2023-10-20T10:12:39.072Z"
   },
   {
    "duration": 158,
    "start_time": "2023-10-20T10:12:39.099Z"
   },
   {
    "duration": 32,
    "start_time": "2023-10-20T10:12:39.258Z"
   },
   {
    "duration": 347,
    "start_time": "2023-10-20T10:12:39.291Z"
   },
   {
    "duration": 3068,
    "start_time": "2023-10-20T10:12:39.653Z"
   },
   {
    "duration": 3,
    "start_time": "2023-10-20T10:12:42.723Z"
   },
   {
    "duration": 666,
    "start_time": "2023-10-20T10:18:18.638Z"
   },
   {
    "duration": 131,
    "start_time": "2023-10-20T10:18:19.306Z"
   },
   {
    "duration": 2279,
    "start_time": "2023-10-20T10:18:19.438Z"
   },
   {
    "duration": 14,
    "start_time": "2023-10-20T10:18:21.718Z"
   },
   {
    "duration": 25,
    "start_time": "2023-10-20T10:18:21.734Z"
   },
   {
    "duration": 6,
    "start_time": "2023-10-20T10:18:21.763Z"
   },
   {
    "duration": 258,
    "start_time": "2023-10-20T10:18:21.771Z"
   },
   {
    "duration": 31,
    "start_time": "2023-10-20T10:18:22.030Z"
   },
   {
    "duration": 214,
    "start_time": "2023-10-20T10:18:22.069Z"
   },
   {
    "duration": 35,
    "start_time": "2023-10-20T10:18:22.286Z"
   },
   {
    "duration": 514,
    "start_time": "2023-10-20T10:18:22.322Z"
   },
   {
    "duration": 3343,
    "start_time": "2023-10-20T10:18:22.841Z"
   },
   {
    "duration": 4,
    "start_time": "2023-10-20T10:18:26.186Z"
   },
   {
    "duration": 1004,
    "start_time": "2023-10-20T10:19:18.077Z"
   },
   {
    "duration": 1251,
    "start_time": "2023-10-20T10:19:42.710Z"
   },
   {
    "duration": 614,
    "start_time": "2023-10-20T10:21:41.187Z"
   },
   {
    "duration": 125,
    "start_time": "2023-10-20T10:21:41.803Z"
   },
   {
    "duration": 1899,
    "start_time": "2023-10-20T10:21:41.930Z"
   },
   {
    "duration": 15,
    "start_time": "2023-10-20T10:21:43.831Z"
   },
   {
    "duration": 23,
    "start_time": "2023-10-20T10:21:43.847Z"
   },
   {
    "duration": 4,
    "start_time": "2023-10-20T10:21:43.871Z"
   },
   {
    "duration": 224,
    "start_time": "2023-10-20T10:21:43.877Z"
   },
   {
    "duration": 18,
    "start_time": "2023-10-20T10:21:44.103Z"
   },
   {
    "duration": 176,
    "start_time": "2023-10-20T10:21:44.122Z"
   },
   {
    "duration": 69,
    "start_time": "2023-10-20T10:21:44.301Z"
   },
   {
    "duration": 321,
    "start_time": "2023-10-20T10:21:44.372Z"
   },
   {
    "duration": 2340,
    "start_time": "2023-10-20T10:21:44.694Z"
   },
   {
    "duration": 16,
    "start_time": "2023-10-20T10:21:47.035Z"
   },
   {
    "duration": 2324,
    "start_time": "2023-10-20T10:22:59.466Z"
   },
   {
    "duration": 2208,
    "start_time": "2023-10-20T10:23:16.526Z"
   },
   {
    "duration": 613,
    "start_time": "2023-10-20T10:23:43.585Z"
   },
   {
    "duration": 124,
    "start_time": "2023-10-20T10:23:44.201Z"
   },
   {
    "duration": 1842,
    "start_time": "2023-10-20T10:23:44.326Z"
   },
   {
    "duration": 15,
    "start_time": "2023-10-20T10:23:46.170Z"
   },
   {
    "duration": 8,
    "start_time": "2023-10-20T10:23:46.187Z"
   },
   {
    "duration": 3,
    "start_time": "2023-10-20T10:23:46.197Z"
   },
   {
    "duration": 230,
    "start_time": "2023-10-20T10:23:46.201Z"
   },
   {
    "duration": 32,
    "start_time": "2023-10-20T10:23:46.433Z"
   },
   {
    "duration": 151,
    "start_time": "2023-10-20T10:23:46.472Z"
   },
   {
    "duration": 28,
    "start_time": "2023-10-20T10:23:46.657Z"
   },
   {
    "duration": 340,
    "start_time": "2023-10-20T10:23:46.686Z"
   },
   {
    "duration": 2281,
    "start_time": "2023-10-20T10:23:47.027Z"
   },
   {
    "duration": 3,
    "start_time": "2023-10-20T10:23:49.309Z"
   },
   {
    "duration": 8,
    "start_time": "2023-10-20T11:19:59.188Z"
   },
   {
    "duration": 73,
    "start_time": "2023-10-20T11:20:46.892Z"
   },
   {
    "duration": 731,
    "start_time": "2023-10-20T11:20:54.528Z"
   },
   {
    "duration": 759,
    "start_time": "2023-10-20T11:21:14.659Z"
   },
   {
    "duration": 714,
    "start_time": "2023-10-20T11:23:40.198Z"
   },
   {
    "duration": 692,
    "start_time": "2023-10-20T11:28:49.730Z"
   },
   {
    "duration": 612,
    "start_time": "2023-10-20T12:52:57.587Z"
   },
   {
    "duration": 125,
    "start_time": "2023-10-20T12:52:58.201Z"
   },
   {
    "duration": 1709,
    "start_time": "2023-10-20T12:52:58.328Z"
   },
   {
    "duration": 21,
    "start_time": "2023-10-20T12:53:00.039Z"
   },
   {
    "duration": 34,
    "start_time": "2023-10-20T12:53:00.062Z"
   },
   {
    "duration": 67,
    "start_time": "2023-10-20T12:53:00.098Z"
   },
   {
    "duration": 204,
    "start_time": "2023-10-20T12:53:00.167Z"
   },
   {
    "duration": 18,
    "start_time": "2023-10-20T12:53:00.372Z"
   },
   {
    "duration": 173,
    "start_time": "2023-10-20T12:53:00.392Z"
   },
   {
    "duration": 25,
    "start_time": "2023-10-20T12:53:00.568Z"
   },
   {
    "duration": 104,
    "start_time": "2023-10-20T12:53:00.594Z"
   },
   {
    "duration": 0,
    "start_time": "2023-10-20T12:53:00.700Z"
   },
   {
    "duration": 0,
    "start_time": "2023-10-20T12:53:00.701Z"
   },
   {
    "duration": 11,
    "start_time": "2023-10-20T12:54:57.093Z"
   },
   {
    "duration": 579,
    "start_time": "2023-10-20T12:55:56.811Z"
   },
   {
    "duration": 116,
    "start_time": "2023-10-20T12:55:57.392Z"
   },
   {
    "duration": 1744,
    "start_time": "2023-10-20T12:55:57.509Z"
   },
   {
    "duration": 13,
    "start_time": "2023-10-20T12:55:59.254Z"
   },
   {
    "duration": 9,
    "start_time": "2023-10-20T12:55:59.269Z"
   },
   {
    "duration": 4,
    "start_time": "2023-10-20T12:55:59.280Z"
   },
   {
    "duration": 197,
    "start_time": "2023-10-20T12:55:59.285Z"
   },
   {
    "duration": 22,
    "start_time": "2023-10-20T12:55:59.483Z"
   },
   {
    "duration": 165,
    "start_time": "2023-10-20T12:55:59.506Z"
   },
   {
    "duration": 22,
    "start_time": "2023-10-20T12:55:59.689Z"
   },
   {
    "duration": 315,
    "start_time": "2023-10-20T12:55:59.749Z"
   },
   {
    "duration": 2219,
    "start_time": "2023-10-20T12:56:00.066Z"
   },
   {
    "duration": 770,
    "start_time": "2023-10-20T12:56:02.287Z"
   },
   {
    "duration": 752,
    "start_time": "2023-10-20T13:00:37.533Z"
   },
   {
    "duration": 1272,
    "start_time": "2023-10-20T13:02:36.306Z"
   },
   {
    "duration": 897,
    "start_time": "2023-10-20T13:02:57.439Z"
   },
   {
    "duration": 910,
    "start_time": "2023-10-20T13:03:30.512Z"
   },
   {
    "duration": 642,
    "start_time": "2023-10-20T13:20:47.049Z"
   },
   {
    "duration": 118,
    "start_time": "2023-10-20T13:20:47.693Z"
   },
   {
    "duration": 1825,
    "start_time": "2023-10-20T13:20:47.812Z"
   },
   {
    "duration": 30,
    "start_time": "2023-10-20T13:20:49.639Z"
   },
   {
    "duration": 8,
    "start_time": "2023-10-20T13:20:49.671Z"
   },
   {
    "duration": 4,
    "start_time": "2023-10-20T13:20:49.680Z"
   },
   {
    "duration": 209,
    "start_time": "2023-10-20T13:20:49.685Z"
   },
   {
    "duration": 22,
    "start_time": "2023-10-20T13:20:49.895Z"
   },
   {
    "duration": 185,
    "start_time": "2023-10-20T13:20:49.918Z"
   },
   {
    "duration": 53,
    "start_time": "2023-10-20T13:20:50.105Z"
   },
   {
    "duration": 359,
    "start_time": "2023-10-20T13:20:50.160Z"
   },
   {
    "duration": 2380,
    "start_time": "2023-10-20T13:20:50.521Z"
   },
   {
    "duration": 159,
    "start_time": "2023-10-20T13:20:52.903Z"
   },
   {
    "duration": 1475,
    "start_time": "2023-10-20T13:21:00.777Z"
   },
   {
    "duration": 1017,
    "start_time": "2023-10-20T13:22:34.169Z"
   },
   {
    "duration": 1036,
    "start_time": "2023-10-20T13:23:07.439Z"
   },
   {
    "duration": 81,
    "start_time": "2023-10-21T12:33:40.553Z"
   },
   {
    "duration": 50,
    "start_time": "2023-10-21T12:34:10.759Z"
   },
   {
    "duration": 777,
    "start_time": "2023-10-21T12:34:26.867Z"
   },
   {
    "duration": 326,
    "start_time": "2023-10-21T12:34:27.646Z"
   },
   {
    "duration": 1640,
    "start_time": "2023-10-21T12:34:27.973Z"
   },
   {
    "duration": 15,
    "start_time": "2023-10-21T12:34:29.616Z"
   },
   {
    "duration": 21,
    "start_time": "2023-10-21T12:34:29.632Z"
   },
   {
    "duration": 19,
    "start_time": "2023-10-21T12:34:29.654Z"
   },
   {
    "duration": 224,
    "start_time": "2023-10-21T12:34:29.675Z"
   },
   {
    "duration": 29,
    "start_time": "2023-10-21T12:34:29.901Z"
   },
   {
    "duration": 163,
    "start_time": "2023-10-21T12:34:29.940Z"
   },
   {
    "duration": 22,
    "start_time": "2023-10-21T12:34:30.141Z"
   },
   {
    "duration": 301,
    "start_time": "2023-10-21T12:34:30.164Z"
   },
   {
    "duration": 2148,
    "start_time": "2023-10-21T12:34:30.466Z"
   },
   {
    "duration": 959,
    "start_time": "2023-10-21T12:34:32.616Z"
   },
   {
    "duration": 27,
    "start_time": "2023-10-21T12:34:33.577Z"
   },
   {
    "duration": 3,
    "start_time": "2023-10-21T12:34:33.606Z"
   },
   {
    "duration": 7,
    "start_time": "2023-10-21T12:34:33.611Z"
   },
   {
    "duration": 146,
    "start_time": "2023-10-21T12:36:43.489Z"
   },
   {
    "duration": 141,
    "start_time": "2023-10-21T12:38:12.864Z"
   },
   {
    "duration": 572,
    "start_time": "2023-10-21T12:38:23.963Z"
   },
   {
    "duration": 109,
    "start_time": "2023-10-21T12:38:24.536Z"
   },
   {
    "duration": 1622,
    "start_time": "2023-10-21T12:38:24.647Z"
   },
   {
    "duration": 14,
    "start_time": "2023-10-21T12:38:26.271Z"
   },
   {
    "duration": 15,
    "start_time": "2023-10-21T12:38:26.288Z"
   },
   {
    "duration": 5,
    "start_time": "2023-10-21T12:38:26.305Z"
   },
   {
    "duration": 229,
    "start_time": "2023-10-21T12:38:26.311Z"
   },
   {
    "duration": 21,
    "start_time": "2023-10-21T12:38:26.541Z"
   },
   {
    "duration": 142,
    "start_time": "2023-10-21T12:38:26.563Z"
   },
   {
    "duration": 46,
    "start_time": "2023-10-21T12:38:26.710Z"
   },
   {
    "duration": 286,
    "start_time": "2023-10-21T12:38:26.758Z"
   },
   {
    "duration": 2118,
    "start_time": "2023-10-21T12:38:27.045Z"
   },
   {
    "duration": 907,
    "start_time": "2023-10-21T12:38:29.165Z"
   },
   {
    "duration": 140,
    "start_time": "2023-10-21T12:38:30.074Z"
   },
   {
    "duration": 2,
    "start_time": "2023-10-21T12:38:30.216Z"
   },
   {
    "duration": 26,
    "start_time": "2023-10-21T12:38:30.219Z"
   },
   {
    "duration": 157,
    "start_time": "2023-10-21T12:40:54.521Z"
   },
   {
    "duration": 254,
    "start_time": "2023-10-21T12:44:27.265Z"
   },
   {
    "duration": 18,
    "start_time": "2023-10-21T12:44:53.949Z"
   },
   {
    "duration": 315,
    "start_time": "2023-10-21T12:53:29.837Z"
   },
   {
    "duration": 16535,
    "start_time": "2023-10-21T12:54:10.892Z"
   },
   {
    "duration": 124,
    "start_time": "2023-10-21T12:57:26.851Z"
   },
   {
    "duration": 131,
    "start_time": "2023-10-21T12:58:05.240Z"
   },
   {
    "duration": 108,
    "start_time": "2023-10-21T12:59:26.851Z"
   },
   {
    "duration": 123,
    "start_time": "2023-10-21T12:59:36.221Z"
   },
   {
    "duration": 114,
    "start_time": "2023-10-21T13:00:11.322Z"
   },
   {
    "duration": 20142,
    "start_time": "2023-10-21T13:01:36.936Z"
   },
   {
    "duration": 14,
    "start_time": "2023-10-21T13:02:07.930Z"
   },
   {
    "duration": 129,
    "start_time": "2023-10-21T13:02:34.941Z"
   },
   {
    "duration": 117,
    "start_time": "2023-10-21T13:03:28.433Z"
   },
   {
    "duration": 105,
    "start_time": "2023-10-21T13:03:38.925Z"
   },
   {
    "duration": 767,
    "start_time": "2023-10-21T13:04:01.879Z"
   },
   {
    "duration": 196,
    "start_time": "2023-10-21T13:04:16.886Z"
   },
   {
    "duration": 129,
    "start_time": "2023-10-21T13:06:04.387Z"
   },
   {
    "duration": 1029,
    "start_time": "2023-10-21T13:11:54.366Z"
   },
   {
    "duration": 1007,
    "start_time": "2023-10-21T13:13:41.950Z"
   },
   {
    "duration": 1670,
    "start_time": "2023-10-21T13:14:21.590Z"
   },
   {
    "duration": 148,
    "start_time": "2023-10-21T13:15:02.890Z"
   },
   {
    "duration": 1665,
    "start_time": "2023-10-21T13:15:06.887Z"
   },
   {
    "duration": 177,
    "start_time": "2023-10-21T13:24:57.652Z"
   },
   {
    "duration": 249,
    "start_time": "2023-10-21T13:25:48.394Z"
   },
   {
    "duration": 224,
    "start_time": "2023-10-21T13:26:43.099Z"
   },
   {
    "duration": 8,
    "start_time": "2023-10-21T13:31:22.219Z"
   },
   {
    "duration": 7,
    "start_time": "2023-10-21T13:32:34.143Z"
   },
   {
    "duration": 7,
    "start_time": "2023-10-21T13:32:43.617Z"
   },
   {
    "duration": 76,
    "start_time": "2023-10-21T13:34:54.499Z"
   },
   {
    "duration": 7,
    "start_time": "2023-10-21T13:35:05.913Z"
   },
   {
    "duration": 12,
    "start_time": "2023-10-21T13:38:03.216Z"
   },
   {
    "duration": 136,
    "start_time": "2023-10-21T13:38:26.633Z"
   },
   {
    "duration": 117,
    "start_time": "2023-10-21T13:39:35.267Z"
   },
   {
    "duration": 15,
    "start_time": "2023-10-21T13:40:10.185Z"
   },
   {
    "duration": 81,
    "start_time": "2023-10-21T13:40:24.123Z"
   },
   {
    "duration": 124,
    "start_time": "2023-10-21T13:40:30.255Z"
   },
   {
    "duration": 112,
    "start_time": "2023-10-21T13:40:37.195Z"
   },
   {
    "duration": 113,
    "start_time": "2023-10-21T13:40:48.945Z"
   },
   {
    "duration": 112,
    "start_time": "2023-10-21T13:40:57.685Z"
   },
   {
    "duration": 118,
    "start_time": "2023-10-21T13:41:03.089Z"
   },
   {
    "duration": 106,
    "start_time": "2023-10-21T13:41:29.141Z"
   },
   {
    "duration": 121,
    "start_time": "2023-10-21T13:41:47.233Z"
   },
   {
    "duration": 131,
    "start_time": "2023-10-21T13:41:58.120Z"
   },
   {
    "duration": 116,
    "start_time": "2023-10-21T13:45:42.011Z"
   },
   {
    "duration": 126,
    "start_time": "2023-10-21T13:46:14.623Z"
   },
   {
    "duration": 229,
    "start_time": "2023-10-21T13:46:58.483Z"
   },
   {
    "duration": 339,
    "start_time": "2023-10-21T13:47:37.175Z"
   },
   {
    "duration": 470,
    "start_time": "2023-10-21T13:47:59.618Z"
   },
   {
    "duration": 343,
    "start_time": "2023-10-21T13:53:27.872Z"
   },
   {
    "duration": 367,
    "start_time": "2023-10-21T13:54:31.131Z"
   },
   {
    "duration": 515,
    "start_time": "2023-10-21T13:57:15.604Z"
   },
   {
    "duration": 525,
    "start_time": "2023-10-21T13:57:33.737Z"
   },
   {
    "duration": 509,
    "start_time": "2023-10-21T13:58:51.631Z"
   },
   {
    "duration": 1957,
    "start_time": "2023-10-21T13:58:56.771Z"
   },
   {
    "duration": 484,
    "start_time": "2023-10-21T13:59:37.777Z"
   },
   {
    "duration": 979,
    "start_time": "2023-10-21T14:07:10.031Z"
   },
   {
    "duration": 945,
    "start_time": "2023-10-21T14:07:31.620Z"
   },
   {
    "duration": 1011,
    "start_time": "2023-10-21T14:07:44.602Z"
   },
   {
    "duration": 749,
    "start_time": "2023-10-21T14:08:14.320Z"
   },
   {
    "duration": 477,
    "start_time": "2023-10-21T14:09:33.928Z"
   },
   {
    "duration": 482,
    "start_time": "2023-10-21T14:12:55.374Z"
   },
   {
    "duration": 553,
    "start_time": "2023-10-21T14:13:43.413Z"
   },
   {
    "duration": 620,
    "start_time": "2023-10-21T14:16:40.939Z"
   },
   {
    "duration": 722,
    "start_time": "2023-10-21T14:16:50.202Z"
   },
   {
    "duration": 610,
    "start_time": "2023-10-21T14:16:59.465Z"
   },
   {
    "duration": 699,
    "start_time": "2023-10-21T14:17:22.165Z"
   },
   {
    "duration": 491,
    "start_time": "2023-10-21T14:18:24.551Z"
   },
   {
    "duration": 491,
    "start_time": "2023-10-21T14:19:55.839Z"
   },
   {
    "duration": 559,
    "start_time": "2023-10-21T14:20:08.246Z"
   },
   {
    "duration": 888,
    "start_time": "2023-10-21T14:20:23.844Z"
   },
   {
    "duration": 577,
    "start_time": "2023-10-21T14:20:50.177Z"
   },
   {
    "duration": 822,
    "start_time": "2023-10-21T14:28:22.828Z"
   },
   {
    "duration": 762,
    "start_time": "2023-10-21T14:28:46.380Z"
   },
   {
    "duration": 944,
    "start_time": "2023-10-21T14:29:11.593Z"
   },
   {
    "duration": 767,
    "start_time": "2023-10-21T14:29:25.634Z"
   },
   {
    "duration": 46,
    "start_time": "2023-10-21T16:16:46.489Z"
   },
   {
    "duration": 973,
    "start_time": "2023-10-21T16:16:55.248Z"
   },
   {
    "duration": 712,
    "start_time": "2023-10-21T16:16:56.224Z"
   },
   {
    "duration": 1968,
    "start_time": "2023-10-21T16:16:56.938Z"
   },
   {
    "duration": 25,
    "start_time": "2023-10-21T16:16:58.909Z"
   },
   {
    "duration": 10,
    "start_time": "2023-10-21T16:16:58.936Z"
   },
   {
    "duration": 4,
    "start_time": "2023-10-21T16:16:58.948Z"
   },
   {
    "duration": 243,
    "start_time": "2023-10-21T16:16:58.953Z"
   },
   {
    "duration": 43,
    "start_time": "2023-10-21T16:16:59.198Z"
   },
   {
    "duration": 184,
    "start_time": "2023-10-21T16:16:59.244Z"
   },
   {
    "duration": 34,
    "start_time": "2023-10-21T16:16:59.431Z"
   },
   {
    "duration": 315,
    "start_time": "2023-10-21T16:16:59.467Z"
   },
   {
    "duration": 2604,
    "start_time": "2023-10-21T16:16:59.783Z"
   },
   {
    "duration": 1201,
    "start_time": "2023-10-21T16:17:02.388Z"
   },
   {
    "duration": 648,
    "start_time": "2023-10-21T16:17:03.591Z"
   },
   {
    "duration": 0,
    "start_time": "2023-10-21T16:17:04.241Z"
   },
   {
    "duration": 0,
    "start_time": "2023-10-21T16:17:04.242Z"
   },
   {
    "duration": 0,
    "start_time": "2023-10-21T16:17:04.244Z"
   },
   {
    "duration": 1029,
    "start_time": "2023-10-21T16:17:53.660Z"
   },
   {
    "duration": 4,
    "start_time": "2023-10-21T16:17:58.769Z"
   },
   {
    "duration": 14,
    "start_time": "2023-10-21T16:20:18.483Z"
   },
   {
    "duration": 11,
    "start_time": "2023-10-21T16:26:12.228Z"
   },
   {
    "duration": 14,
    "start_time": "2023-10-21T16:26:30.055Z"
   },
   {
    "duration": 13,
    "start_time": "2023-10-21T16:26:41.538Z"
   },
   {
    "duration": 13,
    "start_time": "2023-10-21T16:28:18.403Z"
   },
   {
    "duration": 12,
    "start_time": "2023-10-21T16:29:06.030Z"
   },
   {
    "duration": 14,
    "start_time": "2023-10-21T16:29:14.276Z"
   },
   {
    "duration": 16,
    "start_time": "2023-10-21T17:10:06.579Z"
   },
   {
    "duration": 19,
    "start_time": "2023-10-21T17:14:32.115Z"
   },
   {
    "duration": 15,
    "start_time": "2023-10-21T17:16:00.584Z"
   },
   {
    "duration": 22,
    "start_time": "2023-10-21T17:20:16.889Z"
   },
   {
    "duration": 691,
    "start_time": "2023-10-21T17:20:23.926Z"
   },
   {
    "duration": 132,
    "start_time": "2023-10-21T17:20:24.619Z"
   },
   {
    "duration": 2142,
    "start_time": "2023-10-21T17:20:24.752Z"
   },
   {
    "duration": 20,
    "start_time": "2023-10-21T17:20:26.896Z"
   },
   {
    "duration": 14,
    "start_time": "2023-10-21T17:20:26.919Z"
   },
   {
    "duration": 5,
    "start_time": "2023-10-21T17:20:26.935Z"
   },
   {
    "duration": 244,
    "start_time": "2023-10-21T17:20:26.942Z"
   },
   {
    "duration": 43,
    "start_time": "2023-10-21T17:20:27.187Z"
   },
   {
    "duration": 183,
    "start_time": "2023-10-21T17:20:27.232Z"
   },
   {
    "duration": 38,
    "start_time": "2023-10-21T17:20:27.417Z"
   },
   {
    "duration": 317,
    "start_time": "2023-10-21T17:20:27.457Z"
   },
   {
    "duration": 2594,
    "start_time": "2023-10-21T17:20:27.776Z"
   },
   {
    "duration": 1283,
    "start_time": "2023-10-21T17:20:30.372Z"
   },
   {
    "duration": 983,
    "start_time": "2023-10-21T17:20:31.658Z"
   },
   {
    "duration": 5,
    "start_time": "2023-10-21T17:20:32.642Z"
   },
   {
    "duration": 30,
    "start_time": "2023-10-21T17:20:32.650Z"
   },
   {
    "duration": 35,
    "start_time": "2023-10-21T17:20:32.682Z"
   },
   {
    "duration": 134,
    "start_time": "2023-10-21T17:25:15.758Z"
   },
   {
    "duration": 89,
    "start_time": "2023-10-22T20:33:42.619Z"
   },
   {
    "duration": 80,
    "start_time": "2023-10-22T20:33:47.243Z"
   },
   {
    "duration": 71,
    "start_time": "2023-10-22T20:34:27.966Z"
   },
   {
    "duration": 288,
    "start_time": "2023-10-22T20:35:16.314Z"
   },
   {
    "duration": 873,
    "start_time": "2023-10-22T20:35:24.664Z"
   },
   {
    "duration": 357,
    "start_time": "2023-10-22T20:35:25.540Z"
   },
   {
    "duration": 2099,
    "start_time": "2023-10-22T20:35:25.899Z"
   },
   {
    "duration": 25,
    "start_time": "2023-10-22T20:35:28.000Z"
   },
   {
    "duration": 39,
    "start_time": "2023-10-22T20:35:28.027Z"
   },
   {
    "duration": 4,
    "start_time": "2023-10-22T20:35:28.068Z"
   },
   {
    "duration": 250,
    "start_time": "2023-10-22T20:35:28.074Z"
   },
   {
    "duration": 36,
    "start_time": "2023-10-22T20:35:28.326Z"
   },
   {
    "duration": 194,
    "start_time": "2023-10-22T20:35:28.364Z"
   },
   {
    "duration": 58,
    "start_time": "2023-10-22T20:35:28.563Z"
   },
   {
    "duration": 77,
    "start_time": "2023-10-22T20:35:28.623Z"
   },
   {
    "duration": 0,
    "start_time": "2023-10-22T20:35:28.705Z"
   },
   {
    "duration": 0,
    "start_time": "2023-10-22T20:35:28.706Z"
   },
   {
    "duration": 0,
    "start_time": "2023-10-22T20:35:28.707Z"
   },
   {
    "duration": 0,
    "start_time": "2023-10-22T20:35:28.711Z"
   },
   {
    "duration": 0,
    "start_time": "2023-10-22T20:35:28.713Z"
   },
   {
    "duration": 0,
    "start_time": "2023-10-22T20:35:28.714Z"
   },
   {
    "duration": 0,
    "start_time": "2023-10-22T20:35:28.715Z"
   },
   {
    "duration": 79,
    "start_time": "2023-10-22T20:37:38.697Z"
   },
   {
    "duration": 648,
    "start_time": "2023-10-22T20:39:22.131Z"
   },
   {
    "duration": 143,
    "start_time": "2023-10-22T20:39:22.781Z"
   },
   {
    "duration": 2136,
    "start_time": "2023-10-22T20:39:22.926Z"
   },
   {
    "duration": 16,
    "start_time": "2023-10-22T20:39:25.064Z"
   },
   {
    "duration": 38,
    "start_time": "2023-10-22T20:39:25.081Z"
   },
   {
    "duration": 5,
    "start_time": "2023-10-22T20:39:25.121Z"
   },
   {
    "duration": 236,
    "start_time": "2023-10-22T20:39:25.128Z"
   },
   {
    "duration": 38,
    "start_time": "2023-10-22T20:39:25.365Z"
   },
   {
    "duration": 172,
    "start_time": "2023-10-22T20:39:25.406Z"
   },
   {
    "duration": 46,
    "start_time": "2023-10-22T20:39:25.580Z"
   },
   {
    "duration": 322,
    "start_time": "2023-10-22T20:39:25.628Z"
   },
   {
    "duration": 2626,
    "start_time": "2023-10-22T20:39:25.952Z"
   },
   {
    "duration": 1172,
    "start_time": "2023-10-22T20:39:28.579Z"
   },
   {
    "duration": 1063,
    "start_time": "2023-10-22T20:39:29.753Z"
   },
   {
    "duration": 6,
    "start_time": "2023-10-22T20:39:30.825Z"
   },
   {
    "duration": 47,
    "start_time": "2023-10-22T20:39:30.832Z"
   },
   {
    "duration": 189,
    "start_time": "2023-10-22T20:39:30.881Z"
   },
   {
    "duration": 187,
    "start_time": "2023-10-22T20:47:57.167Z"
   },
   {
    "duration": 340,
    "start_time": "2023-10-22T20:48:17.543Z"
   },
   {
    "duration": 283,
    "start_time": "2023-10-22T20:48:33.180Z"
   },
   {
    "duration": 268,
    "start_time": "2023-10-22T20:48:51.587Z"
   },
   {
    "duration": 252,
    "start_time": "2023-10-22T20:48:59.323Z"
   },
   {
    "duration": 270,
    "start_time": "2023-10-22T20:49:07.772Z"
   },
   {
    "duration": 380,
    "start_time": "2023-10-22T20:49:15.088Z"
   },
   {
    "duration": 262,
    "start_time": "2023-10-22T20:49:20.819Z"
   },
   {
    "duration": 324,
    "start_time": "2023-10-22T20:49:38.901Z"
   },
   {
    "duration": 291,
    "start_time": "2023-10-22T20:49:48.989Z"
   },
   {
    "duration": 293,
    "start_time": "2023-10-22T20:57:18.772Z"
   },
   {
    "duration": 258,
    "start_time": "2023-10-22T20:57:32.540Z"
   },
   {
    "duration": 366,
    "start_time": "2023-10-22T20:57:46.621Z"
   },
   {
    "duration": 268,
    "start_time": "2023-10-22T20:58:00.020Z"
   },
   {
    "duration": 293,
    "start_time": "2023-10-22T20:58:29.082Z"
   },
   {
    "duration": 293,
    "start_time": "2023-10-22T20:58:46.675Z"
   },
   {
    "duration": 276,
    "start_time": "2023-10-22T20:58:58.810Z"
   },
   {
    "duration": 405,
    "start_time": "2023-10-22T20:59:29.538Z"
   },
   {
    "duration": 261,
    "start_time": "2023-10-22T20:59:39.626Z"
   },
   {
    "duration": 664,
    "start_time": "2023-10-22T21:01:11.962Z"
   },
   {
    "duration": 135,
    "start_time": "2023-10-22T21:01:12.628Z"
   },
   {
    "duration": 2173,
    "start_time": "2023-10-22T21:01:12.765Z"
   },
   {
    "duration": 15,
    "start_time": "2023-10-22T21:01:14.940Z"
   },
   {
    "duration": 17,
    "start_time": "2023-10-22T21:01:14.957Z"
   },
   {
    "duration": 6,
    "start_time": "2023-10-22T21:01:14.976Z"
   },
   {
    "duration": 233,
    "start_time": "2023-10-22T21:01:14.984Z"
   },
   {
    "duration": 49,
    "start_time": "2023-10-22T21:01:15.219Z"
   },
   {
    "duration": 198,
    "start_time": "2023-10-22T21:01:15.270Z"
   },
   {
    "duration": 54,
    "start_time": "2023-10-22T21:01:15.469Z"
   },
   {
    "duration": 320,
    "start_time": "2023-10-22T21:01:15.524Z"
   },
   {
    "duration": 290,
    "start_time": "2023-10-22T21:01:15.845Z"
   },
   {
    "duration": 2703,
    "start_time": "2023-10-22T21:01:16.137Z"
   },
   {
    "duration": 1150,
    "start_time": "2023-10-22T21:01:18.843Z"
   },
   {
    "duration": 1044,
    "start_time": "2023-10-22T21:01:20.006Z"
   },
   {
    "duration": 5,
    "start_time": "2023-10-22T21:01:21.051Z"
   },
   {
    "duration": 20,
    "start_time": "2023-10-22T21:01:21.057Z"
   },
   {
    "duration": 271,
    "start_time": "2023-10-22T21:01:21.079Z"
   },
   {
    "duration": 345,
    "start_time": "2023-10-22T21:01:56.233Z"
   },
   {
    "duration": 633,
    "start_time": "2023-10-22T21:02:58.751Z"
   },
   {
    "duration": 150,
    "start_time": "2023-10-22T21:02:59.385Z"
   },
   {
    "duration": 2137,
    "start_time": "2023-10-22T21:02:59.537Z"
   },
   {
    "duration": 16,
    "start_time": "2023-10-22T21:03:01.677Z"
   },
   {
    "duration": 49,
    "start_time": "2023-10-22T21:03:01.695Z"
   },
   {
    "duration": 70,
    "start_time": "2023-10-22T21:03:01.746Z"
   },
   {
    "duration": 273,
    "start_time": "2023-10-22T21:03:01.818Z"
   },
   {
    "duration": 30,
    "start_time": "2023-10-22T21:03:02.100Z"
   },
   {
    "duration": 180,
    "start_time": "2023-10-22T21:03:02.132Z"
   },
   {
    "duration": 26,
    "start_time": "2023-10-22T21:03:02.317Z"
   },
   {
    "duration": 347,
    "start_time": "2023-10-22T21:03:02.345Z"
   },
   {
    "duration": 271,
    "start_time": "2023-10-22T21:03:02.693Z"
   },
   {
    "duration": 2818,
    "start_time": "2023-10-22T21:03:02.966Z"
   },
   {
    "duration": 1176,
    "start_time": "2023-10-22T21:03:05.786Z"
   },
   {
    "duration": 1084,
    "start_time": "2023-10-22T21:03:06.963Z"
   },
   {
    "duration": 5,
    "start_time": "2023-10-22T21:03:08.049Z"
   },
   {
    "duration": 25,
    "start_time": "2023-10-22T21:03:08.056Z"
   },
   {
    "duration": 277,
    "start_time": "2023-10-22T21:03:08.082Z"
   },
   {
    "duration": 666,
    "start_time": "2023-10-24T19:23:07.191Z"
   },
   {
    "duration": 143,
    "start_time": "2023-10-24T19:23:07.859Z"
   },
   {
    "duration": 2136,
    "start_time": "2023-10-24T19:23:08.004Z"
   },
   {
    "duration": 21,
    "start_time": "2023-10-24T19:23:10.143Z"
   },
   {
    "duration": 15,
    "start_time": "2023-10-24T19:23:10.166Z"
   },
   {
    "duration": 9,
    "start_time": "2023-10-24T19:23:10.182Z"
   },
   {
    "duration": 251,
    "start_time": "2023-10-24T19:23:10.193Z"
   },
   {
    "duration": 40,
    "start_time": "2023-10-24T19:23:10.451Z"
   },
   {
    "duration": 200,
    "start_time": "2023-10-24T19:23:10.493Z"
   },
   {
    "duration": 24,
    "start_time": "2023-10-24T19:23:10.695Z"
   },
   {
    "duration": 359,
    "start_time": "2023-10-24T19:23:10.753Z"
   },
   {
    "duration": 2772,
    "start_time": "2023-10-24T19:23:11.114Z"
   },
   {
    "duration": 1337,
    "start_time": "2023-10-24T19:23:13.888Z"
   },
   {
    "duration": 1054,
    "start_time": "2023-10-24T19:23:15.226Z"
   },
   {
    "duration": 13,
    "start_time": "2023-10-24T19:23:16.282Z"
   },
   {
    "duration": 143,
    "start_time": "2023-10-24T19:23:16.297Z"
   },
   {
    "duration": 7,
    "start_time": "2023-10-24T19:38:37.471Z"
   },
   {
    "duration": 112,
    "start_time": "2023-10-24T19:39:43.638Z"
   },
   {
    "duration": 11,
    "start_time": "2023-10-24T19:40:04.649Z"
   },
   {
    "duration": 108,
    "start_time": "2023-10-24T19:50:29.171Z"
   },
   {
    "duration": 103,
    "start_time": "2023-10-25T07:58:32.141Z"
   },
   {
    "duration": 889,
    "start_time": "2023-10-25T15:39:40.097Z"
   },
   {
    "duration": 739,
    "start_time": "2023-10-25T15:39:40.988Z"
   },
   {
    "duration": 2094,
    "start_time": "2023-10-25T15:39:41.731Z"
   },
   {
    "duration": 19,
    "start_time": "2023-10-25T15:39:43.828Z"
   },
   {
    "duration": 9,
    "start_time": "2023-10-25T15:39:43.849Z"
   },
   {
    "duration": 13,
    "start_time": "2023-10-25T15:39:43.859Z"
   },
   {
    "duration": 241,
    "start_time": "2023-10-25T15:39:43.873Z"
   },
   {
    "duration": 32,
    "start_time": "2023-10-25T15:39:44.115Z"
   },
   {
    "duration": 170,
    "start_time": "2023-10-25T15:39:44.148Z"
   },
   {
    "duration": 24,
    "start_time": "2023-10-25T15:39:44.328Z"
   },
   {
    "duration": 331,
    "start_time": "2023-10-25T15:39:44.353Z"
   },
   {
    "duration": 2855,
    "start_time": "2023-10-25T15:39:44.686Z"
   },
   {
    "duration": 1192,
    "start_time": "2023-10-25T15:39:47.543Z"
   },
   {
    "duration": 1039,
    "start_time": "2023-10-25T15:39:48.737Z"
   },
   {
    "duration": 14,
    "start_time": "2023-10-25T15:39:49.778Z"
   },
   {
    "duration": 156,
    "start_time": "2023-10-25T15:39:49.794Z"
   },
   {
    "duration": 91,
    "start_time": "2023-10-25T16:10:18.215Z"
   },
   {
    "duration": 1049,
    "start_time": "2023-10-26T18:25:32.768Z"
   },
   {
    "duration": 204,
    "start_time": "2023-10-26T18:25:33.819Z"
   },
   {
    "duration": 2093,
    "start_time": "2023-10-26T18:25:34.024Z"
   },
   {
    "duration": 17,
    "start_time": "2023-10-26T18:25:36.120Z"
   },
   {
    "duration": 13,
    "start_time": "2023-10-26T18:25:36.139Z"
   },
   {
    "duration": 23,
    "start_time": "2023-10-26T18:25:36.153Z"
   },
   {
    "duration": 231,
    "start_time": "2023-10-26T18:25:36.178Z"
   },
   {
    "duration": 25,
    "start_time": "2023-10-26T18:25:36.410Z"
   },
   {
    "duration": 170,
    "start_time": "2023-10-26T18:25:36.445Z"
   },
   {
    "duration": 47,
    "start_time": "2023-10-26T18:25:36.619Z"
   },
   {
    "duration": 339,
    "start_time": "2023-10-26T18:25:36.668Z"
   },
   {
    "duration": 307,
    "start_time": "2023-10-26T18:25:37.009Z"
   },
   {
    "duration": 362,
    "start_time": "2023-10-26T18:25:37.318Z"
   },
   {
    "duration": 274,
    "start_time": "2023-10-26T18:25:37.681Z"
   },
   {
    "duration": 289,
    "start_time": "2023-10-26T18:25:37.957Z"
   },
   {
    "duration": 267,
    "start_time": "2023-10-26T18:25:38.248Z"
   },
   {
    "duration": 260,
    "start_time": "2023-10-26T18:25:38.516Z"
   },
   {
    "duration": 409,
    "start_time": "2023-10-26T18:25:38.777Z"
   },
   {
    "duration": 280,
    "start_time": "2023-10-26T18:25:39.188Z"
   },
   {
    "duration": 202,
    "start_time": "2023-10-26T18:25:39.469Z"
   },
   {
    "duration": 158,
    "start_time": "2023-10-26T18:25:39.672Z"
   },
   {
    "duration": 1130,
    "start_time": "2023-10-26T18:25:39.832Z"
   },
   {
    "duration": 870,
    "start_time": "2023-10-26T18:25:40.964Z"
   },
   {
    "duration": 18,
    "start_time": "2023-10-26T18:25:41.835Z"
   },
   {
    "duration": 148,
    "start_time": "2023-10-26T18:25:41.854Z"
   },
   {
    "duration": 165,
    "start_time": "2023-10-26T18:34:57.567Z"
   },
   {
    "duration": 158,
    "start_time": "2023-10-26T18:35:50.919Z"
   },
   {
    "duration": 223,
    "start_time": "2023-10-26T18:36:20.863Z"
   },
   {
    "duration": 132,
    "start_time": "2023-10-26T18:37:07.133Z"
   },
   {
    "duration": 123,
    "start_time": "2023-10-26T18:37:14.500Z"
   },
   {
    "duration": 1066,
    "start_time": "2023-10-26T18:47:19.248Z"
   },
   {
    "duration": 1160,
    "start_time": "2023-10-26T18:47:54.145Z"
   },
   {
    "duration": 267,
    "start_time": "2023-10-26T18:57:38.283Z"
   },
   {
    "duration": 343,
    "start_time": "2023-10-26T18:57:50.931Z"
   },
   {
    "duration": 283,
    "start_time": "2023-10-26T19:02:27.816Z"
   },
   {
    "duration": 247,
    "start_time": "2023-10-26T19:02:39.311Z"
   },
   {
    "duration": 101,
    "start_time": "2023-10-26T19:04:08.331Z"
   },
   {
    "duration": 109,
    "start_time": "2023-10-26T19:06:54.989Z"
   },
   {
    "duration": 117,
    "start_time": "2023-10-26T19:08:04.580Z"
   },
   {
    "duration": 106,
    "start_time": "2023-10-26T19:08:17.932Z"
   },
   {
    "duration": 101,
    "start_time": "2023-10-26T19:08:24.151Z"
   },
   {
    "duration": 112,
    "start_time": "2023-10-26T19:08:38.998Z"
   },
   {
    "duration": 187,
    "start_time": "2023-10-26T19:10:24.974Z"
   },
   {
    "duration": 95,
    "start_time": "2023-10-26T19:10:45.974Z"
   },
   {
    "duration": 107,
    "start_time": "2023-10-26T19:11:06.322Z"
   },
   {
    "duration": 19,
    "start_time": "2023-10-26T19:15:31.643Z"
   },
   {
    "duration": 112,
    "start_time": "2023-10-26T19:16:17.245Z"
   },
   {
    "duration": 231,
    "start_time": "2023-10-26T19:25:55.473Z"
   },
   {
    "duration": 116,
    "start_time": "2023-10-26T19:26:17.271Z"
   },
   {
    "duration": 1129,
    "start_time": "2023-10-26T19:26:32.453Z"
   },
   {
    "duration": 173,
    "start_time": "2023-10-26T19:26:45.162Z"
   },
   {
    "duration": 297,
    "start_time": "2023-10-26T19:28:57.887Z"
   },
   {
    "duration": 457,
    "start_time": "2023-10-26T19:29:25.056Z"
   },
   {
    "duration": 381,
    "start_time": "2023-10-26T19:29:35.641Z"
   },
   {
    "duration": 329,
    "start_time": "2023-10-26T19:30:17.905Z"
   },
   {
    "duration": 309,
    "start_time": "2023-10-26T19:30:25.799Z"
   },
   {
    "duration": 330,
    "start_time": "2023-10-26T19:30:33.664Z"
   },
   {
    "duration": 26,
    "start_time": "2023-10-26T19:30:54.422Z"
   },
   {
    "duration": 24,
    "start_time": "2023-10-26T19:30:58.337Z"
   },
   {
    "duration": 450,
    "start_time": "2023-10-26T19:31:08.414Z"
   },
   {
    "duration": 511,
    "start_time": "2023-10-26T19:31:46.009Z"
   },
   {
    "duration": 444,
    "start_time": "2023-10-26T19:32:16.318Z"
   },
   {
    "duration": 423,
    "start_time": "2023-10-26T19:33:19.736Z"
   },
   {
    "duration": 499,
    "start_time": "2023-10-26T19:52:01.568Z"
   },
   {
    "duration": 273,
    "start_time": "2023-10-26T19:53:33.232Z"
   },
   {
    "duration": 445,
    "start_time": "2023-10-26T19:53:41.710Z"
   },
   {
    "duration": 407,
    "start_time": "2023-10-26T19:59:10.238Z"
   },
   {
    "duration": 415,
    "start_time": "2023-10-26T20:01:28.477Z"
   },
   {
    "duration": 509,
    "start_time": "2023-10-26T20:01:37.862Z"
   },
   {
    "duration": 424,
    "start_time": "2023-10-26T20:01:51.764Z"
   },
   {
    "duration": 395,
    "start_time": "2023-10-26T20:02:05.757Z"
   },
   {
    "duration": 377,
    "start_time": "2023-10-26T20:02:14.167Z"
   },
   {
    "duration": 444,
    "start_time": "2023-10-26T20:04:44.266Z"
   },
   {
    "duration": 658,
    "start_time": "2023-10-26T20:05:43.140Z"
   },
   {
    "duration": 420,
    "start_time": "2023-10-26T20:05:52.842Z"
   },
   {
    "duration": 548,
    "start_time": "2023-10-26T20:06:06.317Z"
   },
   {
    "duration": 504,
    "start_time": "2023-10-26T20:06:18.565Z"
   },
   {
    "duration": 422,
    "start_time": "2023-10-26T20:06:35.372Z"
   },
   {
    "duration": 424,
    "start_time": "2023-10-26T20:06:48.062Z"
   },
   {
    "duration": 514,
    "start_time": "2023-10-26T20:06:59.847Z"
   },
   {
    "duration": 421,
    "start_time": "2023-10-26T20:07:06.585Z"
   },
   {
    "duration": 426,
    "start_time": "2023-10-26T20:07:32.337Z"
   },
   {
    "duration": 511,
    "start_time": "2023-10-26T20:08:27.933Z"
   },
   {
    "duration": 422,
    "start_time": "2023-10-26T20:09:21.636Z"
   },
   {
    "duration": 392,
    "start_time": "2023-10-26T20:09:50.312Z"
   },
   {
    "duration": 420,
    "start_time": "2023-10-26T20:20:54.756Z"
   },
   {
    "duration": 433,
    "start_time": "2023-10-26T20:21:13.885Z"
   },
   {
    "duration": 425,
    "start_time": "2023-10-26T20:21:25.782Z"
   },
   {
    "duration": 404,
    "start_time": "2023-10-26T20:21:56.407Z"
   },
   {
    "duration": 836,
    "start_time": "2023-10-26T20:22:30.489Z"
   },
   {
    "duration": 136,
    "start_time": "2023-10-26T20:22:31.327Z"
   },
   {
    "duration": 2044,
    "start_time": "2023-10-26T20:22:31.465Z"
   },
   {
    "duration": 19,
    "start_time": "2023-10-26T20:22:33.511Z"
   },
   {
    "duration": 17,
    "start_time": "2023-10-26T20:22:33.532Z"
   },
   {
    "duration": 9,
    "start_time": "2023-10-26T20:22:33.551Z"
   },
   {
    "duration": 288,
    "start_time": "2023-10-26T20:22:33.561Z"
   },
   {
    "duration": 35,
    "start_time": "2023-10-26T20:22:33.851Z"
   },
   {
    "duration": 163,
    "start_time": "2023-10-26T20:22:33.887Z"
   },
   {
    "duration": 30,
    "start_time": "2023-10-26T20:22:34.064Z"
   },
   {
    "duration": 386,
    "start_time": "2023-10-26T20:22:34.096Z"
   },
   {
    "duration": 583,
    "start_time": "2023-10-26T20:22:34.483Z"
   },
   {
    "duration": 448,
    "start_time": "2023-10-26T20:22:35.068Z"
   },
   {
    "duration": 472,
    "start_time": "2023-10-26T20:22:35.519Z"
   },
   {
    "duration": 475,
    "start_time": "2023-10-26T20:22:35.992Z"
   },
   {
    "duration": 362,
    "start_time": "2023-10-26T20:22:36.469Z"
   },
   {
    "duration": 298,
    "start_time": "2023-10-26T20:22:36.833Z"
   },
   {
    "duration": 278,
    "start_time": "2023-10-26T20:22:37.133Z"
   },
   {
    "duration": 316,
    "start_time": "2023-10-26T20:22:37.413Z"
   },
   {
    "duration": 220,
    "start_time": "2023-10-26T20:22:37.731Z"
   },
   {
    "duration": 153,
    "start_time": "2023-10-26T20:22:37.953Z"
   },
   {
    "duration": 1249,
    "start_time": "2023-10-26T20:22:38.108Z"
   },
   {
    "duration": 1315,
    "start_time": "2023-10-26T20:22:39.358Z"
   },
   {
    "duration": 13,
    "start_time": "2023-10-26T20:22:40.675Z"
   },
   {
    "duration": 175,
    "start_time": "2023-10-26T20:22:40.689Z"
   },
   {
    "duration": 448,
    "start_time": "2023-10-26T20:24:49.478Z"
   },
   {
    "duration": 486,
    "start_time": "2023-10-26T20:27:08.522Z"
   },
   {
    "duration": 518,
    "start_time": "2023-10-26T20:33:09.973Z"
   },
   {
    "duration": 436,
    "start_time": "2023-10-26T20:33:17.968Z"
   },
   {
    "duration": 511,
    "start_time": "2023-10-26T20:33:37.072Z"
   },
   {
    "duration": 520,
    "start_time": "2023-10-26T20:34:17.897Z"
   },
   {
    "duration": 623,
    "start_time": "2023-10-26T20:38:38.293Z"
   },
   {
    "duration": 442,
    "start_time": "2023-10-26T20:38:49.539Z"
   },
   {
    "duration": 1065,
    "start_time": "2023-10-26T20:39:02.808Z"
   },
   {
    "duration": 502,
    "start_time": "2023-10-26T20:39:11.706Z"
   },
   {
    "duration": 420,
    "start_time": "2023-10-26T20:39:43.518Z"
   },
   {
    "duration": 416,
    "start_time": "2023-10-26T20:39:55.425Z"
   },
   {
    "duration": 408,
    "start_time": "2023-10-26T20:40:32.850Z"
   },
   {
    "duration": 410,
    "start_time": "2023-10-26T20:59:01.884Z"
   },
   {
    "duration": 312,
    "start_time": "2023-10-26T20:59:27.360Z"
   },
   {
    "duration": 723,
    "start_time": "2023-10-26T20:59:44.384Z"
   },
   {
    "duration": 126,
    "start_time": "2023-10-26T20:59:45.109Z"
   },
   {
    "duration": 1892,
    "start_time": "2023-10-26T20:59:45.237Z"
   },
   {
    "duration": 14,
    "start_time": "2023-10-26T20:59:47.130Z"
   },
   {
    "duration": 19,
    "start_time": "2023-10-26T20:59:47.146Z"
   },
   {
    "duration": 24,
    "start_time": "2023-10-26T20:59:47.167Z"
   },
   {
    "duration": 253,
    "start_time": "2023-10-26T20:59:47.192Z"
   },
   {
    "duration": 24,
    "start_time": "2023-10-26T20:59:47.447Z"
   },
   {
    "duration": 173,
    "start_time": "2023-10-26T20:59:47.472Z"
   },
   {
    "duration": 22,
    "start_time": "2023-10-26T20:59:47.646Z"
   },
   {
    "duration": 327,
    "start_time": "2023-10-26T20:59:47.670Z"
   },
   {
    "duration": 475,
    "start_time": "2023-10-26T20:59:47.999Z"
   },
   {
    "duration": 415,
    "start_time": "2023-10-26T20:59:48.476Z"
   },
   {
    "duration": 437,
    "start_time": "2023-10-26T20:59:48.895Z"
   },
   {
    "duration": 383,
    "start_time": "2023-10-26T20:59:49.333Z"
   },
   {
    "duration": 512,
    "start_time": "2023-10-26T20:59:49.718Z"
   },
   {
    "duration": 363,
    "start_time": "2023-10-26T20:59:50.232Z"
   },
   {
    "duration": 316,
    "start_time": "2023-10-26T20:59:50.597Z"
   },
   {
    "duration": 253,
    "start_time": "2023-10-26T20:59:50.914Z"
   },
   {
    "duration": 181,
    "start_time": "2023-10-26T20:59:51.169Z"
   },
   {
    "duration": 194,
    "start_time": "2023-10-26T20:59:51.352Z"
   },
   {
    "duration": 951,
    "start_time": "2023-10-26T20:59:51.548Z"
   },
   {
    "duration": 1046,
    "start_time": "2023-10-26T20:59:52.501Z"
   },
   {
    "duration": 13,
    "start_time": "2023-10-26T20:59:53.549Z"
   },
   {
    "duration": 131,
    "start_time": "2023-10-26T20:59:53.564Z"
   },
   {
    "duration": 413,
    "start_time": "2023-10-26T21:00:42.301Z"
   },
   {
    "duration": 542,
    "start_time": "2023-10-26T21:01:07.702Z"
   },
   {
    "duration": 432,
    "start_time": "2023-10-26T21:01:32.750Z"
   },
   {
    "duration": 400,
    "start_time": "2023-10-26T21:02:35.265Z"
   },
   {
    "duration": 320,
    "start_time": "2023-10-26T21:02:59.674Z"
   },
   {
    "duration": 426,
    "start_time": "2023-10-26T21:03:40.001Z"
   },
   {
    "duration": 757,
    "start_time": "2023-10-26T21:04:02.170Z"
   },
   {
    "duration": 132,
    "start_time": "2023-10-26T21:04:02.929Z"
   },
   {
    "duration": 1983,
    "start_time": "2023-10-26T21:04:03.062Z"
   },
   {
    "duration": 16,
    "start_time": "2023-10-26T21:04:05.047Z"
   },
   {
    "duration": 10,
    "start_time": "2023-10-26T21:04:05.066Z"
   },
   {
    "duration": 4,
    "start_time": "2023-10-26T21:04:05.077Z"
   },
   {
    "duration": 249,
    "start_time": "2023-10-26T21:04:05.082Z"
   },
   {
    "duration": 28,
    "start_time": "2023-10-26T21:04:05.333Z"
   },
   {
    "duration": 181,
    "start_time": "2023-10-26T21:04:05.363Z"
   },
   {
    "duration": 26,
    "start_time": "2023-10-26T21:04:05.547Z"
   },
   {
    "duration": 312,
    "start_time": "2023-10-26T21:04:05.574Z"
   },
   {
    "duration": 527,
    "start_time": "2023-10-26T21:04:05.887Z"
   },
   {
    "duration": 459,
    "start_time": "2023-10-26T21:04:06.416Z"
   },
   {
    "duration": 416,
    "start_time": "2023-10-26T21:04:06.877Z"
   },
   {
    "duration": 389,
    "start_time": "2023-10-26T21:04:07.294Z"
   },
   {
    "duration": 575,
    "start_time": "2023-10-26T21:04:07.685Z"
   },
   {
    "duration": 388,
    "start_time": "2023-10-26T21:04:08.262Z"
   },
   {
    "duration": 400,
    "start_time": "2023-10-26T21:04:08.652Z"
   },
   {
    "duration": 281,
    "start_time": "2023-10-26T21:04:09.053Z"
   },
   {
    "duration": 198,
    "start_time": "2023-10-26T21:04:09.335Z"
   },
   {
    "duration": 204,
    "start_time": "2023-10-26T21:04:09.534Z"
   },
   {
    "duration": 1007,
    "start_time": "2023-10-26T21:04:09.740Z"
   },
   {
    "duration": 1130,
    "start_time": "2023-10-26T21:04:10.749Z"
   },
   {
    "duration": 14,
    "start_time": "2023-10-26T21:04:11.881Z"
   },
   {
    "duration": 139,
    "start_time": "2023-10-26T21:04:11.897Z"
   },
   {
    "duration": 785,
    "start_time": "2023-10-26T21:06:17.916Z"
   },
   {
    "duration": 149,
    "start_time": "2023-10-26T21:06:18.704Z"
   },
   {
    "duration": 2138,
    "start_time": "2023-10-26T21:06:18.855Z"
   },
   {
    "duration": 15,
    "start_time": "2023-10-26T21:06:20.995Z"
   },
   {
    "duration": 39,
    "start_time": "2023-10-26T21:06:21.012Z"
   },
   {
    "duration": 37,
    "start_time": "2023-10-26T21:06:21.053Z"
   },
   {
    "duration": 257,
    "start_time": "2023-10-26T21:06:21.092Z"
   },
   {
    "duration": 26,
    "start_time": "2023-10-26T21:06:21.351Z"
   },
   {
    "duration": 185,
    "start_time": "2023-10-26T21:06:21.379Z"
   },
   {
    "duration": 24,
    "start_time": "2023-10-26T21:06:21.566Z"
   },
   {
    "duration": 333,
    "start_time": "2023-10-26T21:06:21.591Z"
   },
   {
    "duration": 478,
    "start_time": "2023-10-26T21:06:21.926Z"
   },
   {
    "duration": 408,
    "start_time": "2023-10-26T21:06:22.406Z"
   },
   {
    "duration": 422,
    "start_time": "2023-10-26T21:06:22.818Z"
   },
   {
    "duration": 400,
    "start_time": "2023-10-26T21:06:23.244Z"
   },
   {
    "duration": 567,
    "start_time": "2023-10-26T21:06:23.646Z"
   },
   {
    "duration": 397,
    "start_time": "2023-10-26T21:06:24.215Z"
   },
   {
    "duration": 344,
    "start_time": "2023-10-26T21:06:24.613Z"
   },
   {
    "duration": 274,
    "start_time": "2023-10-26T21:06:24.958Z"
   },
   {
    "duration": 226,
    "start_time": "2023-10-26T21:06:25.233Z"
   },
   {
    "duration": 243,
    "start_time": "2023-10-26T21:06:25.461Z"
   },
   {
    "duration": 1068,
    "start_time": "2023-10-26T21:06:25.706Z"
   },
   {
    "duration": 1080,
    "start_time": "2023-10-26T21:06:26.776Z"
   },
   {
    "duration": 12,
    "start_time": "2023-10-26T21:06:27.858Z"
   },
   {
    "duration": 127,
    "start_time": "2023-10-26T21:06:27.871Z"
   },
   {
    "duration": 342,
    "start_time": "2023-10-26T21:08:51.242Z"
   },
   {
    "duration": 550,
    "start_time": "2023-10-26T21:09:09.333Z"
   },
   {
    "duration": 458,
    "start_time": "2023-10-26T21:09:25.261Z"
   },
   {
    "duration": 5384,
    "start_time": "2023-10-26T21:12:04.552Z"
   },
   {
    "duration": 484,
    "start_time": "2023-10-26T21:13:16.842Z"
   },
   {
    "duration": 860,
    "start_time": "2023-10-26T21:13:32.693Z"
   },
   {
    "duration": 530,
    "start_time": "2023-10-26T21:14:34.265Z"
   },
   {
    "duration": 1033,
    "start_time": "2023-10-26T21:15:04.706Z"
   },
   {
    "duration": 125,
    "start_time": "2023-10-26T21:15:05.740Z"
   },
   {
    "duration": 1918,
    "start_time": "2023-10-26T21:15:05.867Z"
   },
   {
    "duration": 15,
    "start_time": "2023-10-26T21:15:07.787Z"
   },
   {
    "duration": 13,
    "start_time": "2023-10-26T21:15:07.804Z"
   },
   {
    "duration": 3,
    "start_time": "2023-10-26T21:15:07.819Z"
   },
   {
    "duration": 217,
    "start_time": "2023-10-26T21:15:07.824Z"
   },
   {
    "duration": 28,
    "start_time": "2023-10-26T21:15:08.046Z"
   },
   {
    "duration": 189,
    "start_time": "2023-10-26T21:15:08.075Z"
   },
   {
    "duration": 23,
    "start_time": "2023-10-26T21:15:08.266Z"
   },
   {
    "duration": 326,
    "start_time": "2023-10-26T21:15:08.290Z"
   },
   {
    "duration": 580,
    "start_time": "2023-10-26T21:15:08.618Z"
   },
   {
    "duration": 427,
    "start_time": "2023-10-26T21:15:09.199Z"
   },
   {
    "duration": 435,
    "start_time": "2023-10-26T21:15:09.629Z"
   },
   {
    "duration": 427,
    "start_time": "2023-10-26T21:15:10.066Z"
   },
   {
    "duration": 525,
    "start_time": "2023-10-26T21:15:10.495Z"
   },
   {
    "duration": 369,
    "start_time": "2023-10-26T21:15:11.021Z"
   },
   {
    "duration": 490,
    "start_time": "2023-10-26T21:15:11.392Z"
   },
   {
    "duration": 289,
    "start_time": "2023-10-26T21:15:11.884Z"
   },
   {
    "duration": 189,
    "start_time": "2023-10-26T21:15:12.174Z"
   },
   {
    "duration": 208,
    "start_time": "2023-10-26T21:15:12.364Z"
   },
   {
    "duration": 997,
    "start_time": "2023-10-26T21:15:12.573Z"
   },
   {
    "duration": 1129,
    "start_time": "2023-10-26T21:15:13.571Z"
   },
   {
    "duration": 13,
    "start_time": "2023-10-26T21:15:14.702Z"
   },
   {
    "duration": 135,
    "start_time": "2023-10-26T21:15:14.717Z"
   },
   {
    "duration": 51,
    "start_time": "2023-10-27T16:38:39.089Z"
   },
   {
    "duration": 833,
    "start_time": "2023-10-27T16:38:49.020Z"
   },
   {
    "duration": 340,
    "start_time": "2023-10-27T16:38:49.855Z"
   },
   {
    "duration": 1867,
    "start_time": "2023-10-27T16:38:50.196Z"
   },
   {
    "duration": 15,
    "start_time": "2023-10-27T16:38:52.065Z"
   },
   {
    "duration": 22,
    "start_time": "2023-10-27T16:38:52.081Z"
   },
   {
    "duration": 7,
    "start_time": "2023-10-27T16:38:52.104Z"
   },
   {
    "duration": 230,
    "start_time": "2023-10-27T16:38:52.113Z"
   },
   {
    "duration": 25,
    "start_time": "2023-10-27T16:38:52.345Z"
   },
   {
    "duration": 176,
    "start_time": "2023-10-27T16:38:52.372Z"
   },
   {
    "duration": 23,
    "start_time": "2023-10-27T16:38:52.552Z"
   },
   {
    "duration": 311,
    "start_time": "2023-10-27T16:38:52.577Z"
   },
   {
    "duration": 492,
    "start_time": "2023-10-27T16:38:52.889Z"
   },
   {
    "duration": 442,
    "start_time": "2023-10-27T16:38:53.383Z"
   },
   {
    "duration": 417,
    "start_time": "2023-10-27T16:38:53.826Z"
   },
   {
    "duration": 451,
    "start_time": "2023-10-27T16:38:54.245Z"
   },
   {
    "duration": 526,
    "start_time": "2023-10-27T16:38:54.697Z"
   },
   {
    "duration": 382,
    "start_time": "2023-10-27T16:38:55.225Z"
   },
   {
    "duration": 520,
    "start_time": "2023-10-27T16:38:55.609Z"
   },
   {
    "duration": 0,
    "start_time": "2023-10-27T16:38:56.131Z"
   },
   {
    "duration": 0,
    "start_time": "2023-10-27T16:38:56.132Z"
   },
   {
    "duration": 0,
    "start_time": "2023-10-27T16:38:56.134Z"
   },
   {
    "duration": 0,
    "start_time": "2023-10-27T16:38:56.143Z"
   },
   {
    "duration": 0,
    "start_time": "2023-10-27T16:38:56.145Z"
   },
   {
    "duration": 0,
    "start_time": "2023-10-27T16:38:56.146Z"
   },
   {
    "duration": 0,
    "start_time": "2023-10-27T16:38:56.147Z"
   },
   {
    "duration": 440,
    "start_time": "2023-10-27T16:39:43.932Z"
   },
   {
    "duration": 499,
    "start_time": "2023-10-27T16:39:59.428Z"
   },
   {
    "duration": 455,
    "start_time": "2023-10-27T16:40:12.416Z"
   },
   {
    "duration": 453,
    "start_time": "2023-10-27T16:40:40.769Z"
   },
   {
    "duration": 553,
    "start_time": "2023-10-27T16:41:44.500Z"
   },
   {
    "duration": 456,
    "start_time": "2023-10-27T16:59:30.703Z"
   },
   {
    "duration": 447,
    "start_time": "2023-10-27T17:02:20.490Z"
   },
   {
    "duration": 324,
    "start_time": "2023-10-27T17:02:57.227Z"
   },
   {
    "duration": 538,
    "start_time": "2023-10-27T17:03:08.234Z"
   },
   {
    "duration": 1318,
    "start_time": "2023-10-27T17:03:24.114Z"
   },
   {
    "duration": 358,
    "start_time": "2023-10-27T17:03:30.409Z"
   },
   {
    "duration": 495,
    "start_time": "2023-10-27T17:03:53.423Z"
   },
   {
    "duration": 381,
    "start_time": "2023-10-27T17:04:16.549Z"
   },
   {
    "duration": 382,
    "start_time": "2023-10-27T17:06:01.078Z"
   },
   {
    "duration": 403,
    "start_time": "2023-10-27T17:06:16.985Z"
   },
   {
    "duration": 462,
    "start_time": "2023-10-27T17:07:09.914Z"
   },
   {
    "duration": 387,
    "start_time": "2023-10-27T17:12:56.614Z"
   },
   {
    "duration": 248,
    "start_time": "2023-10-27T17:15:00.059Z"
   },
   {
    "duration": 250,
    "start_time": "2023-10-27T17:15:57.774Z"
   },
   {
    "duration": 460,
    "start_time": "2023-10-27T17:16:23.915Z"
   },
   {
    "duration": 346,
    "start_time": "2023-10-27T17:18:35.291Z"
   },
   {
    "duration": 349,
    "start_time": "2023-10-27T17:18:50.145Z"
   },
   {
    "duration": 341,
    "start_time": "2023-10-27T17:18:59.072Z"
   },
   {
    "duration": 438,
    "start_time": "2023-10-27T17:19:52.975Z"
   },
   {
    "duration": 356,
    "start_time": "2023-10-27T17:20:06.511Z"
   },
   {
    "duration": 378,
    "start_time": "2023-10-27T17:20:33.686Z"
   },
   {
    "duration": 349,
    "start_time": "2023-10-27T17:20:44.887Z"
   },
   {
    "duration": 420,
    "start_time": "2023-10-27T17:20:51.776Z"
   },
   {
    "duration": 380,
    "start_time": "2023-10-27T17:21:04.835Z"
   },
   {
    "duration": 302,
    "start_time": "2023-10-27T17:26:13.784Z"
   },
   {
    "duration": 1061,
    "start_time": "2023-10-27T17:27:18.191Z"
   },
   {
    "duration": 700,
    "start_time": "2023-10-27T17:28:06.336Z"
   },
   {
    "duration": 124,
    "start_time": "2023-10-27T17:28:07.038Z"
   },
   {
    "duration": 1908,
    "start_time": "2023-10-27T17:28:07.163Z"
   },
   {
    "duration": 16,
    "start_time": "2023-10-27T17:28:09.073Z"
   },
   {
    "duration": 9,
    "start_time": "2023-10-27T17:28:09.091Z"
   },
   {
    "duration": 26,
    "start_time": "2023-10-27T17:28:09.101Z"
   },
   {
    "duration": 253,
    "start_time": "2023-10-27T17:28:09.129Z"
   },
   {
    "duration": 24,
    "start_time": "2023-10-27T17:28:09.384Z"
   },
   {
    "duration": 181,
    "start_time": "2023-10-27T17:28:09.410Z"
   },
   {
    "duration": 53,
    "start_time": "2023-10-27T17:28:09.593Z"
   },
   {
    "duration": 297,
    "start_time": "2023-10-27T17:28:09.648Z"
   },
   {
    "duration": 517,
    "start_time": "2023-10-27T17:28:09.947Z"
   },
   {
    "duration": 416,
    "start_time": "2023-10-27T17:28:10.466Z"
   },
   {
    "duration": 436,
    "start_time": "2023-10-27T17:28:10.884Z"
   },
   {
    "duration": 395,
    "start_time": "2023-10-27T17:28:11.322Z"
   },
   {
    "duration": 531,
    "start_time": "2023-10-27T17:28:11.719Z"
   },
   {
    "duration": 383,
    "start_time": "2023-10-27T17:28:12.252Z"
   },
   {
    "duration": 457,
    "start_time": "2023-10-27T17:28:12.637Z"
   },
   {
    "duration": 371,
    "start_time": "2023-10-27T17:28:13.096Z"
   },
   {
    "duration": 4,
    "start_time": "2023-10-27T17:28:13.469Z"
   },
   {
    "duration": 1215,
    "start_time": "2023-10-27T17:28:13.474Z"
   },
   {
    "duration": 120,
    "start_time": "2023-10-27T17:28:14.691Z"
   },
   {
    "duration": 1034,
    "start_time": "2023-10-27T17:28:14.813Z"
   },
   {
    "duration": 1024,
    "start_time": "2023-10-27T17:28:15.849Z"
   },
   {
    "duration": 13,
    "start_time": "2023-10-27T17:28:16.874Z"
   },
   {
    "duration": 163,
    "start_time": "2023-10-27T17:28:16.889Z"
   },
   {
    "duration": 357,
    "start_time": "2023-10-27T17:28:52.439Z"
   },
   {
    "duration": 257,
    "start_time": "2023-10-27T17:29:10.592Z"
   },
   {
    "duration": 314,
    "start_time": "2023-10-27T17:29:23.651Z"
   },
   {
    "duration": 1079,
    "start_time": "2023-10-27T17:29:29.481Z"
   },
   {
    "duration": 1040,
    "start_time": "2023-10-27T17:29:38.340Z"
   },
   {
    "duration": 1138,
    "start_time": "2023-10-27T17:32:31.291Z"
   },
   {
    "duration": 1162,
    "start_time": "2023-10-27T17:32:38.832Z"
   },
   {
    "duration": 1156,
    "start_time": "2023-10-27T17:32:54.568Z"
   },
   {
    "duration": 1211,
    "start_time": "2023-10-27T17:33:21.944Z"
   },
   {
    "duration": 999,
    "start_time": "2023-10-27T17:40:35.391Z"
   },
   {
    "duration": 1033,
    "start_time": "2023-10-27T17:40:43.719Z"
   },
   {
    "duration": 5,
    "start_time": "2023-10-27T18:01:30.670Z"
   },
   {
    "duration": 74,
    "start_time": "2023-10-27T18:03:49.378Z"
   },
   {
    "duration": 608,
    "start_time": "2023-10-27T18:04:08.994Z"
   },
   {
    "duration": 143,
    "start_time": "2023-10-27T18:04:09.605Z"
   },
   {
    "duration": 1949,
    "start_time": "2023-10-27T18:04:09.750Z"
   },
   {
    "duration": 15,
    "start_time": "2023-10-27T18:04:11.701Z"
   },
   {
    "duration": 9,
    "start_time": "2023-10-27T18:04:11.718Z"
   },
   {
    "duration": 12,
    "start_time": "2023-10-27T18:04:11.729Z"
   },
   {
    "duration": 235,
    "start_time": "2023-10-27T18:04:11.743Z"
   },
   {
    "duration": 25,
    "start_time": "2023-10-27T18:04:11.980Z"
   },
   {
    "duration": 166,
    "start_time": "2023-10-27T18:04:12.008Z"
   },
   {
    "duration": 21,
    "start_time": "2023-10-27T18:04:12.176Z"
   },
   {
    "duration": 321,
    "start_time": "2023-10-27T18:04:12.199Z"
   },
   {
    "duration": 489,
    "start_time": "2023-10-27T18:04:12.522Z"
   },
   {
    "duration": 412,
    "start_time": "2023-10-27T18:04:13.012Z"
   },
   {
    "duration": 452,
    "start_time": "2023-10-27T18:04:13.428Z"
   },
   {
    "duration": 433,
    "start_time": "2023-10-27T18:04:13.881Z"
   },
   {
    "duration": 575,
    "start_time": "2023-10-27T18:04:14.315Z"
   },
   {
    "duration": 386,
    "start_time": "2023-10-27T18:04:14.892Z"
   },
   {
    "duration": 457,
    "start_time": "2023-10-27T18:04:15.279Z"
   },
   {
    "duration": 388,
    "start_time": "2023-10-27T18:04:15.738Z"
   },
   {
    "duration": 16,
    "start_time": "2023-10-27T18:04:16.127Z"
   },
   {
    "duration": 1307,
    "start_time": "2023-10-27T18:04:16.145Z"
   },
   {
    "duration": 119,
    "start_time": "2023-10-27T18:04:17.454Z"
   },
   {
    "duration": 1069,
    "start_time": "2023-10-27T18:04:17.574Z"
   },
   {
    "duration": 22,
    "start_time": "2023-10-27T18:04:18.645Z"
   },
   {
    "duration": 171,
    "start_time": "2023-10-27T18:04:18.669Z"
   },
   {
    "duration": 883,
    "start_time": "2023-10-27T18:04:18.844Z"
   },
   {
    "duration": 18,
    "start_time": "2023-10-27T18:04:19.729Z"
   },
   {
    "duration": 147,
    "start_time": "2023-10-27T18:04:19.749Z"
   },
   {
    "duration": 218,
    "start_time": "2023-10-27T18:04:46.716Z"
   },
   {
    "duration": 138,
    "start_time": "2023-10-27T18:06:06.758Z"
   },
   {
    "duration": 135,
    "start_time": "2023-10-27T18:06:17.357Z"
   },
   {
    "duration": 141,
    "start_time": "2023-10-27T18:09:38.109Z"
   },
   {
    "duration": 124,
    "start_time": "2023-10-27T18:09:59.819Z"
   },
   {
    "duration": 129,
    "start_time": "2023-10-27T18:11:05.779Z"
   },
   {
    "duration": 1124,
    "start_time": "2023-10-27T18:12:34.711Z"
   },
   {
    "duration": 112,
    "start_time": "2023-10-27T18:13:29.619Z"
   },
   {
    "duration": 178,
    "start_time": "2023-10-27T18:13:48.536Z"
   },
   {
    "duration": 109,
    "start_time": "2023-10-27T18:14:14.705Z"
   },
   {
    "duration": 109,
    "start_time": "2023-10-27T18:14:43.106Z"
   },
   {
    "duration": 116,
    "start_time": "2023-10-27T18:15:02.376Z"
   },
   {
    "duration": 121,
    "start_time": "2023-10-27T18:15:09.833Z"
   },
   {
    "duration": 121,
    "start_time": "2023-10-27T18:16:01.308Z"
   },
   {
    "duration": 108,
    "start_time": "2023-10-27T18:16:17.709Z"
   },
   {
    "duration": 108,
    "start_time": "2023-10-27T18:16:25.047Z"
   },
   {
    "duration": 111,
    "start_time": "2023-10-27T18:16:34.737Z"
   },
   {
    "duration": 110,
    "start_time": "2023-10-27T18:16:44.026Z"
   },
   {
    "duration": 123,
    "start_time": "2023-10-27T18:16:51.751Z"
   },
   {
    "duration": 186,
    "start_time": "2023-10-27T18:16:55.831Z"
   },
   {
    "duration": 119,
    "start_time": "2023-10-27T18:17:03.345Z"
   },
   {
    "duration": 194,
    "start_time": "2023-10-27T18:26:08.810Z"
   },
   {
    "duration": 150,
    "start_time": "2023-10-27T18:28:01.774Z"
   },
   {
    "duration": 145,
    "start_time": "2023-10-27T18:28:07.018Z"
   },
   {
    "duration": 156,
    "start_time": "2023-10-27T18:28:21.316Z"
   },
   {
    "duration": 177,
    "start_time": "2023-10-27T18:28:34.422Z"
   },
   {
    "duration": 145,
    "start_time": "2023-10-27T18:29:39.505Z"
   },
   {
    "duration": 141,
    "start_time": "2023-10-27T18:29:54.075Z"
   },
   {
    "duration": 108,
    "start_time": "2023-10-27T18:33:51.772Z"
   },
   {
    "duration": 130,
    "start_time": "2023-10-27T18:33:57.415Z"
   },
   {
    "duration": 176,
    "start_time": "2023-10-27T18:34:00.808Z"
   },
   {
    "duration": 109,
    "start_time": "2023-10-27T18:34:15.564Z"
   },
   {
    "duration": 150,
    "start_time": "2023-10-27T18:54:37.043Z"
   },
   {
    "duration": 138,
    "start_time": "2023-10-27T18:55:55.249Z"
   },
   {
    "duration": 76,
    "start_time": "2023-10-27T18:57:55.967Z"
   },
   {
    "duration": 635,
    "start_time": "2023-10-27T19:00:40.108Z"
   },
   {
    "duration": 126,
    "start_time": "2023-10-27T19:00:40.745Z"
   },
   {
    "duration": 1882,
    "start_time": "2023-10-27T19:00:40.873Z"
   },
   {
    "duration": 13,
    "start_time": "2023-10-27T19:00:42.757Z"
   },
   {
    "duration": 9,
    "start_time": "2023-10-27T19:00:42.772Z"
   },
   {
    "duration": 3,
    "start_time": "2023-10-27T19:00:42.783Z"
   },
   {
    "duration": 210,
    "start_time": "2023-10-27T19:00:42.788Z"
   },
   {
    "duration": 25,
    "start_time": "2023-10-27T19:00:42.999Z"
   },
   {
    "duration": 153,
    "start_time": "2023-10-27T19:00:43.026Z"
   },
   {
    "duration": 21,
    "start_time": "2023-10-27T19:00:43.181Z"
   },
   {
    "duration": 316,
    "start_time": "2023-10-27T19:00:43.204Z"
   },
   {
    "duration": 501,
    "start_time": "2023-10-27T19:00:43.522Z"
   },
   {
    "duration": 407,
    "start_time": "2023-10-27T19:00:44.024Z"
   },
   {
    "duration": 426,
    "start_time": "2023-10-27T19:00:44.434Z"
   },
   {
    "duration": 389,
    "start_time": "2023-10-27T19:00:44.861Z"
   },
   {
    "duration": 524,
    "start_time": "2023-10-27T19:00:45.253Z"
   },
   {
    "duration": 373,
    "start_time": "2023-10-27T19:00:45.779Z"
   },
   {
    "duration": 450,
    "start_time": "2023-10-27T19:00:46.153Z"
   },
   {
    "duration": 358,
    "start_time": "2023-10-27T19:00:46.604Z"
   },
   {
    "duration": 4,
    "start_time": "2023-10-27T19:00:46.964Z"
   },
   {
    "duration": 1220,
    "start_time": "2023-10-27T19:00:46.970Z"
   },
   {
    "duration": 113,
    "start_time": "2023-10-27T19:00:48.193Z"
   },
   {
    "duration": 992,
    "start_time": "2023-10-27T19:00:48.307Z"
   },
   {
    "duration": 20,
    "start_time": "2023-10-27T19:00:49.300Z"
   },
   {
    "duration": 151,
    "start_time": "2023-10-27T19:00:49.322Z"
   },
   {
    "duration": 141,
    "start_time": "2023-10-27T19:00:49.475Z"
   },
   {
    "duration": 151,
    "start_time": "2023-10-27T19:00:49.618Z"
   },
   {
    "duration": 152,
    "start_time": "2023-10-27T19:00:49.771Z"
   },
   {
    "duration": 121,
    "start_time": "2023-10-27T19:00:49.924Z"
   },
   {
    "duration": 114,
    "start_time": "2023-10-27T19:00:50.047Z"
   },
   {
    "duration": 120,
    "start_time": "2023-10-27T19:00:50.163Z"
   },
   {
    "duration": 116,
    "start_time": "2023-10-27T19:00:50.284Z"
   },
   {
    "duration": 12,
    "start_time": "2023-10-27T19:00:50.402Z"
   },
   {
    "duration": 7,
    "start_time": "2023-10-27T19:00:50.415Z"
   },
   {
    "duration": 149,
    "start_time": "2023-10-27T19:00:50.423Z"
   },
   {
    "duration": 804,
    "start_time": "2023-10-28T14:39:15.527Z"
   },
   {
    "duration": 340,
    "start_time": "2023-10-28T14:39:16.334Z"
   },
   {
    "duration": 1942,
    "start_time": "2023-10-28T14:39:16.676Z"
   },
   {
    "duration": 19,
    "start_time": "2023-10-28T14:39:18.620Z"
   },
   {
    "duration": 18,
    "start_time": "2023-10-28T14:39:18.642Z"
   },
   {
    "duration": 28,
    "start_time": "2023-10-28T14:39:18.662Z"
   },
   {
    "duration": 242,
    "start_time": "2023-10-28T14:39:18.692Z"
   },
   {
    "duration": 25,
    "start_time": "2023-10-28T14:39:18.936Z"
   },
   {
    "duration": 165,
    "start_time": "2023-10-28T14:39:18.963Z"
   },
   {
    "duration": 22,
    "start_time": "2023-10-28T14:39:19.130Z"
   },
   {
    "duration": 319,
    "start_time": "2023-10-28T14:39:19.154Z"
   },
   {
    "duration": 487,
    "start_time": "2023-10-28T14:39:19.475Z"
   },
   {
    "duration": 451,
    "start_time": "2023-10-28T14:39:19.963Z"
   },
   {
    "duration": 437,
    "start_time": "2023-10-28T14:39:20.417Z"
   },
   {
    "duration": 412,
    "start_time": "2023-10-28T14:39:20.856Z"
   },
   {
    "duration": 569,
    "start_time": "2023-10-28T14:39:21.270Z"
   },
   {
    "duration": 397,
    "start_time": "2023-10-28T14:39:21.841Z"
   },
   {
    "duration": 484,
    "start_time": "2023-10-28T14:39:22.239Z"
   },
   {
    "duration": 373,
    "start_time": "2023-10-28T14:39:22.725Z"
   },
   {
    "duration": 5,
    "start_time": "2023-10-28T14:39:23.100Z"
   },
   {
    "duration": 1400,
    "start_time": "2023-10-28T14:39:23.107Z"
   },
   {
    "duration": 163,
    "start_time": "2023-10-28T14:39:24.509Z"
   },
   {
    "duration": 1154,
    "start_time": "2023-10-28T14:39:24.674Z"
   },
   {
    "duration": 22,
    "start_time": "2023-10-28T14:39:25.830Z"
   },
   {
    "duration": 182,
    "start_time": "2023-10-28T14:39:25.854Z"
   },
   {
    "duration": 170,
    "start_time": "2023-10-28T14:39:26.038Z"
   },
   {
    "duration": 172,
    "start_time": "2023-10-28T14:39:26.210Z"
   },
   {
    "duration": 172,
    "start_time": "2023-10-28T14:39:26.384Z"
   },
   {
    "duration": 125,
    "start_time": "2023-10-28T14:39:26.557Z"
   },
   {
    "duration": 125,
    "start_time": "2023-10-28T14:39:26.683Z"
   },
   {
    "duration": 132,
    "start_time": "2023-10-28T14:39:26.810Z"
   },
   {
    "duration": 127,
    "start_time": "2023-10-28T14:39:26.944Z"
   },
   {
    "duration": 13,
    "start_time": "2023-10-28T14:39:27.072Z"
   },
   {
    "duration": 18,
    "start_time": "2023-10-28T14:39:27.087Z"
   },
   {
    "duration": 149,
    "start_time": "2023-10-28T14:39:27.106Z"
   },
   {
    "duration": 161,
    "start_time": "2023-10-28T14:41:19.382Z"
   },
   {
    "duration": 242,
    "start_time": "2023-10-28T14:43:42.189Z"
   },
   {
    "duration": 831,
    "start_time": "2023-10-28T16:19:23.896Z"
   },
   {
    "duration": 336,
    "start_time": "2023-10-28T16:19:24.730Z"
   },
   {
    "duration": 2197,
    "start_time": "2023-10-28T16:19:25.068Z"
   },
   {
    "duration": 16,
    "start_time": "2023-10-28T16:19:27.268Z"
   },
   {
    "duration": 40,
    "start_time": "2023-10-28T16:19:27.285Z"
   },
   {
    "duration": 6,
    "start_time": "2023-10-28T16:19:27.327Z"
   },
   {
    "duration": 227,
    "start_time": "2023-10-28T16:19:27.335Z"
   },
   {
    "duration": 26,
    "start_time": "2023-10-28T16:19:27.564Z"
   },
   {
    "duration": 184,
    "start_time": "2023-10-28T16:19:27.591Z"
   },
   {
    "duration": 33,
    "start_time": "2023-10-28T16:19:27.779Z"
   },
   {
    "duration": 323,
    "start_time": "2023-10-28T16:19:27.846Z"
   },
   {
    "duration": 518,
    "start_time": "2023-10-28T16:19:28.171Z"
   },
   {
    "duration": 6,
    "start_time": "2023-10-28T16:19:28.691Z"
   },
   {
    "duration": 484,
    "start_time": "2023-10-28T16:19:28.699Z"
   },
   {
    "duration": 5,
    "start_time": "2023-10-28T16:19:29.185Z"
   },
   {
    "duration": 456,
    "start_time": "2023-10-28T16:19:29.191Z"
   },
   {
    "duration": 5,
    "start_time": "2023-10-28T16:19:29.648Z"
   },
   {
    "duration": 448,
    "start_time": "2023-10-28T16:19:29.654Z"
   },
   {
    "duration": 7,
    "start_time": "2023-10-28T16:19:30.104Z"
   },
   {
    "duration": 650,
    "start_time": "2023-10-28T16:19:30.114Z"
   },
   {
    "duration": 455,
    "start_time": "2023-10-28T16:19:30.766Z"
   },
   {
    "duration": 535,
    "start_time": "2023-10-28T16:19:31.223Z"
   },
   {
    "duration": 447,
    "start_time": "2023-10-28T16:19:31.761Z"
   },
   {
    "duration": 5,
    "start_time": "2023-10-28T16:19:32.210Z"
   },
   {
    "duration": 1481,
    "start_time": "2023-10-28T16:19:32.217Z"
   },
   {
    "duration": 6,
    "start_time": "2023-10-28T16:19:33.700Z"
   },
   {
    "duration": 149,
    "start_time": "2023-10-28T16:19:33.708Z"
   },
   {
    "duration": 248,
    "start_time": "2023-10-28T16:19:33.861Z"
   },
   {
    "duration": 1256,
    "start_time": "2023-10-28T16:19:34.111Z"
   },
   {
    "duration": 28,
    "start_time": "2023-10-28T16:19:35.369Z"
   },
   {
    "duration": 172,
    "start_time": "2023-10-28T16:19:35.399Z"
   },
   {
    "duration": 186,
    "start_time": "2023-10-28T16:19:35.573Z"
   },
   {
    "duration": 178,
    "start_time": "2023-10-28T16:19:35.761Z"
   },
   {
    "duration": 202,
    "start_time": "2023-10-28T16:19:35.941Z"
   },
   {
    "duration": 157,
    "start_time": "2023-10-28T16:19:36.146Z"
   },
   {
    "duration": 157,
    "start_time": "2023-10-28T16:19:36.306Z"
   },
   {
    "duration": 133,
    "start_time": "2023-10-28T16:19:36.466Z"
   },
   {
    "duration": 133,
    "start_time": "2023-10-28T16:19:36.600Z"
   },
   {
    "duration": 25,
    "start_time": "2023-10-28T16:19:36.735Z"
   },
   {
    "duration": 7,
    "start_time": "2023-10-28T16:19:36.765Z"
   },
   {
    "duration": 304,
    "start_time": "2023-10-28T16:19:36.774Z"
   },
   {
    "duration": 133,
    "start_time": "2023-10-28T16:27:31.247Z"
   },
   {
    "duration": 131,
    "start_time": "2023-10-28T16:27:35.417Z"
   },
   {
    "duration": 143,
    "start_time": "2023-10-28T16:28:45.438Z"
   },
   {
    "duration": 125,
    "start_time": "2023-10-28T16:28:51.151Z"
   },
   {
    "duration": 134,
    "start_time": "2023-10-28T16:28:58.991Z"
   },
   {
    "duration": 139,
    "start_time": "2023-10-28T16:29:45.807Z"
   },
   {
    "duration": 138,
    "start_time": "2023-10-28T16:29:56.184Z"
   },
   {
    "duration": 160,
    "start_time": "2023-10-28T16:30:05.971Z"
   },
   {
    "duration": 82,
    "start_time": "2023-10-28T16:34:41.442Z"
   },
   {
    "duration": 634,
    "start_time": "2023-10-28T16:37:14.390Z"
   },
   {
    "duration": 137,
    "start_time": "2023-10-28T16:37:15.026Z"
   },
   {
    "duration": 2304,
    "start_time": "2023-10-28T16:37:15.165Z"
   },
   {
    "duration": 16,
    "start_time": "2023-10-28T16:37:17.471Z"
   },
   {
    "duration": 9,
    "start_time": "2023-10-28T16:37:17.489Z"
   },
   {
    "duration": 4,
    "start_time": "2023-10-28T16:37:17.500Z"
   },
   {
    "duration": 249,
    "start_time": "2023-10-28T16:37:17.506Z"
   },
   {
    "duration": 28,
    "start_time": "2023-10-28T16:37:17.757Z"
   },
   {
    "duration": 164,
    "start_time": "2023-10-28T16:37:17.786Z"
   },
   {
    "duration": 34,
    "start_time": "2023-10-28T16:37:17.968Z"
   },
   {
    "duration": 368,
    "start_time": "2023-10-28T16:37:18.003Z"
   },
   {
    "duration": 524,
    "start_time": "2023-10-28T16:37:18.373Z"
   },
   {
    "duration": 7,
    "start_time": "2023-10-28T16:37:18.898Z"
   },
   {
    "duration": 507,
    "start_time": "2023-10-28T16:37:18.907Z"
   },
   {
    "duration": 5,
    "start_time": "2023-10-28T16:37:19.416Z"
   },
   {
    "duration": 463,
    "start_time": "2023-10-28T16:37:19.423Z"
   },
   {
    "duration": 6,
    "start_time": "2023-10-28T16:37:19.888Z"
   },
   {
    "duration": 477,
    "start_time": "2023-10-28T16:37:19.896Z"
   },
   {
    "duration": 7,
    "start_time": "2023-10-28T16:37:20.375Z"
   },
   {
    "duration": 597,
    "start_time": "2023-10-28T16:37:20.384Z"
   },
   {
    "duration": 418,
    "start_time": "2023-10-28T16:37:20.983Z"
   },
   {
    "duration": 500,
    "start_time": "2023-10-28T16:37:21.402Z"
   },
   {
    "duration": 414,
    "start_time": "2023-10-28T16:37:21.904Z"
   },
   {
    "duration": 5,
    "start_time": "2023-10-28T16:37:22.319Z"
   },
   {
    "duration": 1375,
    "start_time": "2023-10-28T16:37:22.326Z"
   },
   {
    "duration": 6,
    "start_time": "2023-10-28T16:37:23.703Z"
   },
   {
    "duration": 149,
    "start_time": "2023-10-28T16:37:23.710Z"
   },
   {
    "duration": 266,
    "start_time": "2023-10-28T16:37:23.860Z"
   },
   {
    "duration": 1235,
    "start_time": "2023-10-28T16:37:24.128Z"
   },
   {
    "duration": 28,
    "start_time": "2023-10-28T16:37:25.364Z"
   },
   {
    "duration": 181,
    "start_time": "2023-10-28T16:37:25.394Z"
   },
   {
    "duration": 191,
    "start_time": "2023-10-28T16:37:25.577Z"
   },
   {
    "duration": 180,
    "start_time": "2023-10-28T16:37:25.771Z"
   },
   {
    "duration": 187,
    "start_time": "2023-10-28T16:37:25.953Z"
   },
   {
    "duration": 149,
    "start_time": "2023-10-28T16:37:26.142Z"
   },
   {
    "duration": 146,
    "start_time": "2023-10-28T16:37:26.294Z"
   },
   {
    "duration": 138,
    "start_time": "2023-10-28T16:37:26.446Z"
   },
   {
    "duration": 153,
    "start_time": "2023-10-28T16:37:26.586Z"
   },
   {
    "duration": 14,
    "start_time": "2023-10-28T16:37:26.747Z"
   },
   {
    "duration": 31,
    "start_time": "2023-10-28T16:37:26.763Z"
   },
   {
    "duration": 258,
    "start_time": "2023-10-28T16:37:26.799Z"
   },
   {
    "duration": 69,
    "start_time": "2023-10-28T16:38:33.652Z"
   },
   {
    "duration": 767,
    "start_time": "2023-10-28T16:55:34.815Z"
   },
   {
    "duration": 142,
    "start_time": "2023-10-28T16:55:35.585Z"
   },
   {
    "duration": 2228,
    "start_time": "2023-10-28T16:55:35.729Z"
   },
   {
    "duration": 15,
    "start_time": "2023-10-28T16:55:37.959Z"
   },
   {
    "duration": 9,
    "start_time": "2023-10-28T16:55:37.977Z"
   },
   {
    "duration": 14,
    "start_time": "2023-10-28T16:55:37.988Z"
   },
   {
    "duration": 252,
    "start_time": "2023-10-28T16:55:38.004Z"
   },
   {
    "duration": 27,
    "start_time": "2023-10-28T16:55:38.258Z"
   },
   {
    "duration": 203,
    "start_time": "2023-10-28T16:55:38.287Z"
   },
   {
    "duration": 57,
    "start_time": "2023-10-28T16:55:38.492Z"
   },
   {
    "duration": 359,
    "start_time": "2023-10-28T16:55:38.551Z"
   },
   {
    "duration": 555,
    "start_time": "2023-10-28T16:55:38.911Z"
   },
   {
    "duration": 6,
    "start_time": "2023-10-28T16:55:39.467Z"
   },
   {
    "duration": 482,
    "start_time": "2023-10-28T16:55:39.476Z"
   },
   {
    "duration": 5,
    "start_time": "2023-10-28T16:55:39.960Z"
   },
   {
    "duration": 508,
    "start_time": "2023-10-28T16:55:39.967Z"
   },
   {
    "duration": 6,
    "start_time": "2023-10-28T16:55:40.477Z"
   },
   {
    "duration": 461,
    "start_time": "2023-10-28T16:55:40.485Z"
   },
   {
    "duration": 6,
    "start_time": "2023-10-28T16:55:40.949Z"
   },
   {
    "duration": 604,
    "start_time": "2023-10-28T16:55:40.957Z"
   },
   {
    "duration": 468,
    "start_time": "2023-10-28T16:55:41.563Z"
   },
   {
    "duration": 515,
    "start_time": "2023-10-28T16:55:42.033Z"
   },
   {
    "duration": 416,
    "start_time": "2023-10-28T16:55:42.550Z"
   },
   {
    "duration": 5,
    "start_time": "2023-10-28T16:55:42.968Z"
   },
   {
    "duration": 1407,
    "start_time": "2023-10-28T16:55:42.974Z"
   },
   {
    "duration": 6,
    "start_time": "2023-10-28T16:55:44.383Z"
   },
   {
    "duration": 137,
    "start_time": "2023-10-28T16:55:44.391Z"
   },
   {
    "duration": 243,
    "start_time": "2023-10-28T16:55:44.530Z"
   },
   {
    "duration": 1264,
    "start_time": "2023-10-28T16:55:44.775Z"
   },
   {
    "duration": 185,
    "start_time": "2023-10-28T16:55:46.040Z"
   },
   {
    "duration": 187,
    "start_time": "2023-10-28T16:55:46.227Z"
   },
   {
    "duration": 181,
    "start_time": "2023-10-28T16:55:46.416Z"
   },
   {
    "duration": 211,
    "start_time": "2023-10-28T16:55:46.599Z"
   },
   {
    "duration": 140,
    "start_time": "2023-10-28T16:55:46.811Z"
   },
   {
    "duration": 137,
    "start_time": "2023-10-28T16:55:46.953Z"
   },
   {
    "duration": 142,
    "start_time": "2023-10-28T16:55:47.092Z"
   },
   {
    "duration": 149,
    "start_time": "2023-10-28T16:55:47.236Z"
   },
   {
    "duration": 13,
    "start_time": "2023-10-28T16:55:47.387Z"
   },
   {
    "duration": 260,
    "start_time": "2023-10-28T16:55:47.402Z"
   },
   {
    "duration": 700,
    "start_time": "2023-10-28T16:56:53.131Z"
   },
   {
    "duration": 146,
    "start_time": "2023-10-28T16:56:53.833Z"
   },
   {
    "duration": 2204,
    "start_time": "2023-10-28T16:56:53.981Z"
   },
   {
    "duration": 18,
    "start_time": "2023-10-28T16:56:56.188Z"
   },
   {
    "duration": 11,
    "start_time": "2023-10-28T16:56:56.209Z"
   },
   {
    "duration": 4,
    "start_time": "2023-10-28T16:56:56.221Z"
   },
   {
    "duration": 240,
    "start_time": "2023-10-28T16:56:56.227Z"
   },
   {
    "duration": 28,
    "start_time": "2023-10-28T16:56:56.469Z"
   },
   {
    "duration": 187,
    "start_time": "2023-10-28T16:56:56.498Z"
   },
   {
    "duration": 63,
    "start_time": "2023-10-28T16:56:56.686Z"
   },
   {
    "duration": 345,
    "start_time": "2023-10-28T16:56:56.751Z"
   },
   {
    "duration": 561,
    "start_time": "2023-10-28T16:56:57.098Z"
   },
   {
    "duration": 5,
    "start_time": "2023-10-28T16:56:57.661Z"
   },
   {
    "duration": 477,
    "start_time": "2023-10-28T16:56:57.669Z"
   },
   {
    "duration": 5,
    "start_time": "2023-10-28T16:56:58.148Z"
   },
   {
    "duration": 472,
    "start_time": "2023-10-28T16:56:58.155Z"
   },
   {
    "duration": 5,
    "start_time": "2023-10-28T16:56:58.629Z"
   },
   {
    "duration": 485,
    "start_time": "2023-10-28T16:56:58.635Z"
   },
   {
    "duration": 6,
    "start_time": "2023-10-28T16:56:59.122Z"
   },
   {
    "duration": 612,
    "start_time": "2023-10-28T16:56:59.129Z"
   },
   {
    "duration": 442,
    "start_time": "2023-10-28T16:56:59.743Z"
   },
   {
    "duration": 533,
    "start_time": "2023-10-28T16:57:00.187Z"
   },
   {
    "duration": 424,
    "start_time": "2023-10-28T16:57:00.722Z"
   },
   {
    "duration": 4,
    "start_time": "2023-10-28T16:57:01.149Z"
   },
   {
    "duration": 1444,
    "start_time": "2023-10-28T16:57:01.155Z"
   },
   {
    "duration": 5,
    "start_time": "2023-10-28T16:57:02.600Z"
   },
   {
    "duration": 150,
    "start_time": "2023-10-28T16:57:02.607Z"
   },
   {
    "duration": 248,
    "start_time": "2023-10-28T16:57:02.759Z"
   },
   {
    "duration": 1225,
    "start_time": "2023-10-28T16:57:03.008Z"
   },
   {
    "duration": 163,
    "start_time": "2023-10-28T16:57:04.235Z"
   },
   {
    "duration": 201,
    "start_time": "2023-10-28T16:57:04.400Z"
   },
   {
    "duration": 179,
    "start_time": "2023-10-28T16:57:04.604Z"
   },
   {
    "duration": 189,
    "start_time": "2023-10-28T16:57:04.785Z"
   },
   {
    "duration": 151,
    "start_time": "2023-10-28T16:57:04.975Z"
   },
   {
    "duration": 201,
    "start_time": "2023-10-28T16:57:05.128Z"
   },
   {
    "duration": 147,
    "start_time": "2023-10-28T16:57:05.331Z"
   },
   {
    "duration": 167,
    "start_time": "2023-10-28T16:57:05.480Z"
   },
   {
    "duration": 14,
    "start_time": "2023-10-28T16:57:05.649Z"
   },
   {
    "duration": 277,
    "start_time": "2023-10-28T16:57:05.665Z"
   },
   {
    "duration": 653,
    "start_time": "2023-10-28T18:33:40.201Z"
   },
   {
    "duration": 127,
    "start_time": "2023-10-28T18:33:40.856Z"
   },
   {
    "duration": 1923,
    "start_time": "2023-10-28T18:33:40.984Z"
   },
   {
    "duration": 17,
    "start_time": "2023-10-28T18:33:42.909Z"
   },
   {
    "duration": 11,
    "start_time": "2023-10-28T18:33:42.928Z"
   },
   {
    "duration": 12,
    "start_time": "2023-10-28T18:33:42.940Z"
   },
   {
    "duration": 248,
    "start_time": "2023-10-28T18:33:42.954Z"
   },
   {
    "duration": 25,
    "start_time": "2023-10-28T18:33:43.204Z"
   },
   {
    "duration": 181,
    "start_time": "2023-10-28T18:33:43.230Z"
   },
   {
    "duration": 25,
    "start_time": "2023-10-28T18:33:43.414Z"
   },
   {
    "duration": 310,
    "start_time": "2023-10-28T18:33:43.441Z"
   },
   {
    "duration": 494,
    "start_time": "2023-10-28T18:33:43.752Z"
   },
   {
    "duration": 5,
    "start_time": "2023-10-28T18:33:44.247Z"
   },
   {
    "duration": 498,
    "start_time": "2023-10-28T18:33:44.254Z"
   },
   {
    "duration": 6,
    "start_time": "2023-10-28T18:33:44.753Z"
   },
   {
    "duration": 420,
    "start_time": "2023-10-28T18:33:44.761Z"
   },
   {
    "duration": 5,
    "start_time": "2023-10-28T18:33:45.184Z"
   },
   {
    "duration": 413,
    "start_time": "2023-10-28T18:33:45.191Z"
   },
   {
    "duration": 6,
    "start_time": "2023-10-28T18:33:45.606Z"
   },
   {
    "duration": 547,
    "start_time": "2023-10-28T18:33:45.614Z"
   },
   {
    "duration": 379,
    "start_time": "2023-10-28T18:33:46.163Z"
   },
   {
    "duration": 452,
    "start_time": "2023-10-28T18:33:46.544Z"
   },
   {
    "duration": 376,
    "start_time": "2023-10-28T18:33:47.001Z"
   },
   {
    "duration": 4,
    "start_time": "2023-10-28T18:33:47.378Z"
   },
   {
    "duration": 1296,
    "start_time": "2023-10-28T18:33:47.383Z"
   },
   {
    "duration": 6,
    "start_time": "2023-10-28T18:33:48.682Z"
   },
   {
    "duration": 133,
    "start_time": "2023-10-28T18:33:48.690Z"
   },
   {
    "duration": 226,
    "start_time": "2023-10-28T18:33:48.825Z"
   },
   {
    "duration": 1045,
    "start_time": "2023-10-28T18:33:49.052Z"
   },
   {
    "duration": 143,
    "start_time": "2023-10-28T18:33:50.101Z"
   },
   {
    "duration": 162,
    "start_time": "2023-10-28T18:33:50.246Z"
   },
   {
    "duration": 151,
    "start_time": "2023-10-28T18:33:50.409Z"
   },
   {
    "duration": 165,
    "start_time": "2023-10-28T18:33:50.562Z"
   },
   {
    "duration": 123,
    "start_time": "2023-10-28T18:33:50.729Z"
   },
   {
    "duration": 134,
    "start_time": "2023-10-28T18:33:50.854Z"
   },
   {
    "duration": 121,
    "start_time": "2023-10-28T18:33:50.990Z"
   },
   {
    "duration": 144,
    "start_time": "2023-10-28T18:33:51.113Z"
   },
   {
    "duration": 14,
    "start_time": "2023-10-28T18:33:51.258Z"
   },
   {
    "duration": 249,
    "start_time": "2023-10-28T18:33:51.274Z"
   },
   {
    "duration": 86,
    "start_time": "2023-10-28T18:35:51.083Z"
   }
  ],
  "kernelspec": {
   "display_name": "Python 3 (ipykernel)",
   "language": "python",
   "name": "python3"
  },
  "language_info": {
   "codemirror_mode": {
    "name": "ipython",
    "version": 3
   },
   "file_extension": ".py",
   "mimetype": "text/x-python",
   "name": "python",
   "nbconvert_exporter": "python",
   "pygments_lexer": "ipython3",
   "version": "3.9.5"
  },
  "toc": {
   "base_numbering": 1,
   "nav_menu": {},
   "number_sections": true,
   "sideBar": true,
   "skip_h1_title": true,
   "title_cell": "Table of Contents",
   "title_sidebar": "Contents",
   "toc_cell": false,
   "toc_position": {},
   "toc_section_display": true,
   "toc_window_display": false
  }
 },
 "nbformat": 4,
 "nbformat_minor": 2
}
